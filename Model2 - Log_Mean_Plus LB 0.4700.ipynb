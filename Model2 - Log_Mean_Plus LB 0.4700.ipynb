{
 "cells": [
  {
   "cell_type": "code",
   "execution_count": 2,
   "metadata": {
    "collapsed": false
   },
   "outputs": [
    {
     "name": "stdout",
     "output_type": "stream",
     "text": [
      "[1] \"Reading data\"\n",
      "Read 74180464 rows and 5 (of 11) columns from 2.980 GB file in 00:00:25\n",
      "Read 6999251 rows and 5 (of 7) columns from 0.234 GB file in 00:00:03\n"
     ]
    }
   ],
   "source": [
    "# https://www.kaggle.com/shixw125/grupo-bimbo-inventory-demand/log-mean-plus-lb-0-47/code\n",
    "\n",
    "library(data.table)\n",
    "\n",
    "print(\"Reading data\")\n",
    "train <- fread('./input-data/train.csv', \n",
    "               select = c('Cliente_ID', 'Producto_ID', 'Agencia_ID', 'Ruta_SAK', 'Demanda_uni_equil'))\n",
    "\n",
    "test <- fread('./input-data/test.csv', \n",
    "              select = c('id', 'Cliente_ID', 'Producto_ID', 'Agencia_ID', 'Ruta_SAK'))\n"
   ]
  },
  {
   "cell_type": "code",
   "execution_count": 3,
   "metadata": {
    "collapsed": false
   },
   "outputs": [
    {
     "name": "stdout",
     "output_type": "stream",
     "text": [
      "[1] \"Computing means\"\n"
     ]
    }
   ],
   "source": [
    "print(\"Computing means\")\n",
    "#transform target variable to log(1 + demand) - this makes sense since we're \n",
    "#trying to minimize rmsle and the mean minimizes rmse:\n",
    "train$log_demand = 1.005*log1p(train$Demanda_uni_equil)-0.005\n",
    "mean_total <- mean(train$log_demand) #overall mean\n",
    "\n",
    "#mean by product\n",
    "mean_P <-  train[, .(MP = mean(log_demand)), by = .(Producto_ID)]\n",
    "#mean by ruta\n",
    "mean_C <-  train[, .(MC = mean(log_demand)), by = .(Cliente_ID)]\n",
    "#mean by product and agencia\n",
    "mean_PA <- train[, .(MPA = mean(log_demand)), by = .(Producto_ID, Agencia_ID)] \n",
    "#mean by product and ruta\n",
    "mean_PR <- train[, .(MPR = mean(log_demand)), by = .(Producto_ID, Ruta_SAK)] \n",
    "#mean by product, client, agencia\n",
    "mean_PCA <- train[, .(MPCA = mean(log_demand)), by = .(Producto_ID, Cliente_ID, Agencia_ID)]\n"
   ]
  },
  {
   "cell_type": "code",
   "execution_count": 4,
   "metadata": {
    "collapsed": false
   },
   "outputs": [
    {
     "name": "stdout",
     "output_type": "stream",
     "text": [
      "[1] \"Merging means with test set\"\n"
     ]
    }
   ],
   "source": [
    "print(\"Merging means with test set\")\n",
    "submit <- merge(test, mean_PCA, all.x = TRUE, by = c(\"Producto_ID\", \"Cliente_ID\", \"Agencia_ID\"))\n",
    "submit <- merge(submit, mean_PR, all.x = TRUE, by = c(\"Producto_ID\", \"Ruta_SAK\"))\n",
    "submit <- merge(submit, mean_PA, all.x = TRUE, by = c(\"Producto_ID\", \"Agencia_ID\"))\n",
    "submit <- merge(submit, mean_C, all.x = TRUE, by = \"Cliente_ID\")\n",
    "submit <- merge(submit, mean_P, all.x = TRUE, by = \"Producto_ID\")"
   ]
  },
  {
   "cell_type": "code",
   "execution_count": 5,
   "metadata": {
    "collapsed": true
   },
   "outputs": [],
   "source": [
    "# Now create Predictions column;\n",
    "submit$Pred <- expm1(submit$MPCA)*0.72+expm1(submit$MPR)*0.19+0.1\n",
    "submit[is.na(Pred)]$Pred <- expm1(submit[is.na(Pred)]$MPR)*0.746+0.17\n",
    "submit[is.na(Pred)]$Pred <- expm1(submit[is.na(Pred)]$MC)*0.82+0.86\n",
    "submit[is.na(Pred)]$Pred <- expm1(submit[is.na(Pred)]$MPA)*0.54+0.8\n",
    "submit[is.na(Pred)]$Pred <- expm1(submit[is.na(Pred)]$MP)*0.44+1\n",
    "submit[is.na(Pred)]$Pred <- expm1(mean_total)\n",
    "\n",
    "# this is the code to calculate coefficients\n",
    "\n",
    "submit$Pred <- round(submit$Pred,5)"
   ]
  },
  {
   "cell_type": "code",
   "execution_count": 6,
   "metadata": {
    "collapsed": false
   },
   "outputs": [
    {
     "name": "stdout",
     "output_type": "stream",
     "text": [
      "[1] \"Write out submission file\"\n",
      "[1] \"Done!\"\n"
     ]
    }
   ],
   "source": [
    "print(\"Write out submission file\")\n",
    "# now relabel columns ready for creatig submission\n",
    "setnames(submit,\"Pred\",\"Demanda_uni_equil\")\n",
    "# Any results you write to the current directory are saved as output.\n",
    "write.csv(submit[,.(id,Demanda_uni_equil)],\"./Submissions/submission-Log_Mean_Plus.csv\", row.names = FALSE)\n",
    "print(\"Done!\")\n"
   ]
  },
  {
   "cell_type": "code",
   "execution_count": null,
   "metadata": {
    "collapsed": true
   },
   "outputs": [],
   "source": []
  }
 ],
 "metadata": {
  "kernelspec": {
   "display_name": "R",
   "language": "R",
   "name": "ir"
  },
  "language_info": {
   "codemirror_mode": "r",
   "file_extension": ".r",
   "mimetype": "text/x-r-source",
   "name": "R",
   "pygments_lexer": "r",
   "version": "3.2.2"
  }
 },
 "nbformat": 4,
 "nbformat_minor": 0
}
