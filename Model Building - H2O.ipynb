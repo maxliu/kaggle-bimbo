{
 "cells": [
  {
   "cell_type": "markdown",
   "metadata": {},
   "source": [
    "Now it is time to complicate things and use H2O GBM and RF with grid search, and of course XGBoost.\n",
    "\n",
    "Thi isi a great article for tunning XGboost: http://www.analyticsvidhya.com/blog/2016/03/complete-guide-parameter-tuning-xgboost-with-codes-python/"
   ]
  },
  {
   "cell_type": "markdown",
   "metadata": {},
   "source": [
    "# H2O - GLM, GBM, NN, RF"
   ]
  },
  {
   "cell_type": "code",
   "execution_count": 3,
   "metadata": {
    "collapsed": true
   },
   "outputs": [],
   "source": [
    "import pandas as pd\n",
    "import numpy as np\n",
    "import time\n",
    "import csv\n",
    "%matplotlib inline\n",
    "from matplotlib.pylab import rcParams\n",
    "rcParams['figure.figsize'] = 12, 8\n",
    "import math\n",
    "\n",
    "_start_time = time.time()\n",
    "\n",
    "def tic():\n",
    "    global _start_time \n",
    "    _start_time = time.time()\n",
    "\n",
    "def tac():\n",
    "    t_sec = round(time.time() - _start_time)\n",
    "    (t_min, t_sec) = divmod(t_sec,60)\n",
    "    (t_hour,t_min) = divmod(t_min,60) \n",
    "    print('Time passed: {}hour:{}min:{}sec'.format(t_hour,t_min,t_sec))"
   ]
  },
  {
   "cell_type": "code",
   "execution_count": null,
   "metadata": {
    "collapsed": true
   },
   "outputs": [],
   "source": [
    "import h2o\n",
    "import time\n",
    "from h2o.estimators.glm import H2OGeneralizedLinearEstimator\n",
    "from h2o.estimators.gbm import H2OGradientBoostingEstimator\n",
    "from h2o.estimators.random_forest import H2ORandomForestEstimator\n",
    "\n",
    "\n",
    "from h2o.estimators.deeplearning import H2ODeepLearningEstimator"
   ]
  },
  {
   "cell_type": "code",
   "execution_count": null,
   "metadata": {
    "collapsed": true
   },
   "outputs": [],
   "source": [
    "#now we load our modified train and test set\n",
    "\n",
    "tic()\n",
    "#train = pd.read_csv('./input-data/train_modified.csv', nrows = 500000)\n",
    "#test = pd.read_csv('./input-data/test_modified.csv', nrows = 500000)\n",
    "train = pd.read_csv('./input-data/train_modified.csv',\n",
    "                    dtype = {'Semana': 'int8',\n",
    "                            'Agencia_ID': 'uint16',\n",
    "                            'Canal_ID': 'int8',\n",
    "                            'Ruta_SAK': 'int32',\n",
    "                            'Cliente_ID': 'int32',\n",
    "                            'Producto_ID': 'int32',\n",
    "                            'Venta_uni_hoy': 'float64',\n",
    "                            'Venta_hoy': 'float64',\n",
    "                            'Dev_uni_proxima': 'float64',\n",
    "                            'Dev_proxima': 'float64',\n",
    "                            'Demanda_uni_equil': 'float64',\n",
    "                            'brand': 'uint16',\n",
    "                            'cluster': 'uint16',\n",
    "                            'Qty_Ruta_SAK_Bin': 'int8',\n",
    "                            'ZipCode': 'uint16',\n",
    "                            'log1p_mean': 'float64'},\n",
    "                   )\n",
    "\n",
    "                    \n",
    "test = pd.read_csv('./input-data/test_modified.csv',\n",
    "                    dtype = {'id': 'uint32',\n",
    "                            'Semana': 'int8',\n",
    "                            'Agencia_ID': 'uint16',\n",
    "                            'Canal_ID': 'int8',\n",
    "                            'Ruta_SAK': 'int32',\n",
    "                            'Cliente_ID': 'int32',\n",
    "                            'Producto_ID': 'int32',\n",
    "                            'brand': 'uint16',\n",
    "                            'cluster': 'uint16',\n",
    "                            'Qty_Ruta_SAK_Bin': 'int8',\n",
    "                            'ZipCode': 'uint16',\n",
    "                            'log1p_mean': 'float64'},\n",
    "                      )\n",
    "tac()"
   ]
  },
  {
   "cell_type": "code",
   "execution_count": null,
   "metadata": {
    "collapsed": true
   },
   "outputs": [],
   "source": [
    "# Connect to a cluster\n",
    "h2o.init()"
   ]
  },
  {
   "cell_type": "code",
   "execution_count": null,
   "metadata": {
    "collapsed": true
   },
   "outputs": [],
   "source": [
    "train_hex = h2o.H2OFrame(train)\n",
    "test_hex = h2o.H2OFrame(test)"
   ]
  },
  {
   "cell_type": "code",
   "execution_count": null,
   "metadata": {
    "collapsed": true
   },
   "outputs": [],
   "source": [
    "train_hex.describe()"
   ]
  },
  {
   "cell_type": "code",
   "execution_count": null,
   "metadata": {
    "collapsed": true
   },
   "outputs": [],
   "source": [
    "# ----------\n",
    "# Fit a model on train; using test and validation\n",
    "\n",
    "# Function for doing class test/train/holdout split\n",
    "def fit_score(data):\n",
    "  global gbm0,drf0,glm0,dl0\n",
    "\n",
    "  val = data[data[\"C1\"] > 8] # Weeks 9\n",
    "  train = data[data[\"C1\"] <=8] # Weeks 3,4,5,6,7,8\n",
    "\n",
    "  print(\"Training data has\",train.ncol,\"columns and\",train.nrow,\"rows, Validation data has\",val.nrow,\"rows\")\n",
    "  predictors_names = train.names\n",
    "  predictors_names.remove(\"C6\")\n",
    "  \n",
    "  # Run GBM\n",
    "  s = time.time()\n",
    "  \n",
    "  gbm0 = H2OGradientBoostingEstimator(ntrees=500, # 500 works well\n",
    "                                      max_depth=6,\n",
    "                                      learn_rate=0.1)\n",
    "    \n",
    "\n",
    "  gbm0.train(x               =predictors_names,\n",
    "             y               =\"C6\",\n",
    "             training_frame  =train,\n",
    "             validation_frame=val)\n",
    "\n",
    "  gbm_elapsed = time.time() - s\n",
    "\n",
    "  # Run DRF\n",
    "  s = time.time()\n",
    "    \n",
    "  drf0 = H2ORandomForestEstimator(ntrees=250, max_depth=30)\n",
    "\n",
    "  drf0.train(x               =predictors_names,\n",
    "             y               =\"C6\",\n",
    "             training_frame  =train,\n",
    "             validation_frame=val)\n",
    "    \n",
    "  drf_elapsed = time.time() - s \n",
    "    \n",
    "    \n",
    "  # Run GLM\n",
    "  s = time.time()\n",
    "\n",
    "  glm0 = H2OGeneralizedLinearEstimator(Lambda=[1e-5], family=\"poisson\")\n",
    "    \n",
    "  glm0.train(x               =predictors_names,\n",
    "             y               =\"C6\",\n",
    "             training_frame  =train,\n",
    "             validation_frame=val)\n",
    "\n",
    "  glm_elapsed = time.time() - s\n",
    "  \n",
    "  # Run DL\n",
    "  s = time.time()\n",
    "\n",
    "  dl0 = H2ODeepLearningEstimator(hidden=[50,50,50,50], epochs=50)\n",
    "    \n",
    "  dl0.train(x               =predictors_names,\n",
    "            y               =\"C6\",\n",
    "            training_frame  =train,\n",
    "            validation_frame=val)\n",
    "    \n",
    "  dl_elapsed = time.time() - s\n",
    "  \n",
    "  # ----------\n",
    "  # 4- Score on holdout set & report\n",
    "  train_r2_gbm = gbm0.model_performance(train).r2()\n",
    "  val_r2_gbm  = gbm0.model_performance(val).r2()\n",
    "  \n",
    "  train_r2_drf = drf0.model_performance(train).r2()\n",
    "  val_r2_drf  = drf0.model_performance(val).r2()\n",
    "  \n",
    "  train_r2_glm = glm0.model_performance(train).r2()\n",
    "  val_r2_glm  = glm0.model_performance(val).r2()\n",
    "    \n",
    "  train_r2_dl = dl0.model_performance(train).r2()\n",
    "  val_r2_dl  = dl0.model_performance(val).r2()\n",
    "    \n",
    "  # make a pretty HTML table printout of the results\n",
    "\n",
    "  header = [\"Model\", \"R2 TRAIN\", \"R2 TEST\", \"Model Training Time (s)\"]\n",
    "  table  = [\n",
    "            [\"GBM\", train_r2_gbm, val_r2_gbm, round(gbm_elapsed,3)],\n",
    "            [\"DRF\", train_r2_drf, val_r2_drf, round(drf_elapsed,3)],\n",
    "            [\"GLM\", train_r2_glm, val_r2_glm, round(glm_elapsed,3)],\n",
    "            [\"DL \", train_r2_dl,  val_r2_dl,  round(dl_elapsed,3) ],\n",
    "           ]\n",
    "  h2o.display.H2ODisplay(table,header)\n",
    "  # --------------"
   ]
  },
  {
   "cell_type": "code",
   "execution_count": null,
   "metadata": {
    "collapsed": true
   },
   "outputs": [],
   "source": [
    "# Split the data (into test & train), fit some models and predict on the holdout data\n",
    "fit_score(train_hex)"
   ]
  }
 ],
 "metadata": {
  "kernelspec": {
   "display_name": "Python 2",
   "language": "python",
   "name": "python2"
  },
  "language_info": {
   "codemirror_mode": {
    "name": "ipython",
    "version": 2
   },
   "file_extension": ".py",
   "mimetype": "text/x-python",
   "name": "python",
   "nbconvert_exporter": "python",
   "pygments_lexer": "ipython2",
   "version": "2.7.11"
  }
 },
 "nbformat": 4,
 "nbformat_minor": 0
}
