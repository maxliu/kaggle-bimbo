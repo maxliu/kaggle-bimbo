{
 "cells": [
  {
   "cell_type": "markdown",
   "metadata": {},
   "source": [
    "## Model Building in H2O\n",
    "\n",
    "I will go through 4 H2O  models including linear GLM, GBM, DRF (Distributed Random Forest) and DL (Deep Learning NN).\n",
    "\n",
    "I'll use H2OFlow for the hyperparameters searching (it's just easier than writing code) and post here the best parameters found.\n"
   ]
  },
  {
   "cell_type": "markdown",
   "metadata": {},
   "source": [
    "# H2O - GLM, GBM, NN, RF"
   ]
  },
  {
   "cell_type": "code",
   "execution_count": 1,
   "metadata": {
    "collapsed": true
   },
   "outputs": [],
   "source": [
    "import pandas as pd\n",
    "import numpy as np\n",
    "import time\n",
    "import csv\n",
    "%matplotlib inline\n",
    "from matplotlib.pylab import rcParams\n",
    "rcParams['figure.figsize'] = 12, 8\n",
    "import math\n",
    "\n",
    "_start_time = time.time()\n",
    "\n",
    "def tic():\n",
    "    global _start_time \n",
    "    _start_time = time.time()\n",
    "\n",
    "def tac():\n",
    "    t_sec = round(time.time() - _start_time)\n",
    "    (t_min, t_sec) = divmod(t_sec,60)\n",
    "    (t_hour,t_min) = divmod(t_min,60) \n",
    "    print('Time passed: {}hour:{}min:{}sec'.format(t_hour,t_min,t_sec))"
   ]
  },
  {
   "cell_type": "code",
   "execution_count": 2,
   "metadata": {
    "collapsed": true
   },
   "outputs": [],
   "source": [
    "import h2o\n",
    "import time\n",
    "from h2o.estimators.glm import H2OGeneralizedLinearEstimator\n",
    "from h2o.estimators.gbm import H2OGradientBoostingEstimator\n",
    "from h2o.estimators.random_forest import H2ORandomForestEstimator\n",
    "from h2o.estimators.deeplearning import H2ODeepLearningEstimator"
   ]
  },
  {
   "cell_type": "code",
   "execution_count": 4,
   "metadata": {
    "collapsed": false,
    "scrolled": true
   },
   "outputs": [
    {
     "name": "stdout",
     "output_type": "stream",
     "text": [
      "Connecting to H2O server at http://localhost:54321... successful!\n"
     ]
    },
    {
     "data": {
      "text/html": [
       "<div style=\"overflow:auto\"><table style=\"width:50%\"><tr><td>H2O cluster uptime:</td>\n",
       "<td>14 hours 55 mins</td></tr>\n",
       "<tr><td>H2O cluster version:</td>\n",
       "<td>3.10.0.1</td></tr>\n",
       "<tr><td>H2O cluster version age:</td>\n",
       "<td>13 days </td></tr>\n",
       "<tr><td>H2O cluster name:</td>\n",
       "<td>LOCAL SERVICE</td></tr>\n",
       "<tr><td>H2O cluster total nodes:</td>\n",
       "<td>1</td></tr>\n",
       "<tr><td>H2O cluster free memory:</td>\n",
       "<td>49.30 Gb</td></tr>\n",
       "<tr><td>H2O cluster total cores:</td>\n",
       "<td>4</td></tr>\n",
       "<tr><td>H2O cluster allowed cores:</td>\n",
       "<td>4</td></tr>\n",
       "<tr><td>H2O cluster is healthy:</td>\n",
       "<td>True</td></tr>\n",
       "<tr><td>H2O cluster is locked:</td>\n",
       "<td>True</td></tr>\n",
       "<tr><td>H2O connection url:</td>\n",
       "<td>http://localhost:54321</td></tr>\n",
       "<tr><td>H2O connection proxy:</td>\n",
       "<td>None</td></tr>\n",
       "<tr><td>Python version:</td>\n",
       "<td>2.7.11 final</td></tr></table></div>"
      ],
      "text/plain": [
       "--------------------------  ----------------------\n",
       "H2O cluster uptime:         14 hours 55 mins\n",
       "H2O cluster version:        3.10.0.1\n",
       "H2O cluster version age:    13 days\n",
       "H2O cluster name:           LOCAL SERVICE\n",
       "H2O cluster total nodes:    1\n",
       "H2O cluster free memory:    49.30 Gb\n",
       "H2O cluster total cores:    4\n",
       "H2O cluster allowed cores:  4\n",
       "H2O cluster is healthy:     True\n",
       "H2O cluster is locked:      True\n",
       "H2O connection url:         http://localhost:54321\n",
       "H2O connection proxy:\n",
       "Python version:             2.7.11 final\n",
       "--------------------------  ----------------------"
      ]
     },
     "metadata": {},
     "output_type": "display_data"
    }
   ],
   "source": [
    "# Connect to a cluster\n",
    "h2o.init()"
   ]
  },
  {
   "cell_type": "code",
   "execution_count": null,
   "metadata": {
    "collapsed": false,
    "scrolled": true
   },
   "outputs": [],
   "source": [
    "#now we load our modified train and test set\n",
    "from h2o.utils.shared_utils import _locate # private function. used to find files within h2o git project directory.\n",
    "\n",
    "tic()\n",
    "train = h2o.upload_file(path=_locate(\"./input-data/train_modified_noW9.csv\"))\n",
    "val = h2o.upload_file(path=_locate(\"./input-data/val_modified_w9.csv\"))\n",
    "test = h2o.upload_file(path=_locate(\"./input-data/test_modified.csv\"))\n",
    "tac()"
   ]
  },
  {
   "cell_type": "code",
   "execution_count": null,
   "metadata": {
    "collapsed": true
   },
   "outputs": [],
   "source": [
    "#   RSMLE - error function used in LB\n",
    "# H2O python API recently (Jun 2016) added RSME as a model performance metric. So we are going to use it directly\n",
    "# into our target = log_target , to get the RSMLE\n",
    "\n",
    "def modelfit(alg, dtrain, dval, dtest, predictors, target, IDcol, filename):\n",
    "     #Fit the algorithm on the data\n",
    "    alg.train(x               =predictors,\n",
    "             y               =target,\n",
    "             training_frame  =dtrain,\n",
    "             validation_frame=dval)\n",
    "\n",
    "    #Performance on Training and Val sets:\n",
    "    train_rmsle = alg.model_performance(train).rmse()\n",
    "    val_rmsle = alg.model_performance(val).rmse()\n",
    "    \n",
    "    print (\"\\nModel Report\")\n",
    "    print ('RMSLE TRAIN: ', train_rmsle)\n",
    "    print ('RMSLE VAL: ', val_rmsle)\n",
    "    \n",
    "    #Predict on testing data: we need to revert it back to target by applying expm1\n",
    "    dtest[target] = np.expm1(h2o.predict(alg,dtest[predictors]))\n",
    "\n",
    "    print ('NUM ROWS PREDICTED: ', dtest.shape[0] )\n",
    "    print ('NUM NEGATIVES PREDICTED: ', dtest[target][dtest[target] < 0].count())\n",
    "    print ('MIN TARGET PREDICTED: ', dtest[target].min())\n",
    "    print ('MEAN TARGET PREDICTED: ', dtest[target].mean())\n",
    "    print ('MAX TARGET PREDICTED: ', dtest[target].max())\n",
    "    \n",
    "    #Export submission file:\n",
    "    #IDcol.append(target)\n",
    "    #submission = pd.DataFrame({ x: dtest[x] for x in IDcol})\n",
    "    submission = dtest[[IDcol,target]].copy()\n",
    "    submission[IDcol] = submission[IDcol].astype(int)\n",
    "    submission.rename(columns={target: 'Demanda_uni_equil'}, inplace=True)\n",
    "    submission.to_csv(\"./Submissions/\"+filename, index=False)"
   ]
  },
  {
   "cell_type": "markdown",
   "metadata": {},
   "source": [
    "Let's define now the target and the Id cols"
   ]
  },
  {
   "cell_type": "code",
   "execution_count": null,
   "metadata": {
    "collapsed": true
   },
   "outputs": [],
   "source": [
    "#Define target and ID columns:\n",
    "target = 'log_target'\n",
    "IDcol = 'id'"
   ]
  },
  {
   "cell_type": "markdown",
   "metadata": {},
   "source": [
    "### Alg6 - GBM\n",
    "\n",
    "Lets make our first GBM model"
   ]
  },
  {
   "cell_type": "code",
   "execution_count": null,
   "metadata": {
    "collapsed": true
   },
   "outputs": [],
   "source": [
    "predictors = train.names\n",
    "predictors.remove(target) # here we remove the target\n",
    "\n",
    "# print predictors\n",
    "alg6 = H2OGradientBoostingEstimator(ntrees=150,max_depth=25,learn_rate=0.1, min_rows=10, nbins=20)\n",
    "tic()\n",
    "modelfit(alg6, train, val, test, predictors, target, IDcol, 'alg6.csv')\n",
    "tac()\n",
    "\n",
    "coef1 = pd.Series(alg6.varimp(use_pandas=True)).sort_values()\n",
    "coef1.plot(kind='bar', title='Model Coefficients')"
   ]
  },
  {
   "cell_type": "code",
   "execution_count": 7,
   "metadata": {
    "collapsed": false
   },
   "outputs": [],
   "source": [
    "# ----------\n",
    "# Fit a model on train; using test and validation\n",
    "\n",
    "# Function for doing class test/train/holdout split\n",
    "def fit_score(data):\n",
    "  global gbm0,drf0,glm0,dl0\n",
    "\n",
    "  val = data[data[\"C1\"] > 8] # Weeks 9\n",
    "  train = data[data[\"C1\"] <=8] # Weeks 7,8\n",
    "\n",
    "  print(\"Training data has\",train.ncol,\"columns and\",train.nrow,\"rows, Validation data has\",val.nrow,\"rows\")\n",
    "  predictors_names = train.names\n",
    "  predictors_names.remove(\"C7\")\n",
    "\n",
    "  # Run GBM\n",
    "  s = time.time()\n",
    "  \n",
    "  gbm0 = H2OGradientBoostingEstimator(ntrees=50, # 500 works well\n",
    "                                      max_depth=15,\n",
    "                                      learn_rate=0.1)\n",
    "    \n",
    "\n",
    "  gbm0.train(x               =predictors_names,\n",
    "             y               =\"C7\",\n",
    "             training_frame  =train,\n",
    "             validation_frame=val)\n",
    "\n",
    "  gbm_elapsed = time.time() - s\n",
    "\n",
    "  # Run DRF\n",
    "  s = time.time()\n",
    "    \n",
    "  drf0 = H2ORandomForestEstimator(ntrees=20, max_depth=30)\n",
    "\n",
    "  drf0.train(x               =predictors_names,\n",
    "             y               =\"C7\",\n",
    "             training_frame  =train,\n",
    "             validation_frame=val)\n",
    "    \n",
    "  drf_elapsed = time.time() - s \n",
    "    \n",
    "  \n",
    "  # Run GLM\n",
    "  s = time.time()\n",
    "\n",
    "  glm0 = H2OGeneralizedLinearEstimator(Lambda=[1e-5], family=\"poisson\")\n",
    "    \n",
    "  glm0.train(x               =predictors_names,\n",
    "             y               =\"C7\",\n",
    "             training_frame  =train,\n",
    "             validation_frame=val)\n",
    "\n",
    "  glm_elapsed = time.time() - s\n",
    " \n",
    "  # Run DL\n",
    "  s = time.time()\n",
    "\n",
    "  dl0 = H2ODeepLearningEstimator(hidden=[50,50,50,50], epochs=50)\n",
    "    \n",
    "  dl0.train(x               =predictors_names,\n",
    "            y               =\"C7\",\n",
    "            training_frame  =train,\n",
    "            validation_frame=val)\n",
    "    \n",
    "  dl_elapsed = time.time() - s\n",
    "  \n",
    "  # ----------\n",
    "  # 4- Score on holdout set & report\n",
    "  train_r2_gbm = gbm0.model_performance(train).rmse()\n",
    "  val_r2_gbm  = gbm0.model_performance(val).rmse()\n",
    "  \n",
    "  train_r2_drf = drf0.model_performance(train).rmse()\n",
    "  val_r2_drf  = drf0.model_performance(val).rmse()\n",
    " \n",
    "  train_r2_glm = glm0.model_performance(train).rmse()\n",
    "  val_r2_glm  = glm0.model_performance(val).rmse()\n",
    "  \n",
    "  train_r2_dl = dl0.model_performance(train).rmse()\n",
    "  val_r2_dl  = dl0.model_performance(val).rmse()\n",
    "    \n",
    "  # make a pretty HTML table printout of the results\n",
    "\n",
    "  header = [\"Model\", \"RMSLE TRAIN\", \"RMSLE TEST\", \"Model Training Time (s)\"]\n",
    "  table  = [\n",
    "            [\"GBM\", train_r2_gbm, val_r2_gbm, round(gbm_elapsed,3)],\n",
    "            [\"DRF\", train_r2_drf, val_r2_drf, round(drf_elapsed,3)],\n",
    "            [\"GLM\", train_r2_glm, val_r2_glm, round(glm_elapsed,3)],\n",
    "            [\"DL \", train_r2_dl,  val_r2_dl,  round(dl_elapsed,3) ],\n",
    "           ]\n",
    "  h2o.display.H2ODisplay(table,header)\n",
    "  # --------------"
   ]
  },
  {
   "cell_type": "code",
   "execution_count": 8,
   "metadata": {
    "collapsed": false
   },
   "outputs": [
    {
     "name": "stdout",
     "output_type": "stream",
     "text": [
      "('Training data has', 17, 'columns and', 328667, 'rows, Validation data has', 171333, 'rows')\n",
      "\n",
      "\n",
      "\n",
      "\n"
     ]
    },
    {
     "data": {
      "text/html": [
       "<div style=\"overflow:auto\"><table style=\"width:50%\"><tr><td><b>Model</b></td>\n",
       "<td><b>R2 TRAIN</b></td>\n",
       "<td><b>R2 TEST</b></td>\n",
       "<td><b>Model Training Time (s)</b></td></tr>\n",
       "<tr><td>GBM</td>\n",
       "<td>0.2866214</td>\n",
       "<td>0.2817645</td>\n",
       "<td>687.12</td></tr>\n",
       "<tr><td>DRF</td>\n",
       "<td>0.1265818</td>\n",
       "<td>0.2977402</td>\n",
       "<td>1401.046</td></tr>\n",
       "<tr><td>GLM</td>\n",
       "<td>0.4239004</td>\n",
       "<td>0.4147631</td>\n",
       "<td>5.4</td></tr>\n",
       "<tr><td>DL </td>\n",
       "<td>0.2916710</td>\n",
       "<td>0.2937356</td>\n",
       "<td>295.847</td></tr></table></div>"
      ],
      "text/plain": [
       "Model      R2 TRAIN    R2 TEST    Model Training Time (s)\n",
       "-------  ----------  ---------  -------------------------\n",
       "GBM        0.286621   0.281764                    687.12\n",
       "DRF        0.126582   0.29774                    1401.05\n",
       "GLM        0.4239     0.414763                      5.4\n",
       "DL         0.291671   0.293736                    295.847"
      ]
     },
     "metadata": {},
     "output_type": "display_data"
    }
   ],
   "source": [
    "# Split the data (into test & train), fit some models and predict on the holdout data\n",
    "fit_score(train_hex)"
   ]
  },
  {
   "cell_type": "code",
   "execution_count": null,
   "metadata": {
    "collapsed": true
   },
   "outputs": [],
   "source": []
  }
 ],
 "metadata": {
  "kernelspec": {
   "display_name": "Python 2",
   "language": "python",
   "name": "python2"
  },
  "language_info": {
   "codemirror_mode": {
    "name": "ipython",
    "version": 2
   },
   "file_extension": ".py",
   "mimetype": "text/x-python",
   "name": "python",
   "nbconvert_exporter": "python",
   "pygments_lexer": "ipython2",
   "version": "2.7.11"
  }
 },
 "nbformat": 4,
 "nbformat_minor": 0
}
