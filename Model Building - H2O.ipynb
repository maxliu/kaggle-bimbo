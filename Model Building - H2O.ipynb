{
 "cells": [
  {
   "cell_type": "markdown",
   "metadata": {},
   "source": [
    "Now it is time to complicate things and use H2O GBM and RF with grid search, and of course XGBoost.\n",
    "\n",
    "Thi isi a great article for tunning XGboost: http://www.analyticsvidhya.com/blog/2016/03/complete-guide-parameter-tuning-xgboost-with-codes-python/"
   ]
  },
  {
   "cell_type": "markdown",
   "metadata": {},
   "source": [
    "# H2O - GLM, GBM, NN, RF"
   ]
  },
  {
   "cell_type": "code",
   "execution_count": 1,
   "metadata": {
    "collapsed": true
   },
   "outputs": [],
   "source": [
    "import pandas as pd\n",
    "import numpy as np\n",
    "import time\n",
    "import csv\n",
    "%matplotlib inline\n",
    "from matplotlib.pylab import rcParams\n",
    "rcParams['figure.figsize'] = 12, 8\n",
    "import math\n",
    "\n",
    "_start_time = time.time()\n",
    "\n",
    "def tic():\n",
    "    global _start_time \n",
    "    _start_time = time.time()\n",
    "\n",
    "def tac():\n",
    "    t_sec = round(time.time() - _start_time)\n",
    "    (t_min, t_sec) = divmod(t_sec,60)\n",
    "    (t_hour,t_min) = divmod(t_min,60) \n",
    "    print('Time passed: {}hour:{}min:{}sec'.format(t_hour,t_min,t_sec))"
   ]
  },
  {
   "cell_type": "code",
   "execution_count": 2,
   "metadata": {
    "collapsed": true
   },
   "outputs": [],
   "source": [
    "import h2o\n",
    "import time\n",
    "from h2o.estimators.glm import H2OGeneralizedLinearEstimator\n",
    "from h2o.estimators.gbm import H2OGradientBoostingEstimator\n",
    "from h2o.estimators.random_forest import H2ORandomForestEstimator\n",
    "\n",
    "\n",
    "from h2o.estimators.deeplearning import H2ODeepLearningEstimator"
   ]
  },
  {
   "cell_type": "code",
   "execution_count": 3,
   "metadata": {
    "collapsed": false
   },
   "outputs": [
    {
     "name": "stdout",
     "output_type": "stream",
     "text": [
      "Time passed: 0.0hour:0.0min:3.0sec\n"
     ]
    }
   ],
   "source": [
    "#now we load our modified train and test set\n",
    "\n",
    "tic()\n",
    "#train = pd.read_csv('./input-data/train_modified.csv', nrows = 500000)\n",
    "#test = pd.read_csv('./input-data/test_modified.csv', nrows = 500000)\n",
    "train = pd.read_csv('./input-data/train_modified.csv', nrows=500000,\n",
    "                    dtype = {'Semana': 'int8',\n",
    "                            'Agencia_ID': 'uint16',\n",
    "                            'Canal_ID': 'int8',\n",
    "                            'Ruta_SAK': 'int32',\n",
    "                            'Cliente_ID': 'int32',\n",
    "                            'Producto_ID': 'int32',\n",
    "                            'log_target':  'float64',\n",
    "                            'Log_Target_mean_lag1': 'float64',\n",
    "                            'Log_Target_mean_lag2': 'float64',\n",
    "                            'Log_Target_mean_lag3': 'float64',\n",
    "                            'Log_Target_mean_lag4': 'float64',\n",
    "                            'Lags_sum': 'float64',\n",
    "                            'pairs_mean':  'float64',\n",
    "                            'brand': 'uint16',\n",
    "                            'cluster': 'uint16',\n",
    "                            'Qty_Ruta_SAK_Bin': 'int8',\n",
    "                            'ZipCode': 'uint16'}\n",
    "                   )\n",
    "\n",
    "                    \n",
    "test = pd.read_csv('./input-data/test_modified.csv',nrows=500000,\n",
    "                    dtype = {'id': 'uint32',\n",
    "                            'Semana': 'int8',\n",
    "                            'Agencia_ID': 'uint16',\n",
    "                            'Canal_ID': 'int8',\n",
    "                            'Ruta_SAK': 'int32',\n",
    "                            'Cliente_ID': 'int32',\n",
    "                            'Producto_ID': 'int32',\n",
    "                            'Log_Target_mean_lag1': 'float64',\n",
    "                            'Log_Target_mean_lag2': 'float64',\n",
    "                            'Log_Target_mean_lag3': 'float64',\n",
    "                            'Log_Target_mean_lag4': 'float64',\n",
    "                            'Lags_sum': 'float64',\n",
    "                            'pairs_mean': 'float64',\n",
    "                            'brand': 'uint16',\n",
    "                            'cluster': 'uint16',\n",
    "                            'Qty_Ruta_SAK_Bin': 'int8',\n",
    "                            'ZipCode': 'uint16'}\n",
    "                      )\n",
    "tac()"
   ]
  },
  {
   "cell_type": "code",
   "execution_count": 4,
   "metadata": {
    "collapsed": false,
    "scrolled": true
   },
   "outputs": [
    {
     "name": "stdout",
     "output_type": "stream",
     "text": [
      "Connecting to H2O server at http://localhost:54321... successful!\n"
     ]
    },
    {
     "data": {
      "text/html": [
       "<div style=\"overflow:auto\"><table style=\"width:50%\"><tr><td>H2O cluster uptime:</td>\n",
       "<td>2 hours 1 min</td></tr>\n",
       "<tr><td>H2O cluster version:</td>\n",
       "<td>3.10.0.1</td></tr>\n",
       "<tr><td>H2O cluster version age:</td>\n",
       "<td>13 days </td></tr>\n",
       "<tr><td>H2O cluster name:</td>\n",
       "<td>LOCAL SERVICE</td></tr>\n",
       "<tr><td>H2O cluster total nodes:</td>\n",
       "<td>1</td></tr>\n",
       "<tr><td>H2O cluster free memory:</td>\n",
       "<td>49.31 Gb</td></tr>\n",
       "<tr><td>H2O cluster total cores:</td>\n",
       "<td>4</td></tr>\n",
       "<tr><td>H2O cluster allowed cores:</td>\n",
       "<td>4</td></tr>\n",
       "<tr><td>H2O cluster is healthy:</td>\n",
       "<td>True</td></tr>\n",
       "<tr><td>H2O cluster is locked:</td>\n",
       "<td>True</td></tr>\n",
       "<tr><td>H2O connection url:</td>\n",
       "<td>http://localhost:54321</td></tr>\n",
       "<tr><td>H2O connection proxy:</td>\n",
       "<td>None</td></tr>\n",
       "<tr><td>Python version:</td>\n",
       "<td>2.7.11 final</td></tr></table></div>"
      ],
      "text/plain": [
       "--------------------------  ----------------------\n",
       "H2O cluster uptime:         2 hours 1 min\n",
       "H2O cluster version:        3.10.0.1\n",
       "H2O cluster version age:    13 days\n",
       "H2O cluster name:           LOCAL SERVICE\n",
       "H2O cluster total nodes:    1\n",
       "H2O cluster free memory:    49.31 Gb\n",
       "H2O cluster total cores:    4\n",
       "H2O cluster allowed cores:  4\n",
       "H2O cluster is healthy:     True\n",
       "H2O cluster is locked:      True\n",
       "H2O connection url:         http://localhost:54321\n",
       "H2O connection proxy:\n",
       "Python version:             2.7.11 final\n",
       "--------------------------  ----------------------"
      ]
     },
     "metadata": {},
     "output_type": "display_data"
    }
   ],
   "source": [
    "# Connect to a cluster\n",
    "h2o.init()"
   ]
  },
  {
   "cell_type": "code",
   "execution_count": 5,
   "metadata": {
    "collapsed": false
   },
   "outputs": [
    {
     "name": "stdout",
     "output_type": "stream",
     "text": [
      "\n",
      "\n"
     ]
    }
   ],
   "source": [
    "train_hex = h2o.H2OFrame(train)\n",
    "test_hex = h2o.H2OFrame(test)"
   ]
  },
  {
   "cell_type": "code",
   "execution_count": 6,
   "metadata": {
    "collapsed": false
   },
   "outputs": [
    {
     "name": "stdout",
     "output_type": "stream",
     "text": [
      "Rows:500,000 Cols:17\n",
      "\n",
      "Chunk compression summary: \n"
     ]
    },
    {
     "data": {
      "text/html": [
       "<div style=\"overflow:auto\"><table style=\"width:50%\"><tr><td><b>chunk_type</b></td>\n",
       "<td><b>chunk_name</b></td>\n",
       "<td><b>count</b></td>\n",
       "<td><b>count_percentage</b></td>\n",
       "<td><b>size</b></td>\n",
       "<td><b>size_percentage</b></td></tr>\n",
       "<tr><td>C0L</td>\n",
       "<td>Constant Integers</td>\n",
       "<td>57</td>\n",
       "<td>13.9705881</td>\n",
       "<td>    4.5 KB</td>\n",
       "<td>0.0235195</td></tr>\n",
       "<tr><td>CXI</td>\n",
       "<td>Zero Sparse Integers</td>\n",
       "<td>4</td>\n",
       "<td>0.9803922</td>\n",
       "<td>   21.7 KB</td>\n",
       "<td>0.1146471</td></tr>\n",
       "<tr><td>C1N</td>\n",
       "<td>1-Byte Integers (w/o NAs)</td>\n",
       "<td>99</td>\n",
       "<td>24.2647052</td>\n",
       "<td>    2.0 MB</td>\n",
       "<td>10.6965147</td></tr>\n",
       "<tr><td>C1S</td>\n",
       "<td>1-Byte Fractions</td>\n",
       "<td>8</td>\n",
       "<td>1.9607844</td>\n",
       "<td>  171.9 KB</td>\n",
       "<td>0.9078519</td></tr>\n",
       "<tr><td>C2</td>\n",
       "<td>2-Byte Integers</td>\n",
       "<td>24</td>\n",
       "<td>5.8823530</td>\n",
       "<td>  978.1 KB</td>\n",
       "<td>5.1661570</td></tr>\n",
       "<tr><td>C2S</td>\n",
       "<td>2-Byte Fractions</td>\n",
       "<td>24</td>\n",
       "<td>5.8823530</td>\n",
       "<td>  978.5 KB</td>\n",
       "<td>5.1681787</td></tr>\n",
       "<tr><td>C4</td>\n",
       "<td>4-Byte Integers</td>\n",
       "<td>24</td>\n",
       "<td>5.8823530</td>\n",
       "<td>    1.9 MB</td>\n",
       "<td>10.3239790</td></tr>\n",
       "<tr><td>CUD</td>\n",
       "<td>Unique Reals</td>\n",
       "<td>120</td>\n",
       "<td>29.4117659</td>\n",
       "<td>    4.9 MB</td>\n",
       "<td>26.3200730</td></tr>\n",
       "<tr><td>C8D</td>\n",
       "<td>64-bit Reals</td>\n",
       "<td>48</td>\n",
       "<td>11.7647059</td>\n",
       "<td>    7.6 MB</td>\n",
       "<td>41.2790805</td></tr></table></div>"
      ],
      "text/plain": [
       "chunk_type    chunk_name                 count    count_percentage    size      size_percentage\n",
       "------------  -------------------------  -------  ------------------  --------  -----------------\n",
       "C0L           Constant Integers          57       13.9706             4.5 KB    0.0235195\n",
       "CXI           Zero Sparse Integers       4        0.980392            21.7 KB   0.114647\n",
       "C1N           1-Byte Integers (w/o NAs)  99       24.2647             2.0 MB    10.6965\n",
       "C1S           1-Byte Fractions           8        1.96078             171.9 KB  0.907852\n",
       "C2            2-Byte Integers            24       5.88235             978.1 KB  5.16616\n",
       "C2S           2-Byte Fractions           24       5.88235             978.5 KB  5.16818\n",
       "C4            4-Byte Integers            24       5.88235             1.9 MB    10.324\n",
       "CUD           Unique Reals               120      29.4118             4.9 MB    26.3201\n",
       "C8D           64-bit Reals               48       11.7647             7.6 MB    41.2791"
      ]
     },
     "metadata": {},
     "output_type": "display_data"
    },
    {
     "name": "stdout",
     "output_type": "stream",
     "text": [
      "\n",
      "Frame distribution summary: \n"
     ]
    },
    {
     "data": {
      "text/html": [
       "<div style=\"overflow:auto\"><table style=\"width:50%\"><tr><td><b></b></td>\n",
       "<td><b>size</b></td>\n",
       "<td><b>number_of_rows</b></td>\n",
       "<td><b>number_of_chunks_per_column</b></td>\n",
       "<td><b>number_of_chunks</b></td></tr>\n",
       "<tr><td>10.1.0.4:54321</td>\n",
       "<td>   18.5 MB</td>\n",
       "<td>500000.0</td>\n",
       "<td>24.0</td>\n",
       "<td>408.0</td></tr>\n",
       "<tr><td>mean</td>\n",
       "<td>   18.5 MB</td>\n",
       "<td>500000.0</td>\n",
       "<td>24.0</td>\n",
       "<td>408.0</td></tr>\n",
       "<tr><td>min</td>\n",
       "<td>   18.5 MB</td>\n",
       "<td>500000.0</td>\n",
       "<td>24.0</td>\n",
       "<td>408.0</td></tr>\n",
       "<tr><td>max</td>\n",
       "<td>   18.5 MB</td>\n",
       "<td>500000.0</td>\n",
       "<td>24.0</td>\n",
       "<td>408.0</td></tr>\n",
       "<tr><td>stddev</td>\n",
       "<td>      0  B</td>\n",
       "<td>0.0</td>\n",
       "<td>0.0</td>\n",
       "<td>0.0</td></tr>\n",
       "<tr><td>total</td>\n",
       "<td>   18.5 MB</td>\n",
       "<td>500000.0</td>\n",
       "<td>24.0</td>\n",
       "<td>408.0</td></tr></table></div>"
      ],
      "text/plain": [
       "                size     number_of_rows    number_of_chunks_per_column    number_of_chunks\n",
       "--------------  -------  ----------------  -----------------------------  ------------------\n",
       "10.1.0.4:54321  18.5 MB  500000            24                             408\n",
       "mean            18.5 MB  500000            24                             408\n",
       "min             18.5 MB  500000            24                             408\n",
       "max             18.5 MB  500000            24                             408\n",
       "stddev          0  B     0                 0                              0\n",
       "total           18.5 MB  500000            24                             408"
      ]
     },
     "metadata": {},
     "output_type": "display_data"
    },
    {
     "name": "stdout",
     "output_type": "stream",
     "text": [
      "\n",
      "\n"
     ]
    },
    {
     "data": {
      "text/html": [
       "<table>\n",
       "<tr><th>       </th><th>C1            </th><th>C2           </th><th>C3          </th><th>C4           </th><th>C5           </th><th>C6           </th><th>C7            </th><th>C8           </th><th>C9            </th><th>C10           </th><th>C11           </th><th>C12          </th><th>C13           </th><th>C14          </th><th>C15          </th><th>C16           </th><th>C17          </th></tr>\n",
       "<tr><td>type   </td><td>int           </td><td>int          </td><td>int         </td><td>int          </td><td>int          </td><td>int          </td><td>real          </td><td>real         </td><td>real          </td><td>real          </td><td>real          </td><td>real         </td><td>real          </td><td>int          </td><td>int          </td><td>int           </td><td>int          </td></tr>\n",
       "<tr><td>mins   </td><td>7.0           </td><td>1110.0       </td><td>1.0         </td><td>1001.0       </td><td>14432.0      </td><td>72.0         </td><td>0.0           </td><td>0.0          </td><td>0.0           </td><td>0.0           </td><td>0.0           </td><td>0.0          </td><td>0.0           </td><td>0.0          </td><td>1.0          </td><td>0.0           </td><td>2008.0       </td></tr>\n",
       "<tr><td>mean   </td><td>8.021678      </td><td>1868.014478  </td><td>1.316612    </td><td>1968.989458  </td><td>1207677.77101</td><td>19453.89206  </td><td>1.71572378921 </td><td>1.25929790064</td><td>0.932080236695</td><td>0.924796702283</td><td>0.944567677809</td><td>4.06074251743</td><td>1.72722194655 </td><td>10.483466    </td><td>13.66459     </td><td>0.66068       </td><td>2030.792262  </td></tr>\n",
       "<tr><td>maxs   </td><td>9.0           </td><td>3213.0       </td><td>11.0        </td><td>4511.0       </td><td>9796267.0    </td><td>49994.0      </td><td>8.05990833458 </td><td>8.05990833458</td><td>7.83241092719 </td><td>8.17667277195 </td><td>8.17667277195 </td><td>31.329652728 </td><td>7.74181458113 </td><td>30.0         </td><td>30.0         </td><td>2.0           </td><td>2050.0       </td></tr>\n",
       "<tr><td>sigma  </td><td>0.814361953118</td><td>961.776062178</td><td>1.4054909435</td><td>1117.05759979</td><td>1552471.45018</td><td>18353.2593906</td><td>0.775043774119</td><td>1.06352973743</td><td>1.10114557208 </td><td>1.10189215805 </td><td>1.10814333916 </td><td>3.57595981976</td><td>0.698680007449</td><td>10.2850601453</td><td>7.66254419635</td><td>0.866463755225</td><td>15.1196160047</td></tr>\n",
       "<tr><td>zeros  </td><td>0             </td><td>0            </td><td>0           </td><td>0            </td><td>0            </td><td>0            </td><td>5932          </td><td>155621       </td><td>255412        </td><td>258064        </td><td>254118        </td><td>98086        </td><td>1859          </td><td>30           </td><td>0            </td><td>301304        </td><td>0            </td></tr>\n",
       "<tr><td>missing</td><td>0             </td><td>0            </td><td>0           </td><td>0            </td><td>0            </td><td>0            </td><td>0             </td><td>0            </td><td>0             </td><td>0             </td><td>0             </td><td>0            </td><td>0             </td><td>0            </td><td>0            </td><td>0             </td><td>0            </td></tr>\n",
       "<tr><td>0      </td><td>7.0           </td><td>1110.0       </td><td>7.0         </td><td>3301.0       </td><td>15766.0      </td><td>1216.0       </td><td>1.09861228867 </td><td>0.69314718056</td><td>1.38629436112 </td><td>1.09861228867 </td><td>1.60943791243 </td><td>4.78749174278</td><td>1.27964391678 </td><td>1.0          </td><td>2.0          </td><td>1.0           </td><td>2008.0       </td></tr>\n",
       "<tr><td>1      </td><td>8.0           </td><td>1110.0       </td><td>7.0         </td><td>3301.0       </td><td>15766.0      </td><td>1216.0       </td><td>1.79175946923 </td><td>1.09861228867</td><td>0.69314718056 </td><td>1.38629436112 </td><td>1.09861228867 </td><td>4.27666611902</td><td>1.27964391678 </td><td>1.0          </td><td>2.0          </td><td>1.0           </td><td>2008.0       </td></tr>\n",
       "<tr><td>2      </td><td>7.0           </td><td>1110.0       </td><td>7.0         </td><td>3301.0       </td><td>15766.0      </td><td>1238.0       </td><td>1.09861228867 </td><td>1.09861228867</td><td>0.69314718056 </td><td>1.38629436112 </td><td>1.60943791243 </td><td>4.78749174278</td><td>1.19585866875 </td><td>1.0          </td><td>2.0          </td><td>1.0           </td><td>2008.0       </td></tr>\n",
       "<tr><td>3      </td><td>8.0           </td><td>1110.0       </td><td>7.0         </td><td>3301.0       </td><td>15766.0      </td><td>1238.0       </td><td>1.38629436112 </td><td>1.09861228867</td><td>1.09861228867 </td><td>0.69314718056 </td><td>1.38629436112 </td><td>4.27666611902</td><td>1.19585866875 </td><td>1.0          </td><td>2.0          </td><td>1.0           </td><td>2008.0       </td></tr>\n",
       "<tr><td>4      </td><td>9.0           </td><td>1110.0       </td><td>7.0         </td><td>3301.0       </td><td>15766.0      </td><td>1238.0       </td><td>1.09861228867 </td><td>1.38629436112</td><td>1.09861228867 </td><td>1.09861228867 </td><td>0.69314718056 </td><td>4.27666611902</td><td>1.19585866875 </td><td>1.0          </td><td>2.0          </td><td>1.0           </td><td>2008.0       </td></tr>\n",
       "<tr><td>5      </td><td>7.0           </td><td>1110.0       </td><td>7.0         </td><td>3301.0       </td><td>15766.0      </td><td>1240.0       </td><td>2.19722457734 </td><td>0.0          </td><td>0.0           </td><td>2.07944154168 </td><td>1.60943791243 </td><td>3.68887945411</td><td>1.61666572176 </td><td>1.0          </td><td>14.0         </td><td>1.0           </td><td>2008.0       </td></tr>\n",
       "<tr><td>6      </td><td>8.0           </td><td>1110.0       </td><td>7.0         </td><td>3301.0       </td><td>15766.0      </td><td>1240.0       </td><td>1.09861228867 </td><td>2.19722457734</td><td>0.0           </td><td>0.0           </td><td>2.07944154168 </td><td>4.27666611902</td><td>1.61666572176 </td><td>1.0          </td><td>14.0         </td><td>1.0           </td><td>2008.0       </td></tr>\n",
       "<tr><td>7      </td><td>9.0           </td><td>1110.0       </td><td>7.0         </td><td>3301.0       </td><td>15766.0      </td><td>1240.0       </td><td>1.09861228867 </td><td>1.09861228867</td><td>2.19722457734 </td><td>0.0           </td><td>0.0           </td><td>3.295836866  </td><td>1.61666572176 </td><td>1.0          </td><td>14.0         </td><td>1.0           </td><td>2008.0       </td></tr>\n",
       "<tr><td>8      </td><td>7.0           </td><td>1110.0       </td><td>7.0         </td><td>3301.0       </td><td>15766.0      </td><td>1242.0       </td><td>1.09861228867 </td><td>1.38629436112</td><td>1.09861228867 </td><td>1.38629436112 </td><td>1.38629436112 </td><td>5.25749537203</td><td>1.10605743169 </td><td>1.0          </td><td>25.0         </td><td>1.0           </td><td>2008.0       </td></tr>\n",
       "<tr><td>9      </td><td>8.0           </td><td>1110.0       </td><td>7.0         </td><td>3301.0       </td><td>15766.0      </td><td>1242.0       </td><td>0.69314718056 </td><td>1.09861228867</td><td>1.38629436112 </td><td>1.09861228867 </td><td>1.38629436112 </td><td>4.96981329958</td><td>1.10605743169 </td><td>1.0          </td><td>25.0         </td><td>1.0           </td><td>2008.0       </td></tr>\n",
       "</table>"
      ]
     },
     "metadata": {},
     "output_type": "display_data"
    }
   ],
   "source": [
    "train_hex.describe()"
   ]
  },
  {
   "cell_type": "code",
   "execution_count": 7,
   "metadata": {
    "collapsed": false
   },
   "outputs": [],
   "source": [
    "# ----------\n",
    "# Fit a model on train; using test and validation\n",
    "\n",
    "# Function for doing class test/train/holdout split\n",
    "def fit_score(data):\n",
    "  global gbm0,drf0,glm0,dl0\n",
    "\n",
    "  val = data[data[\"C1\"] > 8] # Weeks 9\n",
    "  train = data[data[\"C1\"] <=8] # Weeks 7,8\n",
    "\n",
    "  print(\"Training data has\",train.ncol,\"columns and\",train.nrow,\"rows, Validation data has\",val.nrow,\"rows\")\n",
    "  predictors_names = train.names\n",
    "  predictors_names.remove(\"C7\")\n",
    "\n",
    "  # Run GBM\n",
    "  s = time.time()\n",
    "  \n",
    "  gbm0 = H2OGradientBoostingEstimator(ntrees=50, # 500 works well\n",
    "                                      max_depth=15,\n",
    "                                      learn_rate=0.1)\n",
    "    \n",
    "\n",
    "  gbm0.train(x               =predictors_names,\n",
    "             y               =\"C7\",\n",
    "             training_frame  =train,\n",
    "             validation_frame=val)\n",
    "\n",
    "  gbm_elapsed = time.time() - s\n",
    "\n",
    "  # Run DRF\n",
    "  s = time.time()\n",
    "    \n",
    "  drf0 = H2ORandomForestEstimator(ntrees=20, max_depth=30)\n",
    "\n",
    "  drf0.train(x               =predictors_names,\n",
    "             y               =\"C7\",\n",
    "             training_frame  =train,\n",
    "             validation_frame=val)\n",
    "    \n",
    "  drf_elapsed = time.time() - s \n",
    "    \n",
    "  \n",
    "  # Run GLM\n",
    "  s = time.time()\n",
    "\n",
    "  glm0 = H2OGeneralizedLinearEstimator(Lambda=[1e-5], family=\"poisson\")\n",
    "    \n",
    "  glm0.train(x               =predictors_names,\n",
    "             y               =\"C7\",\n",
    "             training_frame  =train,\n",
    "             validation_frame=val)\n",
    "\n",
    "  glm_elapsed = time.time() - s\n",
    " \n",
    "  # Run DL\n",
    "  s = time.time()\n",
    "\n",
    "  dl0 = H2ODeepLearningEstimator(hidden=[50,50,50,50], epochs=50)\n",
    "    \n",
    "  dl0.train(x               =predictors_names,\n",
    "            y               =\"C7\",\n",
    "            training_frame  =train,\n",
    "            validation_frame=val)\n",
    "    \n",
    "  dl_elapsed = time.time() - s\n",
    "  \n",
    "  # ----------\n",
    "  # 4- Score on holdout set & report\n",
    "  train_r2_gbm = gbm0.model_performance(train).rmse()\n",
    "  val_r2_gbm  = gbm0.model_performance(val).rmse()\n",
    "  \n",
    "  train_r2_drf = drf0.model_performance(train).rmse()\n",
    "  val_r2_drf  = drf0.model_performance(val).rmse()\n",
    " \n",
    "  train_r2_glm = glm0.model_performance(train).rmse()\n",
    "  val_r2_glm  = glm0.model_performance(val).rmse()\n",
    "  \n",
    "  train_r2_dl = dl0.model_performance(train).rmse()\n",
    "  val_r2_dl  = dl0.model_performance(val).rmse()\n",
    "    \n",
    "  # make a pretty HTML table printout of the results\n",
    "\n",
    "  header = [\"Model\", \"RMSLE TRAIN\", \"RMSLE TEST\", \"Model Training Time (s)\"]\n",
    "  table  = [\n",
    "            [\"GBM\", train_r2_gbm, val_r2_gbm, round(gbm_elapsed,3)],\n",
    "            [\"DRF\", train_r2_drf, val_r2_drf, round(drf_elapsed,3)],\n",
    "            [\"GLM\", train_r2_glm, val_r2_glm, round(glm_elapsed,3)],\n",
    "            [\"DL \", train_r2_dl,  val_r2_dl,  round(dl_elapsed,3) ],\n",
    "           ]\n",
    "  h2o.display.H2ODisplay(table,header)\n",
    "  # --------------"
   ]
  },
  {
   "cell_type": "code",
   "execution_count": 8,
   "metadata": {
    "collapsed": false
   },
   "outputs": [
    {
     "name": "stdout",
     "output_type": "stream",
     "text": [
      "('Training data has', 17, 'columns and', 328667, 'rows, Validation data has', 171333, 'rows')\n",
      "\n",
      "\n",
      "\n",
      "\n"
     ]
    },
    {
     "data": {
      "text/html": [
       "<div style=\"overflow:auto\"><table style=\"width:50%\"><tr><td><b>Model</b></td>\n",
       "<td><b>R2 TRAIN</b></td>\n",
       "<td><b>R2 TEST</b></td>\n",
       "<td><b>Model Training Time (s)</b></td></tr>\n",
       "<tr><td>GBM</td>\n",
       "<td>0.2866214</td>\n",
       "<td>0.2817645</td>\n",
       "<td>687.12</td></tr>\n",
       "<tr><td>DRF</td>\n",
       "<td>0.1265818</td>\n",
       "<td>0.2977402</td>\n",
       "<td>1401.046</td></tr>\n",
       "<tr><td>GLM</td>\n",
       "<td>0.4239004</td>\n",
       "<td>0.4147631</td>\n",
       "<td>5.4</td></tr>\n",
       "<tr><td>DL </td>\n",
       "<td>0.2916710</td>\n",
       "<td>0.2937356</td>\n",
       "<td>295.847</td></tr></table></div>"
      ],
      "text/plain": [
       "Model      R2 TRAIN    R2 TEST    Model Training Time (s)\n",
       "-------  ----------  ---------  -------------------------\n",
       "GBM        0.286621   0.281764                    687.12\n",
       "DRF        0.126582   0.29774                    1401.05\n",
       "GLM        0.4239     0.414763                      5.4\n",
       "DL         0.291671   0.293736                    295.847"
      ]
     },
     "metadata": {},
     "output_type": "display_data"
    }
   ],
   "source": [
    "# Split the data (into test & train), fit some models and predict on the holdout data\n",
    "fit_score(train_hex)"
   ]
  },
  {
   "cell_type": "code",
   "execution_count": null,
   "metadata": {
    "collapsed": true
   },
   "outputs": [],
   "source": []
  }
 ],
 "metadata": {
  "kernelspec": {
   "display_name": "Python 2",
   "language": "python",
   "name": "python2"
  },
  "language_info": {
   "codemirror_mode": {
    "name": "ipython",
    "version": 2
   },
   "file_extension": ".py",
   "mimetype": "text/x-python",
   "name": "python",
   "nbconvert_exporter": "python",
   "pygments_lexer": "ipython2",
   "version": "2.7.11"
  }
 },
 "nbformat": 4,
 "nbformat_minor": 0
}
