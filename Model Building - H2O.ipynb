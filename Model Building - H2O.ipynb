{
 "cells": [
  {
   "cell_type": "markdown",
   "metadata": {},
   "source": [
    "## Model Building in H2O\n",
    "\n",
    "I will go through 4 H2O  models including linear GLM, GBM, DRF (Distributed Random Forest) and DL (Deep Learning NN).\n",
    "\n",
    "I'll use H2OFlow for the hyperparameters searching (it's just easier than writing code) and post here the best parameters found.\n"
   ]
  },
  {
   "cell_type": "markdown",
   "metadata": {},
   "source": [
    "# H2O - GLM, GBM, NN, RF"
   ]
  },
  {
   "cell_type": "code",
   "execution_count": 1,
   "metadata": {
    "collapsed": true
   },
   "outputs": [],
   "source": [
    "import pandas as pd\n",
    "import numpy as np\n",
    "import time\n",
    "import csv\n",
    "%matplotlib inline\n",
    "from matplotlib.pylab import rcParams\n",
    "rcParams['figure.figsize'] = 12, 8\n",
    "import math\n",
    "\n",
    "_start_time = time.time()\n",
    "\n",
    "def tic():\n",
    "    global _start_time \n",
    "    _start_time = time.time()\n",
    "\n",
    "def tac():\n",
    "    t_sec = round(time.time() - _start_time)\n",
    "    (t_min, t_sec) = divmod(t_sec,60)\n",
    "    (t_hour,t_min) = divmod(t_min,60) \n",
    "    print('Time passed: {}hour:{}min:{}sec'.format(t_hour,t_min,t_sec))"
   ]
  },
  {
   "cell_type": "code",
   "execution_count": 2,
   "metadata": {
    "collapsed": true
   },
   "outputs": [],
   "source": [
    "import h2o\n",
    "import time\n",
    "from h2o.estimators.glm import H2OGeneralizedLinearEstimator\n",
    "from h2o.estimators.gbm import H2OGradientBoostingEstimator\n",
    "from h2o.estimators.random_forest import H2ORandomForestEstimator\n",
    "from h2o.estimators.deeplearning import H2ODeepLearningEstimator"
   ]
  },
  {
   "cell_type": "code",
   "execution_count": 4,
   "metadata": {
    "collapsed": false,
    "scrolled": true
   },
   "outputs": [
    {
     "name": "stdout",
     "output_type": "stream",
     "text": [
      "Connecting to H2O server at http://localhost:54321... successful!\n"
     ]
    },
    {
     "name": "stderr",
     "output_type": "stream",
     "text": [
      "/anaconda/envs/py35/lib/python3.5/site-packages/IPython/core/formatters.py:92: DeprecationWarning: DisplayFormatter._ipython_display_formatter_default is deprecated: use @default decorator instead.\n",
      "  def _ipython_display_formatter_default(self):\n",
      "/anaconda/envs/py35/lib/python3.5/site-packages/IPython/core/formatters.py:669: DeprecationWarning: PlainTextFormatter._singleton_printers_default is deprecated: use @default decorator instead.\n",
      "  def _singleton_printers_default(self):\n"
     ]
    },
    {
     "data": {
      "text/html": [
       "<div style=\"overflow:auto\"><table style=\"width:50%\"><tr><td>H2O cluster uptime:</td>\n",
       "<td>03 secs</td></tr>\n",
       "<tr><td>H2O cluster version:</td>\n",
       "<td>3.10.0.3</td></tr>\n",
       "<tr><td>H2O cluster version age:</td>\n",
       "<td>10 days </td></tr>\n",
       "<tr><td>H2O cluster name:</td>\n",
       "<td>H2O_from_python_nobody_vjfhhh</td></tr>\n",
       "<tr><td>H2O cluster total nodes:</td>\n",
       "<td>1</td></tr>\n",
       "<tr><td>H2O cluster free memory:</td>\n",
       "<td>12.23 Gb</td></tr>\n",
       "<tr><td>H2O cluster total cores:</td>\n",
       "<td>8</td></tr>\n",
       "<tr><td>H2O cluster allowed cores:</td>\n",
       "<td>8</td></tr>\n",
       "<tr><td>H2O cluster is healthy:</td>\n",
       "<td>True</td></tr>\n",
       "<tr><td>H2O cluster is locked:</td>\n",
       "<td>False</td></tr>\n",
       "<tr><td>H2O connection url:</td>\n",
       "<td>http://localhost:54321</td></tr>\n",
       "<tr><td>H2O connection proxy:</td>\n",
       "<td>None</td></tr>\n",
       "<tr><td>Python version:</td>\n",
       "<td>3.5.1 final</td></tr></table></div>"
      ],
      "text/plain": [
       "--------------------------  -----------------------------\n",
       "H2O cluster uptime:         03 secs\n",
       "H2O cluster version:        3.10.0.3\n",
       "H2O cluster version age:    10 days\n",
       "H2O cluster name:           H2O_from_python_nobody_vjfhhh\n",
       "H2O cluster total nodes:    1\n",
       "H2O cluster free memory:    12.23 Gb\n",
       "H2O cluster total cores:    8\n",
       "H2O cluster allowed cores:  8\n",
       "H2O cluster is healthy:     True\n",
       "H2O cluster is locked:      False\n",
       "H2O connection url:         http://localhost:54321\n",
       "H2O connection proxy:\n",
       "Python version:             3.5.1 final\n",
       "--------------------------  -----------------------------"
      ]
     },
     "metadata": {},
     "output_type": "display_data"
    }
   ],
   "source": [
    "# Connect to a cluster\n",
    "h2o.init()"
   ]
  },
  {
   "cell_type": "code",
   "execution_count": 5,
   "metadata": {
    "collapsed": false,
    "scrolled": true
   },
   "outputs": [
    {
     "name": "stdout",
     "output_type": "stream",
     "text": [
      "\n",
      "\n",
      "\n",
      "Time passed: 0hour:1min:52sec\n"
     ]
    }
   ],
   "source": [
    "#now we load our modified train and test set\n",
    "from h2o.utils.shared_utils import _locate # private function. used to find files within h2o git project directory.\n",
    "\n",
    "tic()\n",
    "train = h2o.upload_file(path=_locate(\"./input-data/train_modified.csv\"))\n",
    "val = h2o.upload_file(path=_locate(\"./input-data/val_modified_w9.csv\"))\n",
    "test = h2o.upload_file(path=_locate(\"./input-data/test_modified.csv\"))\n",
    "tac()"
   ]
  },
  {
   "cell_type": "code",
   "execution_count": 7,
   "metadata": {
    "collapsed": false
   },
   "outputs": [],
   "source": [
    "# RSMLE - error function used in LB:\n",
    "# H2O python API recently (Jun 2016) added RSME as a model performance metric. So we are going to use it directly\n",
    "# into our target = log_target , to get the RSMLE\n",
    "\n",
    "def modelfit(alg, dtrain, dval, dtest, predictors, target, IDcol, filename):   \n",
    "    #Fit the algorithm on the data\n",
    "    alg.train(x=predictors, y=target, training_frame=dtrain, validation_frame=dval)\n",
    "\n",
    "    #Performance on Training and Val sets:\n",
    "    print (\"\\nModel Report\")\n",
    "    print ('RMSLE TRAIN: ', alg.model_performance(train).rmse())\n",
    "    print ('RMSLE VAL: ', alg.model_performance(val).rmse())\n",
    "    \n",
    "    #Predict on testing data: we need to revert it back to \"Demanda_uni_equil\" by applying expm1 \n",
    "    dtest[target] = alg.predict(dtest).expm1()\n",
    "    \n",
    "    print ('NUM ROWS PREDICTED: ', dtest.shape[0] )\n",
    "    #print ('NUM NEGATIVES PREDICTED: ', dtest[target][dtest[target] < 0].nrow())\n",
    "    print ('MIN TARGET PREDICTED: ', dtest[target].min())\n",
    "    print ('MEAN TARGET PREDICTED: ', dtest[target].mean())\n",
    "    print ('MAX TARGET PREDICTED: ', dtest[target].max())\n",
    "    \n",
    "    #Export submission file:\n",
    "    submission = dtest[[IDcol,target]].as_data_frame(use_pandas=True)\n",
    "    submission[IDcol] = submission[IDcol].astype(int)\n",
    "    submission.rename(columns={target: 'Demanda_uni_equil'}, inplace=True)\n",
    "    submission.to_csv(\"./Submissions/\"+filename, index=False)"
   ]
  },
  {
   "cell_type": "markdown",
   "metadata": {},
   "source": [
    "Let's define now the target and the Id cols"
   ]
  },
  {
   "cell_type": "code",
   "execution_count": 8,
   "metadata": {
    "collapsed": true
   },
   "outputs": [],
   "source": [
    "#Define target and ID columns:\n",
    "target = 'log_target'\n",
    "IDcol = 'id'"
   ]
  },
  {
   "cell_type": "markdown",
   "metadata": {},
   "source": [
    "### Alg6 - GBM\n",
    "\n",
    "Lets make our first GBM model"
   ]
  },
  {
   "cell_type": "code",
   "execution_count": 9,
   "metadata": {
    "collapsed": false
   },
   "outputs": [
    {
     "name": "stdout",
     "output_type": "stream",
     "text": [
      "\n",
      "\n",
      "Model Report\n",
      "RMSLE TRAIN:  0.3707788560864561\n",
      "RMSLE VAL:  0.3707048055394812\n",
      "\n",
      "NUM ROWS PREDICTED:  6999251\n",
      "MIN TARGET PREDICTED:  -0.23013072177354224\n",
      "MEAN TARGET PREDICTED:  [5.798725018818779]\n",
      "MAX TARGET PREDICTED:  3252.0560679150753\n",
      "Warning: Method make_url in class H2OConnection is deprecated.\n",
      "Time passed: 6hour:21min:56sec\n"
     ]
    },
    {
     "data": {
      "text/html": [
       "<div>\n",
       "<table border=\"1\" class=\"dataframe\">\n",
       "  <thead>\n",
       "    <tr style=\"text-align: right;\">\n",
       "      <th></th>\n",
       "      <th>variable</th>\n",
       "      <th>relative_importance</th>\n",
       "      <th>scaled_importance</th>\n",
       "      <th>percentage</th>\n",
       "    </tr>\n",
       "  </thead>\n",
       "  <tbody>\n",
       "    <tr>\n",
       "      <th>0</th>\n",
       "      <td>Log_Target_mean_lag1</td>\n",
       "      <td>4.933296e+07</td>\n",
       "      <td>1.000000</td>\n",
       "      <td>0.528009</td>\n",
       "    </tr>\n",
       "    <tr>\n",
       "      <th>1</th>\n",
       "      <td>Log_Target_mean_lag3</td>\n",
       "      <td>1.052356e+07</td>\n",
       "      <td>0.213317</td>\n",
       "      <td>0.112633</td>\n",
       "    </tr>\n",
       "    <tr>\n",
       "      <th>2</th>\n",
       "      <td>Lags_sum</td>\n",
       "      <td>6.336896e+06</td>\n",
       "      <td>0.128452</td>\n",
       "      <td>0.067824</td>\n",
       "    </tr>\n",
       "    <tr>\n",
       "      <th>3</th>\n",
       "      <td>Producto_ID</td>\n",
       "      <td>4.954710e+06</td>\n",
       "      <td>0.100434</td>\n",
       "      <td>0.053030</td>\n",
       "    </tr>\n",
       "    <tr>\n",
       "      <th>4</th>\n",
       "      <td>cluster</td>\n",
       "      <td>3.772194e+06</td>\n",
       "      <td>0.076464</td>\n",
       "      <td>0.040374</td>\n",
       "    </tr>\n",
       "    <tr>\n",
       "      <th>5</th>\n",
       "      <td>Ruta_SAK</td>\n",
       "      <td>3.596937e+06</td>\n",
       "      <td>0.072911</td>\n",
       "      <td>0.038498</td>\n",
       "    </tr>\n",
       "    <tr>\n",
       "      <th>6</th>\n",
       "      <td>Log_Target_mean_lag4</td>\n",
       "      <td>3.481056e+06</td>\n",
       "      <td>0.070562</td>\n",
       "      <td>0.037258</td>\n",
       "    </tr>\n",
       "    <tr>\n",
       "      <th>7</th>\n",
       "      <td>ZipCode</td>\n",
       "      <td>2.880712e+06</td>\n",
       "      <td>0.058393</td>\n",
       "      <td>0.030832</td>\n",
       "    </tr>\n",
       "    <tr>\n",
       "      <th>8</th>\n",
       "      <td>Cliente_ID</td>\n",
       "      <td>2.838599e+06</td>\n",
       "      <td>0.057540</td>\n",
       "      <td>0.030381</td>\n",
       "    </tr>\n",
       "    <tr>\n",
       "      <th>9</th>\n",
       "      <td>Log_Target_mean_lag2</td>\n",
       "      <td>2.448448e+06</td>\n",
       "      <td>0.049631</td>\n",
       "      <td>0.026206</td>\n",
       "    </tr>\n",
       "    <tr>\n",
       "      <th>10</th>\n",
       "      <td>Canal_ID</td>\n",
       "      <td>9.012919e+05</td>\n",
       "      <td>0.018270</td>\n",
       "      <td>0.009646</td>\n",
       "    </tr>\n",
       "    <tr>\n",
       "      <th>11</th>\n",
       "      <td>Agencia_ID</td>\n",
       "      <td>8.607012e+05</td>\n",
       "      <td>0.017447</td>\n",
       "      <td>0.009212</td>\n",
       "    </tr>\n",
       "    <tr>\n",
       "      <th>12</th>\n",
       "      <td>Qty_Ruta_SAK_Bin</td>\n",
       "      <td>8.253474e+05</td>\n",
       "      <td>0.016730</td>\n",
       "      <td>0.008834</td>\n",
       "    </tr>\n",
       "    <tr>\n",
       "      <th>13</th>\n",
       "      <td>brand</td>\n",
       "      <td>6.786168e+05</td>\n",
       "      <td>0.013756</td>\n",
       "      <td>0.007263</td>\n",
       "    </tr>\n",
       "  </tbody>\n",
       "</table>\n",
       "</div>"
      ],
      "text/plain": [
       "                variable  relative_importance  scaled_importance  percentage\n",
       "0   Log_Target_mean_lag1         4.933296e+07           1.000000    0.528009\n",
       "1   Log_Target_mean_lag3         1.052356e+07           0.213317    0.112633\n",
       "2               Lags_sum         6.336896e+06           0.128452    0.067824\n",
       "3            Producto_ID         4.954710e+06           0.100434    0.053030\n",
       "4                cluster         3.772194e+06           0.076464    0.040374\n",
       "5               Ruta_SAK         3.596937e+06           0.072911    0.038498\n",
       "6   Log_Target_mean_lag4         3.481056e+06           0.070562    0.037258\n",
       "7                ZipCode         2.880712e+06           0.058393    0.030832\n",
       "8             Cliente_ID         2.838599e+06           0.057540    0.030381\n",
       "9   Log_Target_mean_lag2         2.448448e+06           0.049631    0.026206\n",
       "10              Canal_ID         9.012919e+05           0.018270    0.009646\n",
       "11            Agencia_ID         8.607012e+05           0.017447    0.009212\n",
       "12      Qty_Ruta_SAK_Bin         8.253474e+05           0.016730    0.008834\n",
       "13                 brand         6.786168e+05           0.013756    0.007263"
      ]
     },
     "execution_count": 9,
     "metadata": {},
     "output_type": "execute_result"
    }
   ],
   "source": [
    "predictors = ['Agencia_ID','Canal_ID','Ruta_SAK','Cliente_ID','Producto_ID','Log_Target_mean_lag1',\n",
    "                'Log_Target_mean_lag2','Log_Target_mean_lag3','Log_Target_mean_lag4','Lags_sum','brand','cluster',\n",
    "                'Qty_Ruta_SAK_Bin','ZipCode']\n",
    "\n",
    "alg6 = H2OGradientBoostingEstimator(ntrees=300,max_depth=25,learn_rate=0.1, min_rows=10, nbins=20, \n",
    "                                    ignored_columns=[\"Semana\",\"pairs_mean\"])\n",
    "tic()\n",
    "modelfit(alg6, train, val, test, predictors, target, IDcol, 'alg6.csv')\n",
    "tac()\n",
    "\n",
    "alg6.varimp(use_pandas=True)"
   ]
  },
  {
   "cell_type": "markdown",
   "metadata": {},
   "source": [
    "### Alg7 - DRF"
   ]
  },
  {
   "cell_type": "code",
   "execution_count": null,
   "metadata": {
    "collapsed": false
   },
   "outputs": [],
   "source": [
    "predictors = ['Agencia_ID','Canal_ID','Ruta_SAK','Cliente_ID','Producto_ID','Log_Target_mean_lag1',\n",
    "                'Log_Target_mean_lag2','Log_Target_mean_lag3','Log_Target_mean_lag4','Lags_sum','brand','cluster',\n",
    "                'Qty_Ruta_SAK_Bin','ZipCode']\n",
    "\n",
    "alg7 = H2ORandomForestEstimator(ntrees=200, max_depth=30)\n",
    "\n",
    "tic()\n",
    "modelfit(alg7, train, val, test, predictors, target, IDcol, 'alg7.csv')\n",
    "tac()\n",
    "\n",
    "alg7.varimp(use_pandas=True)"
   ]
  },
  {
   "cell_type": "markdown",
   "metadata": {},
   "source": [
    "### Alg8 - GLM"
   ]
  },
  {
   "cell_type": "code",
   "execution_count": null,
   "metadata": {
    "collapsed": false
   },
   "outputs": [],
   "source": [
    "predictors = ['Agencia_ID','Canal_ID','Ruta_SAK','Cliente_ID','Producto_ID','Log_Target_mean_lag1',\n",
    "                'Log_Target_mean_lag2','Log_Target_mean_lag3','Log_Target_mean_lag4','Lags_sum','brand','cluster',\n",
    "                'Qty_Ruta_SAK_Bin','ZipCode']\n",
    "\n",
    "alg8 = H2OGeneralizedLinearEstimator(Lambda=[1e-5], family=\"poisson\")\n",
    "  \n",
    "tic()\n",
    "modelfit(alg8, train, val, test, predictors, target, IDcol, 'alg8.csv')\n",
    "tac()\n",
    "\n",
    "alg8.varimp(use_pandas=True)"
   ]
  },
  {
   "cell_type": "markdown",
   "metadata": {},
   "source": [
    "### Alg9 - DL"
   ]
  },
  {
   "cell_type": "code",
   "execution_count": null,
   "metadata": {
    "collapsed": false
   },
   "outputs": [],
   "source": [
    "predictors = ['Agencia_ID','Canal_ID','Ruta_SAK','Cliente_ID','Producto_ID','Log_Target_mean_lag1',\n",
    "                'Log_Target_mean_lag2','Log_Target_mean_lag3','Log_Target_mean_lag4','Lags_sum','brand','cluster',\n",
    "                'Qty_Ruta_SAK_Bin','ZipCode']\n",
    "\n",
    "alg9 = H2ODeepLearningEstimator(hidden=[50,50,50,50], epochs=50)\n",
    "    \n",
    "tic()\n",
    "modelfit(alg9, train, val, test, predictors, target, IDcol, 'alg9.csv')\n",
    "tac()\n",
    "\n",
    "alg9.varimp(use_pandas=True)"
   ]
  }
 ],
 "metadata": {
  "anaconda-cloud": {},
  "kernelspec": {
   "display_name": "Python [py35]",
   "language": "python",
   "name": "Python [py35]"
  },
  "language_info": {
   "codemirror_mode": {
    "name": "ipython",
    "version": 3
   },
   "file_extension": ".py",
   "mimetype": "text/x-python",
   "name": "python",
   "nbconvert_exporter": "python",
   "pygments_lexer": "ipython3",
   "version": "3.5.1"
  }
 },
 "nbformat": 4,
 "nbformat_minor": 0
}
