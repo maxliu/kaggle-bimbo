{
 "cells": [
  {
   "cell_type": "markdown",
   "metadata": {},
   "source": [
    "## 4\\. Model Building\n",
    "\n",
    "Now that we have the data ready, its time to start making predictive models. I will go through 5 scikit-learn simple models including linear regression, decision tree and random forest.\n",
    "\n",
    "Since I’ll be making many models, instead of repeating the codes again and again, I would like to define a generic function which takes the algorithm and data as input and makes the model, performs cross-validation and generates submission.\n",
    "\n",
    "I'll do the same thing later with H2O and XGboost"
   ]
  },
  {
   "cell_type": "code",
   "execution_count": 2,
   "metadata": {
    "collapsed": true
   },
   "outputs": [],
   "source": [
    "import pandas as pd\n",
    "import numpy as np\n",
    "import time\n",
    "import csv\n",
    "%matplotlib inline\n",
    "from matplotlib.pylab import rcParams\n",
    "rcParams['figure.figsize'] = 12, 8\n",
    "import math\n",
    "\n",
    "_start_time = time.time()\n",
    "\n",
    "def tic():\n",
    "    global _start_time \n",
    "    _start_time = time.time()\n",
    "\n",
    "def tac():\n",
    "    t_sec = round(time.time() - _start_time)\n",
    "    (t_min, t_sec) = divmod(t_sec,60)\n",
    "    (t_hour,t_min) = divmod(t_min,60) \n",
    "    print('Time passed: {}hour:{}min:{}sec'.format(t_hour,t_min,t_sec))"
   ]
  },
  {
   "cell_type": "code",
   "execution_count": 3,
   "metadata": {
    "collapsed": false
   },
   "outputs": [],
   "source": [
    "#   rmsle - error function used in LB\n",
    "def rmsle_func(actual, predicted):\n",
    "    return np.sqrt(msle(actual, predicted))\n",
    "def msle(actual, predicted):\n",
    "    return np.mean(sle(actual, predicted))\n",
    "def sle(actual, predicted):\n",
    "    return (np.power(np.log(np.array(actual)+1) -  np.log(np.maximum(0,np.array(predicted))+1), 2))\n",
    "\n",
    "def rmsle(y, y_pred):\n",
    "    assert len(y) == len(y_pred)\n",
    "    terms_to_sum = [(math.log(max(0,y_pred[i]) + 1) - math.log(max(0,y[i]) + 1)) ** 2.0 for i,pred in enumerate(y_pred)]\n",
    "    return (sum(terms_to_sum) * (1.0/len(y))) ** 0.5\n",
    "\n",
    "\n",
    "from sklearn import cross_validation, metrics\n",
    "\n",
    "def modelfit(alg, dtrain, dval, dtest, predictors, target, IDcol, filename):\n",
    "    #Fit the algorithm on the data\n",
    "    y = alg.fit(dtrain[predictors], dtrain[target])\n",
    "        \n",
    "    #Predict training set:\n",
    "    dtrain_predictions = alg.predict(dtrain[predictors])\n",
    "    \n",
    "    #Predict validation (holdout) set:\n",
    "    dval_predictions = alg.predict(dval[predictors])\n",
    "\n",
    "    #Perform cross-validation:\n",
    "    #cv_score = cross_validation.cross_val_score(alg, dtrain[predictors], dtrain[target], cv=2, scoring='mean_squared_error')\n",
    "    #cv_score = np.sqrt(np.abs(cv_score))\n",
    "    \n",
    "    #Print model report:\n",
    "    print (\"\\nModel Report\")\n",
    "    #print (\"RMSE : %.4g\" % np.sqrt(metrics.mean_squared_error(dtrain[target].values, dtrain_predictions)))\n",
    "    #print (\"CV Score : Mean - %.4g | Std - %.4g | Min - %.4g | Max - %.4g\" % (np.mean(cv_score),np.std(cv_score),np.min(cv_score),np.max(cv_score)))\n",
    "      \n",
    "    #RSMLE Option 1:\n",
    "    #print ('RMSLE TRAIN: ', rmsle_func(np.expm1(dtrain[target].values), np.expm1(dtrain_predictions)))\n",
    "    #print ('RMSLE VAL: ', rmsle_func(np.expm1(dval[target].values), np.expm1(dval_predictions)))\n",
    "    \n",
    "    #RMSLE Option 2:\n",
    "    #print ('RMSLE TRAIN: ', rmsle(np.expm1(dtrain[target].values), np.expm1(dtrain_predictions)))  \n",
    "    #print ('RMSLE VAL: ', rmsle(np.expm1(dval[target].values), np.expm1(dval_predictions)))\n",
    "    \n",
    "    #RMSLE Option 3: the fastest one\n",
    "    print ('RMSLE TRAIN: ', np.sqrt(metrics.mean_squared_error(dtrain[target].values, dtrain_predictions)))\n",
    "    print ('RMSLE VAL: ', np.sqrt(metrics.mean_squared_error(dval[target].values, dval_predictions)))\n",
    "    \n",
    "        \n",
    "      \n",
    "        \n",
    "    #Predict on testing data: we need to revert it back to target by applying expm1\n",
    "    dtest[target] = np.expm1(alg.predict(dtest[predictors]))\n",
    "    print ('NUM ROWS PREDICTED: ', dtest.shape[0] )\n",
    "    print ('NUM NEGATIVES PREDICTED: ', dtest[target][dtest[target] < 0].count())\n",
    "    print ('MIN TARGET PREDICTED: ', dtest[target].min())\n",
    "    print ('MEAN TARGET PREDICTED: ', dtest[target].mean())\n",
    "    print ('MAX TARGET PREDICTED: ', dtest[target].max())\n",
    "    \n",
    "    #Export submission file:\n",
    "    #IDcol.append(target)\n",
    "    #submission = pd.DataFrame({ x: dtest[x] for x in IDcol})\n",
    "    submission = dtest[[IDcol,target]].copy()\n",
    "    submission[IDcol] = submission[IDcol].astype(int)\n",
    "    submission.rename(columns={target: 'Demanda_uni_equil'}, inplace=True)\n",
    "    submission.to_csv(\"./Submissions/\"+filename, index=False)\n",
    "    "
   ]
  },
  {
   "cell_type": "code",
   "execution_count": 4,
   "metadata": {
    "collapsed": false
   },
   "outputs": [
    {
     "name": "stdout",
     "output_type": "stream",
     "text": [
      "Time passed: 0hour:1min:39sec\n"
     ]
    }
   ],
   "source": [
    "#now we load our modified train and test set\n",
    "\n",
    "tic()\n",
    "#train = pd.read_csv('./input-data/train_modified.csv', nrows = 500000)\n",
    "#test = pd.read_csv('./input-data/test_modified.csv', nrows = 500000)\n",
    "train = pd.read_csv('./input-data/train_modified.csv',\n",
    "                    dtype = {'Semana': 'int8',\n",
    "                            'Agencia_ID': 'uint16',\n",
    "                            'Canal_ID': 'int8',\n",
    "                            'Ruta_SAK': 'int32',\n",
    "                            'Cliente_ID': 'int32',\n",
    "                            'Producto_ID': 'int32',\n",
    "                            'log_target':  'float64',\n",
    "                            'Log_Target_mean_lag1': 'float64',\n",
    "                            'Log_Target_mean_lag2': 'float64',\n",
    "                            'Log_Target_mean_lag3': 'float64',\n",
    "                            'Log_Target_mean_lag4': 'float64',\n",
    "                            'Lags_sum': 'float64',\n",
    "                            'pairs_mean':  'float64',\n",
    "                            'brand': 'uint16',\n",
    "                            'cluster': 'uint16',\n",
    "                            'Qty_Ruta_SAK_Bin': 'int8',\n",
    "                            'ZipCode': 'uint16'},\n",
    "                   )\n",
    "\n",
    "                    \n",
    "test = pd.read_csv('./input-data/test_modified.csv',\n",
    "                    dtype = {'id': 'uint32',\n",
    "                            'Semana': 'int8',\n",
    "                            'Agencia_ID': 'uint16',\n",
    "                            'Canal_ID': 'int8',\n",
    "                            'Ruta_SAK': 'int32',\n",
    "                            'Cliente_ID': 'int32',\n",
    "                            'Producto_ID': 'int32',\n",
    "                            'Log_Target_mean_lag1': 'float64',\n",
    "                            'Log_Target_mean_lag2': 'float64',\n",
    "                            'Log_Target_mean_lag3': 'float64',\n",
    "                            'Log_Target_mean_lag4': 'float64',\n",
    "                            'Lags_sum': 'float64',\n",
    "                            'pairs_mean': 'float64',\n",
    "                            'brand': 'uint16',\n",
    "                            'cluster': 'uint16',\n",
    "                            'Qty_Ruta_SAK_Bin': 'int8',\n",
    "                            'ZipCode': 'uint16'},\n",
    "                      )\n",
    "tac()"
   ]
  },
  {
   "cell_type": "code",
   "execution_count": 5,
   "metadata": {
    "collapsed": false
   },
   "outputs": [
    {
     "name": "stdout",
     "output_type": "stream",
     "text": [
      "Time passed: 0hour:0min:3sec\n"
     ]
    }
   ],
   "source": [
    "# We split the train set to get a validation set\n",
    "tic()\n",
    "val = train[train.Semana > 8] # Weeks 9\n",
    "train = train[train.Semana <=8] # Weeks 7,8\n",
    "tac()"
   ]
  },
  {
   "cell_type": "code",
   "execution_count": 6,
   "metadata": {
    "collapsed": false
   },
   "outputs": [
    {
     "data": {
      "text/html": [
       "<div>\n",
       "<table border=\"1\" class=\"dataframe\">\n",
       "  <thead>\n",
       "    <tr style=\"text-align: right;\">\n",
       "      <th></th>\n",
       "      <th>id</th>\n",
       "      <th>Semana</th>\n",
       "      <th>Agencia_ID</th>\n",
       "      <th>Canal_ID</th>\n",
       "      <th>Ruta_SAK</th>\n",
       "      <th>Cliente_ID</th>\n",
       "      <th>Producto_ID</th>\n",
       "      <th>log_target</th>\n",
       "      <th>Log_Target_mean_lag1</th>\n",
       "      <th>Log_Target_mean_lag2</th>\n",
       "      <th>Log_Target_mean_lag3</th>\n",
       "      <th>Log_Target_mean_lag4</th>\n",
       "      <th>Lags_sum</th>\n",
       "      <th>pairs_mean</th>\n",
       "      <th>brand</th>\n",
       "      <th>cluster</th>\n",
       "      <th>Qty_Ruta_SAK_Bin</th>\n",
       "      <th>ZipCode</th>\n",
       "    </tr>\n",
       "  </thead>\n",
       "  <tbody>\n",
       "    <tr>\n",
       "      <th>0</th>\n",
       "      <td>924190</td>\n",
       "      <td>11</td>\n",
       "      <td>1110</td>\n",
       "      <td>7</td>\n",
       "      <td>3301</td>\n",
       "      <td>15766</td>\n",
       "      <td>1216</td>\n",
       "      <td>NaN</td>\n",
       "      <td>0.000000</td>\n",
       "      <td>0.000000</td>\n",
       "      <td>1.791759</td>\n",
       "      <td>1.098612</td>\n",
       "      <td>2.890372</td>\n",
       "      <td>1.279644</td>\n",
       "      <td>1</td>\n",
       "      <td>2</td>\n",
       "      <td>1</td>\n",
       "      <td>2008</td>\n",
       "    </tr>\n",
       "    <tr>\n",
       "      <th>1</th>\n",
       "      <td>4521987</td>\n",
       "      <td>11</td>\n",
       "      <td>1110</td>\n",
       "      <td>7</td>\n",
       "      <td>3301</td>\n",
       "      <td>15766</td>\n",
       "      <td>1240</td>\n",
       "      <td>NaN</td>\n",
       "      <td>0.000000</td>\n",
       "      <td>1.098612</td>\n",
       "      <td>1.098612</td>\n",
       "      <td>2.197225</td>\n",
       "      <td>4.394449</td>\n",
       "      <td>1.616666</td>\n",
       "      <td>1</td>\n",
       "      <td>14</td>\n",
       "      <td>1</td>\n",
       "      <td>2008</td>\n",
       "    </tr>\n",
       "    <tr>\n",
       "      <th>2</th>\n",
       "      <td>6217476</td>\n",
       "      <td>10</td>\n",
       "      <td>1110</td>\n",
       "      <td>7</td>\n",
       "      <td>3301</td>\n",
       "      <td>15766</td>\n",
       "      <td>1242</td>\n",
       "      <td>NaN</td>\n",
       "      <td>0.693147</td>\n",
       "      <td>0.693147</td>\n",
       "      <td>1.098612</td>\n",
       "      <td>1.386294</td>\n",
       "      <td>3.871201</td>\n",
       "      <td>1.106057</td>\n",
       "      <td>1</td>\n",
       "      <td>25</td>\n",
       "      <td>1</td>\n",
       "      <td>2008</td>\n",
       "    </tr>\n",
       "    <tr>\n",
       "      <th>3</th>\n",
       "      <td>970784</td>\n",
       "      <td>10</td>\n",
       "      <td>1110</td>\n",
       "      <td>7</td>\n",
       "      <td>3301</td>\n",
       "      <td>15766</td>\n",
       "      <td>3894</td>\n",
       "      <td>NaN</td>\n",
       "      <td>2.639057</td>\n",
       "      <td>1.098612</td>\n",
       "      <td>1.609438</td>\n",
       "      <td>1.609438</td>\n",
       "      <td>6.956545</td>\n",
       "      <td>1.882732</td>\n",
       "      <td>13</td>\n",
       "      <td>18</td>\n",
       "      <td>1</td>\n",
       "      <td>2008</td>\n",
       "    </tr>\n",
       "    <tr>\n",
       "      <th>4</th>\n",
       "      <td>3448837</td>\n",
       "      <td>11</td>\n",
       "      <td>1110</td>\n",
       "      <td>7</td>\n",
       "      <td>3301</td>\n",
       "      <td>15766</td>\n",
       "      <td>30531</td>\n",
       "      <td>NaN</td>\n",
       "      <td>0.000000</td>\n",
       "      <td>2.890372</td>\n",
       "      <td>2.890372</td>\n",
       "      <td>2.639057</td>\n",
       "      <td>8.419801</td>\n",
       "      <td>2.503683</td>\n",
       "      <td>13</td>\n",
       "      <td>12</td>\n",
       "      <td>1</td>\n",
       "      <td>2008</td>\n",
       "    </tr>\n",
       "  </tbody>\n",
       "</table>\n",
       "</div>"
      ],
      "text/plain": [
       "        id  Semana  Agencia_ID  Canal_ID  Ruta_SAK  Cliente_ID  Producto_ID  \\\n",
       "0   924190      11        1110         7      3301       15766         1216   \n",
       "1  4521987      11        1110         7      3301       15766         1240   \n",
       "2  6217476      10        1110         7      3301       15766         1242   \n",
       "3   970784      10        1110         7      3301       15766         3894   \n",
       "4  3448837      11        1110         7      3301       15766        30531   \n",
       "\n",
       "   log_target  Log_Target_mean_lag1  Log_Target_mean_lag2  \\\n",
       "0         NaN              0.000000              0.000000   \n",
       "1         NaN              0.000000              1.098612   \n",
       "2         NaN              0.693147              0.693147   \n",
       "3         NaN              2.639057              1.098612   \n",
       "4         NaN              0.000000              2.890372   \n",
       "\n",
       "   Log_Target_mean_lag3  Log_Target_mean_lag4  Lags_sum  pairs_mean  brand  \\\n",
       "0              1.791759              1.098612  2.890372    1.279644      1   \n",
       "1              1.098612              2.197225  4.394449    1.616666      1   \n",
       "2              1.098612              1.386294  3.871201    1.106057      1   \n",
       "3              1.609438              1.609438  6.956545    1.882732     13   \n",
       "4              2.890372              2.639057  8.419801    2.503683     13   \n",
       "\n",
       "   cluster  Qty_Ruta_SAK_Bin  ZipCode  \n",
       "0        2                 1     2008  \n",
       "1       14                 1     2008  \n",
       "2       25                 1     2008  \n",
       "3       18                 1     2008  \n",
       "4       12                 1     2008  "
      ]
     },
     "execution_count": 6,
     "metadata": {},
     "output_type": "execute_result"
    }
   ],
   "source": [
    "test.head()"
   ]
  },
  {
   "cell_type": "markdown",
   "metadata": {},
   "source": [
    "Let's define now the target and the Id cols"
   ]
  },
  {
   "cell_type": "code",
   "execution_count": 7,
   "metadata": {
    "collapsed": true
   },
   "outputs": [],
   "source": [
    "#Define target and ID columns:\n",
    "target = 'log_target'\n",
    "IDcol = 'id'"
   ]
  },
  {
   "cell_type": "markdown",
   "metadata": {},
   "source": [
    "### Alg1 - Linear Regression Model\n",
    "\n",
    "Lets make our first linear-regression model"
   ]
  },
  {
   "cell_type": "code",
   "execution_count": 25,
   "metadata": {
    "collapsed": false
   },
   "outputs": [
    {
     "name": "stdout",
     "output_type": "stream",
     "text": [
      "\n",
      "Model Report\n",
      "RMSLE TRAIN:  0.329705789178\n",
      "RMSLE VAL:  0.320297658136\n",
      "NUM ROWS PREDICTED:  6999251\n",
      "NUM NEGATIVES PREDICTED:  25797\n",
      "MIN TARGET PREDICTED:  -0.111262403913\n",
      "MEAN TARGET PREDICTED:  6.928994371054419\n",
      "MAX TARGET PREDICTED:  7317.38351439\n",
      "Time passed: 0hour:0min:58sec\n"
     ]
    },
    {
     "data": {
      "text/plain": [
       "<matplotlib.axes._subplots.AxesSubplot at 0xeda41b8f28>"
      ]
     },
     "execution_count": 25,
     "metadata": {},
     "output_type": "execute_result"
    },
    {
     "data": {
      "image/png": "[encoded data removed]",
      "text/plain": [
       "<matplotlib.figure.Figure at 0xed9f5a4400>"
      ]
     },
     "metadata": {},
     "output_type": "display_data"
    }
   ],
   "source": [
    "from sklearn.linear_model import LinearRegression, Ridge, Lasso\n",
    "predictors = [x for x in train.columns if x not in [target]+[IDcol]]\n",
    "# print predictors\n",
    "alg1 = LinearRegression(normalize=True)\n",
    "tic()\n",
    "modelfit(alg1, train, val, test, predictors, target, IDcol, 'alg1.csv')\n",
    "tac()\n",
    "coef1 = pd.Series(alg1.coef_, predictors).sort_values()\n",
    "coef1.plot(kind='bar', title='Model Coefficients')"
   ]
  },
  {
   "cell_type": "markdown",
   "metadata": {},
   "source": [
    "## --> LB: 0.50568"
   ]
  },
  {
   "cell_type": "markdown",
   "metadata": {},
   "source": [
    "We can see this is better than baseline model. But if you notice the coefficients, they are very large in magnitude which signifies overfitting. To cater to this, lets use a ridge regression model.\n",
    "\n",
    "### Alg2 - Ridge Regression Model:"
   ]
  },
  {
   "cell_type": "code",
   "execution_count": 26,
   "metadata": {
    "collapsed": false
   },
   "outputs": [
    {
     "name": "stdout",
     "output_type": "stream",
     "text": [
      "\n",
      "Model Report\n",
      "RMSLE TRAIN:  0.334302059026\n",
      "RMSLE VAL:  0.324636735861\n",
      "NUM ROWS PREDICTED:  6999251\n",
      "NUM NEGATIVES PREDICTED:  0\n",
      "MIN TARGET PREDICTED:  0.00778961735866\n",
      "MEAN TARGET PREDICTED:  6.327272835253539\n",
      "MAX TARGET PREDICTED:  3373.85528138\n",
      "Time passed: 0hour:0min:49sec\n"
     ]
    },
    {
     "data": {
      "text/plain": [
       "<matplotlib.axes._subplots.AxesSubplot at 0xeda43fa2e8>"
      ]
     },
     "execution_count": 26,
     "metadata": {},
     "output_type": "execute_result"
    },
    {
     "data": {
      "image/png": "[encoded data removed]",
      "text/plain": [
       "<matplotlib.figure.Figure at 0xeda440f1d0>"
      ]
     },
     "metadata": {},
     "output_type": "display_data"
    }
   ],
   "source": [
    "predictors = [x for x in train.columns if x not in [target]+[IDcol]]\n",
    "alg2 = Ridge(alpha=0.05,normalize=True)\n",
    "tic()\n",
    "modelfit(alg2, train, val, test, predictors, target, IDcol, 'alg2.csv')\n",
    "tac()\n",
    "coef2 = pd.Series(alg2.coef_, predictors).sort_values()\n",
    "coef2.plot(kind='bar', title='Model Coefficients')"
   ]
  },
  {
   "cell_type": "markdown",
   "metadata": {},
   "source": [
    "Though the regression coefficient look better now, the score is about the same (or worst). We can tune the parameters of the model for slightly better results but I don’t think there will be a significant improvement.\n",
    "\n",
    "### Alg3 - Decision Tree Model\n",
    "\n",
    "Lets try out a decision tree model and see if we get something better."
   ]
  },
  {
   "cell_type": "code",
   "execution_count": 27,
   "metadata": {
    "collapsed": false
   },
   "outputs": [
    {
     "name": "stdout",
     "output_type": "stream",
     "text": [
      "\n",
      "Model Report\n",
      "RMSLE TRAIN:  0.285645807055\n",
      "RMSLE VAL:  0.273419131692\n",
      "NUM ROWS PREDICTED:  6999251\n",
      "NUM NEGATIVES PREDICTED:  0\n",
      "MIN TARGET PREDICTED:  0.0\n",
      "MEAN TARGET PREDICTED:  7.169117821683744\n",
      "MAX TARGET PREDICTED:  2653.86057184\n",
      "Time passed: 0hour:6min:23sec\n"
     ]
    },
    {
     "data": {
      "text/plain": [
       "<matplotlib.axes._subplots.AxesSubplot at 0xeda4134c88>"
      ]
     },
     "execution_count": 27,
     "metadata": {},
     "output_type": "execute_result"
    },
    {
     "data": {
      "image/png": "[encoded data removed]",
      "text/plain": [
       "<matplotlib.figure.Figure at 0xed9e016160>"
      ]
     },
     "metadata": {},
     "output_type": "display_data"
    }
   ],
   "source": [
    "from sklearn.tree import DecisionTreeRegressor\n",
    "predictors = [x for x in train.columns if x not in [target]+[IDcol]]\n",
    "alg3 = DecisionTreeRegressor(max_depth=15, min_samples_leaf=100)\n",
    "tic()\n",
    "modelfit(alg3, train, val, test, predictors, target, IDcol, 'alg3.csv')\n",
    "tac()\n",
    "coef3 = pd.Series(alg3.feature_importances_, predictors).sort_values(ascending=False)\n",
    "coef3.plot(kind='bar', title='Feature Importances')"
   ]
  },
  {
   "cell_type": "markdown",
   "metadata": {},
   "source": [
    "## --> LB: 0.54124"
   ]
  },
  {
   "cell_type": "markdown",
   "metadata": {},
   "source": [
    "### Alg4 - Decision Tree Model v2\n",
    "\n",
    "Lets try making a decision tree with just 7 variables, a max_depth of 25 and min_samples_leaf as 150."
   ]
  },
  {
   "cell_type": "code",
   "execution_count": 28,
   "metadata": {
    "collapsed": false,
    "scrolled": true
   },
   "outputs": [
    {
     "name": "stdout",
     "output_type": "stream",
     "text": [
      "\n",
      "Model Report\n",
      "RMSLE TRAIN:  0.503859816036\n",
      "RMSLE VAL:  0.517298042334\n",
      "NUM ROWS PREDICTED:  6999251\n",
      "NUM NEGATIVES PREDICTED:  0\n",
      "MIN TARGET PREDICTED:  0.114684398315\n",
      "MEAN TARGET PREDICTED:  5.402086943378396\n",
      "MAX TARGET PREDICTED:  1714.02013194\n",
      "Time passed: 0hour:3min:4sec\n"
     ]
    },
    {
     "data": {
      "text/plain": [
       "<matplotlib.axes._subplots.AxesSubplot at 0xedb7d11f98>"
      ]
     },
     "execution_count": 28,
     "metadata": {},
     "output_type": "execute_result"
    },
    {
     "data": {
      "image/png": "[encoded data removed]",
      "text/plain": [
       "<matplotlib.figure.Figure at 0xedb7ccada0>"
      ]
     },
     "metadata": {},
     "output_type": "display_data"
    }
   ],
   "source": [
    "predictors = ['Log_Target_mean_lag4','Lags_sum','Qty_Ruta_SAK_Bin','cluster','brand','ZipCode','Canal_ID']\n",
    "alg4 = DecisionTreeRegressor(max_depth=25, min_samples_leaf=150)\n",
    "tic()\n",
    "modelfit(alg4, train, val, test, predictors, target, IDcol, 'alg4.csv')\n",
    "tac()\n",
    "coef4 = pd.Series(alg4.feature_importances_, predictors).sort_values(ascending=False)\n",
    "coef4.plot(kind='bar', title='Feature Importances')"
   ]
  },
  {
   "cell_type": "markdown",
   "metadata": {},
   "source": [
    "## --> LB: 0.51100"
   ]
  },
  {
   "cell_type": "markdown",
   "metadata": {},
   "source": [
    "We can fine tune the model further using other parameters. But let's try now a Random Forest to see if we get some improvement\n",
    "\n",
    "### Alg5 - Random Forest Model"
   ]
  },
  {
   "cell_type": "code",
   "execution_count": 8,
   "metadata": {
    "collapsed": false
   },
   "outputs": [
    {
     "name": "stdout",
     "output_type": "stream",
     "text": [
      "\n",
      "Model Report\n",
      "RMSLE TRAIN:  0.495007356694\n",
      "RMSLE VAL:  0.508758544437\n",
      "NUM ROWS PREDICTED:  6999251\n",
      "NUM NEGATIVES PREDICTED:  0\n",
      "MIN TARGET PREDICTED:  0.149128384841\n",
      "MEAN TARGET PREDICTED:  5.359405937502164\n",
      "MAX TARGET PREDICTED:  1446.2054723\n",
      "Time passed: 0hour:37min:43sec\n"
     ]
    },
    {
     "data": {
      "text/plain": [
       "<matplotlib.axes._subplots.AxesSubplot at 0x3fd1d8b358>"
      ]
     },
     "execution_count": 8,
     "metadata": {},
     "output_type": "execute_result"
    },
    {
     "data": {
      "image/png": "[encoded data removed]",
      "text/plain": [
       "<matplotlib.figure.Figure at 0x3fd1d8b4a8>"
      ]
     },
     "metadata": {},
     "output_type": "display_data"
    }
   ],
   "source": [
    "from sklearn.ensemble import RandomForestRegressor\n",
    "predictors = ['Log_Target_mean_lag4','Lags_sum','Ruta_SAK','Agencia_ID','Qty_Ruta_SAK_Bin','cluster','brand','ZipCode','Canal_ID']\n",
    "alg5 = RandomForestRegressor(n_estimators=100,max_depth=25, min_samples_leaf=150,n_jobs=-1)\n",
    "tic()\n",
    "modelfit(alg5, train, val, test, predictors, target, IDcol, 'alg5.csv')\n",
    "tac()\n",
    "coef5 = pd.Series(alg5.feature_importances_, predictors).sort_values(ascending=False)\n",
    "coef5.plot(kind='bar', title='Feature Importances')"
   ]
  },
  {
   "cell_type": "markdown",
   "metadata": {
    "collapsed": true
   },
   "source": [
    "Better than the tree as expected"
   ]
  }
 ],
 "metadata": {
  "kernelspec": {
   "display_name": "Python 3",
   "language": "python",
   "name": "python3"
  },
  "language_info": {
   "codemirror_mode": {
    "name": "ipython",
    "version": 3
   },
   "file_extension": ".py",
   "mimetype": "text/x-python",
   "name": "python",
   "nbconvert_exporter": "python",
   "pygments_lexer": "ipython3",
   "version": "3.5.1"
  }
 },
 "nbformat": 4,
 "nbformat_minor": 0
}
