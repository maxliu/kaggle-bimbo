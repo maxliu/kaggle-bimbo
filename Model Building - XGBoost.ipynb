{
 "cells": [
  {
   "cell_type": "markdown",
   "metadata": {
    "collapsed": true
   },
   "source": [
    "## Model Building in XGBoost\n",
    "\n",
    "This is a great article for tunning XGboost: http://www.analyticsvidhya.com/blog/2016/03/complete-guide-parameter-tuning-xgboost-with-codes-python/"
   ]
  },
  {
   "cell_type": "code",
   "execution_count": 57,
   "metadata": {
    "collapsed": false
   },
   "outputs": [],
   "source": [
    "import os\n",
    "windows=False\n",
    "if (windows):\n",
    "    mingw_path = 'C:\\\\Program Files\\\\mingw-w64\\\\x86_64-5.3.0-posix-seh-rt_v4-rev0\\\\mingw64\\\\bin'\n",
    "    os.environ['PATH'] = mingw_path + ';' + os.environ['PATH']\n",
    "    \n",
    "import warnings\n",
    "warnings.filterwarnings(\"ignore\")"
   ]
  },
  {
   "cell_type": "code",
   "execution_count": 2,
   "metadata": {
    "collapsed": true
   },
   "outputs": [],
   "source": [
    "import pandas as pd\n",
    "import numpy as np\n",
    "import time\n",
    "import csv\n",
    "%matplotlib inline\n",
    "from matplotlib.pylab import rcParams\n",
    "rcParams['figure.figsize'] = 12, 8\n",
    "import math\n",
    "\n",
    "_start_time = time.time()\n",
    "\n",
    "def tic():\n",
    "    global _start_time \n",
    "    _start_time = time.time()\n",
    "\n",
    "def tac():\n",
    "    t_sec = round(time.time() - _start_time)\n",
    "    (t_min, t_sec) = divmod(t_sec,60)\n",
    "    (t_hour,t_min) = divmod(t_min,60) \n",
    "    print('Time passed: {}hour:{}min:{}sec'.format(t_hour,t_min,t_sec))"
   ]
  },
  {
   "cell_type": "code",
   "execution_count": 67,
   "metadata": {
    "collapsed": true
   },
   "outputs": [],
   "source": [
    "use_validation=True\n",
    "scale_numericals=False"
   ]
  },
  {
   "cell_type": "code",
   "execution_count": 68,
   "metadata": {
    "collapsed": false
   },
   "outputs": [
    {
     "name": "stdout",
     "output_type": "stream",
     "text": [
      "sufix: _holdout\n",
      "Time passed: 0hour:0min:49sec\n"
     ]
    }
   ],
   "source": [
    "#now we load our modified train and test set\n",
    "tic()\n",
    "sufix=\"\"\n",
    "if (use_validation): sufix += \"_holdout\"\n",
    "if (scale_numericals): sufix += \"_scaled\"\n",
    "print (\"sufix: \"+sufix)\n",
    "\n",
    "dtrain = pd.read_csv(\"./input-data/train_modified\"+sufix+\".csv\",\n",
    "                    dtype = {'Canal_ID': 'int8',\n",
    "                            'log_target':  'float64',\n",
    "                            'Log_Target_mean_lag1': 'float64',\n",
    "                            'Log_Target_mean_lag2': 'float64',\n",
    "                            'Log_Target_mean_lag3': 'float64',\n",
    "                            'Log_Target_mean_lag4': 'float64',\n",
    "                            'Log_Target_mean_lag5': 'float64',\n",
    "                            'Lags_sum': 'float64',\n",
    "                            'pairs_mean':  'float64',\n",
    "                            'brand': 'int8',\n",
    "                            'prodtype_cluster': 'int8',\n",
    "                            'Qty_Ruta_SAK_Bin': 'int8',\n",
    "                            'ZipCode': 'uint16',\n",
    "                            'week_ct': 'int8',\n",
    "                            'NombreCliente': 'int8',\n",
    "                            'Producto_ID_clust_ID':'int8',\n",
    "                            'Ruta_SAK_clust_ID':'int8',\n",
    "                            'Agencia_ID_clust_ID':'int8',\n",
    "                            'Cliente_ID_clust_ID':'int8'},\n",
    "                   )\n",
    "                  \n",
    "dval = pd.read_csv(\"./input-data/val_modified\"+sufix+\".csv\",\n",
    "                    dtype = {'Canal_ID': 'int8',\n",
    "                            'log_target':  'float64',\n",
    "                            'Log_Target_mean_lag1': 'float64',\n",
    "                            'Log_Target_mean_lag2': 'float64',\n",
    "                            'Log_Target_mean_lag3': 'float64',\n",
    "                            'Log_Target_mean_lag4': 'float64',\n",
    "                            'Log_Target_mean_lag5': 'float64',\n",
    "                            'Lags_sum': 'float64',\n",
    "                            'pairs_mean':  'float64',\n",
    "                            'brand': 'int8',\n",
    "                            'prodtype_cluster': 'int8',\n",
    "                            'Qty_Ruta_SAK_Bin': 'int8',\n",
    "                            'ZipCode': 'uint16',\n",
    "                            'week_ct': 'int8',\n",
    "                            'NombreCliente': 'int8',\n",
    "                            'Producto_ID_clust_ID':'int8',\n",
    "                            'Ruta_SAK_clust_ID':'int8',\n",
    "                            'Agencia_ID_clust_ID':'int8',\n",
    "                            'Cliente_ID_clust_ID':'int8'},\n",
    "                   ) \n",
    "    \n",
    "dtest = pd.read_csv(\"./input-data/test_modified\"+sufix+\".csv\",\n",
    "                    dtype = {'id': 'uint32',\n",
    "                            'Canal_ID': 'int8',\n",
    "                            'Log_Target_mean_lag1': 'float64',\n",
    "                            'Log_Target_mean_lag2': 'float64',\n",
    "                            'Log_Target_mean_lag3': 'float64',\n",
    "                            'Log_Target_mean_lag4': 'float64',\n",
    "                            'Log_Target_mean_lag5': 'float64',\n",
    "                            'Lags_sum': 'float64',\n",
    "                            'pairs_mean':  'float64',\n",
    "                            'brand': 'int8',\n",
    "                            'prodtype_cluster': 'int8',\n",
    "                            'Qty_Ruta_SAK_Bin': 'int8',\n",
    "                            'ZipCode': 'uint16',\n",
    "                            'week_ct': 'int8',\n",
    "                            'NombreCliente': 'int8',\n",
    "                            'Producto_ID_clust_ID':'int8',\n",
    "                            'Ruta_SAK_clust_ID':'int8',\n",
    "                            'Agencia_ID_clust_ID':'int8',\n",
    "                            'Cliente_ID_clust_ID':'int8'},\n",
    "                      )\n",
    "tac()"
   ]
  },
  {
   "cell_type": "code",
   "execution_count": 69,
   "metadata": {
    "collapsed": true
   },
   "outputs": [],
   "source": [
    "#Define target and ID columns:\n",
    "target = 'log_target'\n",
    "IDcol = 'id'"
   ]
  },
  {
   "cell_type": "markdown",
   "metadata": {},
   "source": [
    "Ok, so we said on our prior step (Models wiht scikit-learn) that we need to treat outliers. Let's do this first.\n",
    "\n",
    "Looking at the plot below, created on the clustering-by-demand on the feature engineering notebook, we are going to make a determination that all clients whose pairs_mean is greater than 6, its an outlier. And we are also going to \"predict\" these clients demand using a linear regression or simple applying pairs_mean to them, which should yield a pretty close approximation. Besides, these clients are so big, compared to the big mayority that the variation of demand from week to week should be minimal, unless there is a cataclism, which nobody can predict anyways ;)\n",
    "\n",
    "![Image of Variables vs Hypothesis](./input-data/h2o-clustByDem_Cliente_ID_400.png)"
   ]
  },
  {
   "cell_type": "code",
   "execution_count": 70,
   "metadata": {
    "collapsed": false
   },
   "outputs": [
    {
     "name": "stdout",
     "output_type": "stream",
     "text": [
      "(10406868, 21) (10408713, 21) (6999251, 21) (27814832, 21)\n",
      "Time passed: 0hour:0min:6sec\n"
     ]
    }
   ],
   "source": [
    "#Let's join all data sets\n",
    "tic()\n",
    "dtrain.insert(0, 'id', np.nan)\n",
    "dval.insert(0, 'id', np.nan)\n",
    "\n",
    "dtrain['source']='train'\n",
    "dval['source']='val'\n",
    "dtest['source']='test'\n",
    "\n",
    "tac()\n"
   ]
  },
  {
   "cell_type": "code",
   "execution_count": null,
   "metadata": {
    "collapsed": true
   },
   "outputs": [],
   "source": [
    "data = pd.concat([dtrain,dval,dtest],ignore_index=True)\n",
    "print (dtrain.shape, dval.shape, dtest.shape, data.shape)"
   ]
  },
  {
   "cell_type": "code",
   "execution_count": 71,
   "metadata": {
    "collapsed": true
   },
   "outputs": [],
   "source": [
    "outliers_threshold = 5"
   ]
  },
  {
   "cell_type": "code",
   "execution_count": 72,
   "metadata": {
    "collapsed": false
   },
   "outputs": [
    {
     "name": "stdout",
     "output_type": "stream",
     "text": [
      "Qty of pairs_mean Outliers =  17041\n",
      "Total pair_means =  590089\n",
      "Pct of outliers = 2.89%\n"
     ]
    }
   ],
   "source": [
    "#Let's see whats the percentage of rows with pairs_mean above 6\n",
    "qty_outliers = data.pairs_mean[data.pairs_mean > outliers_threshold].nunique()\n",
    "total_clients = data.pairs_mean.nunique()\n",
    "pct_ouliers = 100*qty_outliers/total_clients\n",
    "print('Qty of pairs_mean Outliers = ',qty_outliers)\n",
    "print('Total pair_means = ',total_clients)\n",
    "print('Pct of outliers = %.2f%%' % pct_ouliers)\n"
   ]
  },
  {
   "cell_type": "code",
   "execution_count": 73,
   "metadata": {
    "collapsed": true
   },
   "outputs": [],
   "source": [
    "data['ix'] = data.index # assign and id column to later at the end map the val_targets back to the dataframe\n",
    "outliers_df = data[['ix',IDcol,target,'pairs_mean','source']].loc[data['pairs_mean'] > outliers_threshold ] #save the outliers on a different dataframe"
   ]
  },
  {
   "cell_type": "code",
   "execution_count": 74,
   "metadata": {
    "collapsed": true
   },
   "outputs": [],
   "source": [
    "#We remove them from our sets for now\n",
    "new_data = data[data.pairs_mean <= outliers_threshold ]"
   ]
  },
  {
   "cell_type": "code",
   "execution_count": 75,
   "metadata": {
    "collapsed": false
   },
   "outputs": [
    {
     "name": "stdout",
     "output_type": "stream",
     "text": [
      "Qty of pairs_mean Outliers =  0\n",
      "Total pair_means =  573048\n",
      "Pct of outliers = 0.00%\n"
     ]
    }
   ],
   "source": [
    "#Let's see if we removed the outliers correctly\n",
    "qty_outliers = new_data.pairs_mean[new_data.pairs_mean > outliers_threshold ].nunique()\n",
    "total_clients = new_data.pairs_mean.nunique()\n",
    "pct_ouliers = 100*qty_outliers/total_clients\n",
    "print('Qty of pairs_mean Outliers = ',qty_outliers)\n",
    "print('Total pair_means = ',total_clients)\n",
    "print('Pct of outliers = %.2f%%' % pct_ouliers)\n"
   ]
  },
  {
   "cell_type": "code",
   "execution_count": 76,
   "metadata": {
    "collapsed": true
   },
   "outputs": [],
   "source": [
    "#We separate now our three datasets \n",
    "train = new_data.loc[data['source']==\"train\"]\n",
    "test = new_data.loc[data['source']==\"test\"]\n",
    "val = new_data.loc[data['source']==\"val\"]"
   ]
  },
  {
   "cell_type": "code",
   "execution_count": 77,
   "metadata": {
    "collapsed": false
   },
   "outputs": [],
   "source": [
    "import xgboost as xgb\n",
    "from sklearn import cross_validation, metrics\n",
    "from sklearn.grid_search import GridSearchCV\n",
    "\n",
    "def modelfit(alg, dtrain, dval, dtest, predictors, target, IDcol, filename):\n",
    "    \n",
    "    #Fit the algorithm on the data\n",
    "    watchlist = [(dval[predictors], dval[target])]\n",
    "    alg.fit(dtrain[predictors], dtrain[target], eval_set=watchlist, eval_metric='rmse', early_stopping_rounds=10, verbose=False)\n",
    "    \n",
    "    alg.evals_result()\n",
    "\n",
    "    #Predict training set:\n",
    "    dtrain_predictions = alg.predict(dtrain[predictors])\n",
    "    \n",
    "    #Predict validation (holdout) set:\n",
    "    dval_predictions = alg.predict(dval[predictors])\n",
    "    dval_predictions = np.maximum(dval_predictions, 0)# we make all negative numbers = 0 since there cannot be a negative demand\n",
    "\n",
    "    \n",
    "    #Print model report:\n",
    "    print (\"\\nModel Report\")\n",
    "    print ('RMSLE TRAIN: ', np.sqrt(metrics.mean_squared_error(dtrain[target].values, dtrain_predictions)))\n",
    "    print ('RMSLE VAL: ', np.sqrt(metrics.mean_squared_error(dval[target].values, dval_predictions)))\n",
    "    \n",
    "        \n",
    "    #Predict on testing data: we need to revert it back to target by applying expm1\n",
    "    dtest[target] = np.expm1(alg.predict(dtest[predictors]))\n",
    "    \n",
    "    print ('NUM ROWS PREDICTED: ', dtest.shape[0] )\n",
    "    print ('NUM NEGATIVES PREDICTED: ', dtest[target][dtest[target] < 0].count())\n",
    "    print ('MIN TARGET PREDICTED: ', dtest[target].min())\n",
    "    print ('MEAN TARGET PREDICTED: ', dtest[target].mean())\n",
    "    print ('MAX TARGET PREDICTED: ', dtest[target].max())\n",
    "    \n",
    "    dtest[target] = np.maximum(dtest[target], 0) # we make all negative numbers = 0 since there cannot be a negative demand\n",
    "    \n",
    "    #Export submission file:\n",
    "    #IDcol.append(target)\n",
    "    #submission = pd.DataFrame({ x: dtest[x] for x in IDcol})\n",
    "    submission = dtest[[IDcol,target]].copy()\n",
    "    submission[IDcol] = submission[IDcol].astype(int)\n",
    "    submission.rename(columns={target: 'Demanda_uni_equil'}, inplace=True)\n",
    "    submission.to_csv(\"./Submissions/\"+filename, index=False)\n",
    "    "
   ]
  },
  {
   "cell_type": "markdown",
   "metadata": {},
   "source": [
    "### Alg10 - XGB-1"
   ]
  },
  {
   "cell_type": "markdown",
   "metadata": {},
   "source": [
    "Looking at the behavior of the random forest sckit-learn model (our best so far with score of 0.47), let's borrow some parameters from it, and see if we have improved"
   ]
  },
  {
   "cell_type": "code",
   "execution_count": null,
   "metadata": {
    "collapsed": false
   },
   "outputs": [],
   "source": [
    "predictors = ['Canal_ID', 'Log_Target_mean_lag1', 'Log_Target_mean_lag2', 'Log_Target_mean_lag3', 'Log_Target_mean_lag4', \n",
    "              'Log_Target_mean_lag5','Lags_sum', 'brand', 'prodtype_cluster', 'Qty_Ruta_SAK_Bin', 'ZipCode', 'Producto_ID_clust_ID']\n",
    "\n",
    "\n",
    "model = xgb.XGBRegressor(n_estimators = 100, objective=\"reg:linear\", learning_rate= 0.15, max_depth=10,\n",
    "                         subsample=0.85,colsample_bytree=0.7)\n",
    "\n",
    "tic()\n",
    "modelfit(model, train, val, test, predictors, target, IDcol, 'alg10.csv')\n",
    "tac()\n",
    "\n",
    "feat_imp = pd.Series(model.booster().get_fscore()).sort_values(ascending=False)\n",
    "feat_imp.plot(kind='bar', title='Feature Importances')"
   ]
  },
  {
   "cell_type": "markdown",
   "metadata": {},
   "source": [
    "Great improvement from past algos. The most important thing that I see here is that the Feature importance map\n",
    "is very different from the H2O models. LB Scores between XGB and H2O are similar, so this is a great case for ensembling!\n",
    "\n",
    "Let's try more estimators"
   ]
  },
  {
   "cell_type": "markdown",
   "metadata": {},
   "source": [
    "### Alg11 - XGB-2"
   ]
  },
  {
   "cell_type": "code",
   "execution_count": 60,
   "metadata": {
    "collapsed": false
   },
   "outputs": [
    {
     "name": "stdout",
     "output_type": "stream",
     "text": [
      "[0]\tvalidation_0-rmse:1.25751\n",
      "Will train until validation_0-rmse hasn't improved in 10 rounds.\n",
      "[1]\tvalidation_0-rmse:1.15349\n",
      "[2]\tvalidation_0-rmse:1.06175\n",
      "[3]\tvalidation_0-rmse:0.979695\n",
      "[4]\tvalidation_0-rmse:0.908368\n",
      "[5]\tvalidation_0-rmse:0.845227\n",
      "[6]\tvalidation_0-rmse:0.789337\n",
      "[7]\tvalidation_0-rmse:0.741209\n",
      "[8]\tvalidation_0-rmse:0.699573\n",
      "[9]\tvalidation_0-rmse:0.663955\n",
      "[10]\tvalidation_0-rmse:0.633629\n",
      "[11]\tvalidation_0-rmse:0.608139\n",
      "[12]\tvalidation_0-rmse:0.586325\n",
      "[13]\tvalidation_0-rmse:0.567656\n",
      "[14]\tvalidation_0-rmse:0.552114\n",
      "[15]\tvalidation_0-rmse:0.539279\n",
      "[16]\tvalidation_0-rmse:0.528591\n",
      "[17]\tvalidation_0-rmse:0.519433\n",
      "[18]\tvalidation_0-rmse:0.511761\n",
      "[19]\tvalidation_0-rmse:0.505496\n",
      "[20]\tvalidation_0-rmse:0.500196\n",
      "[21]\tvalidation_0-rmse:0.495729\n",
      "[22]\tvalidation_0-rmse:0.491954\n",
      "[23]\tvalidation_0-rmse:0.489065\n",
      "[24]\tvalidation_0-rmse:0.486372\n",
      "[25]\tvalidation_0-rmse:0.484336\n",
      "[26]\tvalidation_0-rmse:0.482484\n",
      "[27]\tvalidation_0-rmse:0.480782\n",
      "[28]\tvalidation_0-rmse:0.47948\n",
      "[29]\tvalidation_0-rmse:0.478364\n",
      "[30]\tvalidation_0-rmse:0.47747\n",
      "[31]\tvalidation_0-rmse:0.476675\n",
      "[32]\tvalidation_0-rmse:0.475985\n",
      "[33]\tvalidation_0-rmse:0.47539\n",
      "[34]\tvalidation_0-rmse:0.474955\n",
      "[35]\tvalidation_0-rmse:0.474643\n",
      "[36]\tvalidation_0-rmse:0.474299\n",
      "[37]\tvalidation_0-rmse:0.473935\n",
      "[38]\tvalidation_0-rmse:0.473661\n",
      "[39]\tvalidation_0-rmse:0.473329\n",
      "[40]\tvalidation_0-rmse:0.473084\n",
      "[41]\tvalidation_0-rmse:0.47289\n",
      "[42]\tvalidation_0-rmse:0.472683\n",
      "[43]\tvalidation_0-rmse:0.472513\n",
      "[44]\tvalidation_0-rmse:0.472387\n",
      "[45]\tvalidation_0-rmse:0.472164\n",
      "[46]\tvalidation_0-rmse:0.47194\n",
      "[47]\tvalidation_0-rmse:0.471842\n",
      "[48]\tvalidation_0-rmse:0.471517\n",
      "[49]\tvalidation_0-rmse:0.471338\n",
      "[50]\tvalidation_0-rmse:0.471226\n",
      "[51]\tvalidation_0-rmse:0.471132\n",
      "[52]\tvalidation_0-rmse:0.471023\n",
      "[53]\tvalidation_0-rmse:0.47096\n",
      "[54]\tvalidation_0-rmse:0.470832\n",
      "[55]\tvalidation_0-rmse:0.470741\n",
      "[56]\tvalidation_0-rmse:0.470618\n",
      "[57]\tvalidation_0-rmse:0.4705\n",
      "[58]\tvalidation_0-rmse:0.470374\n",
      "[59]\tvalidation_0-rmse:0.470257\n",
      "[60]\tvalidation_0-rmse:0.470203\n",
      "[61]\tvalidation_0-rmse:0.470078\n",
      "[62]\tvalidation_0-rmse:0.470029\n",
      "[63]\tvalidation_0-rmse:0.469933\n",
      "[64]\tvalidation_0-rmse:0.469756\n",
      "[65]\tvalidation_0-rmse:0.469689\n",
      "[66]\tvalidation_0-rmse:0.469626\n",
      "[67]\tvalidation_0-rmse:0.46954\n",
      "[68]\tvalidation_0-rmse:0.469401\n",
      "[69]\tvalidation_0-rmse:0.469259\n",
      "[70]\tvalidation_0-rmse:0.469242\n",
      "[71]\tvalidation_0-rmse:0.46914\n",
      "[72]\tvalidation_0-rmse:0.469043\n",
      "[73]\tvalidation_0-rmse:0.468972\n",
      "[74]\tvalidation_0-rmse:0.468914\n",
      "[75]\tvalidation_0-rmse:0.468821\n",
      "[76]\tvalidation_0-rmse:0.468738\n",
      "[77]\tvalidation_0-rmse:0.468681\n",
      "[78]\tvalidation_0-rmse:0.468624\n",
      "[79]\tvalidation_0-rmse:0.468568\n",
      "[80]\tvalidation_0-rmse:0.468516\n",
      "[81]\tvalidation_0-rmse:0.468467\n",
      "[82]\tvalidation_0-rmse:0.468461\n",
      "[83]\tvalidation_0-rmse:0.46843\n",
      "[84]\tvalidation_0-rmse:0.468331\n",
      "[85]\tvalidation_0-rmse:0.468219\n",
      "[86]\tvalidation_0-rmse:0.468158\n",
      "[87]\tvalidation_0-rmse:0.468124\n",
      "[88]\tvalidation_0-rmse:0.468109\n",
      "[89]\tvalidation_0-rmse:0.468082\n",
      "[90]\tvalidation_0-rmse:0.468068\n",
      "[91]\tvalidation_0-rmse:0.468012\n",
      "[92]\tvalidation_0-rmse:0.467974\n",
      "[93]\tvalidation_0-rmse:0.467957\n",
      "[94]\tvalidation_0-rmse:0.467939\n",
      "[95]\tvalidation_0-rmse:0.467911\n",
      "[96]\tvalidation_0-rmse:0.467869\n",
      "[97]\tvalidation_0-rmse:0.467853\n",
      "[98]\tvalidation_0-rmse:0.467833\n",
      "[99]\tvalidation_0-rmse:0.467826\n",
      "\n",
      "Model Report\n",
      "RMSLE TRAIN:  0.461434246514\n",
      "RMSLE VAL:  0.467824756196\n",
      "NUM ROWS PREDICTED:  6997412\n",
      "NUM NEGATIVES PREDICTED:  117\n",
      "MIN TARGET PREDICTED:  -0.27076\n",
      "MEAN TARGET PREDICTED:  5.130796432495117\n",
      "MAX TARGET PREDICTED:  456.502\n",
      "Time passed: 0hour:7min:6sec\n"
     ]
    },
    {
     "data": {
      "text/plain": [
       "<matplotlib.axes._subplots.AxesSubplot at 0x7fb562dd7710>"
      ]
     },
     "execution_count": 60,
     "metadata": {},
     "output_type": "execute_result"
    },
    {
     "data": {
      "image/png": "[encoded data removed]",
      "text/plain": [
       "<matplotlib.figure.Figure at 0x7fb562dcfef0>"
      ]
     },
     "metadata": {},
     "output_type": "display_data"
    }
   ],
   "source": [
    "predictors = ['Canal_ID', 'Log_Target_mean_lag1', 'Log_Target_mean_lag2', 'Log_Target_mean_lag3', 'Log_Target_mean_lag4', \n",
    "              'Log_Target_mean_lag5','Lags_sum', 'brand', 'prodtype_cluster', 'Qty_Ruta_SAK_Bin', 'ZipCode', 'Producto_ID_clust_ID']\n",
    "\n",
    "model = xgb.XGBRegressor(n_estimators = 300, objective=\"reg:linear\", learning_rate= 0.1, max_depth=10,\n",
    "                         subsample=0.85,colsample_bytree=0.7)\n",
    "\n",
    "tic()\n",
    "modelfit(model, train, val, test, predictors, target, IDcol, 'alg11.csv')\n",
    "tac()\n",
    "\n",
    "feat_imp = pd.Series(model.booster().get_fscore()).sort_values(ascending=False)\n",
    "feat_imp.plot(kind='bar', title='Feature Importances')"
   ]
  },
  {
   "cell_type": "markdown",
   "metadata": {},
   "source": [
    "We improved a little bit as expected."
   ]
  }
 ],
 "metadata": {
  "anaconda-cloud": {},
  "kernelspec": {
   "display_name": "Python 3",
   "language": "python",
   "name": "python3"
  },
  "language_info": {
   "codemirror_mode": {
    "name": "ipython",
    "version": 3
   },
   "file_extension": ".py",
   "mimetype": "text/x-python",
   "name": "python",
   "nbconvert_exporter": "python",
   "pygments_lexer": "ipython3",
   "version": "3.5.1"
  }
 },
 "nbformat": 4,
 "nbformat_minor": 0
}
