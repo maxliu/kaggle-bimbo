{
 "cells": [
  {
   "cell_type": "markdown",
   "metadata": {},
   "source": [
    "# Introduction\n",
    "\n",
    "I will explore the problem in following stages:\n",
    "\n",
    "1.  **Hypothesis Generation** – understanding the problem better by brainstorming possible factors that can impact the outcome\n",
    "2.  **Data Exploration** – looking at categorical and continuous feature summaries and making inferences about the data.\n",
    "3.  **Data Cleaning** – imputing missing values in the data and checking for outliers\n",
    "4.  **Feature Engineering** – modifying existing variables and creating new ones for analysis\n",
    "5.  **Model Building** – making predictive models on the data\n"
   ]
  },
  {
   "cell_type": "markdown",
   "metadata": {},
   "source": [
    "## 1. Hypothesis Generation\n",
    "\n",
    "This involves understanding the problem and making some hypothesis about what could potentially have a good impact on the outcome. This is done BEFORE looking at the data, and we end up creating a laundry list of the different analysis which we can potentially perform if data is available.\n",
    "\n",
    "### The Problem Statement\n",
    "\n",
    "Understanding the problem statement is the first and foremost step:\n",
    "\n",
    "> In this competition, you will forecast the demand of a product for a given week, at a particular store. The dataset you are given consists of 9 weeks of sales transactions in Mexico. Every week, there are delivery trucks that deliver products to the vendors. Each transaction consists of sales and returns. Returns are the products that are unsold and expired. The demand for a product in a certain week is defined as the sales this week subtracted by the return next week.\n",
    "\n",
    "So the idea is to find out the demand of a product (sales - returns) per client, and store which impacts the sales of a product. Let’s think about some of the analysis that can be done and come up with certain hypothesis.\n",
    "\n",
    "### The Hypotheses\n",
    "\n",
    "I came up with the following hypothesis while thinking about the problem. Since we’re talking about stores and products, lets make different sets for each.\n",
    "\n",
    "**Store/Client Level Hypotheses:**\n",
    "\n",
    "1.  **Town type:** Stores located in urban or Tier 1 towns should have higher sales because of the higher income levels of people there.\n",
    "2.  **Population Density:** Stores located in densely populated areas should have higher sales because of more demand.\n",
    "3.  **Store Capacity:** Stores which are very big in size should have higher sales as they act like one-stop-shops and people would prefer getting everything from one place\n",
    "4.  **Competitors:** Stores having similar establishments nearby should have less sales because of more competition.\n",
    "5.  **Marketing:** Stores which have a good marketing division should have higher sales as it will be able to attract customers through the right offers and advertising.\n",
    "6.  **Location:** Stores located within popular marketplaces should have higher sales because of better access to customers.\n",
    "7.  **Customer Behavior:** Stores keeping the right set of products to meet the local needs of customers will have higher sales.\n",
    "8.  **Ambiance:** Stores which are well-maintained and managed by polite and humble people are expected to have higher footfall and thus higher sales.\n",
    "9.  **Season:** Store should sell more after customer's pay day: after 15th or 30th of the month\n",
    "\n",
    "**Product Level Hypotheses:**\n",
    "\n",
    "1.  **Brand:** Branded products should have higher sales because of higher trust in the customer.\n",
    "2.  **Packaging:** Products with good packaging can attract customers and sell more.\n",
    "3.  **Utility:** Daily use products should have a higher tendency to sell as compared to the specific use products.\n",
    "4.  **Display Area:** Products which are given bigger shelves in the store are likely to catch attention first and sell more.\n",
    "5.  **Visibility in Store:** The location of product in a store will impact sales. Ones which are right at entrance will catch the eye of customer first rather than the ones in back.\n",
    "6.  **Advertising:** Better advertising of products in the store will should higher sales in most cases.\n",
    "7.  **Promotional Offers:** Products accompanied with attractive offers and discounts will sell more.\n",
    "\n",
    "\n",
    "Lets move on to the data exploration where we will have a look at the data in detail."
   ]
  },
  {
   "cell_type": "markdown",
   "metadata": {},
   "source": [
    "## 2\\. Data Exploration\n",
    "\n",
    "I’ll be performing some basic data exploration here and come up with some inferences about the data.\n",
    "\n",
    "The first step is to look at the data and try to identify the information which we hypothesized vs the available data. A comparison between the data dictionary on the competition page and out hypotheses is shown below:\n",
    "\n",
    "![Image of Variables vs Hypothesis](files/../input-data/Variables_vs_Hyphotesis.png)\n",
    "\n",
    "We can summarize the findings as:\n",
    "\n",
    "** 9 Features Hypothesized but not found in actual data. **\n",
    "\n",
    "** 5 Features Hypothesized as well as present in the data **\n",
    "\n",
    "** 3 Features present in the data but not hypothesized. **\n",
    "\n",
    "\n",
    "We find features which we hypothesized, but data doesn’t carry and vice versa. We should look for open source data to fill the gaps if possible. Let’s start by loading the required libraries and data. "
   ]
  },
  {
   "cell_type": "code",
   "execution_count": 1,
   "metadata": {
    "collapsed": false
   },
   "outputs": [],
   "source": [
    "import pandas as pd\n",
    "import numpy as np\n",
    "import time\n",
    "import csv\n",
    "\n",
    "_start_time = time.time()\n",
    "\n",
    "# define a easy timing function to use going forward\n",
    "def tic():\n",
    "    global _start_time \n",
    "    _start_time = time.time()\n",
    "\n",
    "def tac():\n",
    "    t_sec = round(time.time() - _start_time)\n",
    "    (t_min, t_sec) = divmod(t_sec,60)\n",
    "    (t_hour,t_min) = divmod(t_min,60) \n",
    "    print('Time passed: {}hour:{}min:{}sec'.format(t_hour,t_min,t_sec))\n",
    "    \n",
    "# utility function- display large dataframes in an html iframe\n",
    "def df_display(df, lines=500):\n",
    "    txt = (\"<iframe \" +\n",
    "           \"srcdoc='\" + df.head(lines).to_html() + \"' \" +\n",
    "           \"width=1000 height=500>\" +\n",
    "           \"</iframe>\")\n",
    "\n",
    "    return IPython.display.HTML(txt)\n"
   ]
  },
  {
   "cell_type": "code",
   "execution_count": 2,
   "metadata": {
    "collapsed": false,
    "scrolled": true
   },
   "outputs": [
    {
     "name": "stdout",
     "output_type": "stream",
     "text": [
      "Time passed: 0hour:0min:53sec\n"
     ]
    }
   ],
   "source": [
    "#Read files:\n",
    "tic()\n",
    "train = pd.read_csv('input-data/train.csv',\n",
    "                           dtype  = {'Semana': 'int8',\n",
    "                                     'Producto_ID':'int32',\n",
    "                                     'Cliente_ID':'int32',\n",
    "                                     'Agencia_ID':'uint16',\n",
    "                                     'Canal_ID':'int8',\n",
    "                                     'Ruta_SAK':'int32',\n",
    "                                     'Venta_hoy':'float32',\n",
    "                                     'Venta_uni_hoy': 'int8',\n",
    "                                     'Dev_uni_proxima':'int8',\n",
    "                                     'Dev_proxima':'float32',\n",
    "                                     'Demanda_uni_equil':'int32'})\n",
    "test = pd.read_csv('input-data/test.csv',\n",
    "                           dtype  = {'Semana': 'int8',\n",
    "                                     'Producto_ID':'int32',\n",
    "                                     'Cliente_ID':'int32',\n",
    "                                     'Agencia_ID':'uint16',\n",
    "                                     'Canal_ID':'int8',\n",
    "                                     'Ruta_SAK':'int32'})\n",
    "tac()"
   ]
  },
  {
   "cell_type": "code",
   "execution_count": 3,
   "metadata": {
    "collapsed": false
   },
   "outputs": [
    {
     "data": {
      "text/html": [
       "<div>\n",
       "<table border=\"1\" class=\"dataframe\">\n",
       "  <thead>\n",
       "    <tr style=\"text-align: right;\">\n",
       "      <th></th>\n",
       "      <th>Semana</th>\n",
       "      <th>Agencia_ID</th>\n",
       "      <th>Canal_ID</th>\n",
       "      <th>Ruta_SAK</th>\n",
       "      <th>Cliente_ID</th>\n",
       "      <th>Producto_ID</th>\n",
       "      <th>Venta_uni_hoy</th>\n",
       "      <th>Venta_hoy</th>\n",
       "      <th>Dev_uni_proxima</th>\n",
       "      <th>Dev_proxima</th>\n",
       "      <th>Demanda_uni_equil</th>\n",
       "    </tr>\n",
       "  </thead>\n",
       "  <tbody>\n",
       "    <tr>\n",
       "      <th>0</th>\n",
       "      <td>3</td>\n",
       "      <td>1110</td>\n",
       "      <td>7</td>\n",
       "      <td>3301</td>\n",
       "      <td>15766</td>\n",
       "      <td>1212</td>\n",
       "      <td>3</td>\n",
       "      <td>25.139999</td>\n",
       "      <td>0</td>\n",
       "      <td>0.0</td>\n",
       "      <td>3</td>\n",
       "    </tr>\n",
       "    <tr>\n",
       "      <th>1</th>\n",
       "      <td>3</td>\n",
       "      <td>1110</td>\n",
       "      <td>7</td>\n",
       "      <td>3301</td>\n",
       "      <td>15766</td>\n",
       "      <td>1216</td>\n",
       "      <td>4</td>\n",
       "      <td>33.520000</td>\n",
       "      <td>0</td>\n",
       "      <td>0.0</td>\n",
       "      <td>4</td>\n",
       "    </tr>\n",
       "    <tr>\n",
       "      <th>2</th>\n",
       "      <td>3</td>\n",
       "      <td>1110</td>\n",
       "      <td>7</td>\n",
       "      <td>3301</td>\n",
       "      <td>15766</td>\n",
       "      <td>1238</td>\n",
       "      <td>4</td>\n",
       "      <td>39.320000</td>\n",
       "      <td>0</td>\n",
       "      <td>0.0</td>\n",
       "      <td>4</td>\n",
       "    </tr>\n",
       "    <tr>\n",
       "      <th>3</th>\n",
       "      <td>3</td>\n",
       "      <td>1110</td>\n",
       "      <td>7</td>\n",
       "      <td>3301</td>\n",
       "      <td>15766</td>\n",
       "      <td>1240</td>\n",
       "      <td>4</td>\n",
       "      <td>33.520000</td>\n",
       "      <td>0</td>\n",
       "      <td>0.0</td>\n",
       "      <td>4</td>\n",
       "    </tr>\n",
       "    <tr>\n",
       "      <th>4</th>\n",
       "      <td>3</td>\n",
       "      <td>1110</td>\n",
       "      <td>7</td>\n",
       "      <td>3301</td>\n",
       "      <td>15766</td>\n",
       "      <td>1242</td>\n",
       "      <td>3</td>\n",
       "      <td>22.920000</td>\n",
       "      <td>0</td>\n",
       "      <td>0.0</td>\n",
       "      <td>3</td>\n",
       "    </tr>\n",
       "  </tbody>\n",
       "</table>\n",
       "</div>"
      ],
      "text/plain": [
       "   Semana  Agencia_ID  Canal_ID  Ruta_SAK  Cliente_ID  Producto_ID  \\\n",
       "0       3        1110         7      3301       15766         1212   \n",
       "1       3        1110         7      3301       15766         1216   \n",
       "2       3        1110         7      3301       15766         1238   \n",
       "3       3        1110         7      3301       15766         1240   \n",
       "4       3        1110         7      3301       15766         1242   \n",
       "\n",
       "   Venta_uni_hoy  Venta_hoy  Dev_uni_proxima  Dev_proxima  Demanda_uni_equil  \n",
       "0              3  25.139999                0          0.0                  3  \n",
       "1              4  33.520000                0          0.0                  4  \n",
       "2              4  39.320000                0          0.0                  4  \n",
       "3              4  33.520000                0          0.0                  4  \n",
       "4              3  22.920000                0          0.0                  3  "
      ]
     },
     "execution_count": 3,
     "metadata": {},
     "output_type": "execute_result"
    }
   ],
   "source": [
    "train.head()"
   ]
  },
  {
   "cell_type": "code",
   "execution_count": 4,
   "metadata": {
    "collapsed": false
   },
   "outputs": [
    {
     "data": {
      "text/html": [
       "<div>\n",
       "<table border=\"1\" class=\"dataframe\">\n",
       "  <thead>\n",
       "    <tr style=\"text-align: right;\">\n",
       "      <th></th>\n",
       "      <th>id</th>\n",
       "      <th>Semana</th>\n",
       "      <th>Agencia_ID</th>\n",
       "      <th>Canal_ID</th>\n",
       "      <th>Ruta_SAK</th>\n",
       "      <th>Cliente_ID</th>\n",
       "      <th>Producto_ID</th>\n",
       "    </tr>\n",
       "  </thead>\n",
       "  <tbody>\n",
       "    <tr>\n",
       "      <th>0</th>\n",
       "      <td>0</td>\n",
       "      <td>11</td>\n",
       "      <td>4037</td>\n",
       "      <td>1</td>\n",
       "      <td>2209</td>\n",
       "      <td>4639078</td>\n",
       "      <td>35305</td>\n",
       "    </tr>\n",
       "    <tr>\n",
       "      <th>1</th>\n",
       "      <td>1</td>\n",
       "      <td>11</td>\n",
       "      <td>2237</td>\n",
       "      <td>1</td>\n",
       "      <td>1226</td>\n",
       "      <td>4705135</td>\n",
       "      <td>1238</td>\n",
       "    </tr>\n",
       "    <tr>\n",
       "      <th>2</th>\n",
       "      <td>2</td>\n",
       "      <td>10</td>\n",
       "      <td>2045</td>\n",
       "      <td>1</td>\n",
       "      <td>2831</td>\n",
       "      <td>4549769</td>\n",
       "      <td>32940</td>\n",
       "    </tr>\n",
       "    <tr>\n",
       "      <th>3</th>\n",
       "      <td>3</td>\n",
       "      <td>11</td>\n",
       "      <td>1227</td>\n",
       "      <td>1</td>\n",
       "      <td>4448</td>\n",
       "      <td>4717855</td>\n",
       "      <td>43066</td>\n",
       "    </tr>\n",
       "    <tr>\n",
       "      <th>4</th>\n",
       "      <td>4</td>\n",
       "      <td>11</td>\n",
       "      <td>1219</td>\n",
       "      <td>1</td>\n",
       "      <td>1130</td>\n",
       "      <td>966351</td>\n",
       "      <td>1277</td>\n",
       "    </tr>\n",
       "  </tbody>\n",
       "</table>\n",
       "</div>"
      ],
      "text/plain": [
       "   id  Semana  Agencia_ID  Canal_ID  Ruta_SAK  Cliente_ID  Producto_ID\n",
       "0   0      11        4037         1      2209     4639078        35305\n",
       "1   1      11        2237         1      1226     4705135         1238\n",
       "2   2      10        2045         1      2831     4549769        32940\n",
       "3   3      11        1227         1      4448     4717855        43066\n",
       "4   4      11        1219         1      1130      966351         1277"
      ]
     },
     "execution_count": 4,
     "metadata": {},
     "output_type": "execute_result"
    }
   ],
   "source": [
    "test.head()"
   ]
  },
  {
   "cell_type": "code",
   "execution_count": 5,
   "metadata": {
    "collapsed": true
   },
   "outputs": [],
   "source": [
    "# remove unnecessary fields in training data\n",
    "train.drop(['Venta_uni_hoy', 'Venta_hoy','Dev_uni_proxima', 'Dev_proxima'], axis=1, inplace=True)"
   ]
  },
  {
   "cell_type": "code",
   "execution_count": 6,
   "metadata": {
    "collapsed": false
   },
   "outputs": [],
   "source": [
    "#Since test dataframe is not the same as train dataframe, we make them equal by removing and adding columns\n",
    "train.insert(0, 'id', np.nan)\n",
    "test.insert(7, 'Demanda_uni_equil', np.nan)"
   ]
  },
  {
   "cell_type": "markdown",
   "metadata": {},
   "source": [
    "Now, probably one of the most important steps is to split the train set in train and validation. And never touch the validation set for any feature engineering, and to treat it just like the unseen test set"
   ]
  },
  {
   "cell_type": "code",
   "execution_count": 7,
   "metadata": {
    "collapsed": false
   },
   "outputs": [
    {
     "name": "stdout",
     "output_type": "stream",
     "text": [
      "Time passed: 0hour:0min:3sec\n"
     ]
    }
   ],
   "source": [
    "use_validation=True\n",
    "if (use_validation):\n",
    "    tic()\n",
    "    val = train[train.Semana > 8] # Weeks 9\n",
    "    train = train[train.Semana <=8] # Weeks 7,8\n",
    "    tac()\n",
    "    "
   ]
  },
  {
   "cell_type": "markdown",
   "metadata": {},
   "source": [
    "It is a good idea to combine both train and test data sets into one, perform feature engineering and then divide them later again. This saves the trouble of performing the same steps twice on test and train. Lets combine them into a dataframe ‘data’ with a ‘source’ column specifying where each observation belongs."
   ]
  },
  {
   "cell_type": "code",
   "execution_count": 8,
   "metadata": {
    "collapsed": false
   },
   "outputs": [
    {
     "name": "stdout",
     "output_type": "stream",
     "text": [
      "(63771751, 9) (10408713, 9) (6999251, 9) (81179715, 9)\n",
      "Time passed: 0hour:0min:9sec\n"
     ]
    }
   ],
   "source": [
    "tic()\n",
    "train['source']='train'\n",
    "if (use_validation): val['source']='val'\n",
    "test['source']='test'\n",
    "\n",
    "if (use_validation): \n",
    "    data = pd.concat([train,val,test],ignore_index=True)\n",
    "    print (train.shape, val.shape, test.shape, data.shape)\n",
    "else:\n",
    "    data = pd.concat([train,test],ignore_index=True)\n",
    "    print (train.shape, test.shape, data.shape)\n",
    "tac()\n"
   ]
  },
  {
   "cell_type": "code",
   "execution_count": 9,
   "metadata": {
    "collapsed": false
   },
   "outputs": [],
   "source": [
    "#We must now remove the target column=Demanda_uni_equil from the val dataset and keep it away\n",
    "data['ix'] = data.index # assign and id column to later at the end map the val_targets back to the dataframe\n",
    "if (use_validation):\n",
    "    val_target = data[['ix','Demanda_uni_equil']].loc[data['source']=='val'] #save the val targets on a different dataframe\n",
    "    data.loc[data['source']=='val','Demanda_uni_equil'] =  np.nan # replaces val targets with nan for feature engineering"
   ]
  },
  {
   "cell_type": "markdown",
   "metadata": {},
   "source": [
    "Thus we can see that data has same #columns but rows equivalent to both test and train. Lets start by checking which columns contain missing values. (takes aprox 30 mins to run!)"
   ]
  },
  {
   "cell_type": "code",
   "execution_count": null,
   "metadata": {
    "collapsed": false
   },
   "outputs": [],
   "source": [
    "data.apply(lambda x: sum(x.isnull()))"
   ]
  },
  {
   "cell_type": "markdown",
   "metadata": {},
   "source": [
    "There doesn't seem to be any missing values (other than the NaN we set on the test and train sets).\n",
    "\n",
    "Lets look at some basic statistics for numerical variables."
   ]
  },
  {
   "cell_type": "code",
   "execution_count": 10,
   "metadata": {
    "collapsed": false
   },
   "outputs": [
    {
     "name": "stderr",
     "output_type": "stream",
     "text": [
      "/anaconda/envs/py35/lib/python3.5/site-packages/numpy/lib/function_base.py:3834: RuntimeWarning: Invalid value encountered in percentile\n",
      "  RuntimeWarning)\n"
     ]
    },
    {
     "data": {
      "text/html": [
       "<div>\n",
       "<table border=\"1\" class=\"dataframe\">\n",
       "  <thead>\n",
       "    <tr style=\"text-align: right;\">\n",
       "      <th></th>\n",
       "      <th>id</th>\n",
       "      <th>Semana</th>\n",
       "      <th>Agencia_ID</th>\n",
       "      <th>Canal_ID</th>\n",
       "      <th>Ruta_SAK</th>\n",
       "      <th>Cliente_ID</th>\n",
       "      <th>Producto_ID</th>\n",
       "      <th>Demanda_uni_equil</th>\n",
       "      <th>ix</th>\n",
       "    </tr>\n",
       "  </thead>\n",
       "  <tbody>\n",
       "    <tr>\n",
       "      <th>count</th>\n",
       "      <td>6.999251e+06</td>\n",
       "      <td>8.117972e+07</td>\n",
       "      <td>8.117972e+07</td>\n",
       "      <td>8.117972e+07</td>\n",
       "      <td>8.117972e+07</td>\n",
       "      <td>8.117972e+07</td>\n",
       "      <td>8.117972e+07</td>\n",
       "      <td>6.377175e+07</td>\n",
       "      <td>8.117972e+07</td>\n",
       "    </tr>\n",
       "    <tr>\n",
       "      <th>mean</th>\n",
       "      <td>3.499625e+06</td>\n",
       "      <td>6.341839e+00</td>\n",
       "      <td>2.533746e+03</td>\n",
       "      <td>1.384793e+00</td>\n",
       "      <td>2.116852e+03</td>\n",
       "      <td>1.803586e+06</td>\n",
       "      <td>2.095482e+04</td>\n",
       "      <td>7.226821e+00</td>\n",
       "      <td>4.058986e+07</td>\n",
       "    </tr>\n",
       "    <tr>\n",
       "      <th>std</th>\n",
       "      <td>2.020510e+06</td>\n",
       "      <td>2.313453e+00</td>\n",
       "      <td>4.069579e+03</td>\n",
       "      <td>1.467666e+00</td>\n",
       "      <td>1.488853e+03</td>\n",
       "      <td>2.406086e+06</td>\n",
       "      <td>1.867056e+04</td>\n",
       "      <td>2.174982e+01</td>\n",
       "      <td>2.343457e+07</td>\n",
       "    </tr>\n",
       "    <tr>\n",
       "      <th>min</th>\n",
       "      <td>0.000000e+00</td>\n",
       "      <td>3.000000e+00</td>\n",
       "      <td>1.110000e+03</td>\n",
       "      <td>1.000000e+00</td>\n",
       "      <td>1.000000e+00</td>\n",
       "      <td>2.600000e+01</td>\n",
       "      <td>4.100000e+01</td>\n",
       "      <td>0.000000e+00</td>\n",
       "      <td>0.000000e+00</td>\n",
       "    </tr>\n",
       "    <tr>\n",
       "      <th>25%</th>\n",
       "      <td>NaN</td>\n",
       "      <td>4.000000e+00</td>\n",
       "      <td>1.311000e+03</td>\n",
       "      <td>1.000000e+00</td>\n",
       "      <td>1.161000e+03</td>\n",
       "      <td>3.567150e+05</td>\n",
       "      <td>1.242000e+03</td>\n",
       "      <td>NaN</td>\n",
       "      <td>2.029493e+07</td>\n",
       "    </tr>\n",
       "    <tr>\n",
       "      <th>50%</th>\n",
       "      <td>NaN</td>\n",
       "      <td>6.000000e+00</td>\n",
       "      <td>1.613000e+03</td>\n",
       "      <td>1.000000e+00</td>\n",
       "      <td>1.286000e+03</td>\n",
       "      <td>1.193935e+06</td>\n",
       "      <td>3.054900e+04</td>\n",
       "      <td>NaN</td>\n",
       "      <td>4.058986e+07</td>\n",
       "    </tr>\n",
       "    <tr>\n",
       "      <th>75%</th>\n",
       "      <td>NaN</td>\n",
       "      <td>8.000000e+00</td>\n",
       "      <td>2.036000e+03</td>\n",
       "      <td>1.000000e+00</td>\n",
       "      <td>2.803000e+03</td>\n",
       "      <td>2.372538e+06</td>\n",
       "      <td>3.756900e+04</td>\n",
       "      <td>NaN</td>\n",
       "      <td>6.088479e+07</td>\n",
       "    </tr>\n",
       "    <tr>\n",
       "      <th>max</th>\n",
       "      <td>6.999250e+06</td>\n",
       "      <td>1.100000e+01</td>\n",
       "      <td>2.575900e+04</td>\n",
       "      <td>1.100000e+01</td>\n",
       "      <td>9.991000e+03</td>\n",
       "      <td>2.015152e+09</td>\n",
       "      <td>4.999700e+04</td>\n",
       "      <td>5.000000e+03</td>\n",
       "      <td>8.117971e+07</td>\n",
       "    </tr>\n",
       "  </tbody>\n",
       "</table>\n",
       "</div>"
      ],
      "text/plain": [
       "                 id        Semana    Agencia_ID      Canal_ID      Ruta_SAK  \\\n",
       "count  6.999251e+06  8.117972e+07  8.117972e+07  8.117972e+07  8.117972e+07   \n",
       "mean   3.499625e+06  6.341839e+00  2.533746e+03  1.384793e+00  2.116852e+03   \n",
       "std    2.020510e+06  2.313453e+00  4.069579e+03  1.467666e+00  1.488853e+03   \n",
       "min    0.000000e+00  3.000000e+00  1.110000e+03  1.000000e+00  1.000000e+00   \n",
       "25%             NaN  4.000000e+00  1.311000e+03  1.000000e+00  1.161000e+03   \n",
       "50%             NaN  6.000000e+00  1.613000e+03  1.000000e+00  1.286000e+03   \n",
       "75%             NaN  8.000000e+00  2.036000e+03  1.000000e+00  2.803000e+03   \n",
       "max    6.999250e+06  1.100000e+01  2.575900e+04  1.100000e+01  9.991000e+03   \n",
       "\n",
       "         Cliente_ID   Producto_ID  Demanda_uni_equil            ix  \n",
       "count  8.117972e+07  8.117972e+07       6.377175e+07  8.117972e+07  \n",
       "mean   1.803586e+06  2.095482e+04       7.226821e+00  4.058986e+07  \n",
       "std    2.406086e+06  1.867056e+04       2.174982e+01  2.343457e+07  \n",
       "min    2.600000e+01  4.100000e+01       0.000000e+00  0.000000e+00  \n",
       "25%    3.567150e+05  1.242000e+03                NaN  2.029493e+07  \n",
       "50%    1.193935e+06  3.054900e+04                NaN  4.058986e+07  \n",
       "75%    2.372538e+06  3.756900e+04                NaN  6.088479e+07  \n",
       "max    2.015152e+09  4.999700e+04       5.000000e+03  8.117971e+07  "
      ]
     },
     "execution_count": 10,
     "metadata": {},
     "output_type": "execute_result"
    }
   ],
   "source": [
    "data.describe()"
   ]
  },
  {
   "cell_type": "markdown",
   "metadata": {
    "collapsed": true
   },
   "source": [
    "Some observations:\n",
    "\n",
    "   Looking at Demanda_uni_equil (our target), or the amount of product sold per week, we find interesting things:\n",
    "   \n",
    "   **1)** The average is 7.22, so in average there is 7 units per week per store sold.\n",
    "   \n",
    "   **2)** Looking at the max of 5000, it looks very far fro the mean (3 orders of magnitude), so we must check for an outlier here or a store that is crazy different from the rest.\n",
    "   \n",
    "   **3)** Same behaviour we find on Dev_uni_proxima, Venta_hoy and Venta_uni_hoy\n",
    "   \n",
    "Looking at the nice data analysis made in R by Faviens, here: https://www.kaggle.com/fabienvs/grupo-bimbo-inventory-demand/notebook-8a62eda039a3b0b944cf/notebook we corroborate the outlier(s):\n",
    "There is a massive client: Puebla Remision\n",
    "   \n",
    "![Image of size of Customers]( https://www.kaggle.io/svf/267812/783a24d1dd546819a44914f996b249e8/__results___files/figure-html/unnamed-chunk-16-1.png)\n",
    "   \n",
    "\n",
    "Moving to nominal (categorical) variable, lets have a look at the number of unique values in each of them."
   ]
  },
  {
   "cell_type": "code",
   "execution_count": 45,
   "metadata": {
    "collapsed": false
   },
   "outputs": [
    {
     "data": {
      "text/plain": [
       "id                    6999252\n",
       "Semana                      9\n",
       "Agencia_ID                552\n",
       "Canal_ID                    9\n",
       "Ruta_SAK                 3620\n",
       "Cliente_ID             890267\n",
       "Producto_ID              1833\n",
       "Demanda_uni_equil        2000\n",
       "source                      3\n",
       "ix                   81179715\n",
       "dtype: int64"
      ]
     },
     "execution_count": 45,
     "metadata": {},
     "output_type": "execute_result"
    }
   ],
   "source": [
    "data.apply(lambda x: len(x.unique()))"
   ]
  },
  {
   "cell_type": "markdown",
   "metadata": {
    "collapsed": true
   },
   "source": [
    "So, in train and test sets, we have 552 Agencies(depots), 890k clients (we might have some repeated clients due to typos when enterind data), 1833 products (we might have some repeated products here based on typos) and 3620 routes"
   ]
  },
  {
   "cell_type": "code",
   "execution_count": 46,
   "metadata": {
    "collapsed": false
   },
   "outputs": [
    {
     "name": "stdout",
     "output_type": "stream",
     "text": [
      "Semana3 =\t11165207\n",
      "Semana4 =\t11009593\n",
      "Semana5 =\t10615397\n",
      "Semana6 =\t10191837\n",
      "Semana7 =\t10382849\n",
      "Semana8 =\t10406868\n",
      "Semana9 =\t10408713\n",
      "Semana10 =\t3538385\n",
      "Semana11 =\t3460866\n"
     ]
    }
   ],
   "source": [
    "# Let's see how many records we have per week\n",
    "for i in range(3,12):\n",
    "    print(\"Semana\"+repr(i)+\" =\\t\" + repr(data[data[\"Semana\"]==i].Semana.count()))"
   ]
  },
  {
   "cell_type": "markdown",
   "metadata": {},
   "source": [
    "As stated in the Kaggle competition - Week 10 and 11 is sampled down aprox 70%. According to Kaggle, this was done so the scoring of candidates didn't take extremely long."
   ]
  },
  {
   "cell_type": "markdown",
   "metadata": {},
   "source": [
    "## 3\\. Data Cleaning\n",
    "\n",
    "This step involves imputing missing values and treating outliers. As we saw before, there are no missing values. Regarding outliers, there seem to be an obvious one, but we are going to see later on if its necessary to treat it differently.\n",
    "\n",
    "My initial reaction would be to see if anything with the word REMISION is on the test set. if not, then delete it. See this discussion: https://www.kaggle.com/c/grupo-bimbo-inventory-demand/forums/t/22037/puebla-remission/126053"
   ]
  },
  {
   "cell_type": "code",
   "execution_count": null,
   "metadata": {
    "collapsed": false
   },
   "outputs": [],
   "source": [
    "#Let's find out who are the clients with the word REMISION on it\n",
    "client_name = pd.read_csv('files/../input-data/cliente_tabla.csv')\n",
    "cliente_id_name_train = pd.merge(train,client_name, on='Cliente_ID')\n",
    "cliente_id_name_test = pd.merge(test,client_name, on='Cliente_ID')"
   ]
  },
  {
   "cell_type": "code",
   "execution_count": null,
   "metadata": {
    "collapsed": false
   },
   "outputs": [],
   "source": [
    "cliente_id_name_train.head()"
   ]
  },
  {
   "cell_type": "code",
   "execution_count": null,
   "metadata": {
    "collapsed": false
   },
   "outputs": [],
   "source": [
    "cliente_id_name_train[cliente_id_name_train.NombreCliente.str.contains('REMISION')].count()"
   ]
  },
  {
   "cell_type": "markdown",
   "metadata": {},
   "source": [
    "As we can see above, the word \"REMISION\" shows up 140k times on the train set. Let's see the test set:"
   ]
  },
  {
   "cell_type": "code",
   "execution_count": null,
   "metadata": {
    "collapsed": false
   },
   "outputs": [],
   "source": [
    "cliente_id_name_test[cliente_id_name_test.NombreCliente.str.contains('REMISION')].count()"
   ]
  },
  {
   "cell_type": "markdown",
   "metadata": {},
   "source": [
    "12k rows shows up the word REMISION on the test set. This implies that it has to be predicted as well. We cannot eliminate it."
   ]
  },
  {
   "cell_type": "markdown",
   "metadata": {},
   "source": [
    "## 4\\. Feature Engineering\n",
    "\n",
    "We explored some nuances in the data in the data exploration section. Lets move on to resolving them and making our data ready for analysis. We will also create some new variables using the existing ones in this section."
   ]
  },
  {
   "cell_type": "code",
   "execution_count": 11,
   "metadata": {
    "collapsed": false
   },
   "outputs": [],
   "source": [
    "#First thing we need to do is to transform our target ( Demanda_uni_equil) to log(1 + demand) - this makes sense since we're \n",
    "#trying to minimize rmsle vs the mean which minimizes rmse. At the end of the modeling (for submission) we need to reverse it \n",
    "#by applying expm1(x)\n",
    "\n",
    "data['log_target'] = np.log1p(data[\"Demanda_uni_equil\"])"
   ]
  },
  {
   "cell_type": "code",
   "execution_count": 12,
   "metadata": {
    "collapsed": false
   },
   "outputs": [
    {
     "data": {
      "text/html": [
       "<div>\n",
       "<table border=\"1\" class=\"dataframe\">\n",
       "  <thead>\n",
       "    <tr style=\"text-align: right;\">\n",
       "      <th></th>\n",
       "      <th>id</th>\n",
       "      <th>Semana</th>\n",
       "      <th>Agencia_ID</th>\n",
       "      <th>Canal_ID</th>\n",
       "      <th>Ruta_SAK</th>\n",
       "      <th>Cliente_ID</th>\n",
       "      <th>Producto_ID</th>\n",
       "      <th>Demanda_uni_equil</th>\n",
       "      <th>source</th>\n",
       "      <th>ix</th>\n",
       "      <th>log_target</th>\n",
       "    </tr>\n",
       "  </thead>\n",
       "  <tbody>\n",
       "    <tr>\n",
       "      <th>0</th>\n",
       "      <td>NaN</td>\n",
       "      <td>3</td>\n",
       "      <td>1110</td>\n",
       "      <td>7</td>\n",
       "      <td>3301</td>\n",
       "      <td>15766</td>\n",
       "      <td>1212</td>\n",
       "      <td>3.0</td>\n",
       "      <td>train</td>\n",
       "      <td>0</td>\n",
       "      <td>1.386294</td>\n",
       "    </tr>\n",
       "    <tr>\n",
       "      <th>1</th>\n",
       "      <td>NaN</td>\n",
       "      <td>3</td>\n",
       "      <td>1110</td>\n",
       "      <td>7</td>\n",
       "      <td>3301</td>\n",
       "      <td>15766</td>\n",
       "      <td>1216</td>\n",
       "      <td>4.0</td>\n",
       "      <td>train</td>\n",
       "      <td>1</td>\n",
       "      <td>1.609438</td>\n",
       "    </tr>\n",
       "    <tr>\n",
       "      <th>2</th>\n",
       "      <td>NaN</td>\n",
       "      <td>3</td>\n",
       "      <td>1110</td>\n",
       "      <td>7</td>\n",
       "      <td>3301</td>\n",
       "      <td>15766</td>\n",
       "      <td>1238</td>\n",
       "      <td>4.0</td>\n",
       "      <td>train</td>\n",
       "      <td>2</td>\n",
       "      <td>1.609438</td>\n",
       "    </tr>\n",
       "    <tr>\n",
       "      <th>3</th>\n",
       "      <td>NaN</td>\n",
       "      <td>3</td>\n",
       "      <td>1110</td>\n",
       "      <td>7</td>\n",
       "      <td>3301</td>\n",
       "      <td>15766</td>\n",
       "      <td>1240</td>\n",
       "      <td>4.0</td>\n",
       "      <td>train</td>\n",
       "      <td>3</td>\n",
       "      <td>1.609438</td>\n",
       "    </tr>\n",
       "    <tr>\n",
       "      <th>4</th>\n",
       "      <td>NaN</td>\n",
       "      <td>3</td>\n",
       "      <td>1110</td>\n",
       "      <td>7</td>\n",
       "      <td>3301</td>\n",
       "      <td>15766</td>\n",
       "      <td>1242</td>\n",
       "      <td>3.0</td>\n",
       "      <td>train</td>\n",
       "      <td>4</td>\n",
       "      <td>1.386294</td>\n",
       "    </tr>\n",
       "  </tbody>\n",
       "</table>\n",
       "</div>"
      ],
      "text/plain": [
       "   id  Semana  Agencia_ID  Canal_ID  Ruta_SAK  Cliente_ID  Producto_ID  \\\n",
       "0 NaN       3        1110         7      3301       15766         1212   \n",
       "1 NaN       3        1110         7      3301       15766         1216   \n",
       "2 NaN       3        1110         7      3301       15766         1238   \n",
       "3 NaN       3        1110         7      3301       15766         1240   \n",
       "4 NaN       3        1110         7      3301       15766         1242   \n",
       "\n",
       "   Demanda_uni_equil source  ix  log_target  \n",
       "0                3.0  train   0    1.386294  \n",
       "1                4.0  train   1    1.609438  \n",
       "2                4.0  train   2    1.609438  \n",
       "3                4.0  train   3    1.609438  \n",
       "4                3.0  train   4    1.386294  "
      ]
     },
     "execution_count": 12,
     "metadata": {},
     "output_type": "execute_result"
    }
   ],
   "source": [
    "data.head()"
   ]
  },
  {
   "cell_type": "code",
   "execution_count": 13,
   "metadata": {
    "collapsed": false
   },
   "outputs": [
    {
     "name": "stdout",
     "output_type": "stream",
     "text": [
      "Time passed: 0hour:2min:10sec\n"
     ]
    }
   ],
   "source": [
    "#Let's also create all the grouping dataframes we are going to need \n",
    "tic()\n",
    "\n",
    "global_mean = data['log_target'].mean()\n",
    "prod_mean = data.groupby('Producto_ID').agg({'log_target': 'mean' })\n",
    "client_mean = data.groupby('Cliente_ID').agg({'log_target': 'mean' })\n",
    "prod_client_mean = data.groupby(['Producto_ID', 'Cliente_ID']).agg({'log_target': 'mean' })\n",
    "semana_client_prod_mean = data.groupby(['Semana','Cliente_ID','Producto_ID']).agg({'log_target': 'mean'})\n",
    "ruta_cliente_prod_mean = data.groupby(['Ruta_SAK','Cliente_ID','Producto_ID']).agg({'log_target': 'mean'})\n",
    "\n",
    "tac()"
   ]
  },
  {
   "cell_type": "markdown",
   "metadata": {},
   "source": [
    "### Feature 1: Lags - Demand per client-product pair for prior weeks\n",
    "Based on this blog: http://blog.nycdatascience.com/student-works/predicting-demand-historical-sales-data-grupo-bimbo-kaggle-competition/\n",
    "\n",
    "As this script said: https://www.kaggle.com/bpavlyshenko/grupo-bimbo-inventory-demand/bimbo-xgboost-r-script-lb-0-457/code\n",
    "It is important to know what were the previous weeks sales. If the previous week, too many products were supplied and they were not sold, the next week this product amount, supplied to the same store, will be decreased. So it is very important to included lag values of target variable as a feature to predict the next sales."
   ]
  },
  {
   "cell_type": "code",
   "execution_count": 52,
   "metadata": {
    "collapsed": false
   },
   "outputs": [],
   "source": [
    "df = semana_client_prod_mean.reset_index() # we convert the index to columns for later use"
   ]
  },
  {
   "cell_type": "code",
   "execution_count": 53,
   "metadata": {
    "collapsed": false
   },
   "outputs": [
    {
     "data": {
      "text/html": [
       "<div>\n",
       "<table border=\"1\" class=\"dataframe\">\n",
       "  <thead>\n",
       "    <tr style=\"text-align: right;\">\n",
       "      <th></th>\n",
       "      <th>Semana</th>\n",
       "      <th>Cliente_ID</th>\n",
       "      <th>Producto_ID</th>\n",
       "      <th>log_target</th>\n",
       "    </tr>\n",
       "  </thead>\n",
       "  <tbody>\n",
       "    <tr>\n",
       "      <th>0</th>\n",
       "      <td>3</td>\n",
       "      <td>26</td>\n",
       "      <td>1182</td>\n",
       "      <td>3.688879</td>\n",
       "    </tr>\n",
       "    <tr>\n",
       "      <th>1</th>\n",
       "      <td>3</td>\n",
       "      <td>26</td>\n",
       "      <td>4767</td>\n",
       "      <td>3.761200</td>\n",
       "    </tr>\n",
       "    <tr>\n",
       "      <th>2</th>\n",
       "      <td>3</td>\n",
       "      <td>26</td>\n",
       "      <td>31393</td>\n",
       "      <td>3.044522</td>\n",
       "    </tr>\n",
       "    <tr>\n",
       "      <th>3</th>\n",
       "      <td>3</td>\n",
       "      <td>26</td>\n",
       "      <td>31690</td>\n",
       "      <td>3.761200</td>\n",
       "    </tr>\n",
       "    <tr>\n",
       "      <th>4</th>\n",
       "      <td>3</td>\n",
       "      <td>26</td>\n",
       "      <td>32962</td>\n",
       "      <td>1.386294</td>\n",
       "    </tr>\n",
       "  </tbody>\n",
       "</table>\n",
       "</div>"
      ],
      "text/plain": [
       "   Semana  Cliente_ID  Producto_ID  log_target\n",
       "0       3          26         1182    3.688879\n",
       "1       3          26         4767    3.761200\n",
       "2       3          26        31393    3.044522\n",
       "3       3          26        31690    3.761200\n",
       "4       3          26        32962    1.386294"
      ]
     },
     "execution_count": 53,
     "metadata": {},
     "output_type": "execute_result"
    }
   ],
   "source": [
    "df.head()"
   ]
  },
  {
   "cell_type": "code",
   "execution_count": 54,
   "metadata": {
    "collapsed": false
   },
   "outputs": [
    {
     "name": "stdout",
     "output_type": "stream",
     "text": [
      "Semana3 =\t11165207 (raw)\t11140707 (group)\t24500 (diff)\n",
      "Semana4 =\t11009593 (raw)\t10985436 (group)\t24157 (diff)\n",
      "Semana5 =\t10615397 (raw)\t10591171 (group)\t24226 (diff)\n",
      "Semana6 =\t10191837 (raw)\t10167946 (group)\t23891 (diff)\n",
      "Semana7 =\t10382849 (raw)\t10359111 (group)\t23738 (diff)\n",
      "Semana8 =\t10406868 (raw)\t10383302 (group)\t23566 (diff)\n",
      "Semana9 =\t10408713 (raw)\t10385350 (group)\t23363 (diff)\n",
      "Semana10 =\t3538385 (raw)\t3531921 (group)\t6464 (diff)\n",
      "Semana11 =\t3460866 (raw)\t3454394 (group)\t6472 (diff)\n"
     ]
    }
   ],
   "source": [
    "# Let's see how many records we have per week on the semana_cliente_Producto groups vs the raw dataset\n",
    "for i in range(3,12):\n",
    "    print(\"Semana\"+repr(i)+\" =\\t\" + repr(data[data[\"Semana\"]==i].Semana.count())+ \" (raw)\\t\" +\n",
    "            repr(df[df[\"Semana\"]==i].Semana.count()) + \" (group)\\t\" +  \n",
    "            repr(data[data[\"Semana\"]==i].Semana.count() - df[df[\"Semana\"]==i].Semana.count()) + \" (diff)\"\n",
    "         )"
   ]
  },
  {
   "cell_type": "markdown",
   "metadata": {},
   "source": [
    "As we can see above, there are repeated combinations of client-product on each week."
   ]
  },
  {
   "cell_type": "code",
   "execution_count": 55,
   "metadata": {
    "collapsed": false
   },
   "outputs": [
    {
     "name": "stdout",
     "output_type": "stream",
     "text": [
      "4546064040\n"
     ]
    }
   ],
   "source": [
    "#Before we start adding lags and removing rows, let's see the size of our dataset\n",
    "size_data = data.memory_usage().sum()\n",
    "print(size_data)"
   ]
  },
  {
   "cell_type": "code",
   "execution_count": 56,
   "metadata": {
    "collapsed": false
   },
   "outputs": [
    {
     "name": "stdout",
     "output_type": "stream",
     "text": [
      "Time passed: 0hour:8min:24sec\n"
     ]
    }
   ],
   "source": [
    "#here we add the number of lags we want\n",
    "tic()\n",
    "lag=4\n",
    "\n",
    "for i in range(1,lag+1):\n",
    "    df['Semana'] += 1\n",
    "    df.rename(columns={df.columns[3]: 'Log_Target_mean_lag%d' %(i)}, inplace=True)\n",
    "    data = pd.merge(data,df, how = 'left', on = ['Semana','Cliente_ID','Producto_ID']) #here we add the lag to the dataset\n",
    "    data['Log_Target_mean_lag%d' %(i)].fillna(0, inplace=True) # we replace the client-product log mean NaN/Not found on the week before with ZERO\n",
    "    data = data[data.Semana != i+2] # here we delete the week rows we dont have lags for\n",
    "   \n",
    "tac()"
   ]
  },
  {
   "cell_type": "code",
   "execution_count": 57,
   "metadata": {
    "collapsed": false
   },
   "outputs": [
    {
     "data": {
      "text/plain": [
       "id                      31198430\n",
       "Semana                         0\n",
       "Agencia_ID                     0\n",
       "Canal_ID                       0\n",
       "Ruta_SAK                       0\n",
       "Cliente_ID                     0\n",
       "Producto_ID                    0\n",
       "Demanda_uni_equil       17407964\n",
       "source                         0\n",
       "ix                             0\n",
       "log_target              17407964\n",
       "Log_Target_mean_lag1           0\n",
       "Log_Target_mean_lag2           0\n",
       "Log_Target_mean_lag3           0\n",
       "Log_Target_mean_lag4           0\n",
       "dtype: int64"
      ]
     },
     "execution_count": 57,
     "metadata": {},
     "output_type": "execute_result"
    }
   ],
   "source": [
    "#Let's see how many NaN or Nulls we have\n",
    "data.apply(lambda x: sum(x.isnull()))"
   ]
  },
  {
   "cell_type": "markdown",
   "metadata": {},
   "source": [
    "The above looks correct! the only NaN shown are the variables that are not avaibable on the test set, everyting else looks good\n"
   ]
  },
  {
   "cell_type": "code",
   "execution_count": 58,
   "metadata": {
    "collapsed": false
   },
   "outputs": [
    {
     "name": "stdout",
     "output_type": "stream",
     "text": [
      "Semana3 =\t0\n",
      "Semana4 =\t0\n",
      "Semana5 =\t0\n",
      "Semana6 =\t0\n",
      "Semana7 =\t10382849\n",
      "Semana8 =\t10406868\n",
      "Semana9 =\t10408713\n",
      "Semana10 =\t3538385\n",
      "Semana11 =\t3460866\n"
     ]
    }
   ],
   "source": [
    "# Let's see how many records we have per week and make sure we didn't delete any data from our important weeks\n",
    "for i in range(3,12):\n",
    "    print(\"Semana\"+repr(i)+\" =\\t\" + repr(data[data[\"Semana\"]==i].Semana.count()))"
   ]
  },
  {
   "cell_type": "markdown",
   "metadata": {},
   "source": [
    "The above looks correct! we deleted the week rows we don't have lags for, and we kept the original amount of rows for the remaining weeks."
   ]
  },
  {
   "cell_type": "code",
   "execution_count": 59,
   "metadata": {
    "collapsed": false
   },
   "outputs": [
    {
     "name": "stdout",
     "output_type": "stream",
     "text": [
      "Dataset size changed in -35.24333751141499%\n"
     ]
    }
   ],
   "source": [
    "#Now let's see how much was the data set size reduced/increased\n",
    "new_size_data = data.memory_usage().sum()\n",
    "print(\"Dataset size changed in \" + repr((new_size_data - size_data )*100/new_size_data) + \"%\")"
   ]
  },
  {
   "cell_type": "markdown",
   "metadata": {},
   "source": [
    "Good! the data set was reduced in 27% (this means faster modeling)"
   ]
  },
  {
   "cell_type": "code",
   "execution_count": 60,
   "metadata": {
    "collapsed": false
   },
   "outputs": [
    {
     "data": {
      "text/html": [
       "<div>\n",
       "<table border=\"1\" class=\"dataframe\">\n",
       "  <thead>\n",
       "    <tr style=\"text-align: right;\">\n",
       "      <th></th>\n",
       "      <th>id</th>\n",
       "      <th>Semana</th>\n",
       "      <th>Agencia_ID</th>\n",
       "      <th>Canal_ID</th>\n",
       "      <th>Ruta_SAK</th>\n",
       "      <th>Cliente_ID</th>\n",
       "      <th>Producto_ID</th>\n",
       "      <th>Demanda_uni_equil</th>\n",
       "      <th>source</th>\n",
       "      <th>ix</th>\n",
       "      <th>log_target</th>\n",
       "      <th>Log_Target_mean_lag1</th>\n",
       "      <th>Log_Target_mean_lag2</th>\n",
       "      <th>Log_Target_mean_lag3</th>\n",
       "      <th>Log_Target_mean_lag4</th>\n",
       "    </tr>\n",
       "  </thead>\n",
       "  <tbody>\n",
       "    <tr>\n",
       "      <th>10191837</th>\n",
       "      <td>NaN</td>\n",
       "      <td>7</td>\n",
       "      <td>1110</td>\n",
       "      <td>7</td>\n",
       "      <td>3301</td>\n",
       "      <td>15766</td>\n",
       "      <td>1216</td>\n",
       "      <td>2</td>\n",
       "      <td>train</td>\n",
       "      <td>42982034</td>\n",
       "      <td>1.098612</td>\n",
       "      <td>0.693147</td>\n",
       "      <td>1.386294</td>\n",
       "      <td>1.098612</td>\n",
       "      <td>1.609438</td>\n",
       "    </tr>\n",
       "    <tr>\n",
       "      <th>10191838</th>\n",
       "      <td>NaN</td>\n",
       "      <td>7</td>\n",
       "      <td>1110</td>\n",
       "      <td>7</td>\n",
       "      <td>3301</td>\n",
       "      <td>15766</td>\n",
       "      <td>1238</td>\n",
       "      <td>2</td>\n",
       "      <td>train</td>\n",
       "      <td>42982035</td>\n",
       "      <td>1.098612</td>\n",
       "      <td>1.098612</td>\n",
       "      <td>0.693147</td>\n",
       "      <td>1.386294</td>\n",
       "      <td>1.609438</td>\n",
       "    </tr>\n",
       "    <tr>\n",
       "      <th>10191839</th>\n",
       "      <td>NaN</td>\n",
       "      <td>7</td>\n",
       "      <td>1110</td>\n",
       "      <td>7</td>\n",
       "      <td>3301</td>\n",
       "      <td>15766</td>\n",
       "      <td>1240</td>\n",
       "      <td>8</td>\n",
       "      <td>train</td>\n",
       "      <td>42982036</td>\n",
       "      <td>2.197225</td>\n",
       "      <td>0.000000</td>\n",
       "      <td>0.000000</td>\n",
       "      <td>2.079442</td>\n",
       "      <td>1.609438</td>\n",
       "    </tr>\n",
       "    <tr>\n",
       "      <th>10191840</th>\n",
       "      <td>NaN</td>\n",
       "      <td>7</td>\n",
       "      <td>1110</td>\n",
       "      <td>7</td>\n",
       "      <td>3301</td>\n",
       "      <td>15766</td>\n",
       "      <td>1242</td>\n",
       "      <td>2</td>\n",
       "      <td>train</td>\n",
       "      <td>42982037</td>\n",
       "      <td>1.098612</td>\n",
       "      <td>1.386294</td>\n",
       "      <td>1.098612</td>\n",
       "      <td>1.386294</td>\n",
       "      <td>1.386294</td>\n",
       "    </tr>\n",
       "    <tr>\n",
       "      <th>10191841</th>\n",
       "      <td>NaN</td>\n",
       "      <td>7</td>\n",
       "      <td>1110</td>\n",
       "      <td>7</td>\n",
       "      <td>3301</td>\n",
       "      <td>15766</td>\n",
       "      <td>1250</td>\n",
       "      <td>14</td>\n",
       "      <td>train</td>\n",
       "      <td>42982038</td>\n",
       "      <td>2.708050</td>\n",
       "      <td>0.693147</td>\n",
       "      <td>2.197225</td>\n",
       "      <td>1.386294</td>\n",
       "      <td>1.791759</td>\n",
       "    </tr>\n",
       "  </tbody>\n",
       "</table>\n",
       "</div>"
      ],
      "text/plain": [
       "          id  Semana  Agencia_ID  Canal_ID  Ruta_SAK  Cliente_ID  Producto_ID  \\\n",
       "10191837 NaN       7        1110         7      3301       15766         1216   \n",
       "10191838 NaN       7        1110         7      3301       15766         1238   \n",
       "10191839 NaN       7        1110         7      3301       15766         1240   \n",
       "10191840 NaN       7        1110         7      3301       15766         1242   \n",
       "10191841 NaN       7        1110         7      3301       15766         1250   \n",
       "\n",
       "          Demanda_uni_equil source        ix  log_target  \\\n",
       "10191837                  2  train  42982034    1.098612   \n",
       "10191838                  2  train  42982035    1.098612   \n",
       "10191839                  8  train  42982036    2.197225   \n",
       "10191840                  2  train  42982037    1.098612   \n",
       "10191841                 14  train  42982038    2.708050   \n",
       "\n",
       "          Log_Target_mean_lag1  Log_Target_mean_lag2  Log_Target_mean_lag3  \\\n",
       "10191837              0.693147              1.386294              1.098612   \n",
       "10191838              1.098612              0.693147              1.386294   \n",
       "10191839              0.000000              0.000000              2.079442   \n",
       "10191840              1.386294              1.098612              1.386294   \n",
       "10191841              0.693147              2.197225              1.386294   \n",
       "\n",
       "          Log_Target_mean_lag4  \n",
       "10191837              1.609438  \n",
       "10191838              1.609438  \n",
       "10191839              1.609438  \n",
       "10191840              1.386294  \n",
       "10191841              1.791759  "
      ]
     },
     "execution_count": 60,
     "metadata": {},
     "output_type": "execute_result"
    }
   ],
   "source": [
    "data.head()"
   ]
  },
  {
   "cell_type": "markdown",
   "metadata": {},
   "source": [
    "### Feature 2: Rate of change of lags\n",
    "It is also important to know what is the rate of change in demand from week to week in respect to the product-client mean"
   ]
  },
  {
   "cell_type": "code",
   "execution_count": 61,
   "metadata": {
    "collapsed": false
   },
   "outputs": [],
   "source": [
    "df = prod_client_mean.reset_index() # we convert the index to columns for later use\n",
    "df.rename(columns={'log_target': 'PC_log_target_mean'}, inplace=True)"
   ]
  },
  {
   "cell_type": "code",
   "execution_count": 62,
   "metadata": {
    "collapsed": false
   },
   "outputs": [],
   "source": [
    "data = pd.merge(data,df, how = 'left', on = ['Producto_ID','Cliente_ID'])"
   ]
  },
  {
   "cell_type": "code",
   "execution_count": 63,
   "metadata": {
    "collapsed": false
   },
   "outputs": [
    {
     "data": {
      "text/html": [
       "<div>\n",
       "<table border=\"1\" class=\"dataframe\">\n",
       "  <thead>\n",
       "    <tr style=\"text-align: right;\">\n",
       "      <th></th>\n",
       "      <th>id</th>\n",
       "      <th>Semana</th>\n",
       "      <th>Agencia_ID</th>\n",
       "      <th>Canal_ID</th>\n",
       "      <th>Ruta_SAK</th>\n",
       "      <th>Cliente_ID</th>\n",
       "      <th>Producto_ID</th>\n",
       "      <th>Demanda_uni_equil</th>\n",
       "      <th>source</th>\n",
       "      <th>ix</th>\n",
       "      <th>log_target</th>\n",
       "      <th>Log_Target_mean_lag1</th>\n",
       "      <th>Log_Target_mean_lag2</th>\n",
       "      <th>Log_Target_mean_lag3</th>\n",
       "      <th>Log_Target_mean_lag4</th>\n",
       "      <th>PC_log_target_mean</th>\n",
       "    </tr>\n",
       "  </thead>\n",
       "  <tbody>\n",
       "    <tr>\n",
       "      <th>38197676</th>\n",
       "      <td>6999246</td>\n",
       "      <td>11</td>\n",
       "      <td>2057</td>\n",
       "      <td>1</td>\n",
       "      <td>1153</td>\n",
       "      <td>4379638</td>\n",
       "      <td>1232</td>\n",
       "      <td>NaN</td>\n",
       "      <td>test</td>\n",
       "      <td>81179710</td>\n",
       "      <td>NaN</td>\n",
       "      <td>0</td>\n",
       "      <td>0.000000</td>\n",
       "      <td>0.000000</td>\n",
       "      <td>1.386294</td>\n",
       "      <td>1.242453</td>\n",
       "    </tr>\n",
       "    <tr>\n",
       "      <th>38197677</th>\n",
       "      <td>6999247</td>\n",
       "      <td>10</td>\n",
       "      <td>1334</td>\n",
       "      <td>1</td>\n",
       "      <td>2008</td>\n",
       "      <td>970421</td>\n",
       "      <td>43069</td>\n",
       "      <td>NaN</td>\n",
       "      <td>test</td>\n",
       "      <td>81179711</td>\n",
       "      <td>NaN</td>\n",
       "      <td>0</td>\n",
       "      <td>1.386294</td>\n",
       "      <td>0.693147</td>\n",
       "      <td>0.693147</td>\n",
       "      <td>1.039721</td>\n",
       "    </tr>\n",
       "    <tr>\n",
       "      <th>38197678</th>\n",
       "      <td>6999248</td>\n",
       "      <td>11</td>\n",
       "      <td>1622</td>\n",
       "      <td>1</td>\n",
       "      <td>2869</td>\n",
       "      <td>192749</td>\n",
       "      <td>30532</td>\n",
       "      <td>NaN</td>\n",
       "      <td>test</td>\n",
       "      <td>81179712</td>\n",
       "      <td>NaN</td>\n",
       "      <td>0</td>\n",
       "      <td>0.000000</td>\n",
       "      <td>1.386294</td>\n",
       "      <td>1.098612</td>\n",
       "      <td>1.370160</td>\n",
       "    </tr>\n",
       "    <tr>\n",
       "      <th>38197679</th>\n",
       "      <td>6999249</td>\n",
       "      <td>11</td>\n",
       "      <td>1636</td>\n",
       "      <td>1</td>\n",
       "      <td>4401</td>\n",
       "      <td>286071</td>\n",
       "      <td>35107</td>\n",
       "      <td>NaN</td>\n",
       "      <td>test</td>\n",
       "      <td>81179713</td>\n",
       "      <td>NaN</td>\n",
       "      <td>0</td>\n",
       "      <td>0.000000</td>\n",
       "      <td>0.000000</td>\n",
       "      <td>0.000000</td>\n",
       "      <td>1.098612</td>\n",
       "    </tr>\n",
       "    <tr>\n",
       "      <th>38197680</th>\n",
       "      <td>6999250</td>\n",
       "      <td>11</td>\n",
       "      <td>1625</td>\n",
       "      <td>1</td>\n",
       "      <td>1259</td>\n",
       "      <td>978760</td>\n",
       "      <td>1232</td>\n",
       "      <td>NaN</td>\n",
       "      <td>test</td>\n",
       "      <td>81179714</td>\n",
       "      <td>NaN</td>\n",
       "      <td>0</td>\n",
       "      <td>0.000000</td>\n",
       "      <td>0.000000</td>\n",
       "      <td>0.000000</td>\n",
       "      <td>0.346574</td>\n",
       "    </tr>\n",
       "  </tbody>\n",
       "</table>\n",
       "</div>"
      ],
      "text/plain": [
       "               id  Semana  Agencia_ID  Canal_ID  Ruta_SAK  Cliente_ID  \\\n",
       "38197676  6999246      11        2057         1      1153     4379638   \n",
       "38197677  6999247      10        1334         1      2008      970421   \n",
       "38197678  6999248      11        1622         1      2869      192749   \n",
       "38197679  6999249      11        1636         1      4401      286071   \n",
       "38197680  6999250      11        1625         1      1259      978760   \n",
       "\n",
       "          Producto_ID  Demanda_uni_equil source        ix  log_target  \\\n",
       "38197676         1232                NaN   test  81179710         NaN   \n",
       "38197677        43069                NaN   test  81179711         NaN   \n",
       "38197678        30532                NaN   test  81179712         NaN   \n",
       "38197679        35107                NaN   test  81179713         NaN   \n",
       "38197680         1232                NaN   test  81179714         NaN   \n",
       "\n",
       "          Log_Target_mean_lag1  Log_Target_mean_lag2  Log_Target_mean_lag3  \\\n",
       "38197676                     0              0.000000              0.000000   \n",
       "38197677                     0              1.386294              0.693147   \n",
       "38197678                     0              0.000000              1.386294   \n",
       "38197679                     0              0.000000              0.000000   \n",
       "38197680                     0              0.000000              0.000000   \n",
       "\n",
       "          Log_Target_mean_lag4  PC_log_target_mean  \n",
       "38197676              1.386294            1.242453  \n",
       "38197677              0.693147            1.039721  \n",
       "38197678              1.098612            1.370160  \n",
       "38197679              0.000000            1.098612  \n",
       "38197680              0.000000            0.346574  "
      ]
     },
     "execution_count": 63,
     "metadata": {},
     "output_type": "execute_result"
    }
   ],
   "source": [
    "data.tail()"
   ]
  },
  {
   "cell_type": "code",
   "execution_count": 64,
   "metadata": {
    "collapsed": false
   },
   "outputs": [
    {
     "name": "stdout",
     "output_type": "stream",
     "text": [
      "Time passed: 0hour:0min:2sec\n"
     ]
    }
   ],
   "source": [
    "tic()\n",
    "for i in range(2,lag+1):\n",
    "        data['rate_change%d' %(i)] = (data['Log_Target_mean_lag%d' %(i-1)] - data['Log_Target_mean_lag%d' %(i)])/data['PC_log_target_mean']\n",
    "        data['rate_change%d' %(i)].fillna(0, inplace=True) # we replace NaN/Not found with ZERO\n",
    "    \n",
    "tac()"
   ]
  },
  {
   "cell_type": "code",
   "execution_count": 65,
   "metadata": {
    "collapsed": true
   },
   "outputs": [],
   "source": [
    "#We don't need Qty_Ruta_Sak anymore\n",
    "data.drop(['PC_log_target_mean'],axis=1,inplace=True)"
   ]
  },
  {
   "cell_type": "code",
   "execution_count": 66,
   "metadata": {
    "collapsed": false
   },
   "outputs": [
    {
     "data": {
      "text/html": [
       "<div>\n",
       "<table border=\"1\" class=\"dataframe\">\n",
       "  <thead>\n",
       "    <tr style=\"text-align: right;\">\n",
       "      <th></th>\n",
       "      <th>id</th>\n",
       "      <th>Semana</th>\n",
       "      <th>Agencia_ID</th>\n",
       "      <th>Canal_ID</th>\n",
       "      <th>Ruta_SAK</th>\n",
       "      <th>Cliente_ID</th>\n",
       "      <th>Producto_ID</th>\n",
       "      <th>Demanda_uni_equil</th>\n",
       "      <th>source</th>\n",
       "      <th>ix</th>\n",
       "      <th>log_target</th>\n",
       "      <th>Log_Target_mean_lag1</th>\n",
       "      <th>Log_Target_mean_lag2</th>\n",
       "      <th>Log_Target_mean_lag3</th>\n",
       "      <th>Log_Target_mean_lag4</th>\n",
       "      <th>rate_change2</th>\n",
       "      <th>rate_change3</th>\n",
       "      <th>rate_change4</th>\n",
       "    </tr>\n",
       "  </thead>\n",
       "  <tbody>\n",
       "    <tr>\n",
       "      <th>0</th>\n",
       "      <td>NaN</td>\n",
       "      <td>7</td>\n",
       "      <td>1110</td>\n",
       "      <td>7</td>\n",
       "      <td>3301</td>\n",
       "      <td>15766</td>\n",
       "      <td>1216</td>\n",
       "      <td>2</td>\n",
       "      <td>train</td>\n",
       "      <td>42982034</td>\n",
       "      <td>1.098612</td>\n",
       "      <td>0.693147</td>\n",
       "      <td>1.386294</td>\n",
       "      <td>1.098612</td>\n",
       "      <td>1.609438</td>\n",
       "      <td>-0.541672</td>\n",
       "      <td>0.224814</td>\n",
       "      <td>-0.399194</td>\n",
       "    </tr>\n",
       "    <tr>\n",
       "      <th>1</th>\n",
       "      <td>NaN</td>\n",
       "      <td>7</td>\n",
       "      <td>1110</td>\n",
       "      <td>7</td>\n",
       "      <td>3301</td>\n",
       "      <td>15766</td>\n",
       "      <td>1238</td>\n",
       "      <td>2</td>\n",
       "      <td>train</td>\n",
       "      <td>42982035</td>\n",
       "      <td>1.098612</td>\n",
       "      <td>1.098612</td>\n",
       "      <td>0.693147</td>\n",
       "      <td>1.386294</td>\n",
       "      <td>1.609438</td>\n",
       "      <td>0.334524</td>\n",
       "      <td>-0.571872</td>\n",
       "      <td>-0.184102</td>\n",
       "    </tr>\n",
       "    <tr>\n",
       "      <th>2</th>\n",
       "      <td>NaN</td>\n",
       "      <td>7</td>\n",
       "      <td>1110</td>\n",
       "      <td>7</td>\n",
       "      <td>3301</td>\n",
       "      <td>15766</td>\n",
       "      <td>1240</td>\n",
       "      <td>8</td>\n",
       "      <td>train</td>\n",
       "      <td>42982036</td>\n",
       "      <td>2.197225</td>\n",
       "      <td>0.000000</td>\n",
       "      <td>0.000000</td>\n",
       "      <td>2.079442</td>\n",
       "      <td>1.609438</td>\n",
       "      <td>0.000000</td>\n",
       "      <td>-1.190852</td>\n",
       "      <td>0.269161</td>\n",
       "    </tr>\n",
       "    <tr>\n",
       "      <th>3</th>\n",
       "      <td>NaN</td>\n",
       "      <td>7</td>\n",
       "      <td>1110</td>\n",
       "      <td>7</td>\n",
       "      <td>3301</td>\n",
       "      <td>15766</td>\n",
       "      <td>1242</td>\n",
       "      <td>2</td>\n",
       "      <td>train</td>\n",
       "      <td>42982037</td>\n",
       "      <td>1.098612</td>\n",
       "      <td>1.386294</td>\n",
       "      <td>1.098612</td>\n",
       "      <td>1.386294</td>\n",
       "      <td>1.386294</td>\n",
       "      <td>0.244862</td>\n",
       "      <td>-0.244862</td>\n",
       "      <td>0.000000</td>\n",
       "    </tr>\n",
       "    <tr>\n",
       "      <th>4</th>\n",
       "      <td>NaN</td>\n",
       "      <td>7</td>\n",
       "      <td>1110</td>\n",
       "      <td>7</td>\n",
       "      <td>3301</td>\n",
       "      <td>15766</td>\n",
       "      <td>1250</td>\n",
       "      <td>14</td>\n",
       "      <td>train</td>\n",
       "      <td>42982038</td>\n",
       "      <td>2.708050</td>\n",
       "      <td>0.693147</td>\n",
       "      <td>2.197225</td>\n",
       "      <td>1.386294</td>\n",
       "      <td>1.791759</td>\n",
       "      <td>-0.822372</td>\n",
       "      <td>0.443386</td>\n",
       "      <td>-0.221693</td>\n",
       "    </tr>\n",
       "  </tbody>\n",
       "</table>\n",
       "</div>"
      ],
      "text/plain": [
       "   id  Semana  Agencia_ID  Canal_ID  Ruta_SAK  Cliente_ID  Producto_ID  \\\n",
       "0 NaN       7        1110         7      3301       15766         1216   \n",
       "1 NaN       7        1110         7      3301       15766         1238   \n",
       "2 NaN       7        1110         7      3301       15766         1240   \n",
       "3 NaN       7        1110         7      3301       15766         1242   \n",
       "4 NaN       7        1110         7      3301       15766         1250   \n",
       "\n",
       "   Demanda_uni_equil source        ix  log_target  Log_Target_mean_lag1  \\\n",
       "0                  2  train  42982034    1.098612              0.693147   \n",
       "1                  2  train  42982035    1.098612              1.098612   \n",
       "2                  8  train  42982036    2.197225              0.000000   \n",
       "3                  2  train  42982037    1.098612              1.386294   \n",
       "4                 14  train  42982038    2.708050              0.693147   \n",
       "\n",
       "   Log_Target_mean_lag2  Log_Target_mean_lag3  Log_Target_mean_lag4  \\\n",
       "0              1.386294              1.098612              1.609438   \n",
       "1              0.693147              1.386294              1.609438   \n",
       "2              0.000000              2.079442              1.609438   \n",
       "3              1.098612              1.386294              1.386294   \n",
       "4              2.197225              1.386294              1.791759   \n",
       "\n",
       "   rate_change2  rate_change3  rate_change4  \n",
       "0     -0.541672      0.224814     -0.399194  \n",
       "1      0.334524     -0.571872     -0.184102  \n",
       "2      0.000000     -1.190852      0.269161  \n",
       "3      0.244862     -0.244862      0.000000  \n",
       "4     -0.822372      0.443386     -0.221693  "
      ]
     },
     "execution_count": 66,
     "metadata": {},
     "output_type": "execute_result"
    }
   ],
   "source": [
    "data.head()"
   ]
  },
  {
   "cell_type": "markdown",
   "metadata": {},
   "source": [
    "###  Feature 3:  Calculates de sum of prior weeks Log mean Demands"
   ]
  },
  {
   "cell_type": "code",
   "execution_count": 67,
   "metadata": {
    "collapsed": false
   },
   "outputs": [],
   "source": [
    "#We want to sum the lags up until week 9, this means that we need to sum lag2 and up.\n",
    "data['Lags_sum'] = 0\n",
    "for i in range(1,lag+1):\n",
    "    data['Lags_sum'] += data['Log_Target_mean_lag%d' %(i)]"
   ]
  },
  {
   "cell_type": "code",
   "execution_count": 68,
   "metadata": {
    "collapsed": false
   },
   "outputs": [
    {
     "data": {
      "text/html": [
       "<div>\n",
       "<table border=\"1\" class=\"dataframe\">\n",
       "  <thead>\n",
       "    <tr style=\"text-align: right;\">\n",
       "      <th></th>\n",
       "      <th>id</th>\n",
       "      <th>Semana</th>\n",
       "      <th>Agencia_ID</th>\n",
       "      <th>Canal_ID</th>\n",
       "      <th>Ruta_SAK</th>\n",
       "      <th>Cliente_ID</th>\n",
       "      <th>Producto_ID</th>\n",
       "      <th>Demanda_uni_equil</th>\n",
       "      <th>source</th>\n",
       "      <th>ix</th>\n",
       "      <th>log_target</th>\n",
       "      <th>Log_Target_mean_lag1</th>\n",
       "      <th>Log_Target_mean_lag2</th>\n",
       "      <th>Log_Target_mean_lag3</th>\n",
       "      <th>Log_Target_mean_lag4</th>\n",
       "      <th>rate_change2</th>\n",
       "      <th>rate_change3</th>\n",
       "      <th>rate_change4</th>\n",
       "      <th>Lags_sum</th>\n",
       "    </tr>\n",
       "  </thead>\n",
       "  <tbody>\n",
       "    <tr>\n",
       "      <th>38197676</th>\n",
       "      <td>6999246</td>\n",
       "      <td>11</td>\n",
       "      <td>2057</td>\n",
       "      <td>1</td>\n",
       "      <td>1153</td>\n",
       "      <td>4379638</td>\n",
       "      <td>1232</td>\n",
       "      <td>NaN</td>\n",
       "      <td>test</td>\n",
       "      <td>81179710</td>\n",
       "      <td>NaN</td>\n",
       "      <td>0</td>\n",
       "      <td>0.000000</td>\n",
       "      <td>0.000000</td>\n",
       "      <td>1.386294</td>\n",
       "      <td>0.000000</td>\n",
       "      <td>0.000000</td>\n",
       "      <td>-1.115772</td>\n",
       "      <td>1.386294</td>\n",
       "    </tr>\n",
       "    <tr>\n",
       "      <th>38197677</th>\n",
       "      <td>6999247</td>\n",
       "      <td>10</td>\n",
       "      <td>1334</td>\n",
       "      <td>1</td>\n",
       "      <td>2008</td>\n",
       "      <td>970421</td>\n",
       "      <td>43069</td>\n",
       "      <td>NaN</td>\n",
       "      <td>test</td>\n",
       "      <td>81179711</td>\n",
       "      <td>NaN</td>\n",
       "      <td>0</td>\n",
       "      <td>1.386294</td>\n",
       "      <td>0.693147</td>\n",
       "      <td>0.693147</td>\n",
       "      <td>-1.333333</td>\n",
       "      <td>0.666667</td>\n",
       "      <td>0.000000</td>\n",
       "      <td>2.772589</td>\n",
       "    </tr>\n",
       "    <tr>\n",
       "      <th>38197678</th>\n",
       "      <td>6999248</td>\n",
       "      <td>11</td>\n",
       "      <td>1622</td>\n",
       "      <td>1</td>\n",
       "      <td>2869</td>\n",
       "      <td>192749</td>\n",
       "      <td>30532</td>\n",
       "      <td>NaN</td>\n",
       "      <td>test</td>\n",
       "      <td>81179712</td>\n",
       "      <td>NaN</td>\n",
       "      <td>0</td>\n",
       "      <td>0.000000</td>\n",
       "      <td>1.386294</td>\n",
       "      <td>1.098612</td>\n",
       "      <td>0.000000</td>\n",
       "      <td>-1.011776</td>\n",
       "      <td>0.209962</td>\n",
       "      <td>2.484907</td>\n",
       "    </tr>\n",
       "    <tr>\n",
       "      <th>38197679</th>\n",
       "      <td>6999249</td>\n",
       "      <td>11</td>\n",
       "      <td>1636</td>\n",
       "      <td>1</td>\n",
       "      <td>4401</td>\n",
       "      <td>286071</td>\n",
       "      <td>35107</td>\n",
       "      <td>NaN</td>\n",
       "      <td>test</td>\n",
       "      <td>81179713</td>\n",
       "      <td>NaN</td>\n",
       "      <td>0</td>\n",
       "      <td>0.000000</td>\n",
       "      <td>0.000000</td>\n",
       "      <td>0.000000</td>\n",
       "      <td>0.000000</td>\n",
       "      <td>0.000000</td>\n",
       "      <td>0.000000</td>\n",
       "      <td>0.000000</td>\n",
       "    </tr>\n",
       "    <tr>\n",
       "      <th>38197680</th>\n",
       "      <td>6999250</td>\n",
       "      <td>11</td>\n",
       "      <td>1625</td>\n",
       "      <td>1</td>\n",
       "      <td>1259</td>\n",
       "      <td>978760</td>\n",
       "      <td>1232</td>\n",
       "      <td>NaN</td>\n",
       "      <td>test</td>\n",
       "      <td>81179714</td>\n",
       "      <td>NaN</td>\n",
       "      <td>0</td>\n",
       "      <td>0.000000</td>\n",
       "      <td>0.000000</td>\n",
       "      <td>0.000000</td>\n",
       "      <td>0.000000</td>\n",
       "      <td>0.000000</td>\n",
       "      <td>0.000000</td>\n",
       "      <td>0.000000</td>\n",
       "    </tr>\n",
       "  </tbody>\n",
       "</table>\n",
       "</div>"
      ],
      "text/plain": [
       "               id  Semana  Agencia_ID  Canal_ID  Ruta_SAK  Cliente_ID  \\\n",
       "38197676  6999246      11        2057         1      1153     4379638   \n",
       "38197677  6999247      10        1334         1      2008      970421   \n",
       "38197678  6999248      11        1622         1      2869      192749   \n",
       "38197679  6999249      11        1636         1      4401      286071   \n",
       "38197680  6999250      11        1625         1      1259      978760   \n",
       "\n",
       "          Producto_ID  Demanda_uni_equil source        ix  log_target  \\\n",
       "38197676         1232                NaN   test  81179710         NaN   \n",
       "38197677        43069                NaN   test  81179711         NaN   \n",
       "38197678        30532                NaN   test  81179712         NaN   \n",
       "38197679        35107                NaN   test  81179713         NaN   \n",
       "38197680         1232                NaN   test  81179714         NaN   \n",
       "\n",
       "          Log_Target_mean_lag1  Log_Target_mean_lag2  Log_Target_mean_lag3  \\\n",
       "38197676                     0              0.000000              0.000000   \n",
       "38197677                     0              1.386294              0.693147   \n",
       "38197678                     0              0.000000              1.386294   \n",
       "38197679                     0              0.000000              0.000000   \n",
       "38197680                     0              0.000000              0.000000   \n",
       "\n",
       "          Log_Target_mean_lag4  rate_change2  rate_change3  rate_change4  \\\n",
       "38197676              1.386294      0.000000      0.000000     -1.115772   \n",
       "38197677              0.693147     -1.333333      0.666667      0.000000   \n",
       "38197678              1.098612      0.000000     -1.011776      0.209962   \n",
       "38197679              0.000000      0.000000      0.000000      0.000000   \n",
       "38197680              0.000000      0.000000      0.000000      0.000000   \n",
       "\n",
       "          Lags_sum  \n",
       "38197676  1.386294  \n",
       "38197677  2.772589  \n",
       "38197678  2.484907  \n",
       "38197679  0.000000  \n",
       "38197680  0.000000  "
      ]
     },
     "execution_count": 68,
     "metadata": {},
     "output_type": "execute_result"
    }
   ],
   "source": [
    "data.tail()"
   ]
  },
  {
   "cell_type": "markdown",
   "metadata": {},
   "source": [
    "###  Feature 4:  Mean of pairs cliente-producto"
   ]
  },
  {
   "cell_type": "code",
   "execution_count": 14,
   "metadata": {
    "collapsed": false
   },
   "outputs": [
    {
     "name": "stdout",
     "output_type": "stream",
     "text": [
      "Time passed: 0hour:0min:26sec\n"
     ]
    }
   ],
   "source": [
    "tic()\n",
    "prod_mean_dict = prod_mean.to_dict()\n",
    "client_mean_dict = client_mean.to_dict()\n",
    "prod_client_mean_dict = prod_client_mean.to_dict()\n",
    "tac()"
   ]
  },
  {
   "cell_type": "code",
   "execution_count": null,
   "metadata": {
    "collapsed": true
   },
   "outputs": [],
   "source": [
    "def gen_pairs_mean_feature(key):\n",
    "    key = tuple(key)\n",
    "    product = key[0]\n",
    "    client = key[1]\n",
    "    \n",
    "    val = prod_client_mean_dict['log_target'][(product,client)]\n",
    "    if np.isnan(val):\n",
    "        val = prod_mean_dict['log_target'][(product)]\n",
    "        if np.isnan(val):\n",
    "            val = client_mean_dict['log_target'][(client)]\n",
    "            if np.isnan(val):\n",
    "                val = global_mean\n",
    "            \n",
    "    return val"
   ]
  },
  {
   "cell_type": "code",
   "execution_count": null,
   "metadata": {
    "collapsed": true
   },
   "outputs": [],
   "source": [
    "tic()\n",
    "data['pairs_mean'] = data[['Producto_ID', 'Cliente_ID']].apply(lambda x:gen_pairs_mean_feature(x), axis=1)\n",
    "tac()"
   ]
  },
  {
   "cell_type": "code",
   "execution_count": null,
   "metadata": {
    "collapsed": true
   },
   "outputs": [],
   "source": [
    "data.head()"
   ]
  },
  {
   "cell_type": "markdown",
   "metadata": {},
   "source": [
    "### Feature 5: Create a broad category of Brand of item (brand hypothesis)\n",
    "Let's preprocess products a little bit. I borrowed some of the preprocessing from here: https://www.kaggle.com/vykhand/grupo-bimbo-inventory-demand/exploring-products"
   ]
  },
  {
   "cell_type": "code",
   "execution_count": 69,
   "metadata": {
    "collapsed": false
   },
   "outputs": [
    {
     "data": {
      "text/html": [
       "<div>\n",
       "<table border=\"1\" class=\"dataframe\">\n",
       "  <thead>\n",
       "    <tr style=\"text-align: right;\">\n",
       "      <th></th>\n",
       "      <th>Producto_ID</th>\n",
       "      <th>NombreProducto</th>\n",
       "      <th>short_name</th>\n",
       "      <th>brand</th>\n",
       "      <th>weight</th>\n",
       "      <th>pieces</th>\n",
       "    </tr>\n",
       "  </thead>\n",
       "  <tbody>\n",
       "    <tr>\n",
       "      <th>0</th>\n",
       "      <td>0</td>\n",
       "      <td>NO IDENTIFICADO 0</td>\n",
       "      <td>NO IDENTIFICADO</td>\n",
       "      <td>IDENTIFICADO</td>\n",
       "      <td>NaN</td>\n",
       "      <td>NaN</td>\n",
       "    </tr>\n",
       "    <tr>\n",
       "      <th>1</th>\n",
       "      <td>9</td>\n",
       "      <td>Capuccino Moka 750g NES 9</td>\n",
       "      <td>Capuccino Moka</td>\n",
       "      <td>NES</td>\n",
       "      <td>750</td>\n",
       "      <td>NaN</td>\n",
       "    </tr>\n",
       "    <tr>\n",
       "      <th>2</th>\n",
       "      <td>41</td>\n",
       "      <td>Bimbollos Ext sAjonjoli 6p 480g BIM 41</td>\n",
       "      <td>Bimbollos Ext sAjonjoli</td>\n",
       "      <td>BIM</td>\n",
       "      <td>480</td>\n",
       "      <td>6</td>\n",
       "    </tr>\n",
       "    <tr>\n",
       "      <th>3</th>\n",
       "      <td>53</td>\n",
       "      <td>Burritos Sincro 170g CU LON 53</td>\n",
       "      <td>Burritos Sincro</td>\n",
       "      <td>LON</td>\n",
       "      <td>170</td>\n",
       "      <td>NaN</td>\n",
       "    </tr>\n",
       "    <tr>\n",
       "      <th>4</th>\n",
       "      <td>72</td>\n",
       "      <td>Div Tira Mini Doradita 4p 45g TR 72</td>\n",
       "      <td>Div Tira Mini Doradita</td>\n",
       "      <td>TR</td>\n",
       "      <td>45</td>\n",
       "      <td>4</td>\n",
       "    </tr>\n",
       "  </tbody>\n",
       "</table>\n",
       "</div>"
      ],
      "text/plain": [
       "   Producto_ID                          NombreProducto  \\\n",
       "0            0                       NO IDENTIFICADO 0   \n",
       "1            9               Capuccino Moka 750g NES 9   \n",
       "2           41  Bimbollos Ext sAjonjoli 6p 480g BIM 41   \n",
       "3           53          Burritos Sincro 170g CU LON 53   \n",
       "4           72     Div Tira Mini Doradita 4p 45g TR 72   \n",
       "\n",
       "                 short_name         brand  weight  pieces  \n",
       "0          NO IDENTIFICADO   IDENTIFICADO     NaN     NaN  \n",
       "1           Capuccino Moka            NES     750     NaN  \n",
       "2  Bimbollos Ext sAjonjoli            BIM     480       6  \n",
       "3          Burritos Sincro            LON     170     NaN  \n",
       "4   Div Tira Mini Doradita             TR      45       4  "
      ]
     },
     "execution_count": 69,
     "metadata": {},
     "output_type": "execute_result"
    }
   ],
   "source": [
    "products  =  pd.read_csv(\"input-data/producto_tabla.csv\")\n",
    "products  =  pd.read_csv(\"input-data/producto_tabla.csv\")\n",
    "#products['short_name'] = products.NombreProducto.str.extract('^(\\D*)', expand=False)#python 2.7\n",
    "products['short_name'] = products.NombreProducto.str.extract('^(\\D*)')#python 3.0\n",
    "#products['brand'] = products.NombreProducto.str.extract('^.+\\s(\\D+) \\d+$', expand=False)\n",
    "products['brand'] = products.NombreProducto.str.extract('^.+\\s(\\D+) \\d+$')\n",
    "#w = products.NombreProducto.str.extract('(\\d+)(Kg|g)', expand=True)\n",
    "w = products.NombreProducto.str.extract('(\\d+)(Kg|g)')\n",
    "products['weight'] = w[0].astype('float')*w[1].map({'Kg':1000, 'g':1})\n",
    "#products['pieces'] =  products.NombreProducto.str.extract('(\\d+)p ', expand=False).astype('float')\n",
    "products['pieces'] =  products.NombreProducto.str.extract('(\\d+)p ').astype('float')\n",
    "products.head()"
   ]
  },
  {
   "cell_type": "code",
   "execution_count": 70,
   "metadata": {
    "collapsed": false
   },
   "outputs": [
    {
     "data": {
      "text/html": [
       "<div>\n",
       "<table border=\"1\" class=\"dataframe\">\n",
       "  <thead>\n",
       "    <tr style=\"text-align: right;\">\n",
       "      <th></th>\n",
       "      <th>Producto_ID</th>\n",
       "      <th>NombreProducto</th>\n",
       "      <th>short_name</th>\n",
       "      <th>brand</th>\n",
       "      <th>weight</th>\n",
       "      <th>pieces</th>\n",
       "    </tr>\n",
       "  </thead>\n",
       "  <tbody>\n",
       "    <tr>\n",
       "      <th>2587</th>\n",
       "      <td>49992</td>\n",
       "      <td>Tostado Integral 180g MTA WON 49992</td>\n",
       "      <td>Tostado Integral</td>\n",
       "      <td>WON</td>\n",
       "      <td>180</td>\n",
       "      <td>NaN</td>\n",
       "    </tr>\n",
       "    <tr>\n",
       "      <th>2588</th>\n",
       "      <td>49993</td>\n",
       "      <td>Tostado Integral 180g TAB WON 49993</td>\n",
       "      <td>Tostado Integral</td>\n",
       "      <td>WON</td>\n",
       "      <td>180</td>\n",
       "      <td>NaN</td>\n",
       "    </tr>\n",
       "    <tr>\n",
       "      <th>2589</th>\n",
       "      <td>49994</td>\n",
       "      <td>Tostado Int 0pct Grasa Azuc 200g WON 49994</td>\n",
       "      <td>Tostado Int</td>\n",
       "      <td>WON</td>\n",
       "      <td>200</td>\n",
       "      <td>NaN</td>\n",
       "    </tr>\n",
       "    <tr>\n",
       "      <th>2590</th>\n",
       "      <td>49996</td>\n",
       "      <td>Tostado Int 0pct Grasa Azuc 200g MTA WON 49996</td>\n",
       "      <td>Tostado Int</td>\n",
       "      <td>WON</td>\n",
       "      <td>200</td>\n",
       "      <td>NaN</td>\n",
       "    </tr>\n",
       "    <tr>\n",
       "      <th>2591</th>\n",
       "      <td>49997</td>\n",
       "      <td>Tostado Int 0pct Grasa Azuc 200g TAB WON 49997</td>\n",
       "      <td>Tostado Int</td>\n",
       "      <td>WON</td>\n",
       "      <td>200</td>\n",
       "      <td>NaN</td>\n",
       "    </tr>\n",
       "  </tbody>\n",
       "</table>\n",
       "</div>"
      ],
      "text/plain": [
       "      Producto_ID                                  NombreProducto  \\\n",
       "2587        49992             Tostado Integral 180g MTA WON 49992   \n",
       "2588        49993             Tostado Integral 180g TAB WON 49993   \n",
       "2589        49994      Tostado Int 0pct Grasa Azuc 200g WON 49994   \n",
       "2590        49996  Tostado Int 0pct Grasa Azuc 200g MTA WON 49996   \n",
       "2591        49997  Tostado Int 0pct Grasa Azuc 200g TAB WON 49997   \n",
       "\n",
       "             short_name brand  weight  pieces  \n",
       "2587  Tostado Integral    WON     180     NaN  \n",
       "2588  Tostado Integral    WON     180     NaN  \n",
       "2589       Tostado Int    WON     200     NaN  \n",
       "2590       Tostado Int    WON     200     NaN  \n",
       "2591       Tostado Int    WON     200     NaN  "
      ]
     },
     "execution_count": 70,
     "metadata": {},
     "output_type": "execute_result"
    }
   ],
   "source": [
    "products.tail()"
   ]
  },
  {
   "cell_type": "code",
   "execution_count": 71,
   "metadata": {
    "collapsed": false
   },
   "outputs": [
    {
     "data": {
      "text/plain": [
       "BIM             679\n",
       "MLA             657\n",
       "TR              257\n",
       "LAR             182\n",
       "GBI             130\n",
       "WON             117\n",
       "DH               95\n",
       "LON              83\n",
       "SAN              66\n",
       "MR               64\n",
       "ORO              44\n",
       "CC               33\n",
       "SL               32\n",
       "BAR              31\n",
       "SUA              20\n",
       "RIC              20\n",
       "MP               10\n",
       "SUN               9\n",
       "JMX               8\n",
       "SKD               7\n",
       "COR               5\n",
       "MCM               5\n",
       "THO               4\n",
       "NAI               4\n",
       "NES               3\n",
       "TRI               3\n",
       "MSK               2\n",
       "CHK               2\n",
       "PUL               2\n",
       "BRL               2\n",
       "KOD               2\n",
       "AM                1\n",
       "IDENTIFICADO      1\n",
       "BRE               1\n",
       "AV                1\n",
       "DIF               1\n",
       "CAR               1\n",
       "EMB               1\n",
       "MTB               1\n",
       "VR                1\n",
       "GV                1\n",
       "NEC               1\n",
       "VER               1\n",
       "LC                1\n",
       "Name: brand, dtype: int64"
      ]
     },
     "execution_count": 71,
     "metadata": {},
     "output_type": "execute_result"
    }
   ],
   "source": [
    "products.brand.value_counts()"
   ]
  },
  {
   "cell_type": "code",
   "execution_count": 72,
   "metadata": {
    "collapsed": false
   },
   "outputs": [
    {
     "data": {
      "text/plain": [
       "44"
      ]
     },
     "execution_count": 72,
     "metadata": {},
     "output_type": "execute_result"
    }
   ],
   "source": [
    "products.brand.nunique()"
   ]
  },
  {
   "cell_type": "code",
   "execution_count": 73,
   "metadata": {
    "collapsed": false
   },
   "outputs": [],
   "source": [
    "products_id_brand  = products[['Producto_ID', 'brand']].copy()"
   ]
  },
  {
   "cell_type": "code",
   "execution_count": 74,
   "metadata": {
    "collapsed": false
   },
   "outputs": [],
   "source": [
    "data = pd.merge(data, products_id_brand, on='Producto_ID')"
   ]
  },
  {
   "cell_type": "code",
   "execution_count": 75,
   "metadata": {
    "collapsed": false,
    "scrolled": false
   },
   "outputs": [
    {
     "data": {
      "text/html": [
       "<div>\n",
       "<table border=\"1\" class=\"dataframe\">\n",
       "  <thead>\n",
       "    <tr style=\"text-align: right;\">\n",
       "      <th></th>\n",
       "      <th>id</th>\n",
       "      <th>Semana</th>\n",
       "      <th>Agencia_ID</th>\n",
       "      <th>Canal_ID</th>\n",
       "      <th>Ruta_SAK</th>\n",
       "      <th>Cliente_ID</th>\n",
       "      <th>Producto_ID</th>\n",
       "      <th>Demanda_uni_equil</th>\n",
       "      <th>source</th>\n",
       "      <th>ix</th>\n",
       "      <th>log_target</th>\n",
       "      <th>Log_Target_mean_lag1</th>\n",
       "      <th>Log_Target_mean_lag2</th>\n",
       "      <th>Log_Target_mean_lag3</th>\n",
       "      <th>Log_Target_mean_lag4</th>\n",
       "      <th>rate_change2</th>\n",
       "      <th>rate_change3</th>\n",
       "      <th>rate_change4</th>\n",
       "      <th>Lags_sum</th>\n",
       "      <th>brand</th>\n",
       "    </tr>\n",
       "  </thead>\n",
       "  <tbody>\n",
       "    <tr>\n",
       "      <th>0</th>\n",
       "      <td>NaN</td>\n",
       "      <td>7</td>\n",
       "      <td>1110</td>\n",
       "      <td>7</td>\n",
       "      <td>3301</td>\n",
       "      <td>15766</td>\n",
       "      <td>1216</td>\n",
       "      <td>2</td>\n",
       "      <td>train</td>\n",
       "      <td>42982034</td>\n",
       "      <td>1.098612</td>\n",
       "      <td>0.693147</td>\n",
       "      <td>1.386294</td>\n",
       "      <td>1.098612</td>\n",
       "      <td>1.609438</td>\n",
       "      <td>-0.541672</td>\n",
       "      <td>0.224814</td>\n",
       "      <td>-0.399194</td>\n",
       "      <td>4.787492</td>\n",
       "      <td>BIM</td>\n",
       "    </tr>\n",
       "    <tr>\n",
       "      <th>1</th>\n",
       "      <td>NaN</td>\n",
       "      <td>7</td>\n",
       "      <td>1110</td>\n",
       "      <td>7</td>\n",
       "      <td>3301</td>\n",
       "      <td>988589</td>\n",
       "      <td>1216</td>\n",
       "      <td>1</td>\n",
       "      <td>train</td>\n",
       "      <td>42982209</td>\n",
       "      <td>0.693147</td>\n",
       "      <td>0.000000</td>\n",
       "      <td>0.000000</td>\n",
       "      <td>0.000000</td>\n",
       "      <td>0.000000</td>\n",
       "      <td>0.000000</td>\n",
       "      <td>0.000000</td>\n",
       "      <td>0.000000</td>\n",
       "      <td>0.000000</td>\n",
       "      <td>BIM</td>\n",
       "    </tr>\n",
       "    <tr>\n",
       "      <th>2</th>\n",
       "      <td>NaN</td>\n",
       "      <td>7</td>\n",
       "      <td>1110</td>\n",
       "      <td>7</td>\n",
       "      <td>3301</td>\n",
       "      <td>1255667</td>\n",
       "      <td>1216</td>\n",
       "      <td>4</td>\n",
       "      <td>train</td>\n",
       "      <td>42982269</td>\n",
       "      <td>1.609438</td>\n",
       "      <td>0.000000</td>\n",
       "      <td>0.000000</td>\n",
       "      <td>1.386294</td>\n",
       "      <td>1.386294</td>\n",
       "      <td>0.000000</td>\n",
       "      <td>-0.925513</td>\n",
       "      <td>0.000000</td>\n",
       "      <td>2.772589</td>\n",
       "      <td>BIM</td>\n",
       "    </tr>\n",
       "    <tr>\n",
       "      <th>3</th>\n",
       "      <td>NaN</td>\n",
       "      <td>7</td>\n",
       "      <td>1110</td>\n",
       "      <td>7</td>\n",
       "      <td>3301</td>\n",
       "      <td>1307034</td>\n",
       "      <td>1216</td>\n",
       "      <td>1</td>\n",
       "      <td>train</td>\n",
       "      <td>42982289</td>\n",
       "      <td>0.693147</td>\n",
       "      <td>0.000000</td>\n",
       "      <td>0.000000</td>\n",
       "      <td>1.098612</td>\n",
       "      <td>0.693147</td>\n",
       "      <td>0.000000</td>\n",
       "      <td>-1.382748</td>\n",
       "      <td>0.510331</td>\n",
       "      <td>1.791759</td>\n",
       "      <td>BIM</td>\n",
       "    </tr>\n",
       "    <tr>\n",
       "      <th>4</th>\n",
       "      <td>NaN</td>\n",
       "      <td>7</td>\n",
       "      <td>1110</td>\n",
       "      <td>7</td>\n",
       "      <td>3301</td>\n",
       "      <td>1603500</td>\n",
       "      <td>1216</td>\n",
       "      <td>1</td>\n",
       "      <td>train</td>\n",
       "      <td>42982338</td>\n",
       "      <td>0.693147</td>\n",
       "      <td>0.693147</td>\n",
       "      <td>1.386294</td>\n",
       "      <td>1.098612</td>\n",
       "      <td>0.000000</td>\n",
       "      <td>-0.759306</td>\n",
       "      <td>0.315140</td>\n",
       "      <td>1.203471</td>\n",
       "      <td>3.178054</td>\n",
       "      <td>BIM</td>\n",
       "    </tr>\n",
       "  </tbody>\n",
       "</table>\n",
       "</div>"
      ],
      "text/plain": [
       "   id  Semana  Agencia_ID  Canal_ID  Ruta_SAK  Cliente_ID  Producto_ID  \\\n",
       "0 NaN       7        1110         7      3301       15766         1216   \n",
       "1 NaN       7        1110         7      3301      988589         1216   \n",
       "2 NaN       7        1110         7      3301     1255667         1216   \n",
       "3 NaN       7        1110         7      3301     1307034         1216   \n",
       "4 NaN       7        1110         7      3301     1603500         1216   \n",
       "\n",
       "   Demanda_uni_equil source        ix  log_target  Log_Target_mean_lag1  \\\n",
       "0                  2  train  42982034    1.098612              0.693147   \n",
       "1                  1  train  42982209    0.693147              0.000000   \n",
       "2                  4  train  42982269    1.609438              0.000000   \n",
       "3                  1  train  42982289    0.693147              0.000000   \n",
       "4                  1  train  42982338    0.693147              0.693147   \n",
       "\n",
       "   Log_Target_mean_lag2  Log_Target_mean_lag3  Log_Target_mean_lag4  \\\n",
       "0              1.386294              1.098612              1.609438   \n",
       "1              0.000000              0.000000              0.000000   \n",
       "2              0.000000              1.386294              1.386294   \n",
       "3              0.000000              1.098612              0.693147   \n",
       "4              1.386294              1.098612              0.000000   \n",
       "\n",
       "   rate_change2  rate_change3  rate_change4  Lags_sum brand  \n",
       "0     -0.541672      0.224814     -0.399194  4.787492   BIM  \n",
       "1      0.000000      0.000000      0.000000  0.000000   BIM  \n",
       "2      0.000000     -0.925513      0.000000  2.772589   BIM  \n",
       "3      0.000000     -1.382748      0.510331  1.791759   BIM  \n",
       "4     -0.759306      0.315140      1.203471  3.178054   BIM  "
      ]
     },
     "execution_count": 75,
     "metadata": {},
     "output_type": "execute_result"
    }
   ],
   "source": [
    "data.head()"
   ]
  },
  {
   "cell_type": "markdown",
   "metadata": {},
   "source": [
    "### Feature 6: Create clusters of Products (utility hypothesis) - ramdonly pick 30 clusters"
   ]
  },
  {
   "cell_type": "code",
   "execution_count": 76,
   "metadata": {
    "collapsed": false
   },
   "outputs": [],
   "source": [
    "#Read files:\n",
    "product_clusters = pd.read_csv('input-data/producto_clusters.csv')"
   ]
  },
  {
   "cell_type": "code",
   "execution_count": 77,
   "metadata": {
    "collapsed": false
   },
   "outputs": [
    {
     "data": {
      "text/html": [
       "<div>\n",
       "<table border=\"1\" class=\"dataframe\">\n",
       "  <thead>\n",
       "    <tr style=\"text-align: right;\">\n",
       "      <th></th>\n",
       "      <th>Producto_ID</th>\n",
       "      <th>NombreProducto</th>\n",
       "      <th>product_shortname</th>\n",
       "      <th>cluster</th>\n",
       "    </tr>\n",
       "  </thead>\n",
       "  <tbody>\n",
       "    <tr>\n",
       "      <th>2586</th>\n",
       "      <td>49992</td>\n",
       "      <td>Tostado Integral 180g MTA WON 49992</td>\n",
       "      <td>Tostado Integral 180g</td>\n",
       "      <td>4</td>\n",
       "    </tr>\n",
       "    <tr>\n",
       "      <th>2587</th>\n",
       "      <td>49993</td>\n",
       "      <td>Tostado Integral 180g TAB WON 49993</td>\n",
       "      <td>Tostado Integral 180g</td>\n",
       "      <td>4</td>\n",
       "    </tr>\n",
       "    <tr>\n",
       "      <th>2588</th>\n",
       "      <td>49994</td>\n",
       "      <td>Tostado Int 0pct Grasa Azuc 200g WON 49994</td>\n",
       "      <td>Tostado Int 0pct Grasa Azuc 200g</td>\n",
       "      <td>4</td>\n",
       "    </tr>\n",
       "    <tr>\n",
       "      <th>2589</th>\n",
       "      <td>49996</td>\n",
       "      <td>Tostado Int 0pct Grasa Azuc 200g MTA WON 49996</td>\n",
       "      <td>Tostado Int 0pct Grasa Azuc 200g</td>\n",
       "      <td>4</td>\n",
       "    </tr>\n",
       "    <tr>\n",
       "      <th>2590</th>\n",
       "      <td>49997</td>\n",
       "      <td>Tostado Int 0pct Grasa Azuc 200g TAB WON 49997</td>\n",
       "      <td>Tostado Int 0pct Grasa Azuc 200g</td>\n",
       "      <td>4</td>\n",
       "    </tr>\n",
       "  </tbody>\n",
       "</table>\n",
       "</div>"
      ],
      "text/plain": [
       "      Producto_ID                                  NombreProducto  \\\n",
       "2586        49992             Tostado Integral 180g MTA WON 49992   \n",
       "2587        49993             Tostado Integral 180g TAB WON 49993   \n",
       "2588        49994      Tostado Int 0pct Grasa Azuc 200g WON 49994   \n",
       "2589        49996  Tostado Int 0pct Grasa Azuc 200g MTA WON 49996   \n",
       "2590        49997  Tostado Int 0pct Grasa Azuc 200g TAB WON 49997   \n",
       "\n",
       "                     product_shortname  cluster  \n",
       "2586             Tostado Integral 180g        4  \n",
       "2587             Tostado Integral 180g        4  \n",
       "2588  Tostado Int 0pct Grasa Azuc 200g        4  \n",
       "2589  Tostado Int 0pct Grasa Azuc 200g        4  \n",
       "2590  Tostado Int 0pct Grasa Azuc 200g        4  "
      ]
     },
     "execution_count": 77,
     "metadata": {},
     "output_type": "execute_result"
    }
   ],
   "source": [
    "product_clusters.tail()"
   ]
  },
  {
   "cell_type": "code",
   "execution_count": 78,
   "metadata": {
    "collapsed": false
   },
   "outputs": [
    {
     "name": "stdout",
     "output_type": "stream",
     "text": [
      "1     204\n",
      "14    137\n",
      "10    136\n",
      "11    124\n",
      "4     118\n",
      "13    109\n",
      "23    103\n",
      "24    101\n",
      "19     99\n",
      "17     93\n",
      "16     89\n",
      "8      88\n",
      "25     85\n",
      "30     81\n",
      "22     78\n",
      "20     75\n",
      "15     73\n",
      "9      73\n",
      "27     71\n",
      "5      70\n",
      "2      68\n",
      "6      65\n",
      "3      63\n",
      "26     62\n",
      "7      61\n",
      "28     60\n",
      "12     60\n",
      "18     59\n",
      "29     53\n",
      "21     33\n",
      "Name: cluster, dtype: int64\n"
     ]
    }
   ],
   "source": [
    "print (product_clusters[\"cluster\"].value_counts())"
   ]
  },
  {
   "cell_type": "code",
   "execution_count": 79,
   "metadata": {
    "collapsed": false
   },
   "outputs": [],
   "source": [
    "products_id_clusters = product_clusters[['Producto_ID', 'cluster']].copy()"
   ]
  },
  {
   "cell_type": "code",
   "execution_count": 80,
   "metadata": {
    "collapsed": false
   },
   "outputs": [
    {
     "data": {
      "text/html": [
       "<div>\n",
       "<table border=\"1\" class=\"dataframe\">\n",
       "  <thead>\n",
       "    <tr style=\"text-align: right;\">\n",
       "      <th></th>\n",
       "      <th>Producto_ID</th>\n",
       "      <th>cluster</th>\n",
       "    </tr>\n",
       "  </thead>\n",
       "  <tbody>\n",
       "    <tr>\n",
       "      <th>2586</th>\n",
       "      <td>49992</td>\n",
       "      <td>4</td>\n",
       "    </tr>\n",
       "    <tr>\n",
       "      <th>2587</th>\n",
       "      <td>49993</td>\n",
       "      <td>4</td>\n",
       "    </tr>\n",
       "    <tr>\n",
       "      <th>2588</th>\n",
       "      <td>49994</td>\n",
       "      <td>4</td>\n",
       "    </tr>\n",
       "    <tr>\n",
       "      <th>2589</th>\n",
       "      <td>49996</td>\n",
       "      <td>4</td>\n",
       "    </tr>\n",
       "    <tr>\n",
       "      <th>2590</th>\n",
       "      <td>49997</td>\n",
       "      <td>4</td>\n",
       "    </tr>\n",
       "  </tbody>\n",
       "</table>\n",
       "</div>"
      ],
      "text/plain": [
       "      Producto_ID  cluster\n",
       "2586        49992        4\n",
       "2587        49993        4\n",
       "2588        49994        4\n",
       "2589        49996        4\n",
       "2590        49997        4"
      ]
     },
     "execution_count": 80,
     "metadata": {},
     "output_type": "execute_result"
    }
   ],
   "source": [
    "products_id_clusters.tail()"
   ]
  },
  {
   "cell_type": "code",
   "execution_count": 81,
   "metadata": {
    "collapsed": false
   },
   "outputs": [],
   "source": [
    "data = pd.merge(data, products_id_clusters, on='Producto_ID')"
   ]
  },
  {
   "cell_type": "code",
   "execution_count": 82,
   "metadata": {
    "collapsed": false
   },
   "outputs": [
    {
     "data": {
      "text/html": [
       "<div>\n",
       "<table border=\"1\" class=\"dataframe\">\n",
       "  <thead>\n",
       "    <tr style=\"text-align: right;\">\n",
       "      <th></th>\n",
       "      <th>id</th>\n",
       "      <th>Semana</th>\n",
       "      <th>Agencia_ID</th>\n",
       "      <th>Canal_ID</th>\n",
       "      <th>Ruta_SAK</th>\n",
       "      <th>Cliente_ID</th>\n",
       "      <th>Producto_ID</th>\n",
       "      <th>Demanda_uni_equil</th>\n",
       "      <th>source</th>\n",
       "      <th>ix</th>\n",
       "      <th>...</th>\n",
       "      <th>Log_Target_mean_lag1</th>\n",
       "      <th>Log_Target_mean_lag2</th>\n",
       "      <th>Log_Target_mean_lag3</th>\n",
       "      <th>Log_Target_mean_lag4</th>\n",
       "      <th>rate_change2</th>\n",
       "      <th>rate_change3</th>\n",
       "      <th>rate_change4</th>\n",
       "      <th>Lags_sum</th>\n",
       "      <th>brand</th>\n",
       "      <th>cluster</th>\n",
       "    </tr>\n",
       "  </thead>\n",
       "  <tbody>\n",
       "    <tr>\n",
       "      <th>0</th>\n",
       "      <td>NaN</td>\n",
       "      <td>7</td>\n",
       "      <td>1110</td>\n",
       "      <td>7</td>\n",
       "      <td>3301</td>\n",
       "      <td>15766</td>\n",
       "      <td>1216</td>\n",
       "      <td>2</td>\n",
       "      <td>train</td>\n",
       "      <td>42982034</td>\n",
       "      <td>...</td>\n",
       "      <td>0.693147</td>\n",
       "      <td>1.386294</td>\n",
       "      <td>1.098612</td>\n",
       "      <td>1.609438</td>\n",
       "      <td>-0.541672</td>\n",
       "      <td>0.224814</td>\n",
       "      <td>-0.399194</td>\n",
       "      <td>4.787492</td>\n",
       "      <td>BIM</td>\n",
       "      <td>2</td>\n",
       "    </tr>\n",
       "    <tr>\n",
       "      <th>1</th>\n",
       "      <td>NaN</td>\n",
       "      <td>7</td>\n",
       "      <td>1110</td>\n",
       "      <td>7</td>\n",
       "      <td>3301</td>\n",
       "      <td>988589</td>\n",
       "      <td>1216</td>\n",
       "      <td>1</td>\n",
       "      <td>train</td>\n",
       "      <td>42982209</td>\n",
       "      <td>...</td>\n",
       "      <td>0.000000</td>\n",
       "      <td>0.000000</td>\n",
       "      <td>0.000000</td>\n",
       "      <td>0.000000</td>\n",
       "      <td>0.000000</td>\n",
       "      <td>0.000000</td>\n",
       "      <td>0.000000</td>\n",
       "      <td>0.000000</td>\n",
       "      <td>BIM</td>\n",
       "      <td>2</td>\n",
       "    </tr>\n",
       "    <tr>\n",
       "      <th>2</th>\n",
       "      <td>NaN</td>\n",
       "      <td>7</td>\n",
       "      <td>1110</td>\n",
       "      <td>7</td>\n",
       "      <td>3301</td>\n",
       "      <td>1255667</td>\n",
       "      <td>1216</td>\n",
       "      <td>4</td>\n",
       "      <td>train</td>\n",
       "      <td>42982269</td>\n",
       "      <td>...</td>\n",
       "      <td>0.000000</td>\n",
       "      <td>0.000000</td>\n",
       "      <td>1.386294</td>\n",
       "      <td>1.386294</td>\n",
       "      <td>0.000000</td>\n",
       "      <td>-0.925513</td>\n",
       "      <td>0.000000</td>\n",
       "      <td>2.772589</td>\n",
       "      <td>BIM</td>\n",
       "      <td>2</td>\n",
       "    </tr>\n",
       "    <tr>\n",
       "      <th>3</th>\n",
       "      <td>NaN</td>\n",
       "      <td>7</td>\n",
       "      <td>1110</td>\n",
       "      <td>7</td>\n",
       "      <td>3301</td>\n",
       "      <td>1307034</td>\n",
       "      <td>1216</td>\n",
       "      <td>1</td>\n",
       "      <td>train</td>\n",
       "      <td>42982289</td>\n",
       "      <td>...</td>\n",
       "      <td>0.000000</td>\n",
       "      <td>0.000000</td>\n",
       "      <td>1.098612</td>\n",
       "      <td>0.693147</td>\n",
       "      <td>0.000000</td>\n",
       "      <td>-1.382748</td>\n",
       "      <td>0.510331</td>\n",
       "      <td>1.791759</td>\n",
       "      <td>BIM</td>\n",
       "      <td>2</td>\n",
       "    </tr>\n",
       "    <tr>\n",
       "      <th>4</th>\n",
       "      <td>NaN</td>\n",
       "      <td>7</td>\n",
       "      <td>1110</td>\n",
       "      <td>7</td>\n",
       "      <td>3301</td>\n",
       "      <td>1603500</td>\n",
       "      <td>1216</td>\n",
       "      <td>1</td>\n",
       "      <td>train</td>\n",
       "      <td>42982338</td>\n",
       "      <td>...</td>\n",
       "      <td>0.693147</td>\n",
       "      <td>1.386294</td>\n",
       "      <td>1.098612</td>\n",
       "      <td>0.000000</td>\n",
       "      <td>-0.759306</td>\n",
       "      <td>0.315140</td>\n",
       "      <td>1.203471</td>\n",
       "      <td>3.178054</td>\n",
       "      <td>BIM</td>\n",
       "      <td>2</td>\n",
       "    </tr>\n",
       "  </tbody>\n",
       "</table>\n",
       "<p>5 rows × 21 columns</p>\n",
       "</div>"
      ],
      "text/plain": [
       "   id  Semana  Agencia_ID  Canal_ID  Ruta_SAK  Cliente_ID  Producto_ID  \\\n",
       "0 NaN       7        1110         7      3301       15766         1216   \n",
       "1 NaN       7        1110         7      3301      988589         1216   \n",
       "2 NaN       7        1110         7      3301     1255667         1216   \n",
       "3 NaN       7        1110         7      3301     1307034         1216   \n",
       "4 NaN       7        1110         7      3301     1603500         1216   \n",
       "\n",
       "   Demanda_uni_equil source        ix   ...    Log_Target_mean_lag1  \\\n",
       "0                  2  train  42982034   ...                0.693147   \n",
       "1                  1  train  42982209   ...                0.000000   \n",
       "2                  4  train  42982269   ...                0.000000   \n",
       "3                  1  train  42982289   ...                0.000000   \n",
       "4                  1  train  42982338   ...                0.693147   \n",
       "\n",
       "   Log_Target_mean_lag2  Log_Target_mean_lag3  Log_Target_mean_lag4  \\\n",
       "0              1.386294              1.098612              1.609438   \n",
       "1              0.000000              0.000000              0.000000   \n",
       "2              0.000000              1.386294              1.386294   \n",
       "3              0.000000              1.098612              0.693147   \n",
       "4              1.386294              1.098612              0.000000   \n",
       "\n",
       "   rate_change2  rate_change3  rate_change4  Lags_sum  brand cluster  \n",
       "0     -0.541672      0.224814     -0.399194  4.787492    BIM       2  \n",
       "1      0.000000      0.000000      0.000000  0.000000    BIM       2  \n",
       "2      0.000000     -0.925513      0.000000  2.772589    BIM       2  \n",
       "3      0.000000     -1.382748      0.510331  1.791759    BIM       2  \n",
       "4     -0.759306      0.315140      1.203471  3.178054    BIM       2  \n",
       "\n",
       "[5 rows x 21 columns]"
      ]
     },
     "execution_count": 82,
     "metadata": {},
     "output_type": "execute_result"
    }
   ],
   "source": [
    "data.head()"
   ]
  },
  {
   "cell_type": "markdown",
   "metadata": {},
   "source": [
    "### Feature 7: Create a category of Size of store based on Number of Agencies and Routes and Sales Channels that serve the store"
   ]
  },
  {
   "cell_type": "code",
   "execution_count": 83,
   "metadata": {
    "collapsed": false
   },
   "outputs": [],
   "source": [
    "#Determine pivot table\n",
    "Rutas_per_store = data.pivot_table(values=[\"Ruta_SAK\"], index=[\"Cliente_ID\"], aggfunc=pd.Series.nunique)"
   ]
  },
  {
   "cell_type": "code",
   "execution_count": 84,
   "metadata": {
    "collapsed": false
   },
   "outputs": [
    {
     "data": {
      "text/html": [
       "<div>\n",
       "<table border=\"1\" class=\"dataframe\">\n",
       "  <thead>\n",
       "    <tr style=\"text-align: right;\">\n",
       "      <th></th>\n",
       "      <th>Ruta_SAK</th>\n",
       "    </tr>\n",
       "  </thead>\n",
       "  <tbody>\n",
       "    <tr>\n",
       "      <th>count</th>\n",
       "      <td>858290.000000</td>\n",
       "    </tr>\n",
       "    <tr>\n",
       "      <th>mean</th>\n",
       "      <td>2.426705</td>\n",
       "    </tr>\n",
       "    <tr>\n",
       "      <th>std</th>\n",
       "      <td>1.411257</td>\n",
       "    </tr>\n",
       "    <tr>\n",
       "      <th>min</th>\n",
       "      <td>1.000000</td>\n",
       "    </tr>\n",
       "    <tr>\n",
       "      <th>25%</th>\n",
       "      <td>1.000000</td>\n",
       "    </tr>\n",
       "    <tr>\n",
       "      <th>50%</th>\n",
       "      <td>2.000000</td>\n",
       "    </tr>\n",
       "    <tr>\n",
       "      <th>75%</th>\n",
       "      <td>3.000000</td>\n",
       "    </tr>\n",
       "    <tr>\n",
       "      <th>max</th>\n",
       "      <td>47.000000</td>\n",
       "    </tr>\n",
       "  </tbody>\n",
       "</table>\n",
       "</div>"
      ],
      "text/plain": [
       "            Ruta_SAK\n",
       "count  858290.000000\n",
       "mean        2.426705\n",
       "std         1.411257\n",
       "min         1.000000\n",
       "25%         1.000000\n",
       "50%         2.000000\n",
       "75%         3.000000\n",
       "max        47.000000"
      ]
     },
     "execution_count": 84,
     "metadata": {},
     "output_type": "execute_result"
    }
   ],
   "source": [
    "Rutas_per_store.describe()"
   ]
  },
  {
   "cell_type": "code",
   "execution_count": 85,
   "metadata": {
    "collapsed": false
   },
   "outputs": [],
   "source": [
    "Agencies_per_store = data.pivot_table(values=[\"Agencia_ID\"], index=[\"Cliente_ID\"], aggfunc=pd.Series.nunique)"
   ]
  },
  {
   "cell_type": "code",
   "execution_count": 86,
   "metadata": {
    "collapsed": false
   },
   "outputs": [
    {
     "data": {
      "text/html": [
       "<div>\n",
       "<table border=\"1\" class=\"dataframe\">\n",
       "  <thead>\n",
       "    <tr style=\"text-align: right;\">\n",
       "      <th></th>\n",
       "      <th>Agencia_ID</th>\n",
       "    </tr>\n",
       "  </thead>\n",
       "  <tbody>\n",
       "    <tr>\n",
       "      <th>count</th>\n",
       "      <td>858290.000000</td>\n",
       "    </tr>\n",
       "    <tr>\n",
       "      <th>mean</th>\n",
       "      <td>1.049571</td>\n",
       "    </tr>\n",
       "    <tr>\n",
       "      <th>std</th>\n",
       "      <td>0.244343</td>\n",
       "    </tr>\n",
       "    <tr>\n",
       "      <th>min</th>\n",
       "      <td>1.000000</td>\n",
       "    </tr>\n",
       "    <tr>\n",
       "      <th>25%</th>\n",
       "      <td>1.000000</td>\n",
       "    </tr>\n",
       "    <tr>\n",
       "      <th>50%</th>\n",
       "      <td>1.000000</td>\n",
       "    </tr>\n",
       "    <tr>\n",
       "      <th>75%</th>\n",
       "      <td>1.000000</td>\n",
       "    </tr>\n",
       "    <tr>\n",
       "      <th>max</th>\n",
       "      <td>63.000000</td>\n",
       "    </tr>\n",
       "  </tbody>\n",
       "</table>\n",
       "</div>"
      ],
      "text/plain": [
       "          Agencia_ID\n",
       "count  858290.000000\n",
       "mean        1.049571\n",
       "std         0.244343\n",
       "min         1.000000\n",
       "25%         1.000000\n",
       "50%         1.000000\n",
       "75%         1.000000\n",
       "max        63.000000"
      ]
     },
     "execution_count": 86,
     "metadata": {},
     "output_type": "execute_result"
    }
   ],
   "source": [
    "Agencies_per_store.describe()"
   ]
  },
  {
   "cell_type": "code",
   "execution_count": 87,
   "metadata": {
    "collapsed": false
   },
   "outputs": [],
   "source": [
    "Canals_per_store = data.pivot_table(values=[\"Canal_ID\"], index=[\"Cliente_ID\"], aggfunc=pd.Series.nunique)"
   ]
  },
  {
   "cell_type": "code",
   "execution_count": 88,
   "metadata": {
    "collapsed": false
   },
   "outputs": [
    {
     "data": {
      "text/html": [
       "<div>\n",
       "<table border=\"1\" class=\"dataframe\">\n",
       "  <thead>\n",
       "    <tr style=\"text-align: right;\">\n",
       "      <th></th>\n",
       "      <th>Canal_ID</th>\n",
       "    </tr>\n",
       "  </thead>\n",
       "  <tbody>\n",
       "    <tr>\n",
       "      <th>count</th>\n",
       "      <td>858290.000000</td>\n",
       "    </tr>\n",
       "    <tr>\n",
       "      <th>mean</th>\n",
       "      <td>1.006472</td>\n",
       "    </tr>\n",
       "    <tr>\n",
       "      <th>std</th>\n",
       "      <td>0.080898</td>\n",
       "    </tr>\n",
       "    <tr>\n",
       "      <th>min</th>\n",
       "      <td>1.000000</td>\n",
       "    </tr>\n",
       "    <tr>\n",
       "      <th>25%</th>\n",
       "      <td>1.000000</td>\n",
       "    </tr>\n",
       "    <tr>\n",
       "      <th>50%</th>\n",
       "      <td>1.000000</td>\n",
       "    </tr>\n",
       "    <tr>\n",
       "      <th>75%</th>\n",
       "      <td>1.000000</td>\n",
       "    </tr>\n",
       "    <tr>\n",
       "      <th>max</th>\n",
       "      <td>4.000000</td>\n",
       "    </tr>\n",
       "  </tbody>\n",
       "</table>\n",
       "</div>"
      ],
      "text/plain": [
       "            Canal_ID\n",
       "count  858290.000000\n",
       "mean        1.006472\n",
       "std         0.080898\n",
       "min         1.000000\n",
       "25%         1.000000\n",
       "50%         1.000000\n",
       "75%         1.000000\n",
       "max         4.000000"
      ]
     },
     "execution_count": 88,
     "metadata": {},
     "output_type": "execute_result"
    }
   ],
   "source": [
    "Canals_per_store.describe()"
   ]
  },
  {
   "cell_type": "markdown",
   "metadata": {},
   "source": [
    "It doesn't look that we can Bin on Canal_ID or Agencia_ID since they are not at least semi evenly ditributed, but it does look like Ruta_SAK is a good option based on the percentiles distribution\""
   ]
  },
  {
   "cell_type": "code",
   "execution_count": 89,
   "metadata": {
    "collapsed": true
   },
   "outputs": [],
   "source": [
    "Rutas_per_store.rename(columns={'Ruta_SAK': 'Qty_Ruta_SAK'}, inplace=True)"
   ]
  },
  {
   "cell_type": "code",
   "execution_count": 90,
   "metadata": {
    "collapsed": false
   },
   "outputs": [],
   "source": [
    "#Mergin Routa_Sak's per client to data df\n",
    "data = pd.merge(data,Rutas_per_store,right_index=True, left_on='Cliente_ID')"
   ]
  },
  {
   "cell_type": "code",
   "execution_count": 91,
   "metadata": {
    "collapsed": false
   },
   "outputs": [
    {
     "data": {
      "text/html": [
       "<div>\n",
       "<table border=\"1\" class=\"dataframe\">\n",
       "  <thead>\n",
       "    <tr style=\"text-align: right;\">\n",
       "      <th></th>\n",
       "      <th>id</th>\n",
       "      <th>Semana</th>\n",
       "      <th>Agencia_ID</th>\n",
       "      <th>Canal_ID</th>\n",
       "      <th>Ruta_SAK</th>\n",
       "      <th>Cliente_ID</th>\n",
       "      <th>Producto_ID</th>\n",
       "      <th>Demanda_uni_equil</th>\n",
       "      <th>source</th>\n",
       "      <th>ix</th>\n",
       "      <th>...</th>\n",
       "      <th>Log_Target_mean_lag2</th>\n",
       "      <th>Log_Target_mean_lag3</th>\n",
       "      <th>Log_Target_mean_lag4</th>\n",
       "      <th>rate_change2</th>\n",
       "      <th>rate_change3</th>\n",
       "      <th>rate_change4</th>\n",
       "      <th>Lags_sum</th>\n",
       "      <th>brand</th>\n",
       "      <th>cluster</th>\n",
       "      <th>Qty_Ruta_SAK</th>\n",
       "    </tr>\n",
       "  </thead>\n",
       "  <tbody>\n",
       "    <tr>\n",
       "      <th>38194866</th>\n",
       "      <td>5500823</td>\n",
       "      <td>11</td>\n",
       "      <td>1338</td>\n",
       "      <td>1</td>\n",
       "      <td>5002</td>\n",
       "      <td>4741815</td>\n",
       "      <td>37202</td>\n",
       "      <td>NaN</td>\n",
       "      <td>test</td>\n",
       "      <td>79681287</td>\n",
       "      <td>...</td>\n",
       "      <td>0</td>\n",
       "      <td>0</td>\n",
       "      <td>0</td>\n",
       "      <td>0</td>\n",
       "      <td>0</td>\n",
       "      <td>0</td>\n",
       "      <td>0</td>\n",
       "      <td>TR</td>\n",
       "      <td>24</td>\n",
       "      <td>1</td>\n",
       "    </tr>\n",
       "    <tr>\n",
       "      <th>38196446</th>\n",
       "      <td>2406248</td>\n",
       "      <td>11</td>\n",
       "      <td>1970</td>\n",
       "      <td>1</td>\n",
       "      <td>1226</td>\n",
       "      <td>9589061</td>\n",
       "      <td>46131</td>\n",
       "      <td>NaN</td>\n",
       "      <td>test</td>\n",
       "      <td>76586712</td>\n",
       "      <td>...</td>\n",
       "      <td>0</td>\n",
       "      <td>0</td>\n",
       "      <td>0</td>\n",
       "      <td>0</td>\n",
       "      <td>0</td>\n",
       "      <td>0</td>\n",
       "      <td>0</td>\n",
       "      <td>BIM</td>\n",
       "      <td>19</td>\n",
       "      <td>1</td>\n",
       "    </tr>\n",
       "    <tr>\n",
       "      <th>38196921</th>\n",
       "      <td>6277674</td>\n",
       "      <td>10</td>\n",
       "      <td>1970</td>\n",
       "      <td>1</td>\n",
       "      <td>1226</td>\n",
       "      <td>9589061</td>\n",
       "      <td>46131</td>\n",
       "      <td>NaN</td>\n",
       "      <td>test</td>\n",
       "      <td>80458138</td>\n",
       "      <td>...</td>\n",
       "      <td>0</td>\n",
       "      <td>0</td>\n",
       "      <td>0</td>\n",
       "      <td>0</td>\n",
       "      <td>0</td>\n",
       "      <td>0</td>\n",
       "      <td>0</td>\n",
       "      <td>BIM</td>\n",
       "      <td>19</td>\n",
       "      <td>1</td>\n",
       "    </tr>\n",
       "    <tr>\n",
       "      <th>38197081</th>\n",
       "      <td>648237</td>\n",
       "      <td>11</td>\n",
       "      <td>2092</td>\n",
       "      <td>11</td>\n",
       "      <td>3903</td>\n",
       "      <td>4765705</td>\n",
       "      <td>36524</td>\n",
       "      <td>NaN</td>\n",
       "      <td>test</td>\n",
       "      <td>74828701</td>\n",
       "      <td>...</td>\n",
       "      <td>0</td>\n",
       "      <td>0</td>\n",
       "      <td>0</td>\n",
       "      <td>0</td>\n",
       "      <td>0</td>\n",
       "      <td>0</td>\n",
       "      <td>0</td>\n",
       "      <td>TR</td>\n",
       "      <td>8</td>\n",
       "      <td>1</td>\n",
       "    </tr>\n",
       "    <tr>\n",
       "      <th>38197649</th>\n",
       "      <td>1894706</td>\n",
       "      <td>11</td>\n",
       "      <td>3223</td>\n",
       "      <td>8</td>\n",
       "      <td>3404</td>\n",
       "      <td>4099961</td>\n",
       "      <td>48298</td>\n",
       "      <td>NaN</td>\n",
       "      <td>test</td>\n",
       "      <td>76075170</td>\n",
       "      <td>...</td>\n",
       "      <td>0</td>\n",
       "      <td>0</td>\n",
       "      <td>0</td>\n",
       "      <td>0</td>\n",
       "      <td>0</td>\n",
       "      <td>0</td>\n",
       "      <td>0</td>\n",
       "      <td>GBI</td>\n",
       "      <td>24</td>\n",
       "      <td>1</td>\n",
       "    </tr>\n",
       "  </tbody>\n",
       "</table>\n",
       "<p>5 rows × 22 columns</p>\n",
       "</div>"
      ],
      "text/plain": [
       "               id  Semana  Agencia_ID  Canal_ID  Ruta_SAK  Cliente_ID  \\\n",
       "38194866  5500823      11        1338         1      5002     4741815   \n",
       "38196446  2406248      11        1970         1      1226     9589061   \n",
       "38196921  6277674      10        1970         1      1226     9589061   \n",
       "38197081   648237      11        2092        11      3903     4765705   \n",
       "38197649  1894706      11        3223         8      3404     4099961   \n",
       "\n",
       "          Producto_ID  Demanda_uni_equil source        ix     ...       \\\n",
       "38194866        37202                NaN   test  79681287     ...        \n",
       "38196446        46131                NaN   test  76586712     ...        \n",
       "38196921        46131                NaN   test  80458138     ...        \n",
       "38197081        36524                NaN   test  74828701     ...        \n",
       "38197649        48298                NaN   test  76075170     ...        \n",
       "\n",
       "          Log_Target_mean_lag2  Log_Target_mean_lag3  Log_Target_mean_lag4  \\\n",
       "38194866                     0                     0                     0   \n",
       "38196446                     0                     0                     0   \n",
       "38196921                     0                     0                     0   \n",
       "38197081                     0                     0                     0   \n",
       "38197649                     0                     0                     0   \n",
       "\n",
       "          rate_change2  rate_change3  rate_change4  Lags_sum  brand  cluster  \\\n",
       "38194866             0             0             0         0     TR       24   \n",
       "38196446             0             0             0         0    BIM       19   \n",
       "38196921             0             0             0         0    BIM       19   \n",
       "38197081             0             0             0         0     TR        8   \n",
       "38197649             0             0             0         0    GBI       24   \n",
       "\n",
       "         Qty_Ruta_SAK  \n",
       "38194866            1  \n",
       "38196446            1  \n",
       "38196921            1  \n",
       "38197081            1  \n",
       "38197649            1  \n",
       "\n",
       "[5 rows x 22 columns]"
      ]
     },
     "execution_count": 91,
     "metadata": {},
     "output_type": "execute_result"
    }
   ],
   "source": [
    "data.tail()"
   ]
  },
  {
   "cell_type": "code",
   "execution_count": 92,
   "metadata": {
    "collapsed": false
   },
   "outputs": [
    {
     "name": "stdout",
     "output_type": "stream",
     "text": [
      "low          12537899\n",
      "medium       14026740\n",
      "high         11559475\n",
      "very high       73567\n",
      "dtype: int64\n"
     ]
    }
   ],
   "source": [
    "#Binning:\n",
    "def binning(col, cut_points, labels=None):\n",
    "  #Define min and max values:\n",
    "  minval = col.min()\n",
    "  maxval = col.max()\n",
    "\n",
    "  #create list by adding min and max to cut_points\n",
    "  break_points = [minval] + cut_points + [maxval]\n",
    "\n",
    "  #if no labels provided, use default labels 0 ... (n-1)\n",
    "  if not labels:\n",
    "    labels = range(len(cut_points)+1)\n",
    "\n",
    "  #Binning using cut function of pandas\n",
    "  colBin = pd.cut(col,bins=break_points,labels=labels,include_lowest=True)\n",
    "  return colBin\n",
    "\n",
    "#Binning Qty_Ruta_SAK:\n",
    "cut_points = [2,4,10]\n",
    "labels = [\"low\",\"medium\",\"high\",\"very high\"]\n",
    "data[\"Qty_Ruta_SAK_Bin\"] = binning(data[\"Qty_Ruta_SAK\"], cut_points, labels)\n",
    "print (pd.value_counts(data[\"Qty_Ruta_SAK_Bin\"], sort=False))"
   ]
  },
  {
   "cell_type": "code",
   "execution_count": 93,
   "metadata": {
    "collapsed": true
   },
   "outputs": [],
   "source": [
    "#We don't need Qty_Ruta_Sak anymore\n",
    "data.drop(['Qty_Ruta_SAK'],axis=1,inplace=True)"
   ]
  },
  {
   "cell_type": "code",
   "execution_count": 94,
   "metadata": {
    "collapsed": false
   },
   "outputs": [
    {
     "data": {
      "text/html": [
       "<div>\n",
       "<table border=\"1\" class=\"dataframe\">\n",
       "  <thead>\n",
       "    <tr style=\"text-align: right;\">\n",
       "      <th></th>\n",
       "      <th>id</th>\n",
       "      <th>Semana</th>\n",
       "      <th>Agencia_ID</th>\n",
       "      <th>Canal_ID</th>\n",
       "      <th>Ruta_SAK</th>\n",
       "      <th>Cliente_ID</th>\n",
       "      <th>Producto_ID</th>\n",
       "      <th>Demanda_uni_equil</th>\n",
       "      <th>source</th>\n",
       "      <th>ix</th>\n",
       "      <th>...</th>\n",
       "      <th>Log_Target_mean_lag2</th>\n",
       "      <th>Log_Target_mean_lag3</th>\n",
       "      <th>Log_Target_mean_lag4</th>\n",
       "      <th>rate_change2</th>\n",
       "      <th>rate_change3</th>\n",
       "      <th>rate_change4</th>\n",
       "      <th>Lags_sum</th>\n",
       "      <th>brand</th>\n",
       "      <th>cluster</th>\n",
       "      <th>Qty_Ruta_SAK_Bin</th>\n",
       "    </tr>\n",
       "  </thead>\n",
       "  <tbody>\n",
       "    <tr>\n",
       "      <th>0</th>\n",
       "      <td>NaN</td>\n",
       "      <td>7</td>\n",
       "      <td>1110</td>\n",
       "      <td>7</td>\n",
       "      <td>3301</td>\n",
       "      <td>15766</td>\n",
       "      <td>1216</td>\n",
       "      <td>2</td>\n",
       "      <td>train</td>\n",
       "      <td>42982034</td>\n",
       "      <td>...</td>\n",
       "      <td>1.386294</td>\n",
       "      <td>1.098612</td>\n",
       "      <td>1.609438</td>\n",
       "      <td>-0.541672</td>\n",
       "      <td>0.224814</td>\n",
       "      <td>-0.399194</td>\n",
       "      <td>4.787492</td>\n",
       "      <td>BIM</td>\n",
       "      <td>2</td>\n",
       "      <td>low</td>\n",
       "    </tr>\n",
       "    <tr>\n",
       "      <th>142133</th>\n",
       "      <td>NaN</td>\n",
       "      <td>8</td>\n",
       "      <td>1110</td>\n",
       "      <td>7</td>\n",
       "      <td>3301</td>\n",
       "      <td>15766</td>\n",
       "      <td>1216</td>\n",
       "      <td>5</td>\n",
       "      <td>train</td>\n",
       "      <td>53364884</td>\n",
       "      <td>...</td>\n",
       "      <td>0.693147</td>\n",
       "      <td>1.386294</td>\n",
       "      <td>1.098612</td>\n",
       "      <td>0.316858</td>\n",
       "      <td>-0.541672</td>\n",
       "      <td>0.224814</td>\n",
       "      <td>4.276666</td>\n",
       "      <td>BIM</td>\n",
       "      <td>2</td>\n",
       "      <td>low</td>\n",
       "    </tr>\n",
       "    <tr>\n",
       "      <th>418305</th>\n",
       "      <td>924190</td>\n",
       "      <td>11</td>\n",
       "      <td>1110</td>\n",
       "      <td>7</td>\n",
       "      <td>3301</td>\n",
       "      <td>15766</td>\n",
       "      <td>1216</td>\n",
       "      <td>NaN</td>\n",
       "      <td>test</td>\n",
       "      <td>75104654</td>\n",
       "      <td>...</td>\n",
       "      <td>0.000000</td>\n",
       "      <td>1.791759</td>\n",
       "      <td>1.098612</td>\n",
       "      <td>0.000000</td>\n",
       "      <td>-1.400202</td>\n",
       "      <td>0.541672</td>\n",
       "      <td>2.890372</td>\n",
       "      <td>BIM</td>\n",
       "      <td>2</td>\n",
       "      <td>low</td>\n",
       "    </tr>\n",
       "    <tr>\n",
       "      <th>490311</th>\n",
       "      <td>NaN</td>\n",
       "      <td>7</td>\n",
       "      <td>1110</td>\n",
       "      <td>7</td>\n",
       "      <td>3301</td>\n",
       "      <td>15766</td>\n",
       "      <td>1238</td>\n",
       "      <td>2</td>\n",
       "      <td>train</td>\n",
       "      <td>42982035</td>\n",
       "      <td>...</td>\n",
       "      <td>0.693147</td>\n",
       "      <td>1.386294</td>\n",
       "      <td>1.609438</td>\n",
       "      <td>0.334524</td>\n",
       "      <td>-0.571872</td>\n",
       "      <td>-0.184102</td>\n",
       "      <td>4.787492</td>\n",
       "      <td>BIM</td>\n",
       "      <td>2</td>\n",
       "      <td>low</td>\n",
       "    </tr>\n",
       "    <tr>\n",
       "      <th>655054</th>\n",
       "      <td>NaN</td>\n",
       "      <td>8</td>\n",
       "      <td>1110</td>\n",
       "      <td>7</td>\n",
       "      <td>3301</td>\n",
       "      <td>15766</td>\n",
       "      <td>1238</td>\n",
       "      <td>3</td>\n",
       "      <td>train</td>\n",
       "      <td>53364886</td>\n",
       "      <td>...</td>\n",
       "      <td>1.098612</td>\n",
       "      <td>0.693147</td>\n",
       "      <td>1.386294</td>\n",
       "      <td>0.000000</td>\n",
       "      <td>0.334524</td>\n",
       "      <td>-0.571872</td>\n",
       "      <td>4.276666</td>\n",
       "      <td>BIM</td>\n",
       "      <td>2</td>\n",
       "      <td>low</td>\n",
       "    </tr>\n",
       "  </tbody>\n",
       "</table>\n",
       "<p>5 rows × 22 columns</p>\n",
       "</div>"
      ],
      "text/plain": [
       "            id  Semana  Agencia_ID  Canal_ID  Ruta_SAK  Cliente_ID  \\\n",
       "0          NaN       7        1110         7      3301       15766   \n",
       "142133     NaN       8        1110         7      3301       15766   \n",
       "418305  924190      11        1110         7      3301       15766   \n",
       "490311     NaN       7        1110         7      3301       15766   \n",
       "655054     NaN       8        1110         7      3301       15766   \n",
       "\n",
       "        Producto_ID  Demanda_uni_equil source        ix       ...         \\\n",
       "0              1216                  2  train  42982034       ...          \n",
       "142133         1216                  5  train  53364884       ...          \n",
       "418305         1216                NaN   test  75104654       ...          \n",
       "490311         1238                  2  train  42982035       ...          \n",
       "655054         1238                  3  train  53364886       ...          \n",
       "\n",
       "        Log_Target_mean_lag2  Log_Target_mean_lag3  Log_Target_mean_lag4  \\\n",
       "0                   1.386294              1.098612              1.609438   \n",
       "142133              0.693147              1.386294              1.098612   \n",
       "418305              0.000000              1.791759              1.098612   \n",
       "490311              0.693147              1.386294              1.609438   \n",
       "655054              1.098612              0.693147              1.386294   \n",
       "\n",
       "        rate_change2  rate_change3  rate_change4  Lags_sum  brand  cluster  \\\n",
       "0          -0.541672      0.224814     -0.399194  4.787492    BIM        2   \n",
       "142133      0.316858     -0.541672      0.224814  4.276666    BIM        2   \n",
       "418305      0.000000     -1.400202      0.541672  2.890372    BIM        2   \n",
       "490311      0.334524     -0.571872     -0.184102  4.787492    BIM        2   \n",
       "655054      0.000000      0.334524     -0.571872  4.276666    BIM        2   \n",
       "\n",
       "       Qty_Ruta_SAK_Bin  \n",
       "0                   low  \n",
       "142133              low  \n",
       "418305              low  \n",
       "490311              low  \n",
       "655054              low  \n",
       "\n",
       "[5 rows x 22 columns]"
      ]
     },
     "execution_count": 94,
     "metadata": {},
     "output_type": "execute_result"
    }
   ],
   "source": [
    "data.head()"
   ]
  },
  {
   "cell_type": "markdown",
   "metadata": {},
   "source": [
    "### Feature 8: Create a category of location based on zip code (embedded on town table)"
   ]
  },
  {
   "cell_type": "code",
   "execution_count": 95,
   "metadata": {
    "collapsed": false
   },
   "outputs": [],
   "source": [
    "import re \n",
    "import os\n",
    "import time\n",
    "towns = pd.read_csv(\"input-data/town_state.csv\")\n",
    "L = lambda x: list(map(int, re.findall('\\d+', x)))[0]\n",
    "towns['ZipCode'] = towns.Town.apply(L) \n",
    "towns['ZipCode'] = np.uint16(towns['ZipCode'])"
   ]
  },
  {
   "cell_type": "code",
   "execution_count": 96,
   "metadata": {
    "collapsed": true
   },
   "outputs": [],
   "source": [
    "zipcodes_df = towns[['Agencia_ID', 'ZipCode']].copy()"
   ]
  },
  {
   "cell_type": "code",
   "execution_count": 97,
   "metadata": {
    "collapsed": false
   },
   "outputs": [
    {
     "data": {
      "text/html": [
       "<div>\n",
       "<table border=\"1\" class=\"dataframe\">\n",
       "  <thead>\n",
       "    <tr style=\"text-align: right;\">\n",
       "      <th></th>\n",
       "      <th>Agencia_ID</th>\n",
       "      <th>ZipCode</th>\n",
       "    </tr>\n",
       "  </thead>\n",
       "  <tbody>\n",
       "    <tr>\n",
       "      <th>0</th>\n",
       "      <td>1110</td>\n",
       "      <td>2008</td>\n",
       "    </tr>\n",
       "    <tr>\n",
       "      <th>1</th>\n",
       "      <td>1111</td>\n",
       "      <td>2002</td>\n",
       "    </tr>\n",
       "    <tr>\n",
       "      <th>2</th>\n",
       "      <td>1112</td>\n",
       "      <td>2004</td>\n",
       "    </tr>\n",
       "    <tr>\n",
       "      <th>3</th>\n",
       "      <td>1113</td>\n",
       "      <td>2008</td>\n",
       "    </tr>\n",
       "    <tr>\n",
       "      <th>4</th>\n",
       "      <td>1114</td>\n",
       "      <td>2029</td>\n",
       "    </tr>\n",
       "  </tbody>\n",
       "</table>\n",
       "</div>"
      ],
      "text/plain": [
       "   Agencia_ID  ZipCode\n",
       "0        1110     2008\n",
       "1        1111     2002\n",
       "2        1112     2004\n",
       "3        1113     2008\n",
       "4        1114     2029"
      ]
     },
     "execution_count": 97,
     "metadata": {},
     "output_type": "execute_result"
    }
   ],
   "source": [
    "zipcodes_df.head()"
   ]
  },
  {
   "cell_type": "code",
   "execution_count": 98,
   "metadata": {
    "collapsed": true
   },
   "outputs": [],
   "source": [
    "data = pd.merge(data, zipcodes_df, on='Agencia_ID')"
   ]
  },
  {
   "cell_type": "code",
   "execution_count": 99,
   "metadata": {
    "collapsed": false
   },
   "outputs": [
    {
     "data": {
      "text/html": [
       "<div>\n",
       "<table border=\"1\" class=\"dataframe\">\n",
       "  <thead>\n",
       "    <tr style=\"text-align: right;\">\n",
       "      <th></th>\n",
       "      <th>id</th>\n",
       "      <th>Semana</th>\n",
       "      <th>Agencia_ID</th>\n",
       "      <th>Canal_ID</th>\n",
       "      <th>Ruta_SAK</th>\n",
       "      <th>Cliente_ID</th>\n",
       "      <th>Producto_ID</th>\n",
       "      <th>Demanda_uni_equil</th>\n",
       "      <th>source</th>\n",
       "      <th>ix</th>\n",
       "      <th>...</th>\n",
       "      <th>Log_Target_mean_lag3</th>\n",
       "      <th>Log_Target_mean_lag4</th>\n",
       "      <th>rate_change2</th>\n",
       "      <th>rate_change3</th>\n",
       "      <th>rate_change4</th>\n",
       "      <th>Lags_sum</th>\n",
       "      <th>brand</th>\n",
       "      <th>cluster</th>\n",
       "      <th>Qty_Ruta_SAK_Bin</th>\n",
       "      <th>ZipCode</th>\n",
       "    </tr>\n",
       "  </thead>\n",
       "  <tbody>\n",
       "    <tr>\n",
       "      <th>0</th>\n",
       "      <td>NaN</td>\n",
       "      <td>7</td>\n",
       "      <td>1110</td>\n",
       "      <td>7</td>\n",
       "      <td>3301</td>\n",
       "      <td>15766</td>\n",
       "      <td>1216</td>\n",
       "      <td>2</td>\n",
       "      <td>train</td>\n",
       "      <td>42982034</td>\n",
       "      <td>...</td>\n",
       "      <td>1.098612</td>\n",
       "      <td>1.609438</td>\n",
       "      <td>-0.541672</td>\n",
       "      <td>0.224814</td>\n",
       "      <td>-0.399194</td>\n",
       "      <td>4.787492</td>\n",
       "      <td>BIM</td>\n",
       "      <td>2</td>\n",
       "      <td>low</td>\n",
       "      <td>2008</td>\n",
       "    </tr>\n",
       "    <tr>\n",
       "      <th>1</th>\n",
       "      <td>NaN</td>\n",
       "      <td>8</td>\n",
       "      <td>1110</td>\n",
       "      <td>7</td>\n",
       "      <td>3301</td>\n",
       "      <td>15766</td>\n",
       "      <td>1216</td>\n",
       "      <td>5</td>\n",
       "      <td>train</td>\n",
       "      <td>53364884</td>\n",
       "      <td>...</td>\n",
       "      <td>1.386294</td>\n",
       "      <td>1.098612</td>\n",
       "      <td>0.316858</td>\n",
       "      <td>-0.541672</td>\n",
       "      <td>0.224814</td>\n",
       "      <td>4.276666</td>\n",
       "      <td>BIM</td>\n",
       "      <td>2</td>\n",
       "      <td>low</td>\n",
       "      <td>2008</td>\n",
       "    </tr>\n",
       "    <tr>\n",
       "      <th>2</th>\n",
       "      <td>924190</td>\n",
       "      <td>11</td>\n",
       "      <td>1110</td>\n",
       "      <td>7</td>\n",
       "      <td>3301</td>\n",
       "      <td>15766</td>\n",
       "      <td>1216</td>\n",
       "      <td>NaN</td>\n",
       "      <td>test</td>\n",
       "      <td>75104654</td>\n",
       "      <td>...</td>\n",
       "      <td>1.791759</td>\n",
       "      <td>1.098612</td>\n",
       "      <td>0.000000</td>\n",
       "      <td>-1.400202</td>\n",
       "      <td>0.541672</td>\n",
       "      <td>2.890372</td>\n",
       "      <td>BIM</td>\n",
       "      <td>2</td>\n",
       "      <td>low</td>\n",
       "      <td>2008</td>\n",
       "    </tr>\n",
       "    <tr>\n",
       "      <th>3</th>\n",
       "      <td>NaN</td>\n",
       "      <td>7</td>\n",
       "      <td>1110</td>\n",
       "      <td>7</td>\n",
       "      <td>3301</td>\n",
       "      <td>15766</td>\n",
       "      <td>1238</td>\n",
       "      <td>2</td>\n",
       "      <td>train</td>\n",
       "      <td>42982035</td>\n",
       "      <td>...</td>\n",
       "      <td>1.386294</td>\n",
       "      <td>1.609438</td>\n",
       "      <td>0.334524</td>\n",
       "      <td>-0.571872</td>\n",
       "      <td>-0.184102</td>\n",
       "      <td>4.787492</td>\n",
       "      <td>BIM</td>\n",
       "      <td>2</td>\n",
       "      <td>low</td>\n",
       "      <td>2008</td>\n",
       "    </tr>\n",
       "    <tr>\n",
       "      <th>4</th>\n",
       "      <td>NaN</td>\n",
       "      <td>8</td>\n",
       "      <td>1110</td>\n",
       "      <td>7</td>\n",
       "      <td>3301</td>\n",
       "      <td>15766</td>\n",
       "      <td>1238</td>\n",
       "      <td>3</td>\n",
       "      <td>train</td>\n",
       "      <td>53364886</td>\n",
       "      <td>...</td>\n",
       "      <td>0.693147</td>\n",
       "      <td>1.386294</td>\n",
       "      <td>0.000000</td>\n",
       "      <td>0.334524</td>\n",
       "      <td>-0.571872</td>\n",
       "      <td>4.276666</td>\n",
       "      <td>BIM</td>\n",
       "      <td>2</td>\n",
       "      <td>low</td>\n",
       "      <td>2008</td>\n",
       "    </tr>\n",
       "  </tbody>\n",
       "</table>\n",
       "<p>5 rows × 23 columns</p>\n",
       "</div>"
      ],
      "text/plain": [
       "       id  Semana  Agencia_ID  Canal_ID  Ruta_SAK  Cliente_ID  Producto_ID  \\\n",
       "0     NaN       7        1110         7      3301       15766         1216   \n",
       "1     NaN       8        1110         7      3301       15766         1216   \n",
       "2  924190      11        1110         7      3301       15766         1216   \n",
       "3     NaN       7        1110         7      3301       15766         1238   \n",
       "4     NaN       8        1110         7      3301       15766         1238   \n",
       "\n",
       "   Demanda_uni_equil source        ix   ...    Log_Target_mean_lag3  \\\n",
       "0                  2  train  42982034   ...                1.098612   \n",
       "1                  5  train  53364884   ...                1.386294   \n",
       "2                NaN   test  75104654   ...                1.791759   \n",
       "3                  2  train  42982035   ...                1.386294   \n",
       "4                  3  train  53364886   ...                0.693147   \n",
       "\n",
       "   Log_Target_mean_lag4  rate_change2  rate_change3  rate_change4  Lags_sum  \\\n",
       "0              1.609438     -0.541672      0.224814     -0.399194  4.787492   \n",
       "1              1.098612      0.316858     -0.541672      0.224814  4.276666   \n",
       "2              1.098612      0.000000     -1.400202      0.541672  2.890372   \n",
       "3              1.609438      0.334524     -0.571872     -0.184102  4.787492   \n",
       "4              1.386294      0.000000      0.334524     -0.571872  4.276666   \n",
       "\n",
       "   brand  cluster  Qty_Ruta_SAK_Bin ZipCode  \n",
       "0    BIM        2               low    2008  \n",
       "1    BIM        2               low    2008  \n",
       "2    BIM        2               low    2008  \n",
       "3    BIM        2               low    2008  \n",
       "4    BIM        2               low    2008  \n",
       "\n",
       "[5 rows x 23 columns]"
      ]
     },
     "execution_count": 99,
     "metadata": {},
     "output_type": "execute_result"
    }
   ],
   "source": [
    "data.head()"
   ]
  },
  {
   "cell_type": "code",
   "execution_count": 100,
   "metadata": {
    "collapsed": false
   },
   "outputs": [
    {
     "data": {
      "text/plain": [
       "id                       6999252\n",
       "Semana                         5\n",
       "Agencia_ID                   552\n",
       "Canal_ID                       9\n",
       "Ruta_SAK                    3240\n",
       "Cliente_ID                858290\n",
       "Producto_ID                 1727\n",
       "Demanda_uni_equil           1481\n",
       "source                         3\n",
       "ix                      38197681\n",
       "log_target                  1481\n",
       "Log_Target_mean_lag1        4296\n",
       "Log_Target_mean_lag2        4848\n",
       "Log_Target_mean_lag3        5369\n",
       "Log_Target_mean_lag4        5342\n",
       "rate_change2             2989662\n",
       "rate_change3             3176242\n",
       "rate_change4             3115348\n",
       "Lags_sum                  386230\n",
       "brand                         31\n",
       "cluster                       30\n",
       "Qty_Ruta_SAK_Bin               4\n",
       "ZipCode                      254\n",
       "dtype: int64"
      ]
     },
     "execution_count": 100,
     "metadata": {},
     "output_type": "execute_result"
    }
   ],
   "source": [
    "data.apply(lambda x: len(x.unique()))"
   ]
  },
  {
   "cell_type": "markdown",
   "metadata": {},
   "source": [
    "### Feature 9: Week of the month counter"
   ]
  },
  {
   "cell_type": "markdown",
   "metadata": {},
   "source": [
    "The idea is to have an indicator of what week of the month the current data belongs. This is to see if there is a monthly pattern that the algorithm can pick up."
   ]
  },
  {
   "cell_type": "code",
   "execution_count": 101,
   "metadata": {
    "collapsed": true
   },
   "outputs": [],
   "source": [
    "data['week_ct'] = data['Semana'].apply(lambda x: x%4)"
   ]
  },
  {
   "cell_type": "code",
   "execution_count": 102,
   "metadata": {
    "collapsed": false
   },
   "outputs": [
    {
     "data": {
      "text/html": [
       "<div>\n",
       "<table border=\"1\" class=\"dataframe\">\n",
       "  <thead>\n",
       "    <tr style=\"text-align: right;\">\n",
       "      <th></th>\n",
       "      <th>id</th>\n",
       "      <th>Semana</th>\n",
       "      <th>Agencia_ID</th>\n",
       "      <th>Canal_ID</th>\n",
       "      <th>Ruta_SAK</th>\n",
       "      <th>Cliente_ID</th>\n",
       "      <th>Producto_ID</th>\n",
       "      <th>Demanda_uni_equil</th>\n",
       "      <th>source</th>\n",
       "      <th>ix</th>\n",
       "      <th>...</th>\n",
       "      <th>Log_Target_mean_lag4</th>\n",
       "      <th>rate_change2</th>\n",
       "      <th>rate_change3</th>\n",
       "      <th>rate_change4</th>\n",
       "      <th>Lags_sum</th>\n",
       "      <th>brand</th>\n",
       "      <th>cluster</th>\n",
       "      <th>Qty_Ruta_SAK_Bin</th>\n",
       "      <th>ZipCode</th>\n",
       "      <th>week_ct</th>\n",
       "    </tr>\n",
       "  </thead>\n",
       "  <tbody>\n",
       "    <tr>\n",
       "      <th>38197676</th>\n",
       "      <td>NaN</td>\n",
       "      <td>8</td>\n",
       "      <td>1160</td>\n",
       "      <td>8</td>\n",
       "      <td>3601</td>\n",
       "      <td>827594</td>\n",
       "      <td>33198</td>\n",
       "      <td>3072</td>\n",
       "      <td>train</td>\n",
       "      <td>54683002</td>\n",
       "      <td>...</td>\n",
       "      <td>6.867974</td>\n",
       "      <td>-0.098689</td>\n",
       "      <td>-0.076554</td>\n",
       "      <td>0.183690</td>\n",
       "      <td>29.756138</td>\n",
       "      <td>BIM</td>\n",
       "      <td>17</td>\n",
       "      <td>low</td>\n",
       "      <td>2089</td>\n",
       "      <td>0</td>\n",
       "    </tr>\n",
       "    <tr>\n",
       "      <th>38197677</th>\n",
       "      <td>NaN</td>\n",
       "      <td>9</td>\n",
       "      <td>1160</td>\n",
       "      <td>8</td>\n",
       "      <td>3601</td>\n",
       "      <td>827594</td>\n",
       "      <td>33198</td>\n",
       "      <td>NaN</td>\n",
       "      <td>val</td>\n",
       "      <td>65086912</td>\n",
       "      <td>...</td>\n",
       "      <td>8.270013</td>\n",
       "      <td>0.143851</td>\n",
       "      <td>-0.098689</td>\n",
       "      <td>-0.076554</td>\n",
       "      <td>30.918574</td>\n",
       "      <td>BIM</td>\n",
       "      <td>17</td>\n",
       "      <td>low</td>\n",
       "      <td>2089</td>\n",
       "      <td>1</td>\n",
       "    </tr>\n",
       "    <tr>\n",
       "      <th>38197678</th>\n",
       "      <td>NaN</td>\n",
       "      <td>7</td>\n",
       "      <td>1160</td>\n",
       "      <td>8</td>\n",
       "      <td>3602</td>\n",
       "      <td>932176</td>\n",
       "      <td>2438</td>\n",
       "      <td>400</td>\n",
       "      <td>train</td>\n",
       "      <td>44255420</td>\n",
       "      <td>...</td>\n",
       "      <td>0.000000</td>\n",
       "      <td>-0.080673</td>\n",
       "      <td>1.092497</td>\n",
       "      <td>0.000000</td>\n",
       "      <td>13.307350</td>\n",
       "      <td>BIM</td>\n",
       "      <td>9</td>\n",
       "      <td>low</td>\n",
       "      <td>2089</td>\n",
       "      <td>3</td>\n",
       "    </tr>\n",
       "    <tr>\n",
       "      <th>38197679</th>\n",
       "      <td>NaN</td>\n",
       "      <td>8</td>\n",
       "      <td>1160</td>\n",
       "      <td>8</td>\n",
       "      <td>3602</td>\n",
       "      <td>932176</td>\n",
       "      <td>2438</td>\n",
       "      <td>400</td>\n",
       "      <td>train</td>\n",
       "      <td>54683003</td>\n",
       "      <td>...</td>\n",
       "      <td>0.000000</td>\n",
       "      <td>-0.063986</td>\n",
       "      <td>-0.080673</td>\n",
       "      <td>1.092497</td>\n",
       "      <td>19.301311</td>\n",
       "      <td>BIM</td>\n",
       "      <td>9</td>\n",
       "      <td>low</td>\n",
       "      <td>2089</td>\n",
       "      <td>0</td>\n",
       "    </tr>\n",
       "    <tr>\n",
       "      <th>38197680</th>\n",
       "      <td>NaN</td>\n",
       "      <td>9</td>\n",
       "      <td>1160</td>\n",
       "      <td>8</td>\n",
       "      <td>3602</td>\n",
       "      <td>932176</td>\n",
       "      <td>2438</td>\n",
       "      <td>NaN</td>\n",
       "      <td>val</td>\n",
       "      <td>65086913</td>\n",
       "      <td>...</td>\n",
       "      <td>6.908755</td>\n",
       "      <td>0.000000</td>\n",
       "      <td>-0.063986</td>\n",
       "      <td>-0.080673</td>\n",
       "      <td>25.295273</td>\n",
       "      <td>BIM</td>\n",
       "      <td>9</td>\n",
       "      <td>low</td>\n",
       "      <td>2089</td>\n",
       "      <td>1</td>\n",
       "    </tr>\n",
       "  </tbody>\n",
       "</table>\n",
       "<p>5 rows × 24 columns</p>\n",
       "</div>"
      ],
      "text/plain": [
       "          id  Semana  Agencia_ID  Canal_ID  Ruta_SAK  Cliente_ID  Producto_ID  \\\n",
       "38197676 NaN       8        1160         8      3601      827594        33198   \n",
       "38197677 NaN       9        1160         8      3601      827594        33198   \n",
       "38197678 NaN       7        1160         8      3602      932176         2438   \n",
       "38197679 NaN       8        1160         8      3602      932176         2438   \n",
       "38197680 NaN       9        1160         8      3602      932176         2438   \n",
       "\n",
       "          Demanda_uni_equil source        ix   ...    Log_Target_mean_lag4  \\\n",
       "38197676               3072  train  54683002   ...                6.867974   \n",
       "38197677                NaN    val  65086912   ...                8.270013   \n",
       "38197678                400  train  44255420   ...                0.000000   \n",
       "38197679                400  train  54683003   ...                0.000000   \n",
       "38197680                NaN    val  65086913   ...                6.908755   \n",
       "\n",
       "          rate_change2  rate_change3  rate_change4   Lags_sum  brand  cluster  \\\n",
       "38197676     -0.098689     -0.076554      0.183690  29.756138    BIM       17   \n",
       "38197677      0.143851     -0.098689     -0.076554  30.918574    BIM       17   \n",
       "38197678     -0.080673      1.092497      0.000000  13.307350    BIM        9   \n",
       "38197679     -0.063986     -0.080673      1.092497  19.301311    BIM        9   \n",
       "38197680      0.000000     -0.063986     -0.080673  25.295273    BIM        9   \n",
       "\n",
       "          Qty_Ruta_SAK_Bin  ZipCode week_ct  \n",
       "38197676               low     2089       0  \n",
       "38197677               low     2089       1  \n",
       "38197678               low     2089       3  \n",
       "38197679               low     2089       0  \n",
       "38197680               low     2089       1  \n",
       "\n",
       "[5 rows x 24 columns]"
      ]
     },
     "execution_count": 102,
     "metadata": {},
     "output_type": "execute_result"
    }
   ],
   "source": [
    "data.tail()"
   ]
  },
  {
   "cell_type": "markdown",
   "metadata": {},
   "source": [
    "### Feature 10: Clusters"
   ]
  },
  {
   "cell_type": "markdown",
   "metadata": {},
   "source": [
    "#### 10.1 Client type clusters\n",
    "Thanks to AbderRahman Sobh - https://www.kaggle.com/abbysobh/grupo-bimbo-inventory-demand/classifying-client-type-using-client-names/comments\n",
    "for doing the great code"
   ]
  },
  {
   "cell_type": "code",
   "execution_count": 103,
   "metadata": {
    "collapsed": false
   },
   "outputs": [],
   "source": [
    "client_types = pd.read_csv('./input-data/client_types.csv',header=0)"
   ]
  },
  {
   "cell_type": "code",
   "execution_count": 104,
   "metadata": {
    "collapsed": false
   },
   "outputs": [
    {
     "data": {
      "text/html": [
       "<div>\n",
       "<table border=\"1\" class=\"dataframe\">\n",
       "  <thead>\n",
       "    <tr style=\"text-align: right;\">\n",
       "      <th></th>\n",
       "      <th>Cliente_ID</th>\n",
       "      <th>NombreCliente</th>\n",
       "    </tr>\n",
       "  </thead>\n",
       "  <tbody>\n",
       "    <tr>\n",
       "      <th>0</th>\n",
       "      <td>0</td>\n",
       "      <td>Individual</td>\n",
       "    </tr>\n",
       "    <tr>\n",
       "      <th>1</th>\n",
       "      <td>1</td>\n",
       "      <td>Oxxo Store</td>\n",
       "    </tr>\n",
       "    <tr>\n",
       "      <th>2</th>\n",
       "      <td>2</td>\n",
       "      <td>Individual</td>\n",
       "    </tr>\n",
       "    <tr>\n",
       "      <th>3</th>\n",
       "      <td>3</td>\n",
       "      <td>Small Franchise</td>\n",
       "    </tr>\n",
       "    <tr>\n",
       "      <th>4</th>\n",
       "      <td>4</td>\n",
       "      <td>Small Franchise</td>\n",
       "    </tr>\n",
       "  </tbody>\n",
       "</table>\n",
       "</div>"
      ],
      "text/plain": [
       "   Cliente_ID    NombreCliente\n",
       "0           0       Individual\n",
       "1           1       Oxxo Store\n",
       "2           2       Individual\n",
       "3           3  Small Franchise\n",
       "4           4  Small Franchise"
      ]
     },
     "execution_count": 104,
     "metadata": {},
     "output_type": "execute_result"
    }
   ],
   "source": [
    "client_types.head()"
   ]
  },
  {
   "cell_type": "code",
   "execution_count": 105,
   "metadata": {
    "collapsed": false
   },
   "outputs": [],
   "source": [
    "data = data.merge(client_types.drop_duplicates(subset=['Cliente_ID']), how=\"left\")"
   ]
  },
  {
   "cell_type": "code",
   "execution_count": 106,
   "metadata": {
    "collapsed": false
   },
   "outputs": [
    {
     "data": {
      "text/html": [
       "<div>\n",
       "<table border=\"1\" class=\"dataframe\">\n",
       "  <thead>\n",
       "    <tr style=\"text-align: right;\">\n",
       "      <th></th>\n",
       "      <th>id</th>\n",
       "      <th>Semana</th>\n",
       "      <th>Agencia_ID</th>\n",
       "      <th>Canal_ID</th>\n",
       "      <th>Ruta_SAK</th>\n",
       "      <th>Cliente_ID</th>\n",
       "      <th>Producto_ID</th>\n",
       "      <th>Demanda_uni_equil</th>\n",
       "      <th>source</th>\n",
       "      <th>ix</th>\n",
       "      <th>...</th>\n",
       "      <th>rate_change2</th>\n",
       "      <th>rate_change3</th>\n",
       "      <th>rate_change4</th>\n",
       "      <th>Lags_sum</th>\n",
       "      <th>brand</th>\n",
       "      <th>cluster</th>\n",
       "      <th>Qty_Ruta_SAK_Bin</th>\n",
       "      <th>ZipCode</th>\n",
       "      <th>week_ct</th>\n",
       "      <th>NombreCliente</th>\n",
       "    </tr>\n",
       "  </thead>\n",
       "  <tbody>\n",
       "    <tr>\n",
       "      <th>38197676</th>\n",
       "      <td>NaN</td>\n",
       "      <td>8</td>\n",
       "      <td>1160</td>\n",
       "      <td>8</td>\n",
       "      <td>3601</td>\n",
       "      <td>827594</td>\n",
       "      <td>33198</td>\n",
       "      <td>3072</td>\n",
       "      <td>train</td>\n",
       "      <td>54683002</td>\n",
       "      <td>...</td>\n",
       "      <td>-0.098689</td>\n",
       "      <td>-0.076554</td>\n",
       "      <td>0.183690</td>\n",
       "      <td>29.756138</td>\n",
       "      <td>BIM</td>\n",
       "      <td>17</td>\n",
       "      <td>low</td>\n",
       "      <td>2089</td>\n",
       "      <td>0</td>\n",
       "      <td>Individual</td>\n",
       "    </tr>\n",
       "    <tr>\n",
       "      <th>38197677</th>\n",
       "      <td>NaN</td>\n",
       "      <td>9</td>\n",
       "      <td>1160</td>\n",
       "      <td>8</td>\n",
       "      <td>3601</td>\n",
       "      <td>827594</td>\n",
       "      <td>33198</td>\n",
       "      <td>NaN</td>\n",
       "      <td>val</td>\n",
       "      <td>65086912</td>\n",
       "      <td>...</td>\n",
       "      <td>0.143851</td>\n",
       "      <td>-0.098689</td>\n",
       "      <td>-0.076554</td>\n",
       "      <td>30.918574</td>\n",
       "      <td>BIM</td>\n",
       "      <td>17</td>\n",
       "      <td>low</td>\n",
       "      <td>2089</td>\n",
       "      <td>1</td>\n",
       "      <td>Individual</td>\n",
       "    </tr>\n",
       "    <tr>\n",
       "      <th>38197678</th>\n",
       "      <td>NaN</td>\n",
       "      <td>7</td>\n",
       "      <td>1160</td>\n",
       "      <td>8</td>\n",
       "      <td>3602</td>\n",
       "      <td>932176</td>\n",
       "      <td>2438</td>\n",
       "      <td>400</td>\n",
       "      <td>train</td>\n",
       "      <td>44255420</td>\n",
       "      <td>...</td>\n",
       "      <td>-0.080673</td>\n",
       "      <td>1.092497</td>\n",
       "      <td>0.000000</td>\n",
       "      <td>13.307350</td>\n",
       "      <td>BIM</td>\n",
       "      <td>9</td>\n",
       "      <td>low</td>\n",
       "      <td>2089</td>\n",
       "      <td>3</td>\n",
       "      <td>Small Franchise</td>\n",
       "    </tr>\n",
       "    <tr>\n",
       "      <th>38197679</th>\n",
       "      <td>NaN</td>\n",
       "      <td>8</td>\n",
       "      <td>1160</td>\n",
       "      <td>8</td>\n",
       "      <td>3602</td>\n",
       "      <td>932176</td>\n",
       "      <td>2438</td>\n",
       "      <td>400</td>\n",
       "      <td>train</td>\n",
       "      <td>54683003</td>\n",
       "      <td>...</td>\n",
       "      <td>-0.063986</td>\n",
       "      <td>-0.080673</td>\n",
       "      <td>1.092497</td>\n",
       "      <td>19.301311</td>\n",
       "      <td>BIM</td>\n",
       "      <td>9</td>\n",
       "      <td>low</td>\n",
       "      <td>2089</td>\n",
       "      <td>0</td>\n",
       "      <td>Small Franchise</td>\n",
       "    </tr>\n",
       "    <tr>\n",
       "      <th>38197680</th>\n",
       "      <td>NaN</td>\n",
       "      <td>9</td>\n",
       "      <td>1160</td>\n",
       "      <td>8</td>\n",
       "      <td>3602</td>\n",
       "      <td>932176</td>\n",
       "      <td>2438</td>\n",
       "      <td>NaN</td>\n",
       "      <td>val</td>\n",
       "      <td>65086913</td>\n",
       "      <td>...</td>\n",
       "      <td>0.000000</td>\n",
       "      <td>-0.063986</td>\n",
       "      <td>-0.080673</td>\n",
       "      <td>25.295273</td>\n",
       "      <td>BIM</td>\n",
       "      <td>9</td>\n",
       "      <td>low</td>\n",
       "      <td>2089</td>\n",
       "      <td>1</td>\n",
       "      <td>Small Franchise</td>\n",
       "    </tr>\n",
       "  </tbody>\n",
       "</table>\n",
       "<p>5 rows × 25 columns</p>\n",
       "</div>"
      ],
      "text/plain": [
       "          id  Semana  Agencia_ID  Canal_ID  Ruta_SAK  Cliente_ID  Producto_ID  \\\n",
       "38197676 NaN       8        1160         8      3601      827594        33198   \n",
       "38197677 NaN       9        1160         8      3601      827594        33198   \n",
       "38197678 NaN       7        1160         8      3602      932176         2438   \n",
       "38197679 NaN       8        1160         8      3602      932176         2438   \n",
       "38197680 NaN       9        1160         8      3602      932176         2438   \n",
       "\n",
       "          Demanda_uni_equil source        ix       ...         rate_change2  \\\n",
       "38197676               3072  train  54683002       ...            -0.098689   \n",
       "38197677                NaN    val  65086912       ...             0.143851   \n",
       "38197678                400  train  44255420       ...            -0.080673   \n",
       "38197679                400  train  54683003       ...            -0.063986   \n",
       "38197680                NaN    val  65086913       ...             0.000000   \n",
       "\n",
       "          rate_change3  rate_change4   Lags_sum  brand  cluster  \\\n",
       "38197676     -0.076554      0.183690  29.756138    BIM       17   \n",
       "38197677     -0.098689     -0.076554  30.918574    BIM       17   \n",
       "38197678      1.092497      0.000000  13.307350    BIM        9   \n",
       "38197679     -0.080673      1.092497  19.301311    BIM        9   \n",
       "38197680     -0.063986     -0.080673  25.295273    BIM        9   \n",
       "\n",
       "          Qty_Ruta_SAK_Bin  ZipCode  week_ct    NombreCliente  \n",
       "38197676               low     2089        0       Individual  \n",
       "38197677               low     2089        1       Individual  \n",
       "38197678               low     2089        3  Small Franchise  \n",
       "38197679               low     2089        0  Small Franchise  \n",
       "38197680               low     2089        1  Small Franchise  \n",
       "\n",
       "[5 rows x 25 columns]"
      ]
     },
     "execution_count": 106,
     "metadata": {},
     "output_type": "execute_result"
    }
   ],
   "source": [
    "data.tail()"
   ]
  },
  {
   "cell_type": "markdown",
   "metadata": {},
   "source": [
    "#### 10.2 Client type clusters\n",
    "We are going to load a previous calculate tables of Agencia,Ruta, Producto and Cliente Clusters based on demand mean and std"
   ]
  },
  {
   "cell_type": "code",
   "execution_count": null,
   "metadata": {
    "collapsed": true
   },
   "outputs": [],
   "source": [
    "import h2o\n",
    "import imp\n",
    "from h2o.estimators.kmeans import H2OKMeansEstimator"
   ]
  },
  {
   "cell_type": "code",
   "execution_count": null,
   "metadata": {
    "collapsed": false
   },
   "outputs": [],
   "source": [
    "# Start a local instance of the H2O engine.\n",
    "h2o.init();"
   ]
  },
  {
   "cell_type": "code",
   "execution_count": null,
   "metadata": {
    "collapsed": true
   },
   "outputs": [],
   "source": [
    "from sklearn.cluster import KMeans\n",
    "import math as math\n",
    "from matplotlib import pyplot as plt\n",
    "%matplotlib inline"
   ]
  },
  {
   "cell_type": "markdown",
   "metadata": {},
   "source": [
    "#### Let's try to find the right amount of clusters\n",
    "\n",
    "There are three diagnostics that will be used to help with determining the number of clusters: total within cluster sum of squares, AIC, and BIC.\n",
    "\n",
    "Total within cluster sum of squares measures sums the distance from each point in a cluster to that point's assigned cluster center. This is the minimization criteria of kmeans. The standard guideline for picking the number of clusters is to look for a 'knee' in the plot, showing where the total within sum of squares stops decreasing rapidly. Total within cluster sum of squares can be difficult to intepret, with the criteria being to look for an arbitrary knee in the plot.\n",
    "\n",
    "With this challenge from total within cluster sum of squares, we will also use two merit statistics for determining the number of clusters. AIC and BIC are both measures of the relative quality of a statistical model. AIC and BIC introduce penality terms for the number of parameters in the model to counter the problem of overfitting; BIC has a larger penality term than AIC. With these merit statistics one is to look for the number of clusters that minimize the statistic.\n",
    "\n",
    "Here we build a method for extracting the inputs for each diagnostics and calculating the AIC and BIC values on a model. Each model is then inspected by the method and the results plotted for quick analysis.\n"
   ]
  },
  {
   "cell_type": "code",
   "execution_count": null,
   "metadata": {
    "collapsed": true
   },
   "outputs": [],
   "source": [
    "def diagnostics_from_clusteringmodel(model):\n",
    "    total_within_sumofsquares = model.tot_withinss()\n",
    "    number_of_clusters = len(model.centers())\n",
    "    number_of_dimensions = len(model.centers()[0])\n",
    "    number_of_rows = sum(model.size())\n",
    "    \n",
    "    aic = total_within_sumofsquares + 2 * number_of_dimensions * number_of_clusters\n",
    "    bic = total_within_sumofsquares + math.log(number_of_rows) * number_of_dimensions * number_of_clusters\n",
    "    \n",
    "    return {'Clusters':number_of_clusters,\n",
    "            'Total Within SS':total_within_sumofsquares, \n",
    "            'AIC':aic, \n",
    "            'BIC':bic}"
   ]
  },
  {
   "cell_type": "code",
   "execution_count": null,
   "metadata": {
    "collapsed": true
   },
   "outputs": [],
   "source": [
    "def cluster_and_plot(feat_name, k_range):\n",
    "\n",
    "    global data\n",
    "    \n",
    "    # run clustering by demand using all data set and our pairs_mean feature\n",
    "    feat = data.loc[:,feat_name]\n",
    "    tar = data.loc[:,'pairs_mean']\n",
    "    feat_tar = pd.concat([feat, tar], axis=1)\n",
    "        \n",
    "    # group by feature\n",
    "    grouped_ft = feat_tar.groupby(feat_name)\n",
    "    grouped_ft = pd.merge(grouped_ft.median().reset_index(), grouped_ft.std().reset_index(), how='left', on=[feat_name])\n",
    "    \n",
    "    demand_info_unique = grouped_ft.iloc[:,1:]\n",
    "    demand_info_unique[pd.isnull(demand_info_unique)] = 0\n",
    "        \n",
    "    # we use the kmeans clustering algorithm\n",
    "    h2odf = h2o.H2OFrame(demand_info_unique)\n",
    "    results = [H2OKMeansEstimator(k=clusters, init=\"Random\", seed=2, standardize=True) for clusters in k_range]\n",
    "    for estimator in results:\n",
    "        estimator.train(x = h2odf.col_names, training_frame = h2odf)\n",
    "\n",
    "    diagnostics = pd.DataFrame( [diagnostics_from_clusteringmodel(model) for model in results])\n",
    "    diagnostics.set_index('Clusters', inplace=True)\n",
    "    diagnostics.plot(kind='line');\n"
   ]
  },
  {
   "cell_type": "code",
   "execution_count": null,
   "metadata": {
    "collapsed": true
   },
   "outputs": [],
   "source": [
    "agencia_k_range = range(10, 50, 5)\n",
    "tic()\n",
    "cluster_and_plot('Agencia_ID', agencia_k_range)\n",
    "tac()"
   ]
  },
  {
   "cell_type": "markdown",
   "metadata": {},
   "source": [
    "It Looks Like Clusters = 20 is a good choice"
   ]
  },
  {
   "cell_type": "code",
   "execution_count": null,
   "metadata": {
    "collapsed": true
   },
   "outputs": [],
   "source": [
    "ruta_k_range = range(60, 300, 30)\n",
    "tic()\n",
    "cluster_and_plot('Ruta_SAK', ruta_k_range)\n",
    "tac()"
   ]
  },
  {
   "cell_type": "markdown",
   "metadata": {},
   "source": [
    "It Looks Like Clusters = 80 is a good choice"
   ]
  },
  {
   "cell_type": "code",
   "execution_count": null,
   "metadata": {
    "collapsed": true
   },
   "outputs": [],
   "source": [
    "producto_k_range = range(30, 150, 15)\n",
    "tic()\n",
    "cluster_and_plot('Producto_ID', producto_k_range)\n",
    "tac()"
   ]
  },
  {
   "cell_type": "markdown",
   "metadata": {},
   "source": [
    "It Looks Like Clusters = 45 is a good choice"
   ]
  },
  {
   "cell_type": "code",
   "execution_count": null,
   "metadata": {
    "collapsed": true
   },
   "outputs": [],
   "source": [
    "tic()\n",
    "cliente_k_range = [10,100,300,500,1000]\n",
    "cluster_and_plot('Cliente_ID', cliente_k_range)\n",
    "tac()"
   ]
  },
  {
   "cell_type": "markdown",
   "metadata": {},
   "source": [
    "It looks like 300 or 400 would work"
   ]
  },
  {
   "cell_type": "markdown",
   "metadata": {},
   "source": [
    "#### Now we the right amount of centroids, we process the clustering and fitting"
   ]
  },
  {
   "cell_type": "code",
   "execution_count": null,
   "metadata": {
    "collapsed": true
   },
   "outputs": [],
   "source": [
    "# --- HYPERPARAMETERS FOR FEATURE EXTRACTION ---\n",
    "\n",
    "# number of clusters to group depot/route/produc (if 0 will not be added as feature)\n",
    "num_clusters_agencia = 20\n",
    "num_clusters_ruta = 80\n",
    "num_clusters_producto = 45\n",
    "num_clusters_cliente = 400"
   ]
  },
  {
   "cell_type": "code",
   "execution_count": null,
   "metadata": {
    "collapsed": true
   },
   "outputs": [],
   "source": [
    "def cluster_and_save(feat_name, num_clusters):\n",
    "    '''\n",
    "    Input: \n",
    "        - idx: the index of the feature we want to cluster, one-hot-encode, and add to our features\n",
    "        - num_clusters: the number of clusters we want to use to group the feature values\n",
    "    '''   \n",
    "    global data\n",
    "\n",
    "    # run clustering by demand using info from week 3-9\n",
    "    feat = data.loc[:, feat_name]\n",
    "    tar = data.loc[:, 'pairs_mean']\n",
    "    feat_tar = pd.concat([feat, tar], axis=1)\n",
    "        \n",
    "    # group by feature\n",
    "    grouped_ft = feat_tar.groupby(feat_name)\n",
    "    grouped_ft = pd.merge(grouped_ft.median().reset_index(), grouped_ft.std().reset_index(), how='left', on=[feat_name])\n",
    "    \n",
    "    demand_info_unique = grouped_ft.iloc[:,1:]\n",
    "    demand_info_unique[pd.isnull(demand_info_unique)] = 0\n",
    "    \n",
    "    # we use the kmeans clustering algorithm\n",
    "    h2odf = h2o.H2OFrame(demand_info_unique)\n",
    "    kmeans = H2OKMeansEstimator(k=num_clusters, init=\"Random\", seed=2, standardize=True)\n",
    "\n",
    "    kmeans.train(x = h2odf.col_names, training_frame = h2odf)\n",
    "    clusters_h2odf = kmeans.predict(h2odf)\n",
    "    clustersdf = clusters_h2odf.as_data_frame(True)\n",
    "    clusters = clustersdf.predict.get_values()\n",
    "    \n",
    "    # plot demand/cluster\n",
    "    plt.figure(figsize=(15, 3))\n",
    "    for c in range(num_clusters):\n",
    "        d_median = demand_info_unique.iloc[clusters==c,0]\n",
    "        d_std = demand_info_unique.iloc[clusters==c,1]\n",
    "        plt.plot(d_median,d_std,'.')\n",
    "        plt.xlabel('median')\n",
    "        plt.ylabel('std')\n",
    "    plt.savefig(path_datadrive+'h2o-clustByDem_{}_{}'.format(feat_name, num_clusters))\n",
    "    \n",
    "    # create new dataframe to save the mapping from feature ID to cluster ID\n",
    "    feat_clust_map = pd.DataFrame(data = grouped_ft.iloc[:,0], columns=[feat_name])\n",
    "    feat_clust_map.insert(1, feat_name+'_clust_ID', clusters)\n",
    "\n",
    "    # save the new feature in files for others to use \n",
    "    feat_clust_map.to_csv(path_datadrive+\"h2o-clustByDem_{}_{}.csv\".format(feat_name, num_clusters), index=False)"
   ]
  },
  {
   "cell_type": "code",
   "execution_count": null,
   "metadata": {
    "collapsed": true
   },
   "outputs": [],
   "source": [
    "tic()\n",
    "print(\"Agencia Clusters\")\n",
    "cluster_and_save('Agencia_ID', num_clusters_agencia)\n",
    "tac()"
   ]
  },
  {
   "cell_type": "code",
   "execution_count": null,
   "metadata": {
    "collapsed": true
   },
   "outputs": [],
   "source": [
    "tic()\n",
    "print(\"Ruta Clusters\")\n",
    "cluster_and_save('Ruta_SAK', num_clusters_ruta)\n",
    "tac()"
   ]
  },
  {
   "cell_type": "code",
   "execution_count": null,
   "metadata": {
    "collapsed": true
   },
   "outputs": [],
   "source": [
    "tic()\n",
    "print(\"Producto Clusters\")\n",
    "cluster_and_save('Producto_ID', num_clusters_producto)\n",
    "tac()"
   ]
  },
  {
   "cell_type": "code",
   "execution_count": null,
   "metadata": {
    "collapsed": true
   },
   "outputs": [],
   "source": [
    "tic()\n",
    "print(\"Cliente Clusters\")\n",
    "cluster_and_save('Cliente_ID', num_clusters_cliente)\n",
    "tac()"
   ]
  },
  {
   "cell_type": "code",
   "execution_count": null,
   "metadata": {
    "collapsed": false
   },
   "outputs": [],
   "source": [
    "#Read files:\n",
    "agencia_by_dem_clust = pd.read_csv('input-data/h2o-clustByDem_Agencia_ID_'+ num_clusters_agencia +'.csv')\n",
    "ruta_by_dem_clust = pd.read_csv('input-data/h2o-clustByDem_Ruta_SAK_'+ num_clusters_ruta +'.csv')\n",
    "prod_by_dem_clust = pd.read_csv('input-data/h2o-clustByDem_Producto_ID_'+ num_clusters_producto +'.csv')\n",
    "cliente_by_dem_clust = pd.read_csv('input-data/h2o-clustByDem_Cliente_ID_'+ num_clusters_cliente +'.csv')"
   ]
  },
  {
   "cell_type": "code",
   "execution_count": null,
   "metadata": {
    "collapsed": false
   },
   "outputs": [],
   "source": [
    "data = pd.merge(data, prod_by_dem_clust, on='Producto_ID')\n",
    "data = pd.merge(data, ruta_by_dem_clust, on='Ruta_SAK')\n",
    "data = pd.merge(data, agencia_by_dem_clust, on='Agencia_ID')\n",
    "data = pd.merge(data, cliente_by_dem_clust, on='Cliente_ID')"
   ]
  },
  {
   "cell_type": "code",
   "execution_count": null,
   "metadata": {
    "collapsed": false
   },
   "outputs": [],
   "source": [
    "data.tail()"
   ]
  },
  {
   "cell_type": "markdown",
   "metadata": {
    "collapsed": true
   },
   "source": [
    "## Numerical and One-Hot Coding of Categorical variables\n",
    "Since scikit-learn accepts only numerical variables, so i have to convert all categories of nominal variables into numeric types.\n",
    "\n",
    "Lets start with coding all low cardinality object/nominal categorical variables (brand, Qty_Ruta_SAK_Bin, NombreCliente)  as numeric using ‘LabelEncoder’ from sklearn’s preprocessing module."
   ]
  },
  {
   "cell_type": "code",
   "execution_count": 119,
   "metadata": {
    "collapsed": false
   },
   "outputs": [
    {
     "name": "stdout",
     "output_type": "stream",
     "text": [
      "id                      float64\n",
      "Semana                     int8\n",
      "Agencia_ID               uint16\n",
      "Canal_ID                   int8\n",
      "Ruta_SAK                  int32\n",
      "Cliente_ID                int32\n",
      "Producto_ID               int32\n",
      "Demanda_uni_equil       float64\n",
      "source                   object\n",
      "ix                        int64\n",
      "log_target              float64\n",
      "Log_Target_mean_lag1    float64\n",
      "Log_Target_mean_lag2    float64\n",
      "Log_Target_mean_lag3    float64\n",
      "Log_Target_mean_lag4    float64\n",
      "rate_change2            float64\n",
      "rate_change3            float64\n",
      "rate_change4            float64\n",
      "Lags_sum                float64\n",
      "brand                    object\n",
      "cluster                   int64\n",
      "Qty_Ruta_SAK_Bin         object\n",
      "ZipCode                  uint16\n",
      "week_ct                   int64\n",
      "NombreCliente            object\n",
      "Producto_ID_clust_ID      int64\n",
      "Ruta_SAK_clust_ID         int64\n",
      "Agencia_ID_clust_ID       int64\n",
      "dtype: object\n"
     ]
    }
   ],
   "source": [
    "print (data.dtypes)"
   ]
  },
  {
   "cell_type": "code",
   "execution_count": 120,
   "metadata": {
    "collapsed": false
   },
   "outputs": [],
   "source": [
    "#Import library:\n",
    "from sklearn.preprocessing import LabelEncoder\n",
    "le = LabelEncoder()\n",
    "\n",
    "var_mod = ['brand', 'Qty_Ruta_SAK_Bin', 'NombreCliente']\n",
    "for i in var_mod:\n",
    "    data[i] = le.fit_transform(data[i])"
   ]
  },
  {
   "cell_type": "code",
   "execution_count": 121,
   "metadata": {
    "collapsed": false
   },
   "outputs": [
    {
     "data": {
      "text/html": [
       "<div>\n",
       "<table border=\"1\" class=\"dataframe\">\n",
       "  <thead>\n",
       "    <tr style=\"text-align: right;\">\n",
       "      <th></th>\n",
       "      <th>id</th>\n",
       "      <th>Semana</th>\n",
       "      <th>Agencia_ID</th>\n",
       "      <th>Canal_ID</th>\n",
       "      <th>Ruta_SAK</th>\n",
       "      <th>Cliente_ID</th>\n",
       "      <th>Producto_ID</th>\n",
       "      <th>Demanda_uni_equil</th>\n",
       "      <th>source</th>\n",
       "      <th>ix</th>\n",
       "      <th>...</th>\n",
       "      <th>Lags_sum</th>\n",
       "      <th>brand</th>\n",
       "      <th>cluster</th>\n",
       "      <th>Qty_Ruta_SAK_Bin</th>\n",
       "      <th>ZipCode</th>\n",
       "      <th>week_ct</th>\n",
       "      <th>NombreCliente</th>\n",
       "      <th>Producto_ID_clust_ID</th>\n",
       "      <th>Ruta_SAK_clust_ID</th>\n",
       "      <th>Agencia_ID_clust_ID</th>\n",
       "    </tr>\n",
       "  </thead>\n",
       "  <tbody>\n",
       "    <tr>\n",
       "      <th>0</th>\n",
       "      <td>NaN</td>\n",
       "      <td>7</td>\n",
       "      <td>1110</td>\n",
       "      <td>7</td>\n",
       "      <td>3301</td>\n",
       "      <td>15766</td>\n",
       "      <td>1216</td>\n",
       "      <td>2</td>\n",
       "      <td>train</td>\n",
       "      <td>42982034</td>\n",
       "      <td>...</td>\n",
       "      <td>4.787492</td>\n",
       "      <td>1</td>\n",
       "      <td>2</td>\n",
       "      <td>1</td>\n",
       "      <td>2008</td>\n",
       "      <td>3</td>\n",
       "      <td>11</td>\n",
       "      <td>61</td>\n",
       "      <td>99</td>\n",
       "      <td>9</td>\n",
       "    </tr>\n",
       "    <tr>\n",
       "      <th>1</th>\n",
       "      <td>NaN</td>\n",
       "      <td>8</td>\n",
       "      <td>1110</td>\n",
       "      <td>7</td>\n",
       "      <td>3301</td>\n",
       "      <td>15766</td>\n",
       "      <td>1216</td>\n",
       "      <td>5</td>\n",
       "      <td>train</td>\n",
       "      <td>53364884</td>\n",
       "      <td>...</td>\n",
       "      <td>4.276666</td>\n",
       "      <td>1</td>\n",
       "      <td>2</td>\n",
       "      <td>1</td>\n",
       "      <td>2008</td>\n",
       "      <td>0</td>\n",
       "      <td>11</td>\n",
       "      <td>61</td>\n",
       "      <td>99</td>\n",
       "      <td>9</td>\n",
       "    </tr>\n",
       "    <tr>\n",
       "      <th>2</th>\n",
       "      <td>924190</td>\n",
       "      <td>11</td>\n",
       "      <td>1110</td>\n",
       "      <td>7</td>\n",
       "      <td>3301</td>\n",
       "      <td>15766</td>\n",
       "      <td>1216</td>\n",
       "      <td>NaN</td>\n",
       "      <td>test</td>\n",
       "      <td>75104654</td>\n",
       "      <td>...</td>\n",
       "      <td>2.890372</td>\n",
       "      <td>1</td>\n",
       "      <td>2</td>\n",
       "      <td>1</td>\n",
       "      <td>2008</td>\n",
       "      <td>3</td>\n",
       "      <td>11</td>\n",
       "      <td>61</td>\n",
       "      <td>99</td>\n",
       "      <td>9</td>\n",
       "    </tr>\n",
       "    <tr>\n",
       "      <th>3</th>\n",
       "      <td>NaN</td>\n",
       "      <td>7</td>\n",
       "      <td>1110</td>\n",
       "      <td>7</td>\n",
       "      <td>3301</td>\n",
       "      <td>988589</td>\n",
       "      <td>1216</td>\n",
       "      <td>1</td>\n",
       "      <td>train</td>\n",
       "      <td>42982209</td>\n",
       "      <td>...</td>\n",
       "      <td>0.000000</td>\n",
       "      <td>1</td>\n",
       "      <td>2</td>\n",
       "      <td>1</td>\n",
       "      <td>2008</td>\n",
       "      <td>3</td>\n",
       "      <td>8</td>\n",
       "      <td>61</td>\n",
       "      <td>99</td>\n",
       "      <td>9</td>\n",
       "    </tr>\n",
       "    <tr>\n",
       "      <th>4</th>\n",
       "      <td>NaN</td>\n",
       "      <td>7</td>\n",
       "      <td>1110</td>\n",
       "      <td>7</td>\n",
       "      <td>3301</td>\n",
       "      <td>1255667</td>\n",
       "      <td>1216</td>\n",
       "      <td>4</td>\n",
       "      <td>train</td>\n",
       "      <td>42982269</td>\n",
       "      <td>...</td>\n",
       "      <td>2.772589</td>\n",
       "      <td>1</td>\n",
       "      <td>2</td>\n",
       "      <td>1</td>\n",
       "      <td>2008</td>\n",
       "      <td>3</td>\n",
       "      <td>8</td>\n",
       "      <td>61</td>\n",
       "      <td>99</td>\n",
       "      <td>9</td>\n",
       "    </tr>\n",
       "  </tbody>\n",
       "</table>\n",
       "<p>5 rows × 28 columns</p>\n",
       "</div>"
      ],
      "text/plain": [
       "       id  Semana  Agencia_ID  Canal_ID  Ruta_SAK  Cliente_ID  Producto_ID  \\\n",
       "0     NaN       7        1110         7      3301       15766         1216   \n",
       "1     NaN       8        1110         7      3301       15766         1216   \n",
       "2  924190      11        1110         7      3301       15766         1216   \n",
       "3     NaN       7        1110         7      3301      988589         1216   \n",
       "4     NaN       7        1110         7      3301     1255667         1216   \n",
       "\n",
       "   Demanda_uni_equil source        ix         ...           Lags_sum  brand  \\\n",
       "0                  2  train  42982034         ...           4.787492      1   \n",
       "1                  5  train  53364884         ...           4.276666      1   \n",
       "2                NaN   test  75104654         ...           2.890372      1   \n",
       "3                  1  train  42982209         ...           0.000000      1   \n",
       "4                  4  train  42982269         ...           2.772589      1   \n",
       "\n",
       "   cluster  Qty_Ruta_SAK_Bin  ZipCode  week_ct  NombreCliente  \\\n",
       "0        2                 1     2008        3             11   \n",
       "1        2                 1     2008        0             11   \n",
       "2        2                 1     2008        3             11   \n",
       "3        2                 1     2008        3              8   \n",
       "4        2                 1     2008        3              8   \n",
       "\n",
       "   Producto_ID_clust_ID  Ruta_SAK_clust_ID  Agencia_ID_clust_ID  \n",
       "0                    61                 99                    9  \n",
       "1                    61                 99                    9  \n",
       "2                    61                 99                    9  \n",
       "3                    61                 99                    9  \n",
       "4                    61                 99                    9  \n",
       "\n",
       "[5 rows x 28 columns]"
      ]
     },
     "execution_count": 121,
     "metadata": {},
     "output_type": "execute_result"
    }
   ],
   "source": [
    "data.head()"
   ]
  },
  {
   "cell_type": "markdown",
   "metadata": {
    "collapsed": true
   },
   "source": [
    "One-Hot-Coding refers to creating dummy variables, one for each category of a categorical variable. For example, the 'cluster' variable has 30 categories. One hot coding will remove this variable and generate 30 new variables. Each will have binary numbers – 0 (if the category is not present) and 1(if category is present).\n",
    "Categorical variables are intentionally (for censorship) or implicitly encoded as numerical variables in order to be used as features in any given model.\n",
    "\n",
    "e.g. [house, car, tooth, car] becomes [0,1,2,1].\n",
    "\n",
    "This imparts an ordinal property to the variable, i.e. house < car < tooth.\n",
    "\n",
    "As this is ordinal characteristic is usually not desired, one hot encoding is necessary for the proper representation of the distinct elements of the variable.\n",
    "\n",
    "-- This can be done using ‘get_dummies’ function of Pandas.\n"
   ]
  },
  {
   "cell_type": "code",
   "execution_count": 122,
   "metadata": {
    "collapsed": false
   },
   "outputs": [],
   "source": [
    "#One Hot Coding: you need python 3 and 128GB ram for this\n",
    "#tic()\n",
    "#data = pd.get_dummies(data, columns=['Canal_ID','brand','cluster','Qty_Ruta_SAK_Bin'])\n",
    "#tac()"
   ]
  },
  {
   "cell_type": "markdown",
   "metadata": {},
   "source": [
    "I decided NOT to one-hot-encode, since the data would grew to unmanageable size"
   ]
  },
  {
   "cell_type": "code",
   "execution_count": 123,
   "metadata": {
    "collapsed": false
   },
   "outputs": [
    {
     "data": {
      "text/plain": [
       "id                      float64\n",
       "Semana                     int8\n",
       "Agencia_ID               uint16\n",
       "Canal_ID                   int8\n",
       "Ruta_SAK                  int32\n",
       "Cliente_ID                int32\n",
       "Producto_ID               int32\n",
       "Demanda_uni_equil       float64\n",
       "source                   object\n",
       "ix                        int64\n",
       "log_target              float64\n",
       "Log_Target_mean_lag1    float64\n",
       "Log_Target_mean_lag2    float64\n",
       "Log_Target_mean_lag3    float64\n",
       "Log_Target_mean_lag4    float64\n",
       "rate_change2            float64\n",
       "rate_change3            float64\n",
       "rate_change4            float64\n",
       "Lags_sum                float64\n",
       "brand                     int64\n",
       "cluster                   int64\n",
       "Qty_Ruta_SAK_Bin          int64\n",
       "ZipCode                  uint16\n",
       "week_ct                   int64\n",
       "NombreCliente             int64\n",
       "Producto_ID_clust_ID      int64\n",
       "Ruta_SAK_clust_ID         int64\n",
       "Agencia_ID_clust_ID       int64\n",
       "dtype: object"
      ]
     },
     "execution_count": 123,
     "metadata": {},
     "output_type": "execute_result"
    }
   ],
   "source": [
    "data.dtypes"
   ]
  },
  {
   "cell_type": "markdown",
   "metadata": {},
   "source": [
    "## 5\\. Exporting Data"
   ]
  },
  {
   "cell_type": "code",
   "execution_count": 124,
   "metadata": {
    "collapsed": false,
    "scrolled": true
   },
   "outputs": [
    {
     "name": "stderr",
     "output_type": "stream",
     "text": [
      "C:\\Anaconda\\envs\\py35\\lib\\site-packages\\ipykernel\\__main__.py:9: SettingWithCopyWarning: \n",
      "A value is trying to be set on a copy of a slice from a DataFrame\n",
      "\n",
      "See the caveats in the documentation: http://pandas.pydata.org/pandas-docs/stable/indexing.html#indexing-view-versus-copy\n",
      "C:\\Anaconda\\envs\\py35\\lib\\site-packages\\ipykernel\\__main__.py:15: SettingWithCopyWarning: \n",
      "A value is trying to be set on a copy of a slice from a DataFrame\n",
      "\n",
      "See the caveats in the documentation: http://pandas.pydata.org/pandas-docs/stable/indexing.html#indexing-view-versus-copy\n"
     ]
    },
    {
     "name": "stdout",
     "output_type": "stream",
     "text": [
      "Time passed: 0hour:12min:24sec\n"
     ]
    },
    {
     "name": "stderr",
     "output_type": "stream",
     "text": [
      "C:\\Anaconda\\envs\\py35\\lib\\site-packages\\ipykernel\\__main__.py:17: SettingWithCopyWarning: \n",
      "A value is trying to be set on a copy of a slice from a DataFrame\n",
      "\n",
      "See the caveats in the documentation: http://pandas.pydata.org/pandas-docs/stable/indexing.html#indexing-view-versus-copy\n"
     ]
    }
   ],
   "source": [
    "#Divide into test and train:\n",
    "import csv\n",
    "\n",
    "tic()\n",
    "train = data.loc[data['source']==\"train\"]\n",
    "test = data.loc[data['source']==\"test\"]\n",
    "if (use_validation):\n",
    "    val = data.loc[data['source']==\"val\"]\n",
    "    val.drop('Demanda_uni_equil',axis=1,inplace=True) # here all Demanda_uni_equil = nan\n",
    "    # we merge back the val_targets to the val dataset\n",
    "    val = pd.merge(val,val_target, on='ix') # we add the true Demanda_uni_equil back\n",
    "    val['log_target'] = np.log1p(dval[\"Demanda_uni_equil\"]) # adds the log_target col\n",
    "\n",
    "#Drop unnecessary columns: note - we are dropping Demanda_uni_equil since we replaced it by log_target\n",
    "dtrain.drop(['source','id','Demanda_uni_equil','ix'],axis=1,inplace=True)\n",
    "dval.drop(['source','id','Demanda_uni_equil','ix'],axis=1,inplace=True)\n",
    "dtest.drop(['source','Demanda_uni_equil','ix'],axis=1,inplace=True)\n",
    "\n",
    "#Export files as modified versions:\n",
    "if (use_validation):\n",
    "    train.to_csv(\"./input-data/train_modified_holdout.csv\", index=False, quoting=csv.QUOTE_NONE)\n",
    "    val.to_csv(\"./input-data/val_modified_holdout.csv\", index=False, quoting=csv.QUOTE_NONE)\n",
    "    test.to_csv(\"./input-data/test_modified_holdout.csv\", index=False, quoting=csv.QUOTE_NONE)\n",
    "else:\n",
    "    train.to_csv(\"./input-data/train_modified.csv\", index=False, quoting=csv.QUOTE_NONE)\n",
    "    test.to_csv(\"./input-data/test_modified.csv\", index=False, quoting=csv.QUOTE_NONE)  \n",
    "tac()\n"
   ]
  },
  {
   "cell_type": "code",
   "execution_count": 130,
   "metadata": {
    "collapsed": false
   },
   "outputs": [
    {
     "data": {
      "text/html": [
       "<div>\n",
       "<table border=\"1\" class=\"dataframe\">\n",
       "  <thead>\n",
       "    <tr style=\"text-align: right;\">\n",
       "      <th></th>\n",
       "      <th>Semana</th>\n",
       "      <th>Agencia_ID</th>\n",
       "      <th>Canal_ID</th>\n",
       "      <th>Ruta_SAK</th>\n",
       "      <th>Cliente_ID</th>\n",
       "      <th>Producto_ID</th>\n",
       "      <th>log_target</th>\n",
       "      <th>Log_Target_mean_lag1</th>\n",
       "      <th>Log_Target_mean_lag2</th>\n",
       "      <th>Log_Target_mean_lag3</th>\n",
       "      <th>...</th>\n",
       "      <th>Lags_sum</th>\n",
       "      <th>brand</th>\n",
       "      <th>cluster</th>\n",
       "      <th>Qty_Ruta_SAK_Bin</th>\n",
       "      <th>ZipCode</th>\n",
       "      <th>week_ct</th>\n",
       "      <th>NombreCliente</th>\n",
       "      <th>Producto_ID_clust_ID</th>\n",
       "      <th>Ruta_SAK_clust_ID</th>\n",
       "      <th>Agencia_ID_clust_ID</th>\n",
       "    </tr>\n",
       "  </thead>\n",
       "  <tbody>\n",
       "    <tr>\n",
       "      <th>38197656</th>\n",
       "      <td>8</td>\n",
       "      <td>1156</td>\n",
       "      <td>4</td>\n",
       "      <td>1855</td>\n",
       "      <td>4719798</td>\n",
       "      <td>37086</td>\n",
       "      <td>2.397895</td>\n",
       "      <td>2.397895</td>\n",
       "      <td>0</td>\n",
       "      <td>0.000000</td>\n",
       "      <td>...</td>\n",
       "      <td>2.397895</td>\n",
       "      <td>11</td>\n",
       "      <td>29</td>\n",
       "      <td>1</td>\n",
       "      <td>2018</td>\n",
       "      <td>0</td>\n",
       "      <td>9</td>\n",
       "      <td>17</td>\n",
       "      <td>25</td>\n",
       "      <td>15</td>\n",
       "    </tr>\n",
       "    <tr>\n",
       "      <th>38197658</th>\n",
       "      <td>8</td>\n",
       "      <td>1156</td>\n",
       "      <td>4</td>\n",
       "      <td>1855</td>\n",
       "      <td>1276758</td>\n",
       "      <td>35989</td>\n",
       "      <td>1.386294</td>\n",
       "      <td>0.000000</td>\n",
       "      <td>0</td>\n",
       "      <td>1.098612</td>\n",
       "      <td>...</td>\n",
       "      <td>1.098612</td>\n",
       "      <td>11</td>\n",
       "      <td>21</td>\n",
       "      <td>1</td>\n",
       "      <td>2018</td>\n",
       "      <td>0</td>\n",
       "      <td>10</td>\n",
       "      <td>61</td>\n",
       "      <td>25</td>\n",
       "      <td>15</td>\n",
       "    </tr>\n",
       "    <tr>\n",
       "      <th>38197660</th>\n",
       "      <td>7</td>\n",
       "      <td>1156</td>\n",
       "      <td>4</td>\n",
       "      <td>1855</td>\n",
       "      <td>4385114</td>\n",
       "      <td>35989</td>\n",
       "      <td>0.693147</td>\n",
       "      <td>1.098612</td>\n",
       "      <td>0</td>\n",
       "      <td>0.000000</td>\n",
       "      <td>...</td>\n",
       "      <td>1.098612</td>\n",
       "      <td>11</td>\n",
       "      <td>21</td>\n",
       "      <td>1</td>\n",
       "      <td>2018</td>\n",
       "      <td>3</td>\n",
       "      <td>9</td>\n",
       "      <td>61</td>\n",
       "      <td>25</td>\n",
       "      <td>15</td>\n",
       "    </tr>\n",
       "    <tr>\n",
       "      <th>38197672</th>\n",
       "      <td>8</td>\n",
       "      <td>1156</td>\n",
       "      <td>4</td>\n",
       "      <td>1855</td>\n",
       "      <td>4533291</td>\n",
       "      <td>35989</td>\n",
       "      <td>0.693147</td>\n",
       "      <td>0.000000</td>\n",
       "      <td>0</td>\n",
       "      <td>0.000000</td>\n",
       "      <td>...</td>\n",
       "      <td>0.000000</td>\n",
       "      <td>11</td>\n",
       "      <td>21</td>\n",
       "      <td>1</td>\n",
       "      <td>2018</td>\n",
       "      <td>0</td>\n",
       "      <td>9</td>\n",
       "      <td>61</td>\n",
       "      <td>25</td>\n",
       "      <td>15</td>\n",
       "    </tr>\n",
       "    <tr>\n",
       "      <th>38197673</th>\n",
       "      <td>8</td>\n",
       "      <td>1156</td>\n",
       "      <td>4</td>\n",
       "      <td>1855</td>\n",
       "      <td>4216198</td>\n",
       "      <td>35989</td>\n",
       "      <td>1.098612</td>\n",
       "      <td>0.000000</td>\n",
       "      <td>0</td>\n",
       "      <td>0.000000</td>\n",
       "      <td>...</td>\n",
       "      <td>0.000000</td>\n",
       "      <td>11</td>\n",
       "      <td>21</td>\n",
       "      <td>1</td>\n",
       "      <td>2018</td>\n",
       "      <td>0</td>\n",
       "      <td>10</td>\n",
       "      <td>61</td>\n",
       "      <td>25</td>\n",
       "      <td>15</td>\n",
       "    </tr>\n",
       "  </tbody>\n",
       "</table>\n",
       "<p>5 rows × 24 columns</p>\n",
       "</div>"
      ],
      "text/plain": [
       "          Semana  Agencia_ID  Canal_ID  Ruta_SAK  Cliente_ID  Producto_ID  \\\n",
       "38197656       8        1156         4      1855     4719798        37086   \n",
       "38197658       8        1156         4      1855     1276758        35989   \n",
       "38197660       7        1156         4      1855     4385114        35989   \n",
       "38197672       8        1156         4      1855     4533291        35989   \n",
       "38197673       8        1156         4      1855     4216198        35989   \n",
       "\n",
       "          log_target  Log_Target_mean_lag1  Log_Target_mean_lag2  \\\n",
       "38197656    2.397895              2.397895                     0   \n",
       "38197658    1.386294              0.000000                     0   \n",
       "38197660    0.693147              1.098612                     0   \n",
       "38197672    0.693147              0.000000                     0   \n",
       "38197673    1.098612              0.000000                     0   \n",
       "\n",
       "          Log_Target_mean_lag3         ...           Lags_sum  brand  cluster  \\\n",
       "38197656              0.000000         ...           2.397895     11       29   \n",
       "38197658              1.098612         ...           1.098612     11       21   \n",
       "38197660              0.000000         ...           1.098612     11       21   \n",
       "38197672              0.000000         ...           0.000000     11       21   \n",
       "38197673              0.000000         ...           0.000000     11       21   \n",
       "\n",
       "          Qty_Ruta_SAK_Bin  ZipCode  week_ct  NombreCliente  \\\n",
       "38197656                 1     2018        0              9   \n",
       "38197658                 1     2018        0             10   \n",
       "38197660                 1     2018        3              9   \n",
       "38197672                 1     2018        0              9   \n",
       "38197673                 1     2018        0             10   \n",
       "\n",
       "          Producto_ID_clust_ID  Ruta_SAK_clust_ID  Agencia_ID_clust_ID  \n",
       "38197656                    17                 25                   15  \n",
       "38197658                    61                 25                   15  \n",
       "38197660                    61                 25                   15  \n",
       "38197672                    61                 25                   15  \n",
       "38197673                    61                 25                   15  \n",
       "\n",
       "[5 rows x 24 columns]"
      ]
     },
     "execution_count": 130,
     "metadata": {},
     "output_type": "execute_result"
    }
   ],
   "source": [
    "dtrain.tail()"
   ]
  },
  {
   "cell_type": "code",
   "execution_count": null,
   "metadata": {
    "collapsed": true
   },
   "outputs": [],
   "source": []
  }
 ],
 "metadata": {
  "anaconda-cloud": {},
  "kernelspec": {
   "display_name": "Python 3",
   "language": "python",
   "name": "python3"
  },
  "language_info": {
   "codemirror_mode": {
    "name": "ipython",
    "version": 3
   },
   "file_extension": ".py",
   "mimetype": "text/x-python",
   "name": "python",
   "nbconvert_exporter": "python",
   "pygments_lexer": "ipython3",
   "version": "3.5.1"
  }
 },
 "nbformat": 4,
 "nbformat_minor": 0
}
