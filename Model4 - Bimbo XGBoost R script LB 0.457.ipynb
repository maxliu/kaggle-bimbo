{
 "cells": [
  {
   "cell_type": "code",
   "execution_count": 1,
   "metadata": {
    "collapsed": false
   },
   "outputs": [
    {
     "name": "stdout",
     "output_type": "stream",
     "text": [
      "\r",
      "Read 0.0% of 74180464 rows\r",
      "Read 5.6% of 74180464 rows\r",
      "Read 11.3% of 74180464 rows\r",
      "Read 17.0% of 74180464 rows\r",
      "Read 22.5% of 74180464 rows\r",
      "Read 28.2% of 74180464 rows\r",
      "Read 33.9% of 74180464 rows\r",
      "Read 39.6% of 74180464 rows\r",
      "Read 45.2% of 74180464 rows\r",
      "Read 50.8% of 74180464 rows\r",
      "Read 56.4% of 74180464 rows\r",
      "Read 62.1% of 74180464 rows\r",
      "Read 67.8% of 74180464 rows\r",
      "Read 73.4% of 74180464 rows\r",
      "Read 79.0% of 74180464 rows\r",
      "Read 84.6% of 74180464 rows\r",
      "Read 90.3% of 74180464 rows\r",
      "Read 96.0% of 74180464 rows\r",
      "Read 74180464 rows and 6 (of 11) columns from 2.980 GB file in 00:00:23\n"
     ]
    }
   ],
   "source": [
    "# Bimbo XGBoost R script LB:0.457\n",
    "# Author: Bohdan Pavlyshenko e-mail: b.pavlyshenko@gmail.com\n",
    "#\n",
    "# One of the main ideas of the script is to use lagged values for target variable.\n",
    "# Due to memory limits 8GB in the Kaggle cloud R server, we use only one week lag for target variable.\n",
    "# If to start this script on the computer with 32GB and XGBoost parameter nrounds=150, we can use lagged values\n",
    "# of target variable for 5 weeks which gives us the leaderbord score 0.45728\n",
    "\n",
    "library(data.table)\n",
    "library(xgboost)\n",
    "\n",
    "train=fread('./input-data/train.csv',select = c(\"Semana\",'Cliente_ID', 'Producto_ID', 'Agencia_ID', 'Ruta_SAK', 'Demanda_uni_equil'))\n",
    "test=fread('./input-data/test.csv',select = c(\"Semana\",'id','Cliente_ID', 'Producto_ID', 'Agencia_ID', 'Ruta_SAK'))"
   ]
  },
  {
   "cell_type": "code",
   "execution_count": 2,
   "metadata": {
    "collapsed": false
   },
   "outputs": [
    {
     "ename": "ERROR",
     "evalue": "Error in rbindlist(l, use.names, fill, idcol): Item 2 of list input is not a data.frame, data.table or list\n",
     "output_type": "error",
     "traceback": [
      "Error in rbindlist(l, use.names, fill, idcol): Item 2 of list input is not a data.frame, data.table or list\n"
     ]
    },
    {
     "data": {
      "text/plain": [
       "          Semana Agencia_ID Ruta_SAK Cliente_ID Producto_ID Demanda_uni_equil\n",
       "       1:      4       1110     3301      15766         325                 1\n",
       "       2:      4       1110     3301      15766         328                 1\n",
       "       3:      4       1110     3301      15766        1212                 4\n",
       "       4:      4       1110     3301      15766        1216                 2\n",
       "       5:      4       1110     3301      15766        1238                 3\n",
       "      ---                                                                    \n",
       "63015253:      9      25759     5517    4528866       32873                 4\n",
       "63015254:      9      25759     5517    4528866       34226                 4\n",
       "63015255:      9      25759     5517    4528866       45112                 4\n",
       "63015256:      9      25759     5517    4547943       40217                 0\n",
       "63015257:      9      25759     5517    4708097       43159                 1\n",
       "          id target\n",
       "       1:  0      1\n",
       "       2:  0      1\n",
       "       3:  0      4\n",
       "       4:  0      2\n",
       "       5:  0      3\n",
       "      ---          \n",
       "63015253:  0      4\n",
       "63015254:  0      4\n",
       "63015255:  0      4\n",
       "63015256:  0      0\n",
       "63015257:  0      1"
      ]
     },
     "execution_count": 2,
     "metadata": {},
     "output_type": "execute_result"
    },
    {
     "ename": "ERROR",
     "evalue": "Error in rbindlist(l, use.names, fill, idcol): Item 2 of list input is not a data.frame, data.table or list\n",
     "output_type": "error",
     "traceback": [
      "Error in rbindlist(l, use.names, fill, idcol): Item 2 of list input is not a data.frame, data.table or list\n"
     ]
    },
    {
     "data": {
      "text/plain": [
       "          Semana Agencia_ID Ruta_SAK Cliente_ID Producto_ID id target\n",
       "       1:      4       1110     3301      15766         325  0      1\n",
       "       2:      4       1110     3301      15766         328  0      1\n",
       "       3:      4       1110     3301      15766        1212  0      4\n",
       "       4:      4       1110     3301      15766        1216  0      2\n",
       "       5:      4       1110     3301      15766        1238  0      3\n",
       "      ---                                                            \n",
       "63015253:      9      25759     5517    4528866       32873  0      4\n",
       "63015254:      9      25759     5517    4528866       34226  0      4\n",
       "63015255:      9      25759     5517    4528866       45112  0      4\n",
       "63015256:      9      25759     5517    4547943       40217  0      0\n",
       "63015257:      9      25759     5517    4708097       43159  0      1"
      ]
     },
     "execution_count": 2,
     "metadata": {},
     "output_type": "execute_result"
    },
    {
     "ename": "ERROR",
     "evalue": "Error in rbindlist(l, use.names, fill, idcol): Item 2 of list input is not a data.frame, data.table or list\n",
     "output_type": "error",
     "traceback": [
      "Error in rbindlist(l, use.names, fill, idcol): Item 2 of list input is not a data.frame, data.table or list\n"
     ]
    },
    {
     "data": {
      "text/plain": [
       "          Semana Agencia_ID Ruta_SAK Cliente_ID Producto_ID id target tst\n",
       "       1:      4       1110     3301      15766         325  0      1   0\n",
       "       2:      4       1110     3301      15766         328  0      1   0\n",
       "       3:      4       1110     3301      15766        1212  0      4   0\n",
       "       4:      4       1110     3301      15766        1216  0      2   0\n",
       "       5:      4       1110     3301      15766        1238  0      3   0\n",
       "      ---                                                                \n",
       "63015253:      9      25759     5517    4528866       32873  0      4   0\n",
       "63015254:      9      25759     5517    4528866       34226  0      4   0\n",
       "63015255:      9      25759     5517    4528866       45112  0      4   0\n",
       "63015256:      9      25759     5517    4547943       40217  0      0   0\n",
       "63015257:      9      25759     5517    4708097       43159  0      1   0"
      ]
     },
     "execution_count": 2,
     "metadata": {},
     "output_type": "execute_result"
    },
    {
     "ename": "ERROR",
     "evalue": "Error in rbindlist(l, use.names, fill, idcol): Item 2 of list input is not a data.frame, data.table or list\n",
     "output_type": "error",
     "traceback": [
      "Error in rbindlist(l, use.names, fill, idcol): Item 2 of list input is not a data.frame, data.table or list\n"
     ]
    },
    {
     "data": {
      "text/plain": [
       "              id Semana Agencia_ID Ruta_SAK Cliente_ID Producto_ID target tst\n",
       "      1:       0     11       4037     2209    4639078       35305      0   1\n",
       "      2:       1     11       2237     1226    4705135        1238      0   1\n",
       "      3:       2     10       2045     2831    4549769       32940      0   1\n",
       "      4:       3     11       1227     4448    4717855       43066      0   1\n",
       "      5:       4     11       1219     1130     966351        1277      0   1\n",
       "     ---                                                                     \n",
       "6999247: 6999246     11       2057     1153    4379638        1232      0   1\n",
       "6999248: 6999247     10       1334     2008     970421       43069      0   1\n",
       "6999249: 6999248     11       1622     2869     192749       30532      0   1\n",
       "6999250: 6999249     11       1636     4401     286071       35107      0   1\n",
       "6999251: 6999250     11       1625     1259     978760        1232      0   1"
      ]
     },
     "execution_count": 2,
     "metadata": {},
     "output_type": "execute_result"
    }
   ],
   "source": [
    "# Cut the train set to 8 and 9 weeks (Semana) for using only one week lags for target variable.\n",
    "# If you have enough memory, you can set up condition Semana>3 on the next row for using lagged values of target variable for 5 weeks. \n",
    "train=train[Semana>3,]\n",
    "\n",
    "train$id=0\n",
    "train[,target:=Demanda_uni_equil]\n",
    "train[,Demanda_uni_equil:=NULL]\n",
    "train[,tst:=0]\n",
    "test$target=0\n",
    "test[,tst:=1]\n",
    "data=rbind(train,test)\n",
    "rm(test)  \n",
    "rm(train)\n",
    "\n",
    "# Creating features for one week lagged values of target variable \n",
    "data1<-data[,.(Semana=Semana+1,Cliente_ID,Producto_ID,target)]\n",
    "data=merge(data,data1[Semana>8,.(targetl1=mean(target)), by=.(Semana,Cliente_ID,Producto_ID)],all.x=T, by=c(\"Semana\",\"Cliente_ID\",\"Producto_ID\"))\n",
    "\n",
    "# If you have enough memory, you can set up value TRUE in the following condition to make it possible to use lagged values of target variable \n",
    "# for lagged 2-5 weeks as additional features \n",
    "if(TRUE){\n",
    "  data1<-data[,.(Semana=Semana+2,Cliente_ID,Producto_ID,target)]\n",
    "  data=merge(data,data1[Semana>8,.(targetl2=mean(target)), by=.(Semana,Cliente_ID,Producto_ID)],all.x=T, by=c(\"Semana\",\"Cliente_ID\",\"Producto_ID\"))\n",
    "  data1<-data[,.(Semana=Semana+3,Cliente_ID,Producto_ID,target)]\n",
    "  data=merge(data,data1[Semana>8,.(targetl3=mean(target)), by=.(Semana,Cliente_ID,Producto_ID)],all.x=T, by=c(\"Semana\",\"Cliente_ID\",\"Producto_ID\"))\n",
    "  data1<-data[,.(Semana=Semana+4,Cliente_ID,Producto_ID,target)]\n",
    "  data=merge(data,data1[Semana>8,.(targetl4=mean(target)), by=.(Semana,Cliente_ID,Producto_ID)],all.x=T, by=c(\"Semana\",\"Cliente_ID\",\"Producto_ID\"))\n",
    "  data1<-data[,.(Semana=Semana+5,Cliente_ID,Producto_ID,target)]\n",
    "  data=merge(data,data1[Semana>8,.(targetl5=mean(target)), by=.(Semana,Cliente_ID,Producto_ID)],all.x=T, by=c(\"Semana\",\"Cliente_ID\",\"Producto_ID\"))\n",
    "}\n",
    "\n",
    "rm(data1)\n",
    "data=data[Semana>8,]\n"
   ]
  },
  {
   "cell_type": "code",
   "execution_count": null,
   "metadata": {
    "collapsed": true
   },
   "outputs": [],
   "source": [
    "# Creating frequency features for some factor variables\n",
    "nAgencia_ID=data[,.(nAgencia_ID=.N),by=.(Agencia_ID,Semana)]\n",
    "nAgencia_ID=nAgencia_ID[,.(nAgencia_ID=mean(nAgencia_ID,na.rm=T)),by=Agencia_ID]\n",
    "data=merge(data,nAgencia_ID,by='Agencia_ID',all.x=T)\n",
    "nRuta_SAK=data[,.(nRuta_SAK=.N),by=.(Ruta_SAK,Semana)]\n",
    "nRuta_SAK=nRuta_SAK[,.(nRuta_SAK=mean(nRuta_SAK,na.rm=T)),by=Ruta_SAK]\n",
    "data=merge(data,nRuta_SAK,by='Ruta_SAK',all.x=T)\n",
    "nCliente_ID=data[,.(nCliente_ID=.N),by=.(Cliente_ID,Semana)]\n",
    "nCliente_ID=nCliente_ID[,.(nCliente_ID=mean(nCliente_ID,na.rm=T)),by=Cliente_ID]\n",
    "data=merge(data,nCliente_ID,by='Cliente_ID',all.x=T)\n",
    "nProducto_ID=data[,.(nProducto_ID=.N),by=.(Producto_ID,Semana)]\n",
    "nProducto_ID=nProducto_ID[,.(nProducto_ID=mean(nProducto_ID,na.rm=T)),by=Producto_ID]\n",
    "data=merge(data,nProducto_ID,by='Producto_ID',all.x=T)\n",
    "data$target=log(data$target+1)\n",
    "data_train=data[tst==0,]\n",
    "data_test=data[tst==1,]\n",
    "\n",
    "features=names(data_train)[!(names(data_train) %in% c('id',\"target\",'tst'))] \n",
    "\n",
    "rm(data)"
   ]
  },
  {
   "cell_type": "code",
   "execution_count": null,
   "metadata": {
    "collapsed": true
   },
   "outputs": [],
   "source": [
    "wltst=sample(nrow(data_train),30000)  \n",
    "\n",
    "dval<-xgb.DMatrix(data=data.matrix(data_train[wltst,features,with=FALSE]),\n",
    "                  label=data.matrix(data_train[wltst,target]),missing=NA)\n",
    "watchlist<-list(dval=dval)\n",
    "\n",
    "clf <- xgb.train(params=list(  objective=\"reg:linear\", \n",
    "                               booster = \"gbtree\",\n",
    "                               eta=0.1, \n",
    "                               max_depth=10, \n",
    "                               subsample=0.85,\n",
    "                               colsample_bytree=0.7) ,\n",
    "                 data = xgb.DMatrix(data=data.matrix(data_train[-wltst,features,with=FALSE]),\n",
    "                                    label=data.matrix(data_train[-wltst,target]),missing=NA), \n",
    "                 nrounds = 300, \n",
    "                 verbose = 1,\n",
    "                 print_every_n=5,\n",
    "                 early_stopping_rounds    = 10,\n",
    "                 watchlist           = watchlist,\n",
    "                 maximize            = FALSE,\n",
    "                 eval_metric='rmse'\n",
    ")\n",
    "\n",
    "# Make prediction for the 10th week\n",
    "data_test1=data_test[Semana==10,]\n",
    "pred<-predict(clf,xgb.DMatrix(data.matrix(data_test1[,features,with=FALSE]),missing=NA))\n",
    "res=exp(round(pred,5))-1\n"
   ]
  },
  {
   "cell_type": "code",
   "execution_count": null,
   "metadata": {
    "collapsed": true
   },
   "outputs": [],
   "source": [
    "# Create lagged values of target variable which will be used as a feature for the 11th week prediction \n",
    "data_test_lag1=data_test1[,.(Cliente_ID,Producto_ID)]\n",
    "data_test_lag1$targetl1=res\n",
    "data_test_lag1=data_test_lag1[,.(targetl1=mean(targetl1)), by=.(Cliente_ID,Producto_ID)]\n",
    "\n",
    "results=data.frame(id=data_test1$id,Demanda_uni_equil=res)\n",
    "\n",
    "data_test2=data_test[Semana==11,]\n",
    "data_test2[,targetl1:=NULL]"
   ]
  },
  {
   "cell_type": "code",
   "execution_count": null,
   "metadata": {
    "collapsed": true
   },
   "outputs": [],
   "source": [
    "# Merge lagged values of target variable to test the set for the 11th week\n",
    "data_test2=merge(data_test2,data_test_lag1,all.x=T,by=c('Cliente_ID','Producto_ID'))\n",
    "pred<-predict(clf,xgb.DMatrix(data.matrix(data_test2[,features,with=FALSE]),missing=NA))\n",
    "res=exp(round(pred,5))-1\n",
    "res.df=data.frame(id=data_test2$id,Demanda_uni_equil=res)\n",
    "results=rbind(results, res.df)\n",
    "\n",
    "results[results[,2]<0,2]=0\n",
    "results[,2]=round(results[,2],1)\n",
    "results[,1]=as.integer(results[,1])\n",
    "class(results[,1])='int32'\n",
    "options(digits=18)\n",
    "write.csv(results,file='./Submissions/results1.csv',row.names=F)"
   ]
  }
 ],
 "metadata": {
  "anaconda-cloud": {},
  "kernelspec": {
   "display_name": "R",
   "language": "R",
   "name": "ir"
  },
  "language_info": {
   "codemirror_mode": "r",
   "file_extension": ".r",
   "mimetype": "text/x-r-source",
   "name": "R",
   "pygments_lexer": "r",
   "version": "3.2.2"
  }
 },
 "nbformat": 4,
 "nbformat_minor": 0
}
