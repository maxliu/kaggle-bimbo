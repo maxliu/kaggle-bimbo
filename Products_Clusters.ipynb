{
 "cells": [
  {
   "cell_type": "code",
   "execution_count": 7,
   "metadata": {
    "collapsed": false
   },
   "outputs": [],
   "source": [
    "library(readr)\n",
    "library(tm)\n",
    "library(SnowballC)\n",
    "library(skmeans)\n",
    "\n",
    "products <- read_csv('./input-data/producto_tabla.csv')\n",
    "\n",
    "\n",
    "extract_shortname <- function(product_name) {\n",
    "  # Split the name\n",
    "  tokens <- strsplit(product_name, \" \")[[1]]\n",
    "  \n",
    "  # Delete ID\n",
    "  tokens <- head(tokens, length(tokens) - 1)\n",
    "  \n",
    "  # Delete Brands (name till the last token with digit)\n",
    "  digit_indeces <- grep(\"[0-9]\", tokens)\n",
    "  \n",
    "  # Product names without digits\n",
    "  digit_index <- ifelse(length(digit_indeces) == 0, 1,\n",
    "                        max(digit_indeces))\n",
    "  paste(tokens[1:digit_index], collapse = \" \")\n",
    "}\n",
    "\n",
    "# Delete product with no name\n",
    "products <- products[2:nrow(products),]\n",
    "\n",
    "products$product_shortname <- unlist(lapply(products$NombreProducto, extract_shortname))\n",
    "\n",
    "# Short Names Preprocessing\n",
    "CorpusShort <- Corpus(VectorSource(products$product_shortname))\n",
    "CorpusShort <- tm_map(CorpusShort, tolower)\n",
    "CorpusShort <- tm_map(CorpusShort, PlainTextDocument)\n",
    "\n",
    "# Remove Punctuation\n",
    "CorpusShort <- tm_map(CorpusShort, removePunctuation)\n",
    "\n",
    "# Remove Stopwords\n",
    "CorpusShort <- tm_map(CorpusShort, removeWords, stopwords(\"es\"))\n",
    "\n",
    "# Stemming\n",
    "CorpusShort <- tm_map(CorpusShort, stemDocument, language=\"es\")\n",
    "\n",
    "# Create DTM\n",
    "CorpusShort <- Corpus(VectorSource(CorpusShort))\n",
    "dtmShort <- DocumentTermMatrix(CorpusShort)\n",
    "\n",
    "# Delete Sparse Terms (all the words now)\n",
    "sparseShort <- removeSparseTerms(dtmShort, 0.9999)\n",
    "ShortWords <- as.data.frame(as.matrix(sparseShort))\n",
    "\n",
    "# Create valid names\n",
    "colnames(ShortWords) <- make.names(colnames(ShortWords))\n",
    "\n",
    "# Spherical k-means for product clustering (30 clusters at the moment)\n",
    "set.seed(123)\n",
    "mod <- skmeans(as.matrix(ShortWords), 30, method = \"genetic\")\n",
    "products$cluster <- mod$cluster\n",
    "\n",
    "# Example for one of the clusters\n",
    "write_csv(products, './input-data/producto_clusters.csv')"
   ]
  },
  {
   "cell_type": "code",
   "execution_count": null,
   "metadata": {
    "collapsed": true
   },
   "outputs": [],
   "source": []
  }
 ],
 "metadata": {
  "kernelspec": {
   "display_name": "R",
   "language": "R",
   "name": "ir"
  },
  "language_info": {
   "codemirror_mode": "r",
   "file_extension": ".r",
   "mimetype": "text/x-r-source",
   "name": "R",
   "pygments_lexer": "r",
   "version": "3.2.2"
  }
 },
 "nbformat": 4,
 "nbformat_minor": 0
}
