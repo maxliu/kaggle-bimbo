{
 "cells": [
  {
   "cell_type": "markdown",
   "metadata": {},
   "source": [
    "## Neural Network Model Building in H2O\n",
    "\n",
    "I will go through 2 H2O  models including  GBM, and DL (Deep Learning NN).\n",
    "\n",
    "I'll use H2OFlow for the hyperparameters searching (it's just easier than writing code) and post here the best parameters found.\n"
   ]
  },
  {
   "cell_type": "markdown",
   "metadata": {},
   "source": [
    "# H2O"
   ]
  },
  {
   "cell_type": "code",
   "execution_count": 1,
   "metadata": {
    "collapsed": true
   },
   "outputs": [],
   "source": [
    "import pandas as pd\n",
    "import numpy as np\n",
    "import time\n",
    "import csv\n",
    "import matplotlib.pyplot as plt\n",
    "%matplotlib inline\n",
    "from matplotlib.pylab import rcParams\n",
    "rcParams['figure.figsize'] = 12, 8\n",
    "import math\n",
    "\n",
    "_start_time = time.time()\n",
    "\n",
    "def tic():\n",
    "    global _start_time \n",
    "    _start_time = time.time()\n",
    "\n",
    "def tac():\n",
    "    t_sec = round(time.time() - _start_time)\n",
    "    (t_min, t_sec) = divmod(t_sec,60)\n",
    "    (t_hour,t_min) = divmod(t_min,60) \n",
    "    print('Time passed: {}hour:{}min:{}sec'.format(t_hour,t_min,t_sec))"
   ]
  },
  {
   "cell_type": "code",
   "execution_count": 2,
   "metadata": {
    "collapsed": false
   },
   "outputs": [],
   "source": [
    "import h2o\n",
    "import time\n",
    "from h2o.estimators.gbm import H2OGradientBoostingEstimator\n",
    "from h2o.estimators.deeplearning import H2ODeepLearningEstimator\n",
    "from sklearn import cross_validation, metrics\n",
    "from sklearn.grid_search import GridSearchCV"
   ]
  },
  {
   "cell_type": "code",
   "execution_count": 3,
   "metadata": {
    "collapsed": false,
    "scrolled": true
   },
   "outputs": [
    {
     "name": "stdout",
     "output_type": "stream",
     "text": [
      "Connecting to H2O server at http://localhost:54321....... failed.\n",
      "Attempting to start a local H2O server...\n",
      "  Java Version: openjdk version \"1.8.0_91\"; OpenJDK Runtime Environment (build 1.8.0_91-b14); OpenJDK 64-Bit Server VM (build 25.91-b14, mixed mode)\n",
      "  Starting server from /anaconda/envs/py35/h2o_jar/h2o.jar\n",
      "  Ice root: /tmp/tmp62r9u06d\n",
      "  JVM stdout: /tmp/tmp62r9u06d/h2o_dsvm_started_from_python.out\n",
      "  JVM stderr: /tmp/tmp62r9u06d/h2o_dsvm_started_from_python.err\n",
      "Server is running at http://127.0.0.1:54321\n",
      "Connecting to H2O server at http://127.0.0.1:54321... successful!\n"
     ]
    }
   ],
   "source": [
    "# Connect to a cluster\n",
    "h2o.init()"
   ]
  },
  {
   "cell_type": "code",
   "execution_count": 5,
   "metadata": {
    "collapsed": true
   },
   "outputs": [],
   "source": [
    "#Let's define variables that will define the behaviour of the whole script\n",
    "s3_path = 'http://bbts-kaggle.s3.amazonaws.com/bimbo/Pablo/'\n",
    "use_validation=True # splits train data into train + val sets\n",
    "val_week_threshold = 8 # (possible values 8 or 9)  - weeks 3,4,5,6,7 are train, and week 8.9 are val\n",
    "trimmed = True # removes weeks which doesn't have all the lags. If False, fills empty lags with 0\n",
    "lag = 5  # shifted mean_demand up to \"lag\" weeks\n",
    "if (val_week_threshold == 8): lag = 4"
   ]
  },
  {
   "cell_type": "code",
   "execution_count": 6,
   "metadata": {
    "collapsed": false,
    "scrolled": true
   },
   "outputs": [
    {
     "name": "stdout",
     "output_type": "stream",
     "text": [
      "Downloading File: http://bbts-kaggle.s3.amazonaws.com/bimbo/Pablo/jorge_train.csv ...\n",
      "\n",
      "Downloading File: http://bbts-kaggle.s3.amazonaws.com/bimbo/Pablo/jorge_test.csv ...\n",
      "\n",
      "Downloading File: http://bbts-kaggle.s3.amazonaws.com/bimbo/Pablo/jorge_validation.csv ...\n",
      "\n",
      "Time passed: 0hour:5min:22sec\n"
     ]
    }
   ],
   "source": [
    "#now we load our modified train and test set\n",
    "tic()\n",
    "sufix=\"\"\n",
    "sufix=\"\"\n",
    "if (use_validation): \n",
    "    sufix += \"_holdout\"\n",
    "    sufix += repr(val_week_threshold)\n",
    "if (trimmed): sufix += \"_trimmed\"\n",
    "\n",
    "#train_csv = s3_path +\"train_modified\"+sufix+\".csv\"\n",
    "#val_csv = s3_path +\"val_modified\"+sufix+\".csv\"\n",
    "#test_csv = s3_path +\"test_modified\"+sufix+\".csv\"\n",
    "\n",
    "train_csv = s3_path +\"jorge_train.csv\"\n",
    "val_csv = s3_path +\"jorge_test.csv\"\n",
    "test_csv = s3_path +\"jorge_validation.csv\"\n",
    "\n",
    "tic()\n",
    "print ('Downloading File: {} ...'.format(train_csv))\n",
    "train = h2o.import_file(train_csv)\n",
    "\n",
    "if (use_validation):\n",
    "    print ('Downloading File: {} ...'.format(val_csv))\n",
    "    val = h2o.import_file(val_csv)\n",
    "    \n",
    "print ('Downloading File: {} ...'.format(test_csv))\n",
    "test = h2o.import_file(test_csv)\n",
    "tac()"
   ]
  },
  {
   "cell_type": "code",
   "execution_count": 11,
   "metadata": {
    "collapsed": false
   },
   "outputs": [
    {
     "data": {
      "text/html": [
       "<table>\n",
       "<tr><th style=\"text-align: right;\">  C1</th><th style=\"text-align: right;\">  Agencia_ID</th><th style=\"text-align: right;\">  Canal_ID</th><th style=\"text-align: right;\">  Cliente_ID</th><th style=\"text-align: right;\">  Demanda_uni_equil</th><th style=\"text-align: right;\">  Producto_ID</th><th style=\"text-align: right;\">  Ruta_SAK</th><th style=\"text-align: right;\">  Semana</th><th style=\"text-align: right;\">  ZipCode</th><th style=\"text-align: right;\">  id</th><th style=\"text-align: right;\">  Last_per_Cliente_ID</th><th style=\"text-align: right;\">  Last_per_Ruta_SAK</th><th style=\"text-align: right;\">  week_ct</th><th style=\"text-align: right;\">  Log_Target_mean_lag1</th><th style=\"text-align: right;\">  Log_Target_mean_lag2</th><th style=\"text-align: right;\">  Log_Target_mean_lag3</th><th style=\"text-align: right;\">  Log_Target_mean_lag4</th><th style=\"text-align: right;\">  Lags_sum</th><th style=\"text-align: right;\">  brand</th><th style=\"text-align: right;\">  Qty_Ruta_SAK_Bin</th><th style=\"text-align: right;\">  num_prod</th><th style=\"text-align: right;\">  num_prod_uni</th><th style=\"text-align: right;\">  log_target</th></tr>\n",
       "<tr><td style=\"text-align: right;\">   0</td><td style=\"text-align: right;\">        1110</td><td style=\"text-align: right;\">         7</td><td style=\"text-align: right;\">       15766</td><td style=\"text-align: right;\">            1.38629</td><td style=\"text-align: right;\">         1212</td><td style=\"text-align: right;\">      3301</td><td style=\"text-align: right;\">       3</td><td style=\"text-align: right;\">     2008</td><td style=\"text-align: right;\">   0</td><td style=\"text-align: right;\">             1.60944 </td><td style=\"text-align: right;\">            0      </td><td style=\"text-align: right;\">        3</td><td style=\"text-align: right;\">                     0</td><td style=\"text-align: right;\">                     0</td><td style=\"text-align: right;\">                     0</td><td style=\"text-align: right;\">                     0</td><td style=\"text-align: right;\">         0</td><td style=\"text-align: right;\">      2</td><td style=\"text-align: right;\">                 1</td><td style=\"text-align: right;\">        23</td><td style=\"text-align: right;\">            23</td><td style=\"text-align: right;\">    0.869742</td></tr>\n",
       "<tr><td style=\"text-align: right;\">   1</td><td style=\"text-align: right;\">        1110</td><td style=\"text-align: right;\">         7</td><td style=\"text-align: right;\">       15766</td><td style=\"text-align: right;\">            1.60944</td><td style=\"text-align: right;\">         1216</td><td style=\"text-align: right;\">      3301</td><td style=\"text-align: right;\">       3</td><td style=\"text-align: right;\">     2008</td><td style=\"text-align: right;\">   0</td><td style=\"text-align: right;\">             0       </td><td style=\"text-align: right;\">            0      </td><td style=\"text-align: right;\">        3</td><td style=\"text-align: right;\">                     0</td><td style=\"text-align: right;\">                     0</td><td style=\"text-align: right;\">                     0</td><td style=\"text-align: right;\">                     0</td><td style=\"text-align: right;\">         0</td><td style=\"text-align: right;\">      2</td><td style=\"text-align: right;\">                 1</td><td style=\"text-align: right;\">        23</td><td style=\"text-align: right;\">            23</td><td style=\"text-align: right;\">    0.959135</td></tr>\n",
       "<tr><td style=\"text-align: right;\">   2</td><td style=\"text-align: right;\">        1110</td><td style=\"text-align: right;\">         7</td><td style=\"text-align: right;\">       15766</td><td style=\"text-align: right;\">            1.60944</td><td style=\"text-align: right;\">         1238</td><td style=\"text-align: right;\">      3301</td><td style=\"text-align: right;\">       3</td><td style=\"text-align: right;\">     2008</td><td style=\"text-align: right;\">   0</td><td style=\"text-align: right;\">             0       </td><td style=\"text-align: right;\">            0      </td><td style=\"text-align: right;\">        3</td><td style=\"text-align: right;\">                     0</td><td style=\"text-align: right;\">                     0</td><td style=\"text-align: right;\">                     0</td><td style=\"text-align: right;\">                     0</td><td style=\"text-align: right;\">         0</td><td style=\"text-align: right;\">      2</td><td style=\"text-align: right;\">                 1</td><td style=\"text-align: right;\">        23</td><td style=\"text-align: right;\">            23</td><td style=\"text-align: right;\">    0.959135</td></tr>\n",
       "<tr><td style=\"text-align: right;\">   3</td><td style=\"text-align: right;\">        1110</td><td style=\"text-align: right;\">         7</td><td style=\"text-align: right;\">       15766</td><td style=\"text-align: right;\">            1.60944</td><td style=\"text-align: right;\">         1240</td><td style=\"text-align: right;\">      3301</td><td style=\"text-align: right;\">       3</td><td style=\"text-align: right;\">     2008</td><td style=\"text-align: right;\">   0</td><td style=\"text-align: right;\">             1.09861 </td><td style=\"text-align: right;\">            0      </td><td style=\"text-align: right;\">        3</td><td style=\"text-align: right;\">                     0</td><td style=\"text-align: right;\">                     0</td><td style=\"text-align: right;\">                     0</td><td style=\"text-align: right;\">                     0</td><td style=\"text-align: right;\">         0</td><td style=\"text-align: right;\">      2</td><td style=\"text-align: right;\">                 1</td><td style=\"text-align: right;\">        23</td><td style=\"text-align: right;\">            23</td><td style=\"text-align: right;\">    0.959135</td></tr>\n",
       "<tr><td style=\"text-align: right;\">   4</td><td style=\"text-align: right;\">        1110</td><td style=\"text-align: right;\">         7</td><td style=\"text-align: right;\">       15766</td><td style=\"text-align: right;\">            1.38629</td><td style=\"text-align: right;\">         1242</td><td style=\"text-align: right;\">      3301</td><td style=\"text-align: right;\">       3</td><td style=\"text-align: right;\">     2008</td><td style=\"text-align: right;\">   0</td><td style=\"text-align: right;\">             1.09861 </td><td style=\"text-align: right;\">            0      </td><td style=\"text-align: right;\">        3</td><td style=\"text-align: right;\">                     0</td><td style=\"text-align: right;\">                     0</td><td style=\"text-align: right;\">                     0</td><td style=\"text-align: right;\">                     0</td><td style=\"text-align: right;\">         0</td><td style=\"text-align: right;\">      2</td><td style=\"text-align: right;\">                 1</td><td style=\"text-align: right;\">        23</td><td style=\"text-align: right;\">            23</td><td style=\"text-align: right;\">    0.869742</td></tr>\n",
       "<tr><td style=\"text-align: right;\">   5</td><td style=\"text-align: right;\">        1110</td><td style=\"text-align: right;\">         7</td><td style=\"text-align: right;\">       15766</td><td style=\"text-align: right;\">            1.79176</td><td style=\"text-align: right;\">         1250</td><td style=\"text-align: right;\">      3301</td><td style=\"text-align: right;\">       3</td><td style=\"text-align: right;\">     2008</td><td style=\"text-align: right;\">   0</td><td style=\"text-align: right;\">             0.693147</td><td style=\"text-align: right;\">            0      </td><td style=\"text-align: right;\">        3</td><td style=\"text-align: right;\">                     0</td><td style=\"text-align: right;\">                     0</td><td style=\"text-align: right;\">                     0</td><td style=\"text-align: right;\">                     0</td><td style=\"text-align: right;\">         0</td><td style=\"text-align: right;\">      2</td><td style=\"text-align: right;\">                 1</td><td style=\"text-align: right;\">        23</td><td style=\"text-align: right;\">            23</td><td style=\"text-align: right;\">    1.02667 </td></tr>\n",
       "<tr><td style=\"text-align: right;\">   6</td><td style=\"text-align: right;\">        1110</td><td style=\"text-align: right;\">         7</td><td style=\"text-align: right;\">       15766</td><td style=\"text-align: right;\">            1.38629</td><td style=\"text-align: right;\">         1309</td><td style=\"text-align: right;\">      3301</td><td style=\"text-align: right;\">       3</td><td style=\"text-align: right;\">     2008</td><td style=\"text-align: right;\">   0</td><td style=\"text-align: right;\">             1.79176 </td><td style=\"text-align: right;\">            0      </td><td style=\"text-align: right;\">        3</td><td style=\"text-align: right;\">                     0</td><td style=\"text-align: right;\">                     0</td><td style=\"text-align: right;\">                     0</td><td style=\"text-align: right;\">                     0</td><td style=\"text-align: right;\">         0</td><td style=\"text-align: right;\">      2</td><td style=\"text-align: right;\">                 1</td><td style=\"text-align: right;\">        23</td><td style=\"text-align: right;\">            23</td><td style=\"text-align: right;\">    0.869742</td></tr>\n",
       "<tr><td style=\"text-align: right;\">   7</td><td style=\"text-align: right;\">        1110</td><td style=\"text-align: right;\">         7</td><td style=\"text-align: right;\">       15766</td><td style=\"text-align: right;\">            1.94591</td><td style=\"text-align: right;\">         3894</td><td style=\"text-align: right;\">      3301</td><td style=\"text-align: right;\">       3</td><td style=\"text-align: right;\">     2008</td><td style=\"text-align: right;\">   0</td><td style=\"text-align: right;\">             2.3979  </td><td style=\"text-align: right;\">            0      </td><td style=\"text-align: right;\">        3</td><td style=\"text-align: right;\">                     0</td><td style=\"text-align: right;\">                     0</td><td style=\"text-align: right;\">                     0</td><td style=\"text-align: right;\">                     0</td><td style=\"text-align: right;\">         0</td><td style=\"text-align: right;\">     14</td><td style=\"text-align: right;\">                 1</td><td style=\"text-align: right;\">        23</td><td style=\"text-align: right;\">            23</td><td style=\"text-align: right;\">    1.08042 </td></tr>\n",
       "<tr><td style=\"text-align: right;\">   8</td><td style=\"text-align: right;\">        1110</td><td style=\"text-align: right;\">         7</td><td style=\"text-align: right;\">       15766</td><td style=\"text-align: right;\">            1.60944</td><td style=\"text-align: right;\">         4085</td><td style=\"text-align: right;\">      3301</td><td style=\"text-align: right;\">       3</td><td style=\"text-align: right;\">     2008</td><td style=\"text-align: right;\">   0</td><td style=\"text-align: right;\">             2.3979  </td><td style=\"text-align: right;\">            1.53796</td><td style=\"text-align: right;\">        3</td><td style=\"text-align: right;\">                     0</td><td style=\"text-align: right;\">                     0</td><td style=\"text-align: right;\">                     0</td><td style=\"text-align: right;\">                     0</td><td style=\"text-align: right;\">         0</td><td style=\"text-align: right;\">     14</td><td style=\"text-align: right;\">                 1</td><td style=\"text-align: right;\">        23</td><td style=\"text-align: right;\">            23</td><td style=\"text-align: right;\">    0.959135</td></tr>\n",
       "<tr><td style=\"text-align: right;\">   9</td><td style=\"text-align: right;\">        1110</td><td style=\"text-align: right;\">         7</td><td style=\"text-align: right;\">       15766</td><td style=\"text-align: right;\">            1.94591</td><td style=\"text-align: right;\">         5310</td><td style=\"text-align: right;\">      3301</td><td style=\"text-align: right;\">       3</td><td style=\"text-align: right;\">     2008</td><td style=\"text-align: right;\">   0</td><td style=\"text-align: right;\">             2.3979  </td><td style=\"text-align: right;\">            0      </td><td style=\"text-align: right;\">        3</td><td style=\"text-align: right;\">                     0</td><td style=\"text-align: right;\">                     0</td><td style=\"text-align: right;\">                     0</td><td style=\"text-align: right;\">                     0</td><td style=\"text-align: right;\">         0</td><td style=\"text-align: right;\">     14</td><td style=\"text-align: right;\">                 1</td><td style=\"text-align: right;\">        23</td><td style=\"text-align: right;\">            23</td><td style=\"text-align: right;\">    1.08042 </td></tr>\n",
       "</table>"
      ]
     },
     "metadata": {},
     "output_type": "display_data"
    }
   ],
   "source": [
    "train.show()"
   ]
  },
  {
   "cell_type": "code",
   "execution_count": 9,
   "metadata": {
    "collapsed": true
   },
   "outputs": [],
   "source": [
    "#Define target and ID columns:\n",
    "target = 'log_target'\n",
    "IDcol = 'id'"
   ]
  },
  {
   "cell_type": "code",
   "execution_count": 10,
   "metadata": {
    "collapsed": false
   },
   "outputs": [],
   "source": [
    "#Create our target column\n",
    "train[target] = train['Demanda_uni_equil'].log1p()"
   ]
  },
  {
   "cell_type": "code",
   "execution_count": 12,
   "metadata": {
    "collapsed": false
   },
   "outputs": [],
   "source": [
    "def modelfit(alg, dtrain, dval, dtest, predictors, target, IDcol, filename):   \n",
    "    #Fit the algorithm on the data\n",
    "    alg.train(x=predictors, y=target, training_frame=dtrain, validation_frame=dval)\n",
    "    \n",
    "    dtrain_df = pd.DataFrame()\n",
    "    dval_df = pd.DataFrame()\n",
    "    \n",
    "    #Predict training set:\n",
    "    dtrain_df = alg.predict(dtrain[predictors]).as_data_frame(use_pandas=True) #H2O automatically names the column \"predict\"\n",
    "    dtrain_df[\"predict\"] = np.maximum(dtrain_df[\"predict\"], 0)\n",
    "    \n",
    "    #Predict validation (holdout) set:\n",
    "    dval_df = alg.predict(dval[predictors]).as_data_frame(use_pandas=True)\n",
    "    dval_df[\"predict\"] = np.maximum(dval_df[\"predict\"], 0)\n",
    "    \n",
    "    #Performance on Training and Val sets:\n",
    "    print (\"\\nModel Report\")\n",
    "    print ('RMSLE TRAIN: ', np.sqrt(metrics.mean_squared_error(dtrain[target].as_data_frame(use_pandas=True), dtrain_df[\"predict\"] )))\n",
    "    print ('RMSLE VAL: ', np.sqrt(metrics.mean_squared_error(dval[target].as_data_frame(use_pandas=True), dval_df[\"predict\"] )))\n",
    " \n",
    "    #Predict on testing data: we need to revert it back to \"Demanda_uni_equil\" by applying expm1 \n",
    "    dtest[target] = alg.predict(dtest).expm1()\n",
    "    \n",
    "    print ('NUM ROWS PREDICTED: ', dtest.shape[0] )\n",
    "    print ('MIN TARGET PREDICTED: ', dtest[target].min())\n",
    "    print ('MEAN TARGET PREDICTED: ', dtest[target].mean())\n",
    "    print ('MAX TARGET PREDICTED: ', dtest[target].max())\n",
    "    \n",
    "    \n",
    "    #Export submission file:\n",
    "    submission = dtest[[IDcol,target]].as_data_frame(use_pandas=True)\n",
    "    submission[target] = np.maximum(submission[target], 0) # we make all negative numbers = 0 since there cannot be a negative demand\n",
    "    submission[IDcol] = submission[IDcol].astype(int)\n",
    "    submission.rename(columns={target: 'Demanda_uni_equil'}, inplace=True)\n",
    "    submission.to_csv(\"./Submissions/\"+filename, index=False)"
   ]
  },
  {
   "cell_type": "markdown",
   "metadata": {},
   "source": [
    "Let's define now the target and the Id cols"
   ]
  },
  {
   "cell_type": "code",
   "execution_count": 13,
   "metadata": {
    "collapsed": false
   },
   "outputs": [],
   "source": [
    "#H@O would automatically hot-encode the categorical values (Genius!), but we must specify what columns are categoricals\n",
    "train['brand'] = train['brand'].asfactor()\n",
    "train['ZipCode'] = train['ZipCode'].asfactor()\n",
    "train['week_ct'] = train['week_ct'].asfactor()"
   ]
  },
  {
   "cell_type": "code",
   "execution_count": 14,
   "metadata": {
    "collapsed": true
   },
   "outputs": [],
   "source": [
    "# In case there is no validation, we make val = train\n",
    "if not (use_validation):\n",
    "    val = train"
   ]
  },
  {
   "cell_type": "markdown",
   "metadata": {},
   "source": [
    "### Alg8 - GBM\n",
    "\n",
    "Lets make our first GBM model"
   ]
  },
  {
   "cell_type": "code",
   "execution_count": null,
   "metadata": {
    "collapsed": false
   },
   "outputs": [],
   "source": [
    "predictors = ['Canal_ID', 'Log_Target_mean_lag1', 'Log_Target_mean_lag2', 'Log_Target_mean_lag3', 'Log_Target_mean_lag4',\n",
    "              'Last_per_Cliente_ID', 'Last_per_Ruta_SAK',\n",
    "              'Lags_sum', 'brand', 'week_ct', 'Qty_Ruta_SAK_Bin', 'ZipCode', 'num_prod', 'num_prod_uni']\n",
    "\n",
    "\n",
    "model = H2OGradientBoostingEstimator(ntrees=300,max_depth=10,learn_rate=0.1, min_rows=10, nbins=40, sample_rate=0.7,\n",
    "                                    col_sample_rate=0.7, stopping_rounds=10, stopping_metric=\"MSE\", stopping_tolerance=0.01)\n",
    "tic()\n",
    "modelfit(model, train, val, test, predictors, target, IDcol, 'alg8_{}.csv'.format(sufix).csv)\n",
    "tac()\n",
    "\n",
    "model.varimp(use_pandas=True)\n",
    "#Plot Coeficients importance\n",
    "#coef = pd.Series(model.feature_importances_, predictors).sort_values(ascending=False)\n",
    "#coef.plot(kind='bar', title='Feature Importances')\n",
    "\n",
    "#Plot Histogram of target and prediction distributions\n",
    "plt.hist(val['log_target'], 100, alpha=0.5, label='target')\n",
    "plt.hist(val['predictions'], 100, alpha=0.5, label='predictions') \n",
    "plt.legend(loc='upper right')\n",
    "plt.show()\n",
    "\n",
    "#Plots Training Scoring history\n",
    "model.plot(metric='rmse')"
   ]
  },
  {
   "cell_type": "markdown",
   "metadata": {},
   "source": [
    "## --> LB: "
   ]
  },
  {
   "cell_type": "markdown",
   "metadata": {},
   "source": [
    "### Alg9 - Deep Learning"
   ]
  },
  {
   "cell_type": "markdown",
   "metadata": {},
   "source": [
    "Now we try with a Deep Learning Network. To improve generalization we added dropout and L1 and L2 penalties."
   ]
  },
  {
   "cell_type": "code",
   "execution_count": null,
   "metadata": {
    "collapsed": false
   },
   "outputs": [],
   "source": [
    "predictors = ['Canal_ID', 'Log_Target_mean_lag1', 'Log_Target_mean_lag2', 'Log_Target_mean_lag3', 'Log_Target_mean_lag4', \n",
    "              'Agencia_ID','Ruta_SAK','Cliente_ID','Producto_ID',\n",
    "              'Lags_sum', 'brand', 'prodtype_cluster', 'Qty_Ruta_SAK_Bin', 'ZipCode', 'Producto_ID_clust_ID']\n",
    "\n",
    "model = H2ODeepLearningEstimator(activation=\"Rectifier\", hidden=[100,100,100], epochs=35,\n",
    "                                standardize=False, score_interval=10, stopping_rounds=10, stopping_metric=\"MSE\",\n",
    "                                stopping_tolerance=0.01, use_all_factor_levels=False)\n",
    "    \n",
    "tic()\n",
    "modelfit(model, train, val, test, predictors, target, IDcol, 'alg9_{}.csv'.format(sufix).csv)\n",
    "tac()\n",
    "\n",
    "model.varimp(use_pandas=True)\n",
    "#Plot Coeficients importance\n",
    "#coef = pd.Series(model.feature_importances_, predictors).sort_values(ascending=False)\n",
    "#coef.plot(kind='bar', title='Feature Importances')\n",
    "\n",
    "#Plot Histogram of target and prediction distributions\n",
    "plt.hist(val['log_target'], 100, alpha=0.5, label='target')\n",
    "plt.hist(val['predictions'], 100, alpha=0.5, label='predictions') \n",
    "plt.legend(loc='upper right')\n",
    "plt.show()\n",
    "\n",
    "#Plots Training Scoring history\n",
    "model.plot(metric='rmse')"
   ]
  },
  {
   "cell_type": "code",
   "execution_count": 12,
   "metadata": {
    "collapsed": false
   },
   "outputs": [
    {
     "data": {
      "text/html": [
       "<div>\n",
       "<table border=\"1\" class=\"dataframe\">\n",
       "  <thead>\n",
       "    <tr style=\"text-align: right;\">\n",
       "      <th></th>\n",
       "      <th></th>\n",
       "      <th>timestamp</th>\n",
       "      <th>duration</th>\n",
       "      <th>training_speed</th>\n",
       "      <th>epochs</th>\n",
       "      <th>iterations</th>\n",
       "      <th>samples</th>\n",
       "      <th>training_rmse</th>\n",
       "      <th>training_mae</th>\n",
       "      <th>training_deviance</th>\n",
       "      <th>validation_rmse</th>\n",
       "      <th>validation_deviance</th>\n",
       "      <th>validation_mae</th>\n",
       "    </tr>\n",
       "  </thead>\n",
       "  <tbody>\n",
       "    <tr>\n",
       "      <th>0</th>\n",
       "      <td></td>\n",
       "      <td>2016-08-28 09:58:46</td>\n",
       "      <td>0.000 sec</td>\n",
       "      <td>None</td>\n",
       "      <td>0.000000</td>\n",
       "      <td>0</td>\n",
       "      <td>0.0</td>\n",
       "      <td>NaN</td>\n",
       "      <td>NaN</td>\n",
       "      <td>NaN</td>\n",
       "      <td>NaN</td>\n",
       "      <td>NaN</td>\n",
       "      <td>NaN</td>\n",
       "    </tr>\n",
       "    <tr>\n",
       "      <th>1</th>\n",
       "      <td></td>\n",
       "      <td>2016-08-28 09:58:49</td>\n",
       "      <td>49.404 sec</td>\n",
       "      <td>54310 rows/sec</td>\n",
       "      <td>0.009571</td>\n",
       "      <td>1</td>\n",
       "      <td>99606.0</td>\n",
       "      <td>0.555816</td>\n",
       "      <td>0.308931</td>\n",
       "      <td>0.419092</td>\n",
       "      <td>0.557049</td>\n",
       "      <td>0.310304</td>\n",
       "      <td>0.420002</td>\n",
       "    </tr>\n",
       "    <tr>\n",
       "      <th>2</th>\n",
       "      <td></td>\n",
       "      <td>2016-08-28 10:02:14</td>\n",
       "      <td>4 min 16.188 sec</td>\n",
       "      <td>64966 rows/sec</td>\n",
       "      <td>1.008705</td>\n",
       "      <td>105</td>\n",
       "      <td>10497458.0</td>\n",
       "      <td>0.744095</td>\n",
       "      <td>0.553677</td>\n",
       "      <td>0.554258</td>\n",
       "      <td>0.728426</td>\n",
       "      <td>0.530605</td>\n",
       "      <td>0.543974</td>\n",
       "    </tr>\n",
       "    <tr>\n",
       "      <th>3</th>\n",
       "      <td></td>\n",
       "      <td>2016-08-28 10:03:01</td>\n",
       "      <td>5 min  3.014 sec</td>\n",
       "      <td>64963 rows/sec</td>\n",
       "      <td>1.008705</td>\n",
       "      <td>105</td>\n",
       "      <td>10497458.0</td>\n",
       "      <td>0.555816</td>\n",
       "      <td>0.308931</td>\n",
       "      <td>0.419092</td>\n",
       "      <td>0.557049</td>\n",
       "      <td>0.310304</td>\n",
       "      <td>0.420002</td>\n",
       "    </tr>\n",
       "  </tbody>\n",
       "</table>\n",
       "</div>"
      ],
      "text/plain": [
       "               timestamp           duration  training_speed    epochs  \\\n",
       "0    2016-08-28 09:58:46          0.000 sec            None  0.000000   \n",
       "1    2016-08-28 09:58:49         49.404 sec  54310 rows/sec  0.009571   \n",
       "2    2016-08-28 10:02:14   4 min 16.188 sec  64966 rows/sec  1.008705   \n",
       "3    2016-08-28 10:03:01   5 min  3.014 sec  64963 rows/sec  1.008705   \n",
       "\n",
       "   iterations     samples  training_rmse  training_mae  training_deviance  \\\n",
       "0           0         0.0            NaN           NaN                NaN   \n",
       "1           1     99606.0       0.555816      0.308931           0.419092   \n",
       "2         105  10497458.0       0.744095      0.553677           0.554258   \n",
       "3         105  10497458.0       0.555816      0.308931           0.419092   \n",
       "\n",
       "   validation_rmse  validation_deviance  validation_mae  \n",
       "0              NaN                  NaN             NaN  \n",
       "1         0.557049             0.310304        0.420002  \n",
       "2         0.728426             0.530605        0.543974  \n",
       "3         0.557049             0.310304        0.420002  "
      ]
     },
     "execution_count": 12,
     "metadata": {},
     "output_type": "execute_result"
    }
   ],
   "source": [
    "model_history_df = model.scoring_history()\n",
    "model_history_df"
   ]
  },
  {
   "cell_type": "code",
   "execution_count": 13,
   "metadata": {
    "collapsed": false
   },
   "outputs": [
    {
     "data": {
      "image/png": "[encoded data removed]",
      "text/plain": [
       "<matplotlib.figure.Figure at 0x7f164a262da0>"
      ]
     },
     "metadata": {},
     "output_type": "display_data"
    }
   ],
   "source": [
    "plt.plot(model_history_df['training_rmse'], label=\"training_rmse\")\n",
    "plt.plot(model_history_df['validation_rmse'], label=\"validation_rmse\")\n",
    "plt.title(\"Deep Learner .. )\")\n",
    "plt.legend();"
   ]
  },
  {
   "cell_type": "code",
   "execution_count": null,
   "metadata": {
    "collapsed": true
   },
   "outputs": [],
   "source": []
  }
 ],
 "metadata": {
  "anaconda-cloud": {},
  "kernelspec": {
   "display_name": "Python 3",
   "language": "python",
   "name": "python3"
  },
  "language_info": {
   "codemirror_mode": {
    "name": "ipython",
    "version": 3
   },
   "file_extension": ".py",
   "mimetype": "text/x-python",
   "name": "python",
   "nbconvert_exporter": "python",
   "pygments_lexer": "ipython3",
   "version": "3.5.1"
  }
 },
 "nbformat": 4,
 "nbformat_minor": 0
}
