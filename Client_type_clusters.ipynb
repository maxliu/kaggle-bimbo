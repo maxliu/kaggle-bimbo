{
 "cells": [
  {
   "cell_type": "markdown",
   "metadata": {},
   "source": [
    "The methods used to generate the filter terms involved looking at the most frequent words/client names for clues about what types of establishments were mentioned in this data set. \n",
    "\n",
    "Developing the filters took a fair amount of \"human\" sleuthing while looking at TF-IDF scores, frequency counts of Client names, as well as just general knowledge of common Spanish words used to refer to certain establishment types. Especially with all the noise provided by the Clients referred to only by a proper name, the filtered data is a proportionally small figure- but, significant."
   ]
  },
  {
   "cell_type": "code",
   "execution_count": 2,
   "metadata": {
    "collapsed": false
   },
   "outputs": [],
   "source": [
    "# This Python 3 environment comes with many helpful analytics libraries installed\n",
    "# It is defined by the kaggle/python docker image: https://github.com/kaggle/docker-python\n",
    "# For example, here's several helpful packages to load in \n",
    "\n",
    "import numpy as np # linear algebra\n",
    "import pandas as pd # data processing, CSV file I/O (e.g. pd.read_csv)\n",
    "\n",
    "# Input data files are available in the \"../input/\" directory.\n",
    "# For example, running this (by clicking run or pressing Shift+Enter) will list the files in the input directory\n",
    "\n",
    "from subprocess import check_output\n",
    "#print(check_output([\"ls\", \"../input\"]).decode(\"utf8\"))\n",
    "\n",
    "# Any results you write to the current directory are saved as output.\n",
    "\n",
    "# Load in the Client Name data\n",
    "# Make sure all names uppercase (there are some mixed instances)\n",
    "pd.set_option('display.max_rows', 50)\n",
    "vf = pd.read_csv('./input-data/cliente_tabla.csv',header=0)\n",
    "vf['NombreCliente'] = vf['NombreCliente'].str.upper()"
   ]
  },
  {
   "cell_type": "code",
   "execution_count": 3,
   "metadata": {
    "collapsed": false
   },
   "outputs": [
    {
     "data": {
      "text/plain": [
       "NO IDENTIFICADO    281670\n",
       "LUPITA               4863\n",
       "MARY                 3016\n",
       "LA PASADITA          2426\n",
       "LA VENTANITA         2267\n",
       "LA GUADALUPANA       1299\n",
       "ROSY                 1246\n",
       "ALEX                 1242\n",
       "GABY                 1238\n",
       "LA ESCONDIDA         1216\n",
       "PATY                 1145\n",
       "LA ESPERANZA         1139\n",
       "HERNANDEZ            1129\n",
       "LA CHIQUITA          1118\n",
       "DANY                 1082\n",
       "GARCIA               1062\n",
       "JUQUILITA            1022\n",
       "MARTINEZ              987\n",
       "LA TIENDITA           914\n",
       "3 HERMANOS            913\n",
       "DIANA                 894\n",
       "MI TIENDITA           881\n",
       "SAN JOSE              851\n",
       "LA PROVIDENCIA        842\n",
       "GONZALEZ              826\n",
       "                    ...  \n",
       "VERONICA              256\n",
       "CECY                  253\n",
       "LAS GEMELAS           252\n",
       "LA BODEGUITA          250\n",
       "MARIBEL               249\n",
       "EL CRUCERO            249\n",
       "RUIZ                  249\n",
       "LA POBLANITA          248\n",
       "EL SOL                248\n",
       "LUZ                   248\n",
       "CHAYITO               247\n",
       "ALMA                  244\n",
       "MONICA                244\n",
       "VENTANITA             242\n",
       "JOSEFINA              242\n",
       "EL PARAISO            242\n",
       "4 HERMANOS            242\n",
       "FLOR                  241\n",
       "FANY                  240\n",
       "ROSSY                 240\n",
       "ORTIZ                 239\n",
       "LA CURVA              238\n",
       "RIVERA                238\n",
       "TANIA                 238\n",
       "JUAREZ                236\n",
       "Name: NombreCliente, dtype: int64"
      ]
     },
     "execution_count": 3,
     "metadata": {},
     "output_type": "execute_result"
    }
   ],
   "source": [
    "# Begin with a scan of the Client Name Data based on Top Frequency Client Names\n",
    "# Notice there are a lot of Proper Names\n",
    "vf['NombreCliente'].value_counts()[0:200]"
   ]
  },
  {
   "cell_type": "code",
   "execution_count": 4,
   "metadata": {
    "collapsed": true
   },
   "outputs": [],
   "source": [
    "# Let's also generate a list of individual word frequency across all names\n",
    "def tfidf_score_list(vf2, list_len):\n",
    "    from sklearn.feature_extraction.text import TfidfVectorizer\n",
    "    v = TfidfVectorizer()\n",
    "\n",
    "    vf2['New'] = 'na'\n",
    "    a = \" \".join(vf2['NombreCliente'])\n",
    "    vf2['New'][0] = a\n",
    "\n",
    "    tfidf = v.fit_transform(vf2['New'])\n",
    "\n",
    "    feature_names = v.get_feature_names()\n",
    "\n",
    "    freq = []\n",
    "    doc = 0\n",
    "    feature_index = tfidf[doc,:].nonzero()[1]\n",
    "    tfidf_scores = zip(feature_index, [tfidf[doc, x] for x in feature_index])\n",
    "    for w, s in [(feature_names[i], s) for (i, s) in tfidf_scores]:\n",
    "            freq.append((w.encode('utf-8'),s))\n",
    "    \n",
    "    del vf2['New']\n",
    "    \n",
    "    import numpy as np\n",
    "    names = ['word','score']\n",
    "    formats = ['S50','f8']\n",
    "    dtype = dict(names = names, formats=formats)\n",
    "    array = np.array(freq, dtype=dtype)\n",
    "\n",
    "    b = np.sort(array, order='score')\n",
    "    \n",
    "    if list_len > len(b)+1:\n",
    "        list_len = len(b)+1\n",
    "    for i in range(1,list_len):\n",
    "        print(b[-i])"
   ]
  },
  {
   "cell_type": "code",
   "execution_count": 5,
   "metadata": {
    "collapsed": false
   },
   "outputs": [
    {
     "name": "stdout",
     "output_type": "stream",
     "text": [
      "(b'no', 0.6888126004393861)\n",
      "(b'identificado', 0.6849292193081505)\n",
      "(b'la', 0.14990532034895288)\n",
      "(b'el', 0.08328478631485127)\n",
      "(b'abarrotes', 0.0800093233318993)\n",
      "(b'de', 0.060769929775020375)\n",
      "(b'maria', 0.046819424108208656)\n",
      "(b'miscelanea', 0.038050812737366206)\n",
      "(b'super', 0.03520332413080589)\n",
      "(b'los', 0.02841652592336794)\n",
      "(b'san', 0.025741686070920162)\n",
      "(b'oxxo', 0.02257321668206611)\n",
      "(b'del', 0.021668634477420134)\n",
      "(b'garcia', 0.021376833766244014)\n",
      "(b'hernandez', 0.02099506116912192)\n",
      "(b'jose', 0.019835153342196838)\n",
      "(b'lupita', 0.019261278610217134)\n",
      "(b'gonzalez', 0.01775850494766011)\n",
      "(b'martinez', 0.01764664800837593)\n",
      "(b'lopez', 0.017150586799376526)\n",
      "(b'mini', 0.015331695699712036)\n",
      "(b'rodriguez', 0.014891562960354718)\n",
      "(b'las', 0.01388971385198337)\n",
      "(b'don', 0.012542567235386944)\n",
      "(b'comodin', 0.01238450851683321)\n",
      "(b'guadalupe', 0.012357760118308733)\n",
      "(b'mary', 0.012270219904955897)\n",
      "(b'jesus', 0.012024620973049328)\n",
      "(b'ramirez', 0.011995440901931718)\n",
      "(b'juan', 0.011966260830814104)\n",
      "(b'casa', 0.011929785741917089)\n",
      "(b'ag', 0.011820360475226043)\n",
      "(b'sanchez', 0.011567466525540072)\n",
      "(b'perez', 0.011192988946197384)\n",
      "(b'farmacia', 0.011115175423217084)\n",
      "(b'hermanos', 0.010881734854276187)\n",
      "(b'cruz', 0.01042458040676693)\n",
      "(b'flores', 0.009619696778439463)\n",
      "(b'mi', 0.008992325249410802)\n",
      "(b'rosa', 0.008676207812303337)\n",
      "(b'carmen', 0.008549760837460353)\n",
      "(b'diconsa', 0.008435472225583038)\n",
      "(b'papeleria', 0.008204463329235275)\n",
      "(b'luis', 0.008189873293676469)\n",
      "(b'torres', 0.007915094290652288)\n",
      "(b'tienda', 0.007907799272872884)\n",
      "(b'ventanita', 0.007778920625436765)\n",
      "(b'ii', 0.007338787886079448)\n",
      "(b'gomez', 0.007270701053471686)\n",
      "(b'pasadita', 0.007265837708285418)\n",
      "(b'cremeria', 0.007226930946795268)\n",
      "(b'reyes', 0.007141822406035567)\n",
      "(b'francisco', 0.006660351232594967)\n",
      "(b'antonio', 0.0066554878874086985)\n",
      "(b'esperanza', 0.006653056214815564)\n",
      "(b'ana', 0.00665062454222243)\n",
      "(b'puesto', 0.00655578931109019)\n",
      "(b'martha', 0.006529040912565712)\n",
      "(b'luz', 0.006475544115516757)\n",
      "(b'santa', 0.0064536590621785475)\n",
      "(b'angel', 0.006293168671031681)\n",
      "(b'vazquez', 0.006271283617693472)\n",
      "(b'gutierrez', 0.006174016713968098)\n",
      "(b'hamburguesas', 0.006154563333223023)\n",
      "(b'tiendita', 0.006059728102090784)\n",
      "(b'diaz', 0.005938144472434066)\n",
      "(b'miguel', 0.005792244116846006)\n",
      "(b'jimenez', 0.00564877543385108)\n",
      "(b'escuela', 0.0056025736545815275)\n",
      "(b'gloria', 0.0055588035479051095)\n",
      "(b'centro', 0.005527191804194363)\n",
      "(b'misc', 0.005403176501944511)\n",
      "(b'manuel', 0.0054007448293513765)\n",
      "(b'elena', 0.005303477925626003)\n",
      "(b'angeles', 0.005293751235253466)\n",
      "(b'ma', 0.005174599278189883)\n",
      "(b'morales', 0.005145419207072271)\n",
      "(b'abts', 0.005121102481140927)\n",
      "(b'teresa', 0.004958180417400927)\n",
      "(b'ruiz', 0.0049095469655382395)\n",
      "(b'margarita', 0.004839028460337343)\n",
      "(b'juana', 0.004804985044033463)\n",
      "(b'guadalupana', 0.004768509955136448)\n",
      "(b'chavez', 0.00475878326476391)\n",
      "(b'alex', 0.004683401414376746)\n",
      "(b'do\\xc3\\xb1a', 0.004671243051411074)\n",
      "(b'carniceria', 0.004639631307700328)\n",
      "(b'martin', 0.004622609599548387)\n",
      "(b'isabel', 0.004610451236582715)\n",
      "(b'mendoza', 0.0045131843328573415)\n",
      "(b'alicia', 0.004413485756538833)\n",
      "(b'aguilar', 0.0043964640483868936)\n",
      "(b'carlos', 0.004330808888372266)\n",
      "(b'fruteria', 0.0043040604898477875)\n",
      "(b'gaby', 0.004270017073543907)\n",
      "(b'rosy', 0.004265153728357638)\n",
      "(b'nueva', 0.004235973657240027)\n",
      "(b'estrella', 0.004165455152039131)\n",
      "(b'deposito', 0.004141138426107787)\n",
      "(b'juarez', 0.004128980063142115)\n",
      "(b'alvarez', 0.004082778283872563)\n",
      "(b'moreno', 0.004056029885348085)\n",
      "(b'cafeteria', 0.00405359821275495)\n",
      "(b'ortiz', 0.004031713159416741)\n",
      "(b'rivera', 0.004000101415705995)\n",
      "(b'castillo', 0.003978216362367786)\n",
      "(b'dany', 0.003953899636436442)\n",
      "(b'pedro', 0.0038882444764218155)\n",
      "(b'luna', 0.0038882444764218155)\n",
      "(b'paty', 0.003871222768269875)\n",
      "(b'secundaria', 0.0037228907400886795)\n",
      "(b'guzman', 0.003681552306005396)\n",
      "(b'dulces', 0.0036402138719221124)\n",
      "(b'providencia', 0.003618328818583903)\n",
      "(b'escondida', 0.0036037387830250974)\n",
      "(b'rosario', 0.0035696953667212167)\n",
      "(b'diana', 0.0035186302422653953)\n",
      "(b'ramos', 0.0035064718792997235)\n",
      "(b'chiquita', 0.0034845868259615145)\n",
      "(b'express', 0.003477291808182111)\n",
      "(b'medina', 0.003474860135588977)\n",
      "(b'reyna', 0.0034456800644713645)\n",
      "(b'esc', 0.0034456800644713645)\n",
      "(b'juquilita', 0.0033994782852018123)\n",
      "(b'laura', 0.0033775932318636033)\n",
      "(b'sol', 0.0033630031963047973)\n",
      "(b'romero', 0.0033459814881528567)\n",
      "(b'flor', 0.0033411181429665883)\n",
      "(b'silvia', 0.003299779708883304)\n",
      "(b'rosita', 0.003290053018510767)\n",
      "(b'minisuper', 0.0032851896733244977)\n",
      "(b'blanca', 0.0032657362925794233)\n",
      "(b'jorge', 0.0032584412748000204)\n",
      "(b'javier', 0.003253577929613752)\n",
      "(b'modelorama', 0.0032389878940549456)\n",
      "(b'leon', 0.0031976494599716613)\n",
      "(b'guerrero', 0.0031976494599716613)\n",
      "(b'fe', 0.003190354442192259)\n",
      "(b'vargas', 0.003122267609584497)\n",
      "(b'eleven', 0.003012842342893452)\n",
      "(b'victoria', 0.002990957289555243)\n",
      "(b'castro', 0.002930165474726884)\n",
      "(b'loncheria', 0.0029058487487955407)\n",
      "(b'tres', 0.0028985537310161373)\n",
      "(b'esquina', 0.0028888270406436)\n",
      "(b'angelica', 0.0028888270406436)\n",
      "(b'leticia', 0.0028450569339671817)\n",
      "(b'josefina', 0.0028304668984083757)\n",
      "(b'mercado', 0.002803718499883898)\n",
      "(b'lucy', 0.002789128464325092)\n",
      "(b'irma', 0.0027769701013594206)\n",
      "(b'mendez', 0.002769675083580017)\n",
      "(b'lety', 0.002769675083580017)\n",
      "(b'vinos', 0.002767243410986883)\n",
      "(b'comercial', 0.0027648117383937483)\n",
      "(b'claudia', 0.0027575167206143458)\n",
      "(b'espinoza', 0.0027356316672761363)\n",
      "(b'tere', 0.0027210416317173304)\n",
      "(b'yolanda', 0.0027137466139379274)\n",
      "(b'villa', 0.0027015882509722556)\n",
      "(b'esmeralda', 0.002689429888006584)\n",
      "(b'herrera', 0.0026748398524477778)\n",
      "(b'luisa', 0.0026675448346683748)\n",
      "(b'restaurant', 0.0026651131620752406)\n",
      "(b'licores', 0.0026602498168889718)\n",
      "(b'doa', 0.0026578181442958376)\n",
      "(b'expendio', 0.00263106974577136)\n",
      "(b'hotel', 0.002599458002060613)\n",
      "(b'dios', 0.00259216298428121)\n",
      "(b'juanita', 0.0025872996390949414)\n",
      "(b'colegio', 0.0025872996390949414)\n",
      "(b'valle', 0.00257514127612927)\n",
      "(b'dulceria', 0.0025654145857567324)\n",
      "(b'primaria', 0.002555687895384195)\n",
      "(b'caseta', 0.0025532562227910606)\n",
      "(b'local', 0.0025508245501979264)\n",
      "(b'hot', 0.0025459612050116576)\n",
      "(b'contreras', 0.00253623451463912)\n",
      "(b'estrada', 0.002528939496859717)\n",
      "(b'anita', 0.00251921280648718)\n",
      "(b'velazquez', 0.0025143494613009115)\n",
      "(b'karen', 0.002497327753148971)\n",
      "(b'salvador', 0.002477874372403896)\n",
      "(b'rocio', 0.0024535576464725524)\n",
      "(b'cv', 0.0024438309561000153)\n",
      "(b'alejandra', 0.0024316725931343435)\n",
      "(b'consumo', 0.0024195142301686717)\n",
      "(b'socorro', 0.0024122192123892687)\n",
      "(b'rafael', 0.002387902486457925)\n",
      "(b'comedor', 0.002385470813864791)\n",
      "(b'patricia', 0.0023757441234922537)\n",
      "(b'ab', 0.002370880778305985)\n",
      "(b'sa', 0.002363585760526582)\n",
      "(b'jugos', 0.002356290742747179)\n",
      "(b'rio', 0.0023538590701540443)\n",
      "(b'lourdes', 0.002341700707188373)\n",
      "(b'ortega', 0.0023392690345952383)\n",
      "(b'salazar', 0.002329542344222701)\n",
      "(b'plaza', 0.0023271106716295665)\n"
     ]
    },
    {
     "name": "stderr",
     "output_type": "stream",
     "text": [
      "C:\\Anaconda\\envs\\py35\\lib\\site-packages\\ipykernel\\__main__.py:8: SettingWithCopyWarning: \n",
      "A value is trying to be set on a copy of a slice from a DataFrame\n",
      "\n",
      "See the caveats in the documentation: http://pandas.pydata.org/pandas-docs/stable/indexing.html#indexing-view-versus-copy\n"
     ]
    }
   ],
   "source": [
    "tfidf_score_list(vf, 200)"
   ]
  },
  {
   "cell_type": "markdown",
   "metadata": {},
   "source": [
    "Again, notice the prevalence of personal names. By looking at a long enough list, however, we can start to see some other useful terms appear such as particles of speech (i.e. 'ag', 'los', 'san') or more useful words like \"super\", \"oxxo\", \"mini\", \"comodin\". If I found a word that I thought represent a type of establishment, I'd double check it by doing a single search. If that search was fruitful and had a good amount of relevant results, I'd add it to my filter. An example of a single term search is below:"
   ]
  },
  {
   "cell_type": "code",
   "execution_count": 6,
   "metadata": {
    "collapsed": false
   },
   "outputs": [
    {
     "name": "stdout",
     "output_type": "stream",
     "text": [
      "        Cliente_ID                         NombreCliente\n",
      "78            1438                 CAFETRIA PREPARATORIA\n",
      "1095          5045         CAFETERIA DE LA SECUNDARIA 13\n",
      "1098          5048                     CAFETERIA PREPA 2\n",
      "1233          5416                             CAFETERIA\n",
      "1318          5612        CAFETERIA NORMAL DE PROFESORES\n",
      "1446          5908      CAFETERIA FACULTAD DE PSICOLOGIA\n",
      "2005          7463                  CAFETERIA DE LA UAEM\n",
      "2150          7922                       ICATI CAFETERIA\n",
      "2306          8317         CAFETERIA FACULTAD DE DERECHO\n",
      "2308          8319  CAFETERIA FACULTAD DE ADMINISTRACION\n",
      "2573          8979                             CAFETERIA\n",
      "2864          9956                               LA CAFE\n",
      "3147         10753                  CAFETERIA LA CARRETA\n",
      "3207         10844                  CAFETERIA EL JUBILEO\n",
      "3209         10846                  CAFETERIA LA CENTRAL\n",
      "3240         10913                  CAFETERIA DON ARTURO\n",
      "3243         10918                     CAFETERIA COLISEO\n",
      "3701         12031                            CAFE PARIS\n",
      "4346         13751                    CAFETERIA FACULTAD\n",
      "4766         15397                          RUSTICO CAFE\n",
      "4827         15629                         CAFE LA TORRE\n",
      "5491         17024          CAFETERIA PREPA 7 VESPERTINO\n",
      "5597         17252           CAFETERIA HOSPITAL TRINIDAD\n",
      "5910         17912                CAFE EL NUEVO HUATUSCO\n",
      "5926         17965                              CAFE P Z\n",
      "...            ...                                   ...\n",
      "928449     8210873                              AEROCAFE\n",
      "929049     8234198                CAFE INTERNET PACIFICO\n",
      "929110     8236711                      CAFETERIA FRAGOS\n",
      "929372     8250865                       CIBER CAFE NINO\n",
      "929511     8266059                       CAFETERIA LORAY\n",
      "929792     8276937                        CAFETERIA ADYS\n",
      "929895     8280710            RESTAURANTE CAFE LA FIESTA\n",
      "930155     8293191                  EL NUEVO WILLIS CAFE\n",
      "930235     8295611              CIBER CAFE MUNDO VIRTUAL\n",
      "931042     8390606          CAFETERIA ESTHER INT CONALEP\n",
      "931043     8390606         CAFETERIA ESTHER INT  CONALEP\n",
      "931148     8397676                           CAFE RUBENS\n",
      "931826     8565291                       CAFE SAN RAFAEL\n",
      "932328     9484515       SDN CAFETERIA2 2DA ZONA MILITAR\n",
      "932581     9506908                             CAFE TINA\n",
      "932801     9521368                         CAFETERIA MIX\n",
      "932977     9537141                           CAFE LUNNAH\n",
      "933415     9574912                 CAFETERIA CLUB CHIVAS\n",
      "933907     9622671                        CAFE LA GLORIA\n",
      "934245     9655254              CAFETERIA EXTENCION RIOS\n",
      "934488     9678492               CAFETERIA LA CASA VIEJA\n",
      "934720     9693686              SECUNDARIA 7 CAFETERIA 2\n",
      "934786     9702948                     NUEVO CAFE AZTECA\n",
      "934942     9711388                       CAFETERIA SALOM\n",
      "935214     9746888                     CAFETERIA LA VACA\n",
      "\n",
      "[2508 rows x 2 columns]\n"
     ]
    }
   ],
   "source": [
    "print(vf[vf['NombreCliente'].str.contains('.*CAFE.*')])"
   ]
  },
  {
   "cell_type": "markdown",
   "metadata": {},
   "source": [
    "The result is a filter derived from hand-picking the best, most common, most interesting terms I could determine."
   ]
  },
  {
   "cell_type": "code",
   "execution_count": 7,
   "metadata": {
    "collapsed": true
   },
   "outputs": [],
   "source": [
    "# --- Begin Filtering for specific terms\n",
    "\n",
    "# Note that the order of filtering is significant.\n",
    "# For example: \n",
    "# The regex of .*ERIA.* will assign \"FRUITERIA\" to 'Eatery' rather than 'Fresh Market'.\n",
    "# In other words, the first filters to occur have a bigger priority.\n",
    "\n",
    "def filter_specific(vf2):\n",
    "    \n",
    "    # Known Large Company / Special Group Types\n",
    "    vf2['NombreCliente'] = vf2['NombreCliente'].str.replace('.*REMISION.*','Consignment')\n",
    "    vf2['NombreCliente'] = vf2['NombreCliente'].replace(['.*WAL MART.*','.*SAMS CLUB.*'],'Walmart', regex=True)\n",
    "    vf2['NombreCliente'] = vf2['NombreCliente'].str.replace('.*OXXO.*','Oxxo Store')\n",
    "    vf2['NombreCliente'] = vf2['NombreCliente'].str.replace('.*CONASUPO.*','Govt Store')\n",
    "    vf2['NombreCliente'] = vf2['NombreCliente'].str.replace('.*BIMBO.*','Bimbo Store')\n",
    "\n",
    "    \n",
    "\n",
    "    # General term search for a random assortment of words I picked from looking at\n",
    "    # their frequency of appearance in the data and common spanish words for these categories\n",
    "    vf2['NombreCliente'] = vf2['NombreCliente'].replace(['.*COLEG.*','.*UNIV.*','.*ESCU.*','.*INSTI.*',\\\n",
    "                                                        '.*PREPAR.*'],'School', regex=True)\n",
    "    vf2['NombreCliente'] = vf2['NombreCliente'].str.replace('.*PUESTO.*','Post')\n",
    "    vf2['NombreCliente'] = vf2['NombreCliente'].replace(['.*FARMA.*','.*HOSPITAL.*','.*CLINI.*'],'Hospital/Pharmacy', regex=True)\n",
    "    vf2['NombreCliente'] = vf2['NombreCliente'].replace(['.*CAFE.*','.*CREMERIA.*','.*DULCERIA.*',\\\n",
    "                                                        '.*REST.*','.*BURGER.*','.*TACO.*', '.*TORTA.*',\\\n",
    "                                                        '.*TAQUER.*','.*HOT DOG.*',\\\n",
    "                                                        '.*COMEDOR.*', '.*ERIA.*','.*BURGU.*'],'Eatery', regex=True)\n",
    "    vf2['NombreCliente'] = vf2['NombreCliente'].str.replace('.*SUPER.*','Supermarket')\n",
    "    vf2['NombreCliente'] = vf2['NombreCliente'].replace(['.*COMERCIAL.*','.*BODEGA.*','.*DEPOSITO.*',\\\n",
    "                                                            '.*ABARROTES.*','.*MERCADO.*','.*CAMBIO.*',\\\n",
    "                                                        '.*MARKET.*','.*MART .*','.*MINI .*',\\\n",
    "                                                        '.*PLAZA.*','.*MISC.*','.*ELEVEN.*','.*EXP.*',\\\n",
    "                                                         '.*SNACK.*', '.*PAPELERIA.*', '.*CARNICERIA.*',\\\n",
    "                                                         '.*LOCAL.*','.*COMODIN.*','.*PROVIDENCIA.*'\n",
    "                                                        ],'General Market/Mart'\\\n",
    "                                                       , regex=True)\n",
    "\n",
    "    vf2['NombreCliente'] = vf2['NombreCliente'].replace(['.*VERDU.*','.*FRUT.*'],'Fresh Market', regex=True)\n",
    "    vf2['NombreCliente'] = vf2['NombreCliente'].replace(['.*HOTEL.*','.*MOTEL.*'],'Hotel', regex=True)"
   ]
  },
  {
   "cell_type": "code",
   "execution_count": 8,
   "metadata": {
    "collapsed": true
   },
   "outputs": [],
   "source": [
    "filter_specific(vf)"
   ]
  },
  {
   "cell_type": "code",
   "execution_count": 9,
   "metadata": {
    "collapsed": true
   },
   "outputs": [],
   "source": [
    "# --- Begin filtering for more general terms\n",
    "# The idea here is to look for names with particles of speech that would\n",
    "# not appear in a person's name.\n",
    "# i.e. \"Individuals\" should not contain any participles or numbers in their names.\n",
    "def filter_participle(vf2):\n",
    "    vf2['NombreCliente'] = vf2['NombreCliente'].replace([\n",
    "            '.*LA .*','.*EL .*','.*DE .*','.*LOS .*','.*DEL .*','.*Y .*', '.*SAN .*', '.*SANTA .*',\\\n",
    "            '.*AG .*','.*LAS .*','.*MI .*','.*MA .*', '.*II.*', '.*[0-9]+.*'\\\n",
    "    ],'Small Franchise', regex=True)"
   ]
  },
  {
   "cell_type": "code",
   "execution_count": 10,
   "metadata": {
    "collapsed": true
   },
   "outputs": [],
   "source": [
    "filter_participle(vf)"
   ]
  },
  {
   "cell_type": "code",
   "execution_count": 11,
   "metadata": {
    "collapsed": true
   },
   "outputs": [],
   "source": [
    "# Any remaining entries should be \"Individual\" Named Clients, there are some outliers.\n",
    "# More specific filters could be used in order to reduce the percentage of outliers in this final set.\n",
    "def filter_remaining(vf2):\n",
    "    def function_word(data):\n",
    "        # Avoid the single-words created so far by checking for upper-case\n",
    "        if (data.isupper()) and (data != \"NO IDENTIFICADO\"): \n",
    "            return 'Individual'\n",
    "        else:\n",
    "            return data\n",
    "    vf2['NombreCliente'] = vf2['NombreCliente'].map(function_word)"
   ]
  },
  {
   "cell_type": "code",
   "execution_count": 12,
   "metadata": {
    "collapsed": true
   },
   "outputs": [],
   "source": [
    "filter_remaining(vf)"
   ]
  },
  {
   "cell_type": "markdown",
   "metadata": {},
   "source": [
    "With the filtering complete, let's look at the breakdown of how the data is classified now:"
   ]
  },
  {
   "cell_type": "code",
   "execution_count": 13,
   "metadata": {
    "collapsed": false
   },
   "outputs": [
    {
     "data": {
      "text/plain": [
       "Individual             353145\n",
       "NO IDENTIFICADO        281670\n",
       "Small Franchise        160501\n",
       "General Market/Mart     66416\n",
       "Eatery                  30419\n",
       "Supermarket             16019\n",
       "Oxxo Store               9313\n",
       "Hospital/Pharmacy        5798\n",
       "School                   5705\n",
       "Post                     2667\n",
       "Hotel                    1127\n",
       "Fresh Market             1069\n",
       "Govt Store                959\n",
       "Bimbo Store               320\n",
       "Walmart                   220\n",
       "Consignment                14\n",
       "Name: NombreCliente, dtype: int64"
      ]
     },
     "execution_count": 13,
     "metadata": {},
     "output_type": "execute_result"
    }
   ],
   "source": [
    "vf['NombreCliente'].value_counts()"
   ]
  },
  {
   "cell_type": "markdown",
   "metadata": {},
   "source": [
    "Finally, we can apply these new tags on the actual Training and Test data sets that have been provided!"
   ]
  },
  {
   "cell_type": "code",
   "execution_count": 18,
   "metadata": {
    "collapsed": false,
    "scrolled": true
   },
   "outputs": [
    {
     "data": {
      "text/html": [
       "<div>\n",
       "<table border=\"1\" class=\"dataframe\">\n",
       "  <thead>\n",
       "    <tr style=\"text-align: right;\">\n",
       "      <th></th>\n",
       "      <th>Cliente_ID</th>\n",
       "      <th>NombreCliente</th>\n",
       "    </tr>\n",
       "  </thead>\n",
       "  <tbody>\n",
       "    <tr>\n",
       "      <th>0</th>\n",
       "      <td>0</td>\n",
       "      <td>Individual</td>\n",
       "    </tr>\n",
       "    <tr>\n",
       "      <th>1</th>\n",
       "      <td>1</td>\n",
       "      <td>Oxxo Store</td>\n",
       "    </tr>\n",
       "    <tr>\n",
       "      <th>2</th>\n",
       "      <td>2</td>\n",
       "      <td>Individual</td>\n",
       "    </tr>\n",
       "    <tr>\n",
       "      <th>3</th>\n",
       "      <td>3</td>\n",
       "      <td>Small Franchise</td>\n",
       "    </tr>\n",
       "    <tr>\n",
       "      <th>4</th>\n",
       "      <td>4</td>\n",
       "      <td>Small Franchise</td>\n",
       "    </tr>\n",
       "  </tbody>\n",
       "</table>\n",
       "</div>"
      ],
      "text/plain": [
       "   Cliente_ID    NombreCliente\n",
       "0           0       Individual\n",
       "1           1       Oxxo Store\n",
       "2           2       Individual\n",
       "3           3  Small Franchise\n",
       "4           4  Small Franchise"
      ]
     },
     "execution_count": 18,
     "metadata": {},
     "output_type": "execute_result"
    }
   ],
   "source": [
    "vf.head()"
   ]
  },
  {
   "cell_type": "markdown",
   "metadata": {
    "collapsed": true
   },
   "source": [
    "Write the data to file to save it for a new session...."
   ]
  },
  {
   "cell_type": "code",
   "execution_count": 17,
   "metadata": {
    "collapsed": true
   },
   "outputs": [],
   "source": [
    "vf.to_csv('./input-data/client_types.csv', index=False)"
   ]
  }
 ],
 "metadata": {
  "kernelspec": {
   "display_name": "Python 3",
   "language": "python",
   "name": "python3"
  },
  "language_info": {
   "codemirror_mode": {
    "name": "ipython",
    "version": 3
   },
   "file_extension": ".py",
   "mimetype": "text/x-python",
   "name": "python",
   "nbconvert_exporter": "python",
   "pygments_lexer": "ipython3",
   "version": "3.5.1"
  }
 },
 "nbformat": 4,
 "nbformat_minor": 0
}
