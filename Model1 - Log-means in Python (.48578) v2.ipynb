{
 "cells": [
  {
   "cell_type": "code",
   "execution_count": 7,
   "metadata": {
    "collapsed": false
   },
   "outputs": [],
   "source": [
    "#https://www.kaggle.com/happycube/grupo-bimbo-inventory-demand/log-means-in-python-48578-v2/code\n",
    "\n",
    "import pickle\n",
    "\n",
    "import numpy as np\n",
    "import pandas as pd\n",
    "import time\n",
    "\n",
    "from csv import DictReader\n",
    "from math import sqrt, log, expm1\n",
    "from datetime import datetime\n",
    "\n",
    "_start_time = time.time()\n",
    "\n",
    "def tic():\n",
    "    global _start_time \n",
    "    _start_time = time.time()\n",
    "\n",
    "def tac():\n",
    "    t_sec = round(time.time() - _start_time)\n",
    "    (t_min, t_sec) = divmod(t_sec,60)\n",
    "    (t_hour,t_min) = divmod(t_min,60) \n",
    "    print('Time passed: {}hour:{}min:{}sec'.format(t_hour,t_min,t_sec))\n",
    "'''\n",
    "min/max for training data (test data is within the same bounds bit-wise)\n",
    "\n",
    "Semana 3 9\n",
    "Agencia_ID 1110 25759\n",
    "Canal_ID 1 11\n",
    "Ruta_SAK 1 9991\n",
    "Cliente_ID 26 2015152015\n",
    "Producto_ID 41 49997\n",
    "Venta_uni_hoy 0 7200\n",
    "Venta_hoy 0.0 647360.0\n",
    "Dev_uni_proxima 0 250000\n",
    "Dev_proxima 0.0 130760.0\n",
    "Demanda_uni_equil 0 5000\n",
    "'''\n",
    "\n",
    "# Define size limits for each field to save memory\n",
    "dtypes_test = {'Semana': np.int8, 'Agencia_ID': np.int16, 'Canal_ID': np.int8, 'Producto_ID': np.uint16}\n",
    "\n",
    "# python 3.5 version: {**dtypes_test, **{'Venta_uni_hoy': np.uint16, 'Dev_uni_proxima': np.int32, 'Demanda_uni_equil': np.int16}}\n",
    "dtypes_train = {'Semana': np.int8, 'Agencia_ID': np.int16, 'Canal_ID': np.int8, 'Producto_ID': np.uint16,\n",
    "               'Venta_uni_hoy': np.uint16, 'Dev_uni_proxima': np.int32, 'Demanda_uni_equil': np.int16}"
   ]
  },
  {
   "cell_type": "code",
   "execution_count": 8,
   "metadata": {
    "collapsed": true
   },
   "outputs": [],
   "source": [
    "# Now load train+test data\n",
    "datadir = './input-data/'\n",
    "df_train = pd.read_csv(datadir + 'train.csv', dtype = dtypes_train, usecols = ['Producto_ID', 'Ruta_SAK', 'Agencia_ID', 'Cliente_ID', 'Demanda_uni_equil'])\n",
    "df_test = pd.read_csv(datadir + 'test.csv', dtype = dtypes_test)\n",
    "\n",
    "df_train['log_demand'] = np.log1p(df_train.Demanda_uni_equil)"
   ]
  },
  {
   "cell_type": "code",
   "execution_count": 9,
   "metadata": {
    "collapsed": true
   },
   "outputs": [],
   "source": [
    "# Compute the three log means - the processing code works faster (less slowly?) if they're converted to Dictionaries.\n",
    "demand_prod = (df_train.groupby(['Producto_ID']))['log_demand'].mean().to_dict()\n",
    "#demand_prod_ruta = (df_train.groupby(['Producto_ID', 'Ruta_SAK']))['log_demand'].mean().to_dict()\n",
    "#demand_prod_cli_age = (df_train.groupby(['Producto_ID', 'Cliente_ID', 'Agencia_ID']))['log_demand'].mean().to_dict()\n",
    "\n",
    "submission = np.zeros(len(df_test))"
   ]
  },
  {
   "cell_type": "code",
   "execution_count": 10,
   "metadata": {
    "collapsed": true
   },
   "outputs": [],
   "source": [
    "k = 0\n",
    "\n",
    "# We need to handle one product at a time, otherwise the dictionaries get too large...\n",
    "\n",
    "def process_product(product_id, sub):\n",
    "    global k\n",
    "    \n",
    "    df_train_subset = df_train[df_train['Producto_ID'] == product_id]\n",
    "    df_test_subset = df_test[df_test['Producto_ID'] == product_id]\n",
    "    \n",
    "    demand_prod_ruta = (df_train_subset.groupby(['Producto_ID', 'Ruta_SAK']))['log_demand'].mean().to_dict()\n",
    "    demand_prod_cli_age = (df_train_subset.groupby(['Producto_ID', 'Cliente_ID', 'Agencia_ID']))['log_demand'].mean().to_dict()\n",
    "    \n",
    "    df_test_p = df_test_subset['Producto_ID']\n",
    "\n",
    "    df_test_pr = df_test_subset[['Producto_ID', 'Ruta_SAK']]\n",
    "    df_test_l_pr = list(df_test_pr.itertuples(index=False, name=None))\n",
    "\n",
    "    df_test_pca = df_test_subset[['Producto_ID', 'Cliente_ID', 'Agencia_ID']]\n",
    "    df_test_l_pca = list(df_test_pca.itertuples(index=False, name=None))\n",
    "    \n",
    "    output = []\n",
    "\n",
    "    # make a meta-tuple of each of the tuples used to do log-mean lookups\n",
    "    for z in zip(df_test_subset.id, df_test_p, df_test_l_pr, df_test_l_pca):\n",
    "\n",
    "        # Work in order of preference.  With straight dicts this is faster than try/except\n",
    "        if z[3] in demand_prod_cli_age:\n",
    "            o = demand_prod_cli_age[z[3]]\n",
    "        elif z[2] in demand_prod_ruta:\n",
    "            o = demand_prod_ruta[z[2]]\n",
    "        elif z[1] in demand_prod:\n",
    "            o = demand_prod[z[1]]\n",
    "        else:\n",
    "            o = 1\n",
    "            \n",
    "        sub[z[0]] = np.expm1(o) * .9\n",
    " "
   ]
  },
  {
   "cell_type": "code",
   "execution_count": 11,
   "metadata": {
    "collapsed": false
   },
   "outputs": [
    {
     "name": "stdout",
     "output_type": "stream",
     "text": [
      "Time passed: 0.0hour:6.0min:16.0sec\n"
     ]
    }
   ],
   "source": [
    "tic()\n",
    "for p in df_test.Producto_ID.unique():\n",
    "    process_product(p, submission)  \n",
    "tac()"
   ]
  },
  {
   "cell_type": "code",
   "execution_count": 12,
   "metadata": {
    "collapsed": true
   },
   "outputs": [],
   "source": [
    "# Now output\n",
    "df_test['Demanda_uni_equil'] = submission\n",
    "\n",
    "df_submit = df_test[['id', 'Demanda_uni_equil']]\n",
    "df_submit = df_submit.set_index('id')\n",
    "df_submit.to_csv('./Submissions/submission-log-means.csv')"
   ]
  },
  {
   "cell_type": "code",
   "execution_count": null,
   "metadata": {
    "collapsed": true
   },
   "outputs": [],
   "source": []
  }
 ],
 "metadata": {
  "kernelspec": {
   "display_name": "Python 2",
   "language": "python",
   "name": "python2"
  },
  "language_info": {
   "codemirror_mode": {
    "name": "ipython",
    "version": 2
   },
   "file_extension": ".py",
   "mimetype": "text/x-python",
   "name": "python",
   "nbconvert_exporter": "python",
   "pygments_lexer": "ipython2",
   "version": "2.7.11"
  }
 },
 "nbformat": 4,
 "nbformat_minor": 0
}
