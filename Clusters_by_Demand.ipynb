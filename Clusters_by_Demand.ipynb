{
 "cells": [
  {
   "cell_type": "markdown",
   "metadata": {},
   "source": [
    "# Clusters by Demand\n",
    "by LMZintgraf"
   ]
  },
  {
   "cell_type": "markdown",
   "metadata": {},
   "source": [
    "### Imports."
   ]
  },
  {
   "cell_type": "code",
   "execution_count": 1,
   "metadata": {
    "collapsed": false
   },
   "outputs": [
    {
     "name": "stdout",
     "output_type": "stream",
     "text": [
      "Populating the interactive namespace from numpy and matplotlib\n"
     ]
    }
   ],
   "source": [
    "import pandas as pd\n",
    "import numpy as np\n",
    "import time\n",
    "from scipy.spatial.distance import cdist, pdist\n",
    "import matplotlib.pyplot as plt\n",
    "%pylab inline\n",
    "# to make data categorical\n",
    "from sklearn import preprocessing\n",
    "min_max_scaler = preprocessing.MinMaxScaler()\n",
    "# for clustering\n",
    "from sklearn.cluster import KMeans"
   ]
  },
  {
   "cell_type": "markdown",
   "metadata": {},
   "source": [
    "### Parameters."
   ]
  },
  {
   "cell_type": "code",
   "execution_count": 1,
   "metadata": {
    "collapsed": true
   },
   "outputs": [],
   "source": [
    "# specify if we want to use a subset (5%) of the data\n",
    "use_subset = True\n",
    "subsample_further = False\n",
    "\n",
    "# directory where we store our features\n",
    "path_datadrive = './input_data/'"
   ]
  },
  {
   "cell_type": "code",
   "execution_count": 2,
   "metadata": {
    "collapsed": true
   },
   "outputs": [],
   "source": [
    "# --- HYPERPARAMETERS FOR FEATURE EXTRACTION ---\n",
    "\n",
    "# number of clusters to group depot/route/produc (if 0 will not be added as feature)\n",
    "num_clusters_agencia = [25]\n",
    "num_clusters_ruta = [100]\n",
    "num_clusters_cliente = [150]\n",
    "num_clusters_producto = [150]"
   ]
  },
  {
   "cell_type": "markdown",
   "metadata": {},
   "source": [
    "### Load Data."
   ]
  },
  {
   "cell_type": "code",
   "execution_count": 8,
   "metadata": {
    "collapsed": false
   },
   "outputs": [
    {
     "name": "stdout",
     "output_type": "stream",
     "text": [
      "id                   372370\n",
      "Semana                    9\n",
      "Agencia_ID              551\n",
      "Canal_ID                  9\n",
      "Ruta_SAK               2113\n",
      "Cliente_ID           262812\n",
      "Producto_ID            1196\n",
      "Demanda_uni_equil       464\n",
      "dtype: int64\n"
     ]
    }
   ],
   "source": [
    "def get_data():\n",
    "\n",
    "    # -> load the raw training and test data from kaggle\n",
    "    \n",
    "    train_path = './input-data/train_sampled5pct.csv' if use_subset else './input-data/train.csv'\n",
    "    \n",
    "    data = pd.read_csv(train_path, sep=',', dtype={'Semana': 'int8',\n",
    "                                                         'Agencia_ID':'uint16',\n",
    "                                                         'Canal_ID':'int8',\n",
    "                                                         'Ruta_SAK':'int32',\n",
    "                                                         'Cliente_ID':'int32',\n",
    "                                                         'Producto_ID':'int32',\n",
    "                                                         'Venta_uni_hoy': 'int8',\n",
    "                                                         'Venta_hoy':'float32',\n",
    "                                                         'Dev_uni_proxima':'int8',\n",
    "                                                         'Dev_proxima':'float32',\n",
    "                                                         'Demanda_uni_equil':'int32'})\n",
    "\n",
    "\n",
    "    if subsample_further:\n",
    "        data = train_data[::10]\n",
    "        \n",
    "    # remove unnecessary fields in training data\n",
    "    data.drop(['Venta_uni_hoy', 'Venta_hoy','Dev_uni_proxima', 'Dev_proxima'], axis=1, inplace=True)\n",
    "    \n",
    "    # transform targets x -> log(x+1)\n",
    "    data['Demanda_uni_equil'] = np.log1p(data['Demanda_uni_equil'])\n",
    "    \n",
    "    return data\n",
    "\n",
    "# get the train, valid and test data we will use for our experiments\n",
    "data = get_data()\n",
    "\n",
    "# print the number of unique occurences\n",
    "print(data.apply(lambda x: len(x.unique())))"
   ]
  },
  {
   "cell_type": "markdown",
   "metadata": {},
   "source": [
    "### Clusters Creation."
   ]
  },
  {
   "cell_type": "markdown",
   "metadata": {},
   "source": [
    "#### (1) Cluster features by demand"
   ]
  },
  {
   "cell_type": "code",
   "execution_count": 9,
   "metadata": {
    "collapsed": true
   },
   "outputs": [],
   "source": [
    "def get_clusters_by_demand(feats, tars, num_clusters, feat_name):\n",
    "    '''\n",
    "    For a given feature vector, respective target vector, and number of clusters, returns\n",
    "        - feats_unique: a list of unique feature values\n",
    "        - clusters: for each unique feature, the cluster (ID) it belongs to\n",
    "        - demand_info_unique: for each unique feature, some statistics about the demand for that feature\n",
    "    '''\n",
    "    # get the unique features which we then want to cluster\n",
    "    feats_unique = np.unique(feats)\n",
    "    \n",
    "    # for each unique feature, we will get the mean/median/std demand\n",
    "    demand_info_unique = np.zeros((len(feats_unique),2))\n",
    "    for f in range(len(feats_unique)):\n",
    "        all_orders = tars[feats==feats_unique[f]]\n",
    "        demand_info_unique[f] = [np.median(all_orders), np.std(all_orders)]\n",
    "        \n",
    "    demand_info_unique[np.isnan(demand_info_unique)] = 0\n",
    "        \n",
    "    # we use the kmeans clustering algorithm\n",
    "    kmeans = KMeans(num_clusters)\n",
    "    clusters = kmeans.fit_predict(demand_info_unique)\n",
    "    \n",
    "    # plot demand/cluster\n",
    "    plt.figure(figsize=(15, 3))\n",
    "    for c in range(num_clusters):\n",
    "        d_median = demand_info_unique[clusters==c,0]\n",
    "        d_std = demand_info_unique[clusters==c,1]\n",
    "        plt.plot(d_median,d_std,'.')\n",
    "        plt.xlabel('median')\n",
    "        plt.ylabel('std')\n",
    "    plt.savefig(path_datadrive+'clustByDem_{}_{}'.format(feat_name, num_clusters))\n",
    "\n",
    "    # return a mapping from unique feature values to clusters, and the demand info per cluster\n",
    "    return feats_unique, clusters"
   ]
  },
  {
   "cell_type": "code",
   "execution_count": 10,
   "metadata": {
    "collapsed": true
   },
   "outputs": [],
   "source": [
    "def cluster_and_save(feat_name, num_clusters):\n",
    "    '''\n",
    "    Input: \n",
    "        - idx: the index of the feature we want to cluster, one-hot-encode, and add to our features\n",
    "        - num_clusters: the number of clusters we want to use to group the feature values\n",
    "    '''\n",
    "    global data\n",
    "    \n",
    "    # run clustering by demand using info from week 3-9\n",
    "    feats = data[feat_name][data[\"Semana\"]<9].get_values()\n",
    "    tars = data['Demanda_uni_equil'][data['Semana']<9].get_values()\n",
    "    feats_unique, clusters = get_clusters_by_demand(feats, tars, num_clusters, feat_name)\n",
    "    \n",
    "    # create new dataframe to save cluster info\n",
    "    clust_data = pd.DataFrame(data=data[['id', feat_name]], columns=['id', feat_name])\n",
    "    clust_data.insert(1, feat_name+'_clust', 0)\n",
    "    for f in range(len(np.unique(feats))):\n",
    "        clust_data.loc[clust_data[feat_name]==feats[f],feat_name+'_clust'] = clusters[f]\n",
    "    \n",
    "    # get rid of the original feat info\n",
    "    clust_data.drop([feat_name], axis=1, inplace=True)\n",
    "        \n",
    "    # save the new feature\n",
    "    clust_data.to_csv(path_datadrive+\"clustByDem_{}_{}\".format(feat_name, num_clusters), index=False)"
   ]
  },
  {
   "cell_type": "code",
   "execution_count": 11,
   "metadata": {
    "collapsed": false
   },
   "outputs": [
    {
     "name": "stdout",
     "output_type": "stream",
     "text": [
      "agencia... 25\n"
     ]
    },
    {
     "data": {
      "image/png": "[encoded data removed]",
      "text/plain": [
       "<matplotlib.figure.Figure at 0xc9712702e8>"
      ]
     },
     "metadata": {},
     "output_type": "display_data"
    }
   ],
   "source": [
    "for c in num_clusters_agencia:\n",
    "    print(\"agencia...\", c)\n",
    "    cluster_and_save('Agencia_ID', c)"
   ]
  },
  {
   "cell_type": "code",
   "execution_count": null,
   "metadata": {
    "collapsed": false
   },
   "outputs": [
    {
     "name": "stdout",
     "output_type": "stream",
     "text": [
      "ruta...  100\n"
     ]
    },
    {
     "data": {
      "image/png": "[encoded data removed]",
      "text/plain": [
       "<matplotlib.figure.Figure at 0xc975700eb8>"
      ]
     },
     "metadata": {},
     "output_type": "display_data"
    }
   ],
   "source": [
    "for c in num_clusters_ruta:\n",
    "    print(\"ruta... \", c)\n",
    "    cluster_and_save('Ruta_SAK', c)"
   ]
  },
  {
   "cell_type": "code",
   "execution_count": null,
   "metadata": {
    "collapsed": true
   },
   "outputs": [],
   "source": [
    "for c in num_clusters_cliente:\n",
    "    print(\"client...\", c)\n",
    "    cluster_and_save('Cliente_ID', c)"
   ]
  },
  {
   "cell_type": "code",
   "execution_count": null,
   "metadata": {
    "collapsed": true
   },
   "outputs": [],
   "source": [
    "for c in num_clusters_producto:\n",
    "    print(\"prod...\", c)\n",
    "    cluster_and_save('Producto_ID', c)"
   ]
  },
  {
   "cell_type": "code",
   "execution_count": null,
   "metadata": {
    "collapsed": true
   },
   "outputs": [],
   "source": []
  }
 ],
 "metadata": {
  "kernelspec": {
   "display_name": "Python 3",
   "language": "python",
   "name": "python3"
  },
  "language_info": {
   "codemirror_mode": {
    "name": "ipython",
    "version": 3
   },
   "file_extension": ".py",
   "mimetype": "text/x-python",
   "name": "python",
   "nbconvert_exporter": "python",
   "pygments_lexer": "ipython3",
   "version": "3.5.1"
  }
 },
 "nbformat": 4,
 "nbformat_minor": 0
}
