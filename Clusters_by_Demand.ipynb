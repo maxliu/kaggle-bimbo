{
 "cells": [
  {
   "cell_type": "markdown",
   "metadata": {},
   "source": [
    "# Clusters by Demand"
   ]
  },
  {
   "cell_type": "markdown",
   "metadata": {},
   "source": [
    "### Imports."
   ]
  },
  {
   "cell_type": "code",
   "execution_count": 2,
   "metadata": {
    "collapsed": true
   },
   "outputs": [],
   "source": [
    "import pandas as pd\n",
    "import numpy as np\n",
    "import time\n",
    "import csv\n",
    "\n",
    "_start_time = time.time()\n",
    "\n",
    "# define a easy timing function to use going forward\n",
    "def tic():\n",
    "    global _start_time \n",
    "    _start_time = time.time()\n",
    "\n",
    "def tac():\n",
    "    t_sec = round(time.time() - _start_time)\n",
    "    (t_min, t_sec) = divmod(t_sec,60)\n",
    "    (t_hour,t_min) = divmod(t_min,60) \n",
    "    print('Time passed: {}hour:{}min:{}sec'.format(t_hour,t_min,t_sec))\n",
    "    \n",
    "# utility function- display large dataframes in an html iframe\n",
    "def df_display(df, lines=500):\n",
    "    txt = (\"<iframe \" +\n",
    "           \"srcdoc='\" + df.head(lines).to_html() + \"' \" +\n",
    "           \"width=1000 height=500>\" +\n",
    "           \"</iframe>\")\n",
    "\n",
    "    return IPython.display.HTML(txt)"
   ]
  },
  {
   "cell_type": "code",
   "execution_count": 67,
   "metadata": {
    "collapsed": false
   },
   "outputs": [
    {
     "name": "stdout",
     "output_type": "stream",
     "text": [
      "Time passed: 0hour:1min:23sec\n"
     ]
    }
   ],
   "source": [
    "#Read files:\n",
    "tic()\n",
    "train = pd.read_csv('input-data/train.csv',\n",
    "                           dtype  = {'Semana': 'int8',\n",
    "                                     'Producto_ID':'int32',\n",
    "                                     'Cliente_ID':'int32',\n",
    "                                     'Agencia_ID':'uint16',\n",
    "                                     'Canal_ID':'int8',\n",
    "                                     'Ruta_SAK':'int32',\n",
    "                                     'Venta_hoy':'float32',\n",
    "                                     'Venta_uni_hoy': 'int8',\n",
    "                                     'Dev_uni_proxima':'int8',\n",
    "                                     'Dev_proxima':'float32',\n",
    "                                     'Demanda_uni_equil':'int32'})\n",
    "test = pd.read_csv('input-data/test.csv',\n",
    "                           dtype  = {'Semana': 'int8',\n",
    "                                     'Producto_ID':'int32',\n",
    "                                     'Cliente_ID':'int32',\n",
    "                                     'Agencia_ID':'uint16',\n",
    "                                     'Canal_ID':'int8',\n",
    "                                     'Ruta_SAK':'int32'})\n",
    "tac()"
   ]
  },
  {
   "cell_type": "code",
   "execution_count": 68,
   "metadata": {
    "collapsed": false
   },
   "outputs": [],
   "source": [
    "# remove unnecessary fields in training data\n",
    "train.drop(['Venta_uni_hoy', 'Venta_hoy','Dev_uni_proxima', 'Dev_proxima'], axis=1, inplace=True)"
   ]
  },
  {
   "cell_type": "code",
   "execution_count": 69,
   "metadata": {
    "collapsed": true
   },
   "outputs": [],
   "source": [
    "#Since test dataframe is not the same as train dataframe, we make them equal by removing and adding columns\n",
    "train.insert(0, 'id', np.nan)\n",
    "test.insert(7, 'Demanda_uni_equil', np.nan)"
   ]
  },
  {
   "cell_type": "code",
   "execution_count": 70,
   "metadata": {
    "collapsed": false
   },
   "outputs": [
    {
     "name": "stdout",
     "output_type": "stream",
     "text": [
      "Time passed: 0hour:0min:16sec\n",
      "(74180464, 9) (6999251, 9) (81179715, 9)\n"
     ]
    }
   ],
   "source": [
    "tic()\n",
    "train['source']='train'\n",
    "test['source']='test'\n",
    "data = pd.concat([train, test],ignore_index=True)\n",
    "tac()\n",
    "print (train.shape, test.shape, data.shape)"
   ]
  },
  {
   "cell_type": "code",
   "execution_count": 71,
   "metadata": {
    "collapsed": true
   },
   "outputs": [],
   "source": [
    "#First thing we need to do is to transform our target ( Demanda_uni_equil) to log(1 + demand) - this makes sense since we're \n",
    "#trying to minimize rmsle vs the mean which minimizes rmse. At the end of the modeling (for submission) we need to reverse it \n",
    "#by applying expm1(x)\n",
    "\n",
    "data['log_target'] = np.log1p(data[\"Demanda_uni_equil\"])"
   ]
  },
  {
   "cell_type": "code",
   "execution_count": 72,
   "metadata": {
    "collapsed": false
   },
   "outputs": [
    {
     "name": "stdout",
     "output_type": "stream",
     "text": [
      "Time passed: 0hour:1min:13sec\n"
     ]
    }
   ],
   "source": [
    "#Let's also create all the grouping dataframes we are going to need \n",
    "tic()\n",
    "\n",
    "global_mean = data['log_target'].mean()\n",
    "prod_mean = data.groupby('Producto_ID').agg({'log_target': 'mean' })\n",
    "client_mean = data.groupby('Cliente_ID').agg({'log_target': 'mean' })\n",
    "prod_client_mean = data.groupby(['Producto_ID', 'Cliente_ID']).agg({'log_target': 'mean' })\n",
    "\n",
    "tac()"
   ]
  },
  {
   "cell_type": "code",
   "execution_count": 73,
   "metadata": {
    "collapsed": false
   },
   "outputs": [
    {
     "name": "stdout",
     "output_type": "stream",
     "text": [
      "Time passed: 0hour:0min:59sec\n"
     ]
    }
   ],
   "source": [
    "tic()\n",
    "prod_mean_dict = prod_mean.to_dict()\n",
    "client_mean_dict = client_mean.to_dict()\n",
    "prod_client_mean_dict = prod_client_mean.to_dict()\n",
    "tac()"
   ]
  },
  {
   "cell_type": "code",
   "execution_count": 74,
   "metadata": {
    "collapsed": true
   },
   "outputs": [],
   "source": [
    "def gen_pairs_mean_feature(key):\n",
    "    key = tuple(key)\n",
    "    product = key[0]\n",
    "    client = key[1]\n",
    "    \n",
    "    val = prod_client_mean_dict['log_target'][(product,client)]\n",
    "    if np.isnan(val):\n",
    "        val = prod_mean_dict['log_target'][(product)]\n",
    "        if np.isnan(val):\n",
    "            val = client_mean_dict['log_target'][(client)]\n",
    "            if np.isnan(val):\n",
    "                val = global_mean\n",
    "            \n",
    "    return val"
   ]
  },
  {
   "cell_type": "code",
   "execution_count": 75,
   "metadata": {
    "collapsed": false
   },
   "outputs": [
    {
     "name": "stdout",
     "output_type": "stream",
     "text": [
      "Time passed: 0hour:23min:46sec\n"
     ]
    }
   ],
   "source": [
    "tic()\n",
    "data['pairs_mean'] = data[['Producto_ID', 'Cliente_ID']].apply(lambda x:gen_pairs_mean_feature(x), axis=1)\n",
    "tac()"
   ]
  },
  {
   "cell_type": "code",
   "execution_count": 76,
   "metadata": {
    "collapsed": false
   },
   "outputs": [
    {
     "data": {
      "text/html": [
       "<div>\n",
       "<table border=\"1\" class=\"dataframe\">\n",
       "  <thead>\n",
       "    <tr style=\"text-align: right;\">\n",
       "      <th></th>\n",
       "      <th>id</th>\n",
       "      <th>Semana</th>\n",
       "      <th>Agencia_ID</th>\n",
       "      <th>Canal_ID</th>\n",
       "      <th>Ruta_SAK</th>\n",
       "      <th>Cliente_ID</th>\n",
       "      <th>Producto_ID</th>\n",
       "      <th>Demanda_uni_equil</th>\n",
       "      <th>source</th>\n",
       "      <th>log_target</th>\n",
       "      <th>pairs_mean</th>\n",
       "    </tr>\n",
       "  </thead>\n",
       "  <tbody>\n",
       "    <tr>\n",
       "      <th>0</th>\n",
       "      <td>NaN</td>\n",
       "      <td>3</td>\n",
       "      <td>1110</td>\n",
       "      <td>7</td>\n",
       "      <td>3301</td>\n",
       "      <td>15766</td>\n",
       "      <td>1212</td>\n",
       "      <td>3</td>\n",
       "      <td>train</td>\n",
       "      <td>1.386294</td>\n",
       "      <td>1.418015</td>\n",
       "    </tr>\n",
       "    <tr>\n",
       "      <th>1</th>\n",
       "      <td>NaN</td>\n",
       "      <td>3</td>\n",
       "      <td>1110</td>\n",
       "      <td>7</td>\n",
       "      <td>3301</td>\n",
       "      <td>15766</td>\n",
       "      <td>1216</td>\n",
       "      <td>4</td>\n",
       "      <td>train</td>\n",
       "      <td>1.609438</td>\n",
       "      <td>1.279644</td>\n",
       "    </tr>\n",
       "    <tr>\n",
       "      <th>2</th>\n",
       "      <td>NaN</td>\n",
       "      <td>3</td>\n",
       "      <td>1110</td>\n",
       "      <td>7</td>\n",
       "      <td>3301</td>\n",
       "      <td>15766</td>\n",
       "      <td>1238</td>\n",
       "      <td>4</td>\n",
       "      <td>train</td>\n",
       "      <td>1.609438</td>\n",
       "      <td>1.195859</td>\n",
       "    </tr>\n",
       "    <tr>\n",
       "      <th>3</th>\n",
       "      <td>NaN</td>\n",
       "      <td>3</td>\n",
       "      <td>1110</td>\n",
       "      <td>7</td>\n",
       "      <td>3301</td>\n",
       "      <td>15766</td>\n",
       "      <td>1240</td>\n",
       "      <td>4</td>\n",
       "      <td>train</td>\n",
       "      <td>1.609438</td>\n",
       "      <td>1.616666</td>\n",
       "    </tr>\n",
       "    <tr>\n",
       "      <th>4</th>\n",
       "      <td>NaN</td>\n",
       "      <td>3</td>\n",
       "      <td>1110</td>\n",
       "      <td>7</td>\n",
       "      <td>3301</td>\n",
       "      <td>15766</td>\n",
       "      <td>1242</td>\n",
       "      <td>3</td>\n",
       "      <td>train</td>\n",
       "      <td>1.386294</td>\n",
       "      <td>1.106057</td>\n",
       "    </tr>\n",
       "  </tbody>\n",
       "</table>\n",
       "</div>"
      ],
      "text/plain": [
       "   id  Semana  Agencia_ID  Canal_ID  Ruta_SAK  Cliente_ID  Producto_ID  \\\n",
       "0 NaN       3        1110         7      3301       15766         1212   \n",
       "1 NaN       3        1110         7      3301       15766         1216   \n",
       "2 NaN       3        1110         7      3301       15766         1238   \n",
       "3 NaN       3        1110         7      3301       15766         1240   \n",
       "4 NaN       3        1110         7      3301       15766         1242   \n",
       "\n",
       "   Demanda_uni_equil source  log_target  pairs_mean  \n",
       "0                  3  train    1.386294    1.418015  \n",
       "1                  4  train    1.609438    1.279644  \n",
       "2                  4  train    1.609438    1.195859  \n",
       "3                  4  train    1.609438    1.616666  \n",
       "4                  3  train    1.386294    1.106057  "
      ]
     },
     "execution_count": 76,
     "metadata": {},
     "output_type": "execute_result"
    }
   ],
   "source": [
    "data.head()"
   ]
  },
  {
   "cell_type": "code",
   "execution_count": 77,
   "metadata": {
    "collapsed": true
   },
   "outputs": [],
   "source": [
    "data.to_csv(\"./input-data/data_pairs_mean.csv\", index=False)"
   ]
  },
  {
   "cell_type": "code",
   "execution_count": 78,
   "metadata": {
    "collapsed": false
   },
   "outputs": [
    {
     "data": {
      "text/plain": [
       "id                   74180464\n",
       "Semana                      0\n",
       "Agencia_ID                  0\n",
       "Canal_ID                    0\n",
       "Ruta_SAK                    0\n",
       "Cliente_ID                  0\n",
       "Producto_ID                 0\n",
       "Demanda_uni_equil     6999251\n",
       "source                      0\n",
       "log_target            6999251\n",
       "pairs_mean                  0\n",
       "dtype: int64"
      ]
     },
     "execution_count": 78,
     "metadata": {},
     "output_type": "execute_result"
    }
   ],
   "source": [
    "data.apply(lambda x: sum(x.isnull()))"
   ]
  },
  {
   "cell_type": "markdown",
   "metadata": {},
   "source": [
    "### Clustering Process."
   ]
  },
  {
   "cell_type": "markdown",
   "metadata": {},
   "source": [
    "#### (1) Cluster features by demand"
   ]
  },
  {
   "cell_type": "code",
   "execution_count": 3,
   "metadata": {
    "collapsed": false
   },
   "outputs": [
    {
     "name": "stdout",
     "output_type": "stream",
     "text": [
      "Time passed: 0hour:1min:16sec\n"
     ]
    }
   ],
   "source": [
    "from sklearn import preprocessing\n",
    "min_max_scaler = preprocessing.MinMaxScaler()\n",
    "from sklearn.cluster import KMeans\n",
    "from scipy.spatial.distance import cdist, pdist\n",
    "from matplotlib import pyplot as plt\n",
    "%matplotlib inline\n",
    "\n",
    "tic()\n",
    "path_datadrive = './input-data/'\n",
    "data = pd.read_csv('./input-data/data_pairs_mean.csv',\n",
    "                           dtype  = {'Semana': 'int8',\n",
    "                                     'Agencia_ID':'uint16',\n",
    "                                     'Canal_ID':'int8',\n",
    "                                     'Ruta_SAK':'int32',\n",
    "                                     'Cliente_ID':'int32',\n",
    "                                     'Producto_ID':'int32',\n",
    "                                     'log_target':'float64',\n",
    "                                     'pairs_mean':'float64'})\n",
    "tac()"
   ]
  },
  {
   "cell_type": "markdown",
   "metadata": {},
   "source": [
    "### Let's try to find the right amount of clusters"
   ]
  },
  {
   "cell_type": "markdown",
   "metadata": {},
   "source": [
    "### Now we the right amount of centroids, we process the clustering and fitting"
   ]
  },
  {
   "cell_type": "code",
   "execution_count": 4,
   "metadata": {
    "collapsed": true
   },
   "outputs": [],
   "source": [
    "# --- HYPERPARAMETERS FOR FEATURE EXTRACTION ---\n",
    "\n",
    "# number of clusters to group depot/route/produc (if 0 will not be added as feature)\n",
    "num_clusters_agencia = 20\n",
    "num_clusters_ruta = 80\n",
    "num_clusters_producto = 45\n",
    "num_clusters_cliente = 400"
   ]
  },
  {
   "cell_type": "code",
   "execution_count": null,
   "metadata": {
    "collapsed": true
   },
   "outputs": [],
   "source": [
    "def cluster_and_save(feat_name, num_clusters):\n",
    "    '''\n",
    "    Input: \n",
    "        - idx: the index of the feature we want to cluster, one-hot-encode, and add to our features\n",
    "        - num_clusters: the number of clusters we want to use to group the feature values\n",
    "    '''   \n",
    "    global data\n",
    "\n",
    "    # run clustering by demand using info from week 3-9\n",
    "    feat = data.loc[:, feat_name]\n",
    "    tar = data.loc[:, 'pairs_mean']\n",
    "    feat_tar = pd.concat([feat, tar], axis=1)\n",
    "        \n",
    "    # group by feature\n",
    "    grouped_ft = feat_tar.groupby(feat_name)\n",
    "    grouped_ft = pd.merge(grouped_ft.median().reset_index(), grouped_ft.std().reset_index(), how='left', on=[feat_name])\n",
    "    \n",
    "    demand_info_unique = grouped_ft.iloc[:,1:]\n",
    "    demand_info_unique[pd.isnull(demand_info_unique)] = 0\n",
    "    \n",
    "    # we use the kmeans clustering algorithm\n",
    "    kmeans = KMeans(num_clusters, n_jobs=-1)\n",
    "    clusters = kmeans.fit_predict(demand_info_unique)\n",
    "    \n",
    "    # plot demand/cluster\n",
    "    plt.figure(figsize=(15, 3))\n",
    "    for c in range(num_clusters):\n",
    "        d_median = demand_info_unique.iloc[clusters==c,0]\n",
    "        d_std = demand_info_unique.iloc[clusters==c,1]\n",
    "        plt.plot(d_median,d_std,'.')\n",
    "        plt.xlabel('median')\n",
    "        plt.ylabel('std')\n",
    "    plt.savefig(path_datadrive+'clustByDem_{}_{}'.format(feat_name, num_clusters))\n",
    "    \n",
    "    # create new dataframe to save the mapping from feature ID to cluster ID\n",
    "    feat_clust_map = pd.DataFrame(data = grouped_ft.iloc[:,0], columns=[feat_name])\n",
    "    feat_clust_map.insert(1, feat_name+'_clust_ID', clusters)\n",
    "\n",
    "    # save the new feature\n",
    "    feat_clust_map.to_csv(path_datadrive+\"clustByDem_{}_{}.csv\".format(feat_name, num_clusters), index=False)"
   ]
  },
  {
   "cell_type": "code",
   "execution_count": 6,
   "metadata": {
    "collapsed": false
   },
   "outputs": [
    {
     "name": "stdout",
     "output_type": "stream",
     "text": [
      "agencia... 20\n",
      "Time passed: 0hour:0min:6sec\n"
     ]
    },
    {
     "data": {
      "image/png": "[encoded data removed]",
      "text/plain": [
       "<matplotlib.figure.Figure at 0x7fc1cd4d3860>"
      ]
     },
     "metadata": {},
     "output_type": "display_data"
    }
   ],
   "source": [
    "tic()\n",
    "print(\"agencia...\", num_clusters_agencia)\n",
    "cluster_and_save('Agencia_ID', num_clusters_agencia)\n",
    "tac()"
   ]
  },
  {
   "cell_type": "code",
   "execution_count": 7,
   "metadata": {
    "collapsed": false
   },
   "outputs": [
    {
     "name": "stdout",
     "output_type": "stream",
     "text": [
      "ruta...  80\n",
      "Time passed: 0hour:0min:8sec\n"
     ]
    },
    {
     "data": {
      "image/png": "[encoded data removed]",
      "text/plain": [
       "<matplotlib.figure.Figure at 0x7fc17ad42198>"
      ]
     },
     "metadata": {},
     "output_type": "display_data"
    }
   ],
   "source": [
    "tic()\n",
    "print(\"ruta... \", num_clusters_ruta)\n",
    "cluster_and_save('Ruta_SAK', num_clusters_ruta)\n",
    "tac()"
   ]
  },
  {
   "cell_type": "code",
   "execution_count": 8,
   "metadata": {
    "collapsed": false
   },
   "outputs": [
    {
     "name": "stdout",
     "output_type": "stream",
     "text": [
      "prod... 45\n",
      "Time passed: 0hour:0min:7sec\n"
     ]
    },
    {
     "data": {
      "image/png": "[encoded data removed]",
      "text/plain": [
       "<matplotlib.figure.Figure at 0x7fc1738b3fd0>"
      ]
     },
     "metadata": {},
     "output_type": "display_data"
    }
   ],
   "source": [
    "tic()\n",
    "print(\"prod...\", num_clusters_producto)\n",
    "cluster_and_save('Producto_ID', num_clusters_producto)\n",
    "tac()"
   ]
  },
  {
   "cell_type": "code",
   "execution_count": null,
   "metadata": {
    "collapsed": false
   },
   "outputs": [
    {
     "name": "stdout",
     "output_type": "stream",
     "text": [
      "client... 400\n"
     ]
    },
    {
     "name": "stderr",
     "output_type": "stream",
     "text": [
      "/anaconda/envs/py35/lib/python3.5/site-packages/sklearn/externals/joblib/hashing.py:197: DeprecationWarning: Changing the shape of non-C contiguous array by\n",
      "descriptor assignment is deprecated. To maintain\n",
      "the Fortran contiguity of a multidimensional Fortran\n",
      "array, use 'a.T.view(...).T' instead\n",
      "  obj_bytes_view = obj.view(self.np.uint8)\n",
      "/anaconda/envs/py35/lib/python3.5/site-packages/sklearn/externals/joblib/hashing.py:197: DeprecationWarning: Changing the shape of non-C contiguous array by\n",
      "descriptor assignment is deprecated. To maintain\n",
      "the Fortran contiguity of a multidimensional Fortran\n",
      "array, use 'a.T.view(...).T' instead\n",
      "  obj_bytes_view = obj.view(self.np.uint8)\n",
      "/anaconda/envs/py35/lib/python3.5/site-packages/sklearn/externals/joblib/hashing.py:197: DeprecationWarning: Changing the shape of non-C contiguous array by\n",
      "descriptor assignment is deprecated. To maintain\n",
      "the Fortran contiguity of a multidimensional Fortran\n",
      "array, use 'a.T.view(...).T' instead\n",
      "  obj_bytes_view = obj.view(self.np.uint8)\n",
      "/anaconda/envs/py35/lib/python3.5/site-packages/sklearn/externals/joblib/hashing.py:197: DeprecationWarning: Changing the shape of non-C contiguous array by\n",
      "descriptor assignment is deprecated. To maintain\n",
      "the Fortran contiguity of a multidimensional Fortran\n",
      "array, use 'a.T.view(...).T' instead\n",
      "  obj_bytes_view = obj.view(self.np.uint8)\n",
      "/anaconda/envs/py35/lib/python3.5/site-packages/sklearn/externals/joblib/hashing.py:197: DeprecationWarning: Changing the shape of non-C contiguous array by\n",
      "descriptor assignment is deprecated. To maintain\n",
      "the Fortran contiguity of a multidimensional Fortran\n",
      "array, use 'a.T.view(...).T' instead\n",
      "  obj_bytes_view = obj.view(self.np.uint8)\n",
      "/anaconda/envs/py35/lib/python3.5/site-packages/sklearn/externals/joblib/hashing.py:197: DeprecationWarning: Changing the shape of non-C contiguous array by\n",
      "descriptor assignment is deprecated. To maintain\n",
      "the Fortran contiguity of a multidimensional Fortran\n",
      "array, use 'a.T.view(...).T' instead\n",
      "  obj_bytes_view = obj.view(self.np.uint8)\n",
      "/anaconda/envs/py35/lib/python3.5/site-packages/sklearn/externals/joblib/hashing.py:197: DeprecationWarning: Changing the shape of non-C contiguous array by\n",
      "descriptor assignment is deprecated. To maintain\n",
      "the Fortran contiguity of a multidimensional Fortran\n",
      "array, use 'a.T.view(...).T' instead\n",
      "  obj_bytes_view = obj.view(self.np.uint8)\n",
      "/anaconda/envs/py35/lib/python3.5/site-packages/sklearn/externals/joblib/hashing.py:197: DeprecationWarning: Changing the shape of non-C contiguous array by\n",
      "descriptor assignment is deprecated. To maintain\n",
      "the Fortran contiguity of a multidimensional Fortran\n",
      "array, use 'a.T.view(...).T' instead\n",
      "  obj_bytes_view = obj.view(self.np.uint8)\n",
      "/anaconda/envs/py35/lib/python3.5/site-packages/sklearn/externals/joblib/hashing.py:197: DeprecationWarning: Changing the shape of non-C contiguous array by\n",
      "descriptor assignment is deprecated. To maintain\n",
      "the Fortran contiguity of a multidimensional Fortran\n",
      "array, use 'a.T.view(...).T' instead\n",
      "  obj_bytes_view = obj.view(self.np.uint8)\n",
      "/anaconda/envs/py35/lib/python3.5/site-packages/sklearn/externals/joblib/hashing.py:197: DeprecationWarning: Changing the shape of non-C contiguous array by\n",
      "descriptor assignment is deprecated. To maintain\n",
      "the Fortran contiguity of a multidimensional Fortran\n",
      "array, use 'a.T.view(...).T' instead\n",
      "  obj_bytes_view = obj.view(self.np.uint8)\n"
     ]
    }
   ],
   "source": [
    "tic()\n",
    "print(\"client...\", num_clusters_cliente)\n",
    "cluster_and_save('Cliente_ID', num_clusters_cliente)\n",
    "tac()"
   ]
  }
 ],
 "metadata": {
  "anaconda-cloud": {},
  "kernelspec": {
   "display_name": "Python 3",
   "language": "python",
   "name": "python3"
  },
  "language_info": {
   "codemirror_mode": {
    "name": "ipython",
    "version": 3
   },
   "file_extension": ".py",
   "mimetype": "text/x-python",
   "name": "python",
   "nbconvert_exporter": "python",
   "pygments_lexer": "ipython3",
   "version": "3.5.1"
  }
 },
 "nbformat": 4,
 "nbformat_minor": 0
}
