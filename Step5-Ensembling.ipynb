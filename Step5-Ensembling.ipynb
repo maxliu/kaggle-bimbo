{
 "cells": [
  {
   "cell_type": "markdown",
   "metadata": {},
   "source": [
    "## Ensembling\n",
    "\n",
    "Besides of course feature engineering, what really give you more bang for your bucks is ENSEMBLING.\n",
    "The idea is to have as many low-correlated models as possible and do a simple average of the results. By Low-Correlated I mean that the pearson correlation is less than 96%. This normally is achieved by having submission files (results) from totally different models and feature engineering. That's why teaming up in Kaggle at the last week is so common, and powerful.\n",
    "\n",
    "The below code takes as input any number of submission files, and calculates the uniform average (mean) and creates and new submission file.\n"
   ]
  },
  {
   "cell_type": "code",
   "execution_count": 35,
   "metadata": {
    "collapsed": true
   },
   "outputs": [],
   "source": [
    "import pandas as pd\n",
    "import csv\n",
    "import warnings\n",
    "warnings.filterwarnings(\"ignore\")"
   ]
  },
  {
   "cell_type": "code",
   "execution_count": 36,
   "metadata": {
    "collapsed": false
   },
   "outputs": [
    {
     "name": "stdout",
     "output_type": "stream",
     "text": [
      "Reading ./Submissions/alg5__holdout9_trimmed.csv\n",
      "Reading ./Submissions/alg6__holdout9_trimmed.csv\n",
      "Reading ./Submissions/alg7__holdout9_trimmed.csv\n",
      "Reading ./Submissions/alg8__holdout9_trimmed.csv\n",
      "Writing ensembled file ./Submissions/kaggle-bimbo-ensemble.csv\n"
     ]
    }
   ],
   "source": [
    "from collections import defaultdict\n",
    "from glob import glob\n",
    "import sys\n",
    "\n",
    "path = './Submissions/'\n",
    "glob_files = ['alg5__holdout9_trimmed.csv',\n",
    "              'alg6__holdout9_trimmed.csv',\n",
    "              'alg7__holdout9_trimmed.csv',\n",
    "              'alg8__holdout9_trimmed.csv']\n",
    "\n",
    "loc_outfile = path+'kaggle-bimbo-ensemble.csv'\n",
    "i=0\n",
    "\n",
    "for file in glob_files:\n",
    "    if (i==0):\n",
    "        print ('Reading ' + path+file)\n",
    "        mean_df = pd.read_csv(path+file)\n",
    "        mean_df.rename(columns={'Demanda_uni_equil': 'score{}'.format(i)}, inplace=True)\n",
    "        i = i+1\n",
    "    else:\n",
    "        print ('Reading ' + path+file)\n",
    "        file_df = pd.read_csv(path+file)\n",
    "        file_df.rename(columns={'Demanda_uni_equil': 'score{}'.format(i)}, inplace=True)\n",
    "        mean_df = pd.merge(mean_df,file_df, on = 'id')\n",
    "        i = i+1\n",
    "\n",
    "mean_df['Demanda_uni_equil'] = mean_df[mean_df.columns[1:]].mean(axis=1)\n",
    "\n",
    "print ('Writing ensembled file ' + loc_outfile)\n",
    "submission = mean_df[['id','Demanda_uni_equil']]\n",
    "submission.to_csv(loc_outfile, index=False)\n"
   ]
  },
  {
   "cell_type": "code",
   "execution_count": 40,
   "metadata": {
    "collapsed": false
   },
   "outputs": [
    {
     "data": {
      "text/html": [
       "<div>\n",
       "<table border=\"1\" class=\"dataframe\">\n",
       "  <thead>\n",
       "    <tr style=\"text-align: right;\">\n",
       "      <th></th>\n",
       "      <th>id</th>\n",
       "      <th>score0</th>\n",
       "      <th>score1</th>\n",
       "      <th>score2</th>\n",
       "      <th>score3</th>\n",
       "      <th>Demanda_uni_equil</th>\n",
       "    </tr>\n",
       "  </thead>\n",
       "  <tbody>\n",
       "    <tr>\n",
       "      <th>6999246</th>\n",
       "      <td>6782133</td>\n",
       "      <td>12.483357</td>\n",
       "      <td>24.755241</td>\n",
       "      <td>25.385107</td>\n",
       "      <td>22.463768</td>\n",
       "      <td>21.271868</td>\n",
       "    </tr>\n",
       "    <tr>\n",
       "      <th>6999247</th>\n",
       "      <td>2937229</td>\n",
       "      <td>109.061653</td>\n",
       "      <td>2659.882457</td>\n",
       "      <td>720.719727</td>\n",
       "      <td>301.489115</td>\n",
       "      <td>947.788238</td>\n",
       "    </tr>\n",
       "    <tr>\n",
       "      <th>6999248</th>\n",
       "      <td>6963709</td>\n",
       "      <td>100.195568</td>\n",
       "      <td>1147.935115</td>\n",
       "      <td>435.474976</td>\n",
       "      <td>88.393470</td>\n",
       "      <td>442.999782</td>\n",
       "    </tr>\n",
       "    <tr>\n",
       "      <th>6999249</th>\n",
       "      <td>491959</td>\n",
       "      <td>2.761081</td>\n",
       "      <td>3.884659</td>\n",
       "      <td>3.482584</td>\n",
       "      <td>3.877628</td>\n",
       "      <td>3.501488</td>\n",
       "    </tr>\n",
       "    <tr>\n",
       "      <th>6999250</th>\n",
       "      <td>4749040</td>\n",
       "      <td>2.437632</td>\n",
       "      <td>3.714377</td>\n",
       "      <td>2.979267</td>\n",
       "      <td>2.885316</td>\n",
       "      <td>3.004148</td>\n",
       "    </tr>\n",
       "  </tbody>\n",
       "</table>\n",
       "</div>"
      ],
      "text/plain": [
       "              id      score0       score1      score2      score3  \\\n",
       "6999246  6782133   12.483357    24.755241   25.385107   22.463768   \n",
       "6999247  2937229  109.061653  2659.882457  720.719727  301.489115   \n",
       "6999248  6963709  100.195568  1147.935115  435.474976   88.393470   \n",
       "6999249   491959    2.761081     3.884659    3.482584    3.877628   \n",
       "6999250  4749040    2.437632     3.714377    2.979267    2.885316   \n",
       "\n",
       "         Demanda_uni_equil  \n",
       "6999246          21.271868  \n",
       "6999247         947.788238  \n",
       "6999248         442.999782  \n",
       "6999249           3.501488  \n",
       "6999250           3.004148  "
      ]
     },
     "execution_count": 40,
     "metadata": {},
     "output_type": "execute_result"
    }
   ],
   "source": [
    "mean_df.tail()"
   ]
  },
  {
   "cell_type": "code",
   "execution_count": 41,
   "metadata": {
    "collapsed": false
   },
   "outputs": [
    {
     "data": {
      "text/html": [
       "<div>\n",
       "<table border=\"1\" class=\"dataframe\">\n",
       "  <thead>\n",
       "    <tr style=\"text-align: right;\">\n",
       "      <th></th>\n",
       "      <th>id</th>\n",
       "      <th>Demanda_uni_equil</th>\n",
       "    </tr>\n",
       "  </thead>\n",
       "  <tbody>\n",
       "    <tr>\n",
       "      <th>6999246</th>\n",
       "      <td>6782133</td>\n",
       "      <td>21.271868</td>\n",
       "    </tr>\n",
       "    <tr>\n",
       "      <th>6999247</th>\n",
       "      <td>2937229</td>\n",
       "      <td>947.788238</td>\n",
       "    </tr>\n",
       "    <tr>\n",
       "      <th>6999248</th>\n",
       "      <td>6963709</td>\n",
       "      <td>442.999782</td>\n",
       "    </tr>\n",
       "    <tr>\n",
       "      <th>6999249</th>\n",
       "      <td>491959</td>\n",
       "      <td>3.501488</td>\n",
       "    </tr>\n",
       "    <tr>\n",
       "      <th>6999250</th>\n",
       "      <td>4749040</td>\n",
       "      <td>3.004148</td>\n",
       "    </tr>\n",
       "  </tbody>\n",
       "</table>\n",
       "</div>"
      ],
      "text/plain": [
       "              id  Demanda_uni_equil\n",
       "6999246  6782133          21.271868\n",
       "6999247  2937229         947.788238\n",
       "6999248  6963709         442.999782\n",
       "6999249   491959           3.501488\n",
       "6999250  4749040           3.004148"
      ]
     },
     "execution_count": 41,
     "metadata": {},
     "output_type": "execute_result"
    }
   ],
   "source": [
    "submission.tail()"
   ]
  },
  {
   "cell_type": "code",
   "execution_count": null,
   "metadata": {
    "collapsed": true
   },
   "outputs": [],
   "source": []
  }
 ],
 "metadata": {
  "kernelspec": {
   "display_name": "Python 3",
   "language": "python",
   "name": "python3"
  },
  "language_info": {
   "codemirror_mode": {
    "name": "ipython",
    "version": 3
   },
   "file_extension": ".py",
   "mimetype": "text/x-python",
   "name": "python",
   "nbconvert_exporter": "python",
   "pygments_lexer": "ipython3",
   "version": "3.5.1"
  }
 },
 "nbformat": 4,
 "nbformat_minor": 0
}
